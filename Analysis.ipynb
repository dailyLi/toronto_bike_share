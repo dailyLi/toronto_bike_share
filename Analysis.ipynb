{
 "cells": [
  {
   "cell_type": "markdown",
   "id": "d8282207",
   "metadata": {},
   "source": [
    "## Loading & preparation"
   ]
  },
  {
   "cell_type": "code",
   "execution_count": 22,
   "id": "c2222c88",
   "metadata": {},
   "outputs": [],
   "source": [
    "import numpy as np\n",
    "import pandas as pd\n",
    "import matplotlib as mpl\n",
    "import matplotlib.pyplot as plt\n",
    "import seaborn as sns\n",
    "import datetime\n",
    "import time\n",
    "import requests\n",
    "import json"
   ]
  },
  {
   "cell_type": "code",
   "execution_count": 146,
   "id": "375ffd97",
   "metadata": {},
   "outputs": [
    {
     "data": {
      "text/html": [
       "        <script type=\"text/javascript\">\n",
       "        window.PlotlyConfig = {MathJaxConfig: 'local'};\n",
       "        if (window.MathJax) {MathJax.Hub.Config({SVG: {font: \"STIX-Web\"}});}\n",
       "        if (typeof require !== 'undefined') {\n",
       "        require.undef(\"plotly\");\n",
       "        requirejs.config({\n",
       "            paths: {\n",
       "                'plotly': ['https://cdn.plot.ly/plotly-2.9.0.min']\n",
       "            }\n",
       "        });\n",
       "        require(['plotly'], function(Plotly) {\n",
       "            window._Plotly = Plotly;\n",
       "        });\n",
       "        }\n",
       "        </script>\n",
       "        "
      ]
     },
     "metadata": {},
     "output_type": "display_data"
    }
   ],
   "source": [
    "from plotly.offline import plot, iplot, init_notebook_mode\n",
    "import plotly.graph_objs as go\n",
    "init_notebook_mode(connected=True)"
   ]
  },
  {
   "cell_type": "code",
   "execution_count": 95,
   "id": "bfa88a81",
   "metadata": {},
   "outputs": [
    {
     "name": "stdout",
     "output_type": "stream",
     "text": [
      "<class 'pandas.core.frame.DataFrame'>\n",
      "RangeIndex: 86371 entries, 0 to 86370\n",
      "Data columns (total 10 columns):\n",
      " #   Column              Non-Null Count  Dtype  \n",
      "---  ------              --------------  -----  \n",
      " 0   Trip Id             86371 non-null  int64  \n",
      " 1   Trip  Duration      86371 non-null  int64  \n",
      " 2   Start Station Id    86371 non-null  int64  \n",
      " 3   Start Time          86371 non-null  object \n",
      " 4   Start Station Name  86069 non-null  object \n",
      " 5   End Station Id      86058 non-null  float64\n",
      " 6   End Time            86371 non-null  object \n",
      " 7   End Station Name    85759 non-null  object \n",
      " 8   Bike Id             86168 non-null  float64\n",
      " 9   User Type           86371 non-null  object \n",
      "dtypes: float64(2), int64(3), object(5)\n",
      "memory usage: 6.6+ MB\n",
      "<class 'pandas.core.frame.DataFrame'>\n",
      "Int64Index: 85857 entries, 0 to 86370\n",
      "Data columns (total 10 columns):\n",
      " #   Column              Non-Null Count  Dtype  \n",
      "---  ------              --------------  -----  \n",
      " 0   Trip Id             85857 non-null  int64  \n",
      " 1   Trip  Duration      85857 non-null  int64  \n",
      " 2   Start Station Id    85857 non-null  int64  \n",
      " 3   Start Time          85857 non-null  object \n",
      " 4   Start Station Name  85555 non-null  object \n",
      " 5   End Station Id      85830 non-null  float64\n",
      " 6   End Time            85857 non-null  object \n",
      " 7   End Station Name    85533 non-null  object \n",
      " 8   Bike Id             85654 non-null  float64\n",
      " 9   User Type           85857 non-null  object \n",
      "dtypes: float64(2), int64(3), object(5)\n",
      "memory usage: 7.2+ MB\n",
      "<class 'pandas.core.frame.DataFrame'>\n",
      "Int64Index: 85627 entries, 0 to 86370\n",
      "Data columns (total 10 columns):\n",
      " #   Column              Non-Null Count  Dtype  \n",
      "---  ------              --------------  -----  \n",
      " 0   Trip Id             85627 non-null  int64  \n",
      " 1   Trip  Duration      85627 non-null  int64  \n",
      " 2   Start Station Id    85627 non-null  int64  \n",
      " 3   Start Time          85627 non-null  object \n",
      " 4   Start Station Name  85326 non-null  object \n",
      " 5   End Station Id      85627 non-null  float64\n",
      " 6   End Time            85627 non-null  object \n",
      " 7   End Station Name    85331 non-null  object \n",
      " 8   Bike Id             85627 non-null  float64\n",
      " 9   User Type           85627 non-null  object \n",
      "dtypes: float64(2), int64(3), object(5)\n",
      "memory usage: 7.2+ MB\n",
      "<class 'pandas.core.frame.DataFrame'>\n",
      "Int64Index: 85627 entries, 0 to 86370\n",
      "Data columns (total 10 columns):\n",
      " #   Column              Non-Null Count  Dtype         \n",
      "---  ------              --------------  -----         \n",
      " 0   Trip Id             85627 non-null  string        \n",
      " 1   Trip  Duration      85627 non-null  int64         \n",
      " 2   Start Station Id    85627 non-null  string        \n",
      " 3   Start Time          85627 non-null  datetime64[ns]\n",
      " 4   Start Station Name  85326 non-null  object        \n",
      " 5   End Station Id      85627 non-null  string        \n",
      " 6   End Time            85627 non-null  datetime64[ns]\n",
      " 7   End Station Name    85331 non-null  object        \n",
      " 8   Bike Id             85627 non-null  string        \n",
      " 9   User Type           85627 non-null  object        \n",
      "dtypes: datetime64[ns](2), int64(1), object(3), string(4)\n",
      "memory usage: 7.2+ MB\n"
     ]
    }
   ],
   "source": [
    "%run Preprocessing.ipynb"
   ]
  },
  {
   "cell_type": "code",
   "execution_count": 45,
   "id": "58cbe2bc",
   "metadata": {},
   "outputs": [],
   "source": [
    "import matplotlib.mlab as mlab\n",
    "import chart_studio\n",
    "from matplotlib.ticker import FuncFormatter #Call formatter function to format tick values\n",
    "from matplotlib.offsetbox import (OffsetImage, AnnotationBbox) #Create image box\n",
    "from matplotlib.patches import Ellipse #Draw ellipse"
   ]
  },
  {
   "cell_type": "code",
   "execution_count": 23,
   "id": "385d937f",
   "metadata": {},
   "outputs": [
    {
     "data": {
      "text/html": [
       "<div>\n",
       "<style scoped>\n",
       "    .dataframe tbody tr th:only-of-type {\n",
       "        vertical-align: middle;\n",
       "    }\n",
       "\n",
       "    .dataframe tbody tr th {\n",
       "        vertical-align: top;\n",
       "    }\n",
       "\n",
       "    .dataframe thead th {\n",
       "        text-align: right;\n",
       "    }\n",
       "</style>\n",
       "<table border=\"1\" class=\"dataframe\">\n",
       "  <thead>\n",
       "    <tr style=\"text-align: right;\">\n",
       "      <th></th>\n",
       "      <th>station_id</th>\n",
       "      <th>name</th>\n",
       "      <th>lat</th>\n",
       "      <th>lon</th>\n",
       "    </tr>\n",
       "  </thead>\n",
       "  <tbody>\n",
       "    <tr>\n",
       "      <th>0</th>\n",
       "      <td>7000</td>\n",
       "      <td>Fort York  Blvd / Capreol Ct</td>\n",
       "      <td>43.639832</td>\n",
       "      <td>-79.395954</td>\n",
       "    </tr>\n",
       "    <tr>\n",
       "      <th>1</th>\n",
       "      <td>7001</td>\n",
       "      <td>Wellesley Station Green P</td>\n",
       "      <td>43.664964</td>\n",
       "      <td>-79.383550</td>\n",
       "    </tr>\n",
       "    <tr>\n",
       "      <th>2</th>\n",
       "      <td>7002</td>\n",
       "      <td>St. George St / Bloor St W</td>\n",
       "      <td>43.667333</td>\n",
       "      <td>-79.399429</td>\n",
       "    </tr>\n",
       "    <tr>\n",
       "      <th>3</th>\n",
       "      <td>7003</td>\n",
       "      <td>Madison Ave / Bloor St W</td>\n",
       "      <td>43.667158</td>\n",
       "      <td>-79.402761</td>\n",
       "    </tr>\n",
       "    <tr>\n",
       "      <th>4</th>\n",
       "      <td>7004</td>\n",
       "      <td>University Ave / Elm St</td>\n",
       "      <td>43.656518</td>\n",
       "      <td>-79.389099</td>\n",
       "    </tr>\n",
       "    <tr>\n",
       "      <th>...</th>\n",
       "      <td>...</td>\n",
       "      <td>...</td>\n",
       "      <td>...</td>\n",
       "      <td>...</td>\n",
       "    </tr>\n",
       "    <tr>\n",
       "      <th>612</th>\n",
       "      <td>7686</td>\n",
       "      <td>Lower Jarvis / The Esplanade</td>\n",
       "      <td>43.647821</td>\n",
       "      <td>-79.370472</td>\n",
       "    </tr>\n",
       "    <tr>\n",
       "      <th>613</th>\n",
       "      <td>7687</td>\n",
       "      <td>Bloor / Gladstone - SMART</td>\n",
       "      <td>43.660202</td>\n",
       "      <td>-79.434273</td>\n",
       "    </tr>\n",
       "    <tr>\n",
       "      <th>614</th>\n",
       "      <td>7688</td>\n",
       "      <td>High Park Blvd / Parkside Dr</td>\n",
       "      <td>43.644887</td>\n",
       "      <td>-79.456412</td>\n",
       "    </tr>\n",
       "    <tr>\n",
       "      <th>615</th>\n",
       "      <td>7689</td>\n",
       "      <td>20 Eaton</td>\n",
       "      <td>43.680012</td>\n",
       "      <td>-79.344033</td>\n",
       "    </tr>\n",
       "    <tr>\n",
       "      <th>616</th>\n",
       "      <td>7691</td>\n",
       "      <td>Christie St / Dupont St</td>\n",
       "      <td>43.671656</td>\n",
       "      <td>-79.420727</td>\n",
       "    </tr>\n",
       "  </tbody>\n",
       "</table>\n",
       "<p>617 rows × 4 columns</p>\n",
       "</div>"
      ],
      "text/plain": [
       "    station_id                          name        lat        lon\n",
       "0         7000  Fort York  Blvd / Capreol Ct  43.639832 -79.395954\n",
       "1         7001     Wellesley Station Green P  43.664964 -79.383550\n",
       "2         7002    St. George St / Bloor St W  43.667333 -79.399429\n",
       "3         7003      Madison Ave / Bloor St W  43.667158 -79.402761\n",
       "4         7004       University Ave / Elm St  43.656518 -79.389099\n",
       "..         ...                           ...        ...        ...\n",
       "612       7686  Lower Jarvis / The Esplanade  43.647821 -79.370472\n",
       "613       7687     Bloor / Gladstone - SMART  43.660202 -79.434273\n",
       "614       7688  High Park Blvd / Parkside Dr  43.644887 -79.456412\n",
       "615       7689                      20 Eaton  43.680012 -79.344033\n",
       "616       7691       Christie St / Dupont St  43.671656 -79.420727\n",
       "\n",
       "[617 rows x 4 columns]"
      ]
     },
     "execution_count": 23,
     "metadata": {},
     "output_type": "execute_result"
    }
   ],
   "source": [
    "r = requests.get('https://tor.publicbikesystem.net/ube/gbfs/v1/en/station_information')\n",
    "\n",
    "bikeshare_stations = pd.DataFrame(json.loads(r.content)['data']['stations'])[['station_id', 'name', 'lat', 'lon']].astype({\n",
    "    'station_id': 'string',\n",
    "})\n",
    "\n",
    "bikeshare_stations"
   ]
  },
  {
   "cell_type": "code",
   "execution_count": 96,
   "id": "32930e6f",
   "metadata": {},
   "outputs": [
    {
     "data": {
      "text/html": [
       "<div>\n",
       "<style scoped>\n",
       "    .dataframe tbody tr th:only-of-type {\n",
       "        vertical-align: middle;\n",
       "    }\n",
       "\n",
       "    .dataframe tbody tr th {\n",
       "        vertical-align: top;\n",
       "    }\n",
       "\n",
       "    .dataframe thead th {\n",
       "        text-align: right;\n",
       "    }\n",
       "</style>\n",
       "<table border=\"1\" class=\"dataframe\">\n",
       "  <thead>\n",
       "    <tr style=\"text-align: right;\">\n",
       "      <th></th>\n",
       "      <th>Trip Id</th>\n",
       "      <th>Trip  Duration</th>\n",
       "      <th>Start Station Id</th>\n",
       "      <th>Start Time</th>\n",
       "      <th>Start Station Name</th>\n",
       "      <th>End Station Id</th>\n",
       "      <th>End Time</th>\n",
       "      <th>End Station Name</th>\n",
       "      <th>Bike Id</th>\n",
       "      <th>User Type</th>\n",
       "      <th>ï»¿Trip Id</th>\n",
       "    </tr>\n",
       "  </thead>\n",
       "  <tbody>\n",
       "    <tr>\n",
       "      <th>0</th>\n",
       "      <td>10644218.0</td>\n",
       "      <td>1315</td>\n",
       "      <td>7021</td>\n",
       "      <td>01/01/2021 00:04</td>\n",
       "      <td>Bay St / Albert St</td>\n",
       "      <td>7164.0</td>\n",
       "      <td>01/01/2021 00:26</td>\n",
       "      <td>Gould St / Yonge St (Ryerson University)</td>\n",
       "      <td>6795.0</td>\n",
       "      <td>Annual Member</td>\n",
       "      <td>NaN</td>\n",
       "    </tr>\n",
       "    <tr>\n",
       "      <th>1</th>\n",
       "      <td>10644220.0</td>\n",
       "      <td>396</td>\n",
       "      <td>7534</td>\n",
       "      <td>01/01/2021 00:07</td>\n",
       "      <td>Walnut Ave / Queen St W</td>\n",
       "      <td>7524.0</td>\n",
       "      <td>01/01/2021 00:13</td>\n",
       "      <td>Lisgar Park</td>\n",
       "      <td>4176.0</td>\n",
       "      <td>Casual Member</td>\n",
       "      <td>NaN</td>\n",
       "    </tr>\n",
       "    <tr>\n",
       "      <th>2</th>\n",
       "      <td>10644221.0</td>\n",
       "      <td>86</td>\n",
       "      <td>7162</td>\n",
       "      <td>01/01/2021 00:10</td>\n",
       "      <td>Hayter St / Laplante Ave</td>\n",
       "      <td>7006.0</td>\n",
       "      <td>01/01/2021 00:11</td>\n",
       "      <td>Bay St / College St (East Side)</td>\n",
       "      <td>1814.0</td>\n",
       "      <td>Annual Member</td>\n",
       "      <td>NaN</td>\n",
       "    </tr>\n",
       "    <tr>\n",
       "      <th>3</th>\n",
       "      <td>10644222.0</td>\n",
       "      <td>741</td>\n",
       "      <td>7003</td>\n",
       "      <td>01/01/2021 00:10</td>\n",
       "      <td>Madison Ave / Bloor St W</td>\n",
       "      <td>7272.0</td>\n",
       "      <td>01/01/2021 00:22</td>\n",
       "      <td>Yonge St / Dundonald St - SMART</td>\n",
       "      <td>198.0</td>\n",
       "      <td>Casual Member</td>\n",
       "      <td>NaN</td>\n",
       "    </tr>\n",
       "    <tr>\n",
       "      <th>4</th>\n",
       "      <td>10644223.0</td>\n",
       "      <td>2073</td>\n",
       "      <td>7562</td>\n",
       "      <td>01/01/2021 00:11</td>\n",
       "      <td>Priscilla  Ave / Dundas St W - SMART</td>\n",
       "      <td>7562.0</td>\n",
       "      <td>01/01/2021 00:45</td>\n",
       "      <td>Priscilla  Ave / Dundas St W - SMART</td>\n",
       "      <td>6688.0</td>\n",
       "      <td>Casual Member</td>\n",
       "      <td>NaN</td>\n",
       "    </tr>\n",
       "    <tr>\n",
       "      <th>...</th>\n",
       "      <td>...</td>\n",
       "      <td>...</td>\n",
       "      <td>...</td>\n",
       "      <td>...</td>\n",
       "      <td>...</td>\n",
       "      <td>...</td>\n",
       "      <td>...</td>\n",
       "      <td>...</td>\n",
       "      <td>...</td>\n",
       "      <td>...</td>\n",
       "      <td>...</td>\n",
       "    </tr>\n",
       "    <tr>\n",
       "      <th>145844</th>\n",
       "      <td>NaN</td>\n",
       "      <td>372</td>\n",
       "      <td>7065</td>\n",
       "      <td>12/31/2021 23:56</td>\n",
       "      <td>Dundas St E / Parliament St</td>\n",
       "      <td>7472.0</td>\n",
       "      <td>01/01/2022 00:02</td>\n",
       "      <td>Dundas St E / Victoria St</td>\n",
       "      <td>3487.0</td>\n",
       "      <td>Casual Member</td>\n",
       "      <td>14805103.0</td>\n",
       "    </tr>\n",
       "    <tr>\n",
       "      <th>145845</th>\n",
       "      <td>NaN</td>\n",
       "      <td>762</td>\n",
       "      <td>7233</td>\n",
       "      <td>12/31/2021 23:56</td>\n",
       "      <td>King / Cowan Ave - SMART</td>\n",
       "      <td>7569.0</td>\n",
       "      <td>01/01/2022 00:08</td>\n",
       "      <td>Toronto Inukshuk Park</td>\n",
       "      <td>4195.0</td>\n",
       "      <td>Annual Member</td>\n",
       "      <td>14805104.0</td>\n",
       "    </tr>\n",
       "    <tr>\n",
       "      <th>145846</th>\n",
       "      <td>NaN</td>\n",
       "      <td>355</td>\n",
       "      <td>7065</td>\n",
       "      <td>12/31/2021 23:56</td>\n",
       "      <td>Dundas St E / Parliament St</td>\n",
       "      <td>7472.0</td>\n",
       "      <td>01/01/2022 00:02</td>\n",
       "      <td>Dundas St E / Victoria St</td>\n",
       "      <td>4574.0</td>\n",
       "      <td>Casual Member</td>\n",
       "      <td>14805105.0</td>\n",
       "    </tr>\n",
       "    <tr>\n",
       "      <th>145847</th>\n",
       "      <td>NaN</td>\n",
       "      <td>770</td>\n",
       "      <td>7292</td>\n",
       "      <td>12/31/2021 23:56</td>\n",
       "      <td>Granby St / Church St - SMART</td>\n",
       "      <td>7076.0</td>\n",
       "      <td>01/01/2022 00:09</td>\n",
       "      <td>York St / Queens Quay W</td>\n",
       "      <td>5879.0</td>\n",
       "      <td>Annual Member</td>\n",
       "      <td>14805107.0</td>\n",
       "    </tr>\n",
       "    <tr>\n",
       "      <th>145848</th>\n",
       "      <td>NaN</td>\n",
       "      <td>1307</td>\n",
       "      <td>7057</td>\n",
       "      <td>12/31/2021 23:59</td>\n",
       "      <td>Simcoe St / Wellington St South</td>\n",
       "      <td>7383.0</td>\n",
       "      <td>01/01/2022 00:21</td>\n",
       "      <td>12 Harbour St</td>\n",
       "      <td>1655.0</td>\n",
       "      <td>Annual Member</td>\n",
       "      <td>14805108.0</td>\n",
       "    </tr>\n",
       "  </tbody>\n",
       "</table>\n",
       "<p>3575182 rows × 11 columns</p>\n",
       "</div>"
      ],
      "text/plain": [
       "           Trip Id  Trip  Duration  Start Station Id        Start Time  \\\n",
       "0       10644218.0            1315              7021  01/01/2021 00:04   \n",
       "1       10644220.0             396              7534  01/01/2021 00:07   \n",
       "2       10644221.0              86              7162  01/01/2021 00:10   \n",
       "3       10644222.0             741              7003  01/01/2021 00:10   \n",
       "4       10644223.0            2073              7562  01/01/2021 00:11   \n",
       "...            ...             ...               ...               ...   \n",
       "145844         NaN             372              7065  12/31/2021 23:56   \n",
       "145845         NaN             762              7233  12/31/2021 23:56   \n",
       "145846         NaN             355              7065  12/31/2021 23:56   \n",
       "145847         NaN             770              7292  12/31/2021 23:56   \n",
       "145848         NaN            1307              7057  12/31/2021 23:59   \n",
       "\n",
       "                          Start Station Name  End Station Id  \\\n",
       "0                         Bay St / Albert St          7164.0   \n",
       "1                    Walnut Ave / Queen St W          7524.0   \n",
       "2                   Hayter St / Laplante Ave          7006.0   \n",
       "3                   Madison Ave / Bloor St W          7272.0   \n",
       "4       Priscilla  Ave / Dundas St W - SMART          7562.0   \n",
       "...                                      ...             ...   \n",
       "145844           Dundas St E / Parliament St          7472.0   \n",
       "145845              King / Cowan Ave - SMART          7569.0   \n",
       "145846           Dundas St E / Parliament St          7472.0   \n",
       "145847         Granby St / Church St - SMART          7076.0   \n",
       "145848       Simcoe St / Wellington St South          7383.0   \n",
       "\n",
       "                End Time                          End Station Name  Bike Id  \\\n",
       "0       01/01/2021 00:26  Gould St / Yonge St (Ryerson University)   6795.0   \n",
       "1       01/01/2021 00:13                               Lisgar Park   4176.0   \n",
       "2       01/01/2021 00:11           Bay St / College St (East Side)   1814.0   \n",
       "3       01/01/2021 00:22           Yonge St / Dundonald St - SMART    198.0   \n",
       "4       01/01/2021 00:45      Priscilla  Ave / Dundas St W - SMART   6688.0   \n",
       "...                  ...                                       ...      ...   \n",
       "145844  01/01/2022 00:02                 Dundas St E / Victoria St   3487.0   \n",
       "145845  01/01/2022 00:08                     Toronto Inukshuk Park   4195.0   \n",
       "145846  01/01/2022 00:02                 Dundas St E / Victoria St   4574.0   \n",
       "145847  01/01/2022 00:09                   York St / Queens Quay W   5879.0   \n",
       "145848  01/01/2022 00:21                             12 Harbour St   1655.0   \n",
       "\n",
       "            User Type  ï»¿Trip Id  \n",
       "0       Annual Member         NaN  \n",
       "1       Casual Member         NaN  \n",
       "2       Annual Member         NaN  \n",
       "3       Casual Member         NaN  \n",
       "4       Casual Member         NaN  \n",
       "...               ...         ...  \n",
       "145844  Casual Member  14805103.0  \n",
       "145845  Annual Member  14805104.0  \n",
       "145846  Casual Member  14805105.0  \n",
       "145847  Annual Member  14805107.0  \n",
       "145848  Annual Member  14805108.0  \n",
       "\n",
       "[3575182 rows x 11 columns]"
      ]
     },
     "execution_count": 96,
     "metadata": {},
     "output_type": "execute_result"
    }
   ],
   "source": [
    "for i in range(1, 13):\n",
    "    if i < 10:\n",
    "        df_new = pd.read_csv(\"bike-share-ridership-2021-0\"+ str(i) +\".csv\", encoding='cp1252')\n",
    "    else:\n",
    "        df_new = pd.read_csv(\"bike-share-ridership-2021-\"+ str(i) +\".csv\", encoding='cp1252')\n",
    "    \n",
    "    if i == 1:\n",
    "        df = df_new\n",
    "    else:\n",
    "        df = pd.concat([df, df_new])\n",
    "df        "
   ]
  },
  {
   "cell_type": "code",
   "execution_count": 97,
   "id": "8340c8ba",
   "metadata": {},
   "outputs": [],
   "source": [
    "df = clean(df)\n",
    "df = conversion(df)"
   ]
  },
  {
   "cell_type": "code",
   "execution_count": 99,
   "id": "ea3375a2",
   "metadata": {},
   "outputs": [],
   "source": [
    "df = calculate(df)"
   ]
  },
  {
   "cell_type": "code",
   "execution_count": 100,
   "id": "e5aa7ca8",
   "metadata": {},
   "outputs": [
    {
     "name": "stdout",
     "output_type": "stream",
     "text": [
      "<class 'pandas.core.frame.DataFrame'>\n",
      "Int64Index: 3474290 entries, 0 to 3569339\n",
      "Data columns (total 14 columns):\n",
      " #   Column              Dtype         \n",
      "---  ------              -----         \n",
      " 0   Trip Id             float64       \n",
      " 1   Trip  Duration      int64         \n",
      " 2   Start Station Id    string        \n",
      " 3   Start Time          datetime64[ns]\n",
      " 4   Start Station Name  object        \n",
      " 5   End Station Id      string        \n",
      " 6   End Time            datetime64[ns]\n",
      " 7   End Station Name    object        \n",
      " 8   Bike Id             string        \n",
      " 9   User Type           object        \n",
      " 10  ï»¿Trip Id          float64       \n",
      " 11  routes              string        \n",
      " 12  distance            float64       \n",
      " 13  avg_speed           float64       \n",
      "dtypes: datetime64[ns](2), float64(4), int64(1), object(3), string(4)\n",
      "memory usage: 397.6+ MB\n"
     ]
    }
   ],
   "source": [
    "df.info()"
   ]
  },
  {
   "cell_type": "code",
   "execution_count": 94,
   "id": "5082f8e0",
   "metadata": {},
   "outputs": [
    {
     "data": {
      "text/html": [
       "<div>\n",
       "<style scoped>\n",
       "    .dataframe tbody tr th:only-of-type {\n",
       "        vertical-align: middle;\n",
       "    }\n",
       "\n",
       "    .dataframe tbody tr th {\n",
       "        vertical-align: top;\n",
       "    }\n",
       "\n",
       "    .dataframe thead th {\n",
       "        text-align: right;\n",
       "    }\n",
       "</style>\n",
       "<table border=\"1\" class=\"dataframe\">\n",
       "  <thead>\n",
       "    <tr style=\"text-align: right;\">\n",
       "      <th></th>\n",
       "      <th>Trip Id</th>\n",
       "      <th>Trip  Duration</th>\n",
       "      <th>Start Station Id</th>\n",
       "      <th>Start Time</th>\n",
       "      <th>Start Station Name</th>\n",
       "      <th>End Station Id</th>\n",
       "      <th>End Time</th>\n",
       "      <th>End Station Name</th>\n",
       "      <th>Bike Id</th>\n",
       "      <th>User Type</th>\n",
       "      <th>ï»¿Trip Id</th>\n",
       "      <th>routes</th>\n",
       "    </tr>\n",
       "  </thead>\n",
       "  <tbody>\n",
       "    <tr>\n",
       "      <th>0</th>\n",
       "      <td>NaN</td>\n",
       "      <td>195</td>\n",
       "      <td>7032</td>\n",
       "      <td>2021-04-01 00:01:00</td>\n",
       "      <td>Augusta Ave / Dundas St W</td>\n",
       "      <td>7049.0</td>\n",
       "      <td>2021-04-01 00:04:00</td>\n",
       "      <td>Queen St W / Portland St</td>\n",
       "      <td>656.0</td>\n",
       "      <td>Annual Member</td>\n",
       "      <td>11015571.0</td>\n",
       "      <td>7032-7049.0</td>\n",
       "    </tr>\n",
       "    <tr>\n",
       "      <th>1</th>\n",
       "      <td>NaN</td>\n",
       "      <td>938</td>\n",
       "      <td>7168</td>\n",
       "      <td>2021-04-01 00:01:00</td>\n",
       "      <td>Queens Quay / Yonge St</td>\n",
       "      <td>7508.0</td>\n",
       "      <td>2021-04-01 00:17:00</td>\n",
       "      <td>Berkeley St / Dundas St E - SMART</td>\n",
       "      <td>5272.0</td>\n",
       "      <td>Annual Member</td>\n",
       "      <td>11015572.0</td>\n",
       "      <td>7168-7508.0</td>\n",
       "    </tr>\n",
       "    <tr>\n",
       "      <th>2</th>\n",
       "      <td>NaN</td>\n",
       "      <td>1145</td>\n",
       "      <td>7012</td>\n",
       "      <td>2021-04-01 00:03:00</td>\n",
       "      <td>Elizabeth St / Edward St (Bus Terminal)</td>\n",
       "      <td>7012.0</td>\n",
       "      <td>2021-04-01 00:23:00</td>\n",
       "      <td>Elizabeth St / Edward St (Bus Terminal)</td>\n",
       "      <td>3253.0</td>\n",
       "      <td>Annual Member</td>\n",
       "      <td>11015573.0</td>\n",
       "      <td>7012-7012.0</td>\n",
       "    </tr>\n",
       "    <tr>\n",
       "      <th>3</th>\n",
       "      <td>NaN</td>\n",
       "      <td>1061</td>\n",
       "      <td>7037</td>\n",
       "      <td>2021-04-01 00:04:00</td>\n",
       "      <td>Bathurst St / Dundas St W</td>\n",
       "      <td>7079.0</td>\n",
       "      <td>2021-04-01 00:22:00</td>\n",
       "      <td>McGill St / Church St</td>\n",
       "      <td>3233.0</td>\n",
       "      <td>Annual Member</td>\n",
       "      <td>11015574.0</td>\n",
       "      <td>7037-7079.0</td>\n",
       "    </tr>\n",
       "    <tr>\n",
       "      <th>4</th>\n",
       "      <td>NaN</td>\n",
       "      <td>460</td>\n",
       "      <td>7198</td>\n",
       "      <td>2021-04-01 00:07:00</td>\n",
       "      <td>Queen St W / Cowan Ave</td>\n",
       "      <td>7662.0</td>\n",
       "      <td>2021-04-01 00:15:00</td>\n",
       "      <td>Beaty Ave / Queen St W</td>\n",
       "      <td>1381.0</td>\n",
       "      <td>Annual Member</td>\n",
       "      <td>11015575.0</td>\n",
       "      <td>7198-7662.0</td>\n",
       "    </tr>\n",
       "    <tr>\n",
       "      <th>...</th>\n",
       "      <td>...</td>\n",
       "      <td>...</td>\n",
       "      <td>...</td>\n",
       "      <td>...</td>\n",
       "      <td>...</td>\n",
       "      <td>...</td>\n",
       "      <td>...</td>\n",
       "      <td>...</td>\n",
       "      <td>...</td>\n",
       "      <td>...</td>\n",
       "      <td>...</td>\n",
       "      <td>...</td>\n",
       "    </tr>\n",
       "    <tr>\n",
       "      <th>224294</th>\n",
       "      <td>NaN</td>\n",
       "      <td>574</td>\n",
       "      <td>7599</td>\n",
       "      <td>2021-04-30 23:58:00</td>\n",
       "      <td>Richmond St W / York St</td>\n",
       "      <td>7043.0</td>\n",
       "      <td>2021-05-01 00:07:00</td>\n",
       "      <td>Queens Quay W / Lower Simcoe St</td>\n",
       "      <td>850.0</td>\n",
       "      <td>Annual Member</td>\n",
       "      <td>11281843.0</td>\n",
       "      <td>7599-7043.0</td>\n",
       "    </tr>\n",
       "    <tr>\n",
       "      <th>224295</th>\n",
       "      <td>NaN</td>\n",
       "      <td>557</td>\n",
       "      <td>7599</td>\n",
       "      <td>2021-04-30 23:58:00</td>\n",
       "      <td>Richmond St W / York St</td>\n",
       "      <td>7043.0</td>\n",
       "      <td>2021-05-01 00:08:00</td>\n",
       "      <td>Queens Quay W / Lower Simcoe St</td>\n",
       "      <td>4240.0</td>\n",
       "      <td>Annual Member</td>\n",
       "      <td>11281844.0</td>\n",
       "      <td>7599-7043.0</td>\n",
       "    </tr>\n",
       "    <tr>\n",
       "      <th>224296</th>\n",
       "      <td>NaN</td>\n",
       "      <td>1637</td>\n",
       "      <td>7420</td>\n",
       "      <td>2021-04-30 23:59:00</td>\n",
       "      <td>Barton St / Howland St - SMART</td>\n",
       "      <td>7420.0</td>\n",
       "      <td>2021-05-01 00:26:00</td>\n",
       "      <td>Barton St / Howland St - SMART</td>\n",
       "      <td>5419.0</td>\n",
       "      <td>Casual Member</td>\n",
       "      <td>11281845.0</td>\n",
       "      <td>7420-7420.0</td>\n",
       "    </tr>\n",
       "    <tr>\n",
       "      <th>224297</th>\n",
       "      <td>NaN</td>\n",
       "      <td>450</td>\n",
       "      <td>7291</td>\n",
       "      <td>2021-04-30 23:59:00</td>\n",
       "      <td>190 Queens Quay E</td>\n",
       "      <td>7505.0</td>\n",
       "      <td>2021-05-01 00:06:00</td>\n",
       "      <td>Ontario St / Adelaide St E -SMART</td>\n",
       "      <td>6622.0</td>\n",
       "      <td>Annual Member</td>\n",
       "      <td>11281846.0</td>\n",
       "      <td>7291-7505.0</td>\n",
       "    </tr>\n",
       "    <tr>\n",
       "      <th>224298</th>\n",
       "      <td>NaN</td>\n",
       "      <td>291</td>\n",
       "      <td>7055</td>\n",
       "      <td>2021-04-30 23:59:00</td>\n",
       "      <td>Jarvis St / Carlton St</td>\n",
       "      <td>7508.0</td>\n",
       "      <td>2021-05-01 00:04:00</td>\n",
       "      <td>Berkeley St / Dundas St E - SMART</td>\n",
       "      <td>6831.0</td>\n",
       "      <td>Annual Member</td>\n",
       "      <td>11281847.0</td>\n",
       "      <td>7055-7508.0</td>\n",
       "    </tr>\n",
       "  </tbody>\n",
       "</table>\n",
       "<p>224021 rows × 12 columns</p>\n",
       "</div>"
      ],
      "text/plain": [
       "        Trip Id  Trip  Duration Start Station Id          Start Time  \\\n",
       "0           NaN             195             7032 2021-04-01 00:01:00   \n",
       "1           NaN             938             7168 2021-04-01 00:01:00   \n",
       "2           NaN            1145             7012 2021-04-01 00:03:00   \n",
       "3           NaN            1061             7037 2021-04-01 00:04:00   \n",
       "4           NaN             460             7198 2021-04-01 00:07:00   \n",
       "...         ...             ...              ...                 ...   \n",
       "224294      NaN             574             7599 2021-04-30 23:58:00   \n",
       "224295      NaN             557             7599 2021-04-30 23:58:00   \n",
       "224296      NaN            1637             7420 2021-04-30 23:59:00   \n",
       "224297      NaN             450             7291 2021-04-30 23:59:00   \n",
       "224298      NaN             291             7055 2021-04-30 23:59:00   \n",
       "\n",
       "                             Start Station Name End Station Id  \\\n",
       "0                     Augusta Ave / Dundas St W         7049.0   \n",
       "1                        Queens Quay / Yonge St         7508.0   \n",
       "2       Elizabeth St / Edward St (Bus Terminal)         7012.0   \n",
       "3                     Bathurst St / Dundas St W         7079.0   \n",
       "4                        Queen St W / Cowan Ave         7662.0   \n",
       "...                                         ...            ...   \n",
       "224294                  Richmond St W / York St         7043.0   \n",
       "224295                  Richmond St W / York St         7043.0   \n",
       "224296           Barton St / Howland St - SMART         7420.0   \n",
       "224297                        190 Queens Quay E         7505.0   \n",
       "224298                   Jarvis St / Carlton St         7508.0   \n",
       "\n",
       "                  End Time                         End Station Name Bike Id  \\\n",
       "0      2021-04-01 00:04:00                 Queen St W / Portland St   656.0   \n",
       "1      2021-04-01 00:17:00        Berkeley St / Dundas St E - SMART  5272.0   \n",
       "2      2021-04-01 00:23:00  Elizabeth St / Edward St (Bus Terminal)  3253.0   \n",
       "3      2021-04-01 00:22:00                    McGill St / Church St  3233.0   \n",
       "4      2021-04-01 00:15:00                   Beaty Ave / Queen St W  1381.0   \n",
       "...                    ...                                      ...     ...   \n",
       "224294 2021-05-01 00:07:00          Queens Quay W / Lower Simcoe St   850.0   \n",
       "224295 2021-05-01 00:08:00          Queens Quay W / Lower Simcoe St  4240.0   \n",
       "224296 2021-05-01 00:26:00           Barton St / Howland St - SMART  5419.0   \n",
       "224297 2021-05-01 00:06:00        Ontario St / Adelaide St E -SMART  6622.0   \n",
       "224298 2021-05-01 00:04:00        Berkeley St / Dundas St E - SMART  6831.0   \n",
       "\n",
       "            User Type  ï»¿Trip Id       routes  \n",
       "0       Annual Member  11015571.0  7032-7049.0  \n",
       "1       Annual Member  11015572.0  7168-7508.0  \n",
       "2       Annual Member  11015573.0  7012-7012.0  \n",
       "3       Annual Member  11015574.0  7037-7079.0  \n",
       "4       Annual Member  11015575.0  7198-7662.0  \n",
       "...               ...         ...          ...  \n",
       "224294  Annual Member  11281843.0  7599-7043.0  \n",
       "224295  Annual Member  11281844.0  7599-7043.0  \n",
       "224296  Casual Member  11281845.0  7420-7420.0  \n",
       "224297  Annual Member  11281846.0  7291-7505.0  \n",
       "224298  Annual Member  11281847.0  7055-7508.0  \n",
       "\n",
       "[224021 rows x 12 columns]"
      ]
     },
     "execution_count": 94,
     "metadata": {},
     "output_type": "execute_result"
    }
   ],
   "source": [
    "df[df[\"Start Time\"].dt.month == 4]"
   ]
  },
  {
   "cell_type": "markdown",
   "id": "0a32d9bd",
   "metadata": {},
   "source": [
    "- How many trips did poeple in Toronto had with Bike Share Toronto in 2021?\n",
    "- Was the ridership affected by season, weather, COVID-19, festivals and holidays, etc.?\n",
    "- What are the riders' behavior in terms of distance, speed, time of the day, day of the week, etc.?\n",
    "- What are the most popular cycling routes? Average speed on those routes? Any changes through the season?\n",
    "- Troubleshooting: which stations and bikes were frequently caught up in malfunctionings?"
   ]
  },
  {
   "cell_type": "markdown",
   "id": "b5c59b97",
   "metadata": {},
   "source": [
    "### How many trips did poeple in Toronto had with Bike Share Toronto in 2021?"
   ]
  },
  {
   "cell_type": "code",
   "execution_count": 55,
   "id": "451c3489",
   "metadata": {},
   "outputs": [
    {
     "data": {
      "text/html": [
       "<div>\n",
       "<style scoped>\n",
       "    .dataframe tbody tr th:only-of-type {\n",
       "        vertical-align: middle;\n",
       "    }\n",
       "\n",
       "    .dataframe tbody tr th {\n",
       "        vertical-align: top;\n",
       "    }\n",
       "\n",
       "    .dataframe thead th {\n",
       "        text-align: right;\n",
       "    }\n",
       "</style>\n",
       "<table border=\"1\" class=\"dataframe\">\n",
       "  <thead>\n",
       "    <tr style=\"text-align: right;\">\n",
       "      <th></th>\n",
       "      <th>Start Time</th>\n",
       "      <th>Start Station Id</th>\n",
       "    </tr>\n",
       "  </thead>\n",
       "  <tbody>\n",
       "    <tr>\n",
       "      <th>0</th>\n",
       "      <td>2021-01-01</td>\n",
       "      <td>1804</td>\n",
       "    </tr>\n",
       "    <tr>\n",
       "      <th>1</th>\n",
       "      <td>2021-01-02</td>\n",
       "      <td>1906</td>\n",
       "    </tr>\n",
       "    <tr>\n",
       "      <th>2</th>\n",
       "      <td>2021-01-03</td>\n",
       "      <td>1941</td>\n",
       "    </tr>\n",
       "    <tr>\n",
       "      <th>3</th>\n",
       "      <td>2021-01-04</td>\n",
       "      <td>3054</td>\n",
       "    </tr>\n",
       "    <tr>\n",
       "      <th>4</th>\n",
       "      <td>2021-01-05</td>\n",
       "      <td>2816</td>\n",
       "    </tr>\n",
       "    <tr>\n",
       "      <th>...</th>\n",
       "      <td>...</td>\n",
       "      <td>...</td>\n",
       "    </tr>\n",
       "    <tr>\n",
       "      <th>360</th>\n",
       "      <td>2021-12-27</td>\n",
       "      <td>1265</td>\n",
       "    </tr>\n",
       "    <tr>\n",
       "      <th>361</th>\n",
       "      <td>2021-12-28</td>\n",
       "      <td>3054</td>\n",
       "    </tr>\n",
       "    <tr>\n",
       "      <th>362</th>\n",
       "      <td>2021-12-29</td>\n",
       "      <td>3521</td>\n",
       "    </tr>\n",
       "    <tr>\n",
       "      <th>363</th>\n",
       "      <td>2021-12-30</td>\n",
       "      <td>4065</td>\n",
       "    </tr>\n",
       "    <tr>\n",
       "      <th>364</th>\n",
       "      <td>2021-12-31</td>\n",
       "      <td>4832</td>\n",
       "    </tr>\n",
       "  </tbody>\n",
       "</table>\n",
       "<p>365 rows × 2 columns</p>\n",
       "</div>"
      ],
      "text/plain": [
       "     Start Time  Start Station Id\n",
       "0    2021-01-01              1804\n",
       "1    2021-01-02              1906\n",
       "2    2021-01-03              1941\n",
       "3    2021-01-04              3054\n",
       "4    2021-01-05              2816\n",
       "..          ...               ...\n",
       "360  2021-12-27              1265\n",
       "361  2021-12-28              3054\n",
       "362  2021-12-29              3521\n",
       "363  2021-12-30              4065\n",
       "364  2021-12-31              4832\n",
       "\n",
       "[365 rows x 2 columns]"
      ]
     },
     "execution_count": 55,
     "metadata": {},
     "output_type": "execute_result"
    }
   ],
   "source": [
    "byDate = df.groupby(df['Start Time'].dt.date)[\"Start Station Id\"].count()\n",
    "byDate = byDate.reset_index()\n",
    "byDate"
   ]
  },
  {
   "cell_type": "code",
   "execution_count": 147,
   "id": "35854b9f",
   "metadata": {},
   "outputs": [
    {
     "data": {
      "application/vnd.plotly.v1+json": {
       "config": {
        "plotlyServerURL": "https://plot.ly"
       },
       "data": [
        {
         "alignmentgroup": "True",
         "hovertemplate": "Date=%{x}<br># of trips=%{marker.color}<extra></extra>",
         "legendgroup": "",
         "marker": {
          "color": [
           1804,
           1906,
           1941,
           3054,
           2816,
           3172,
           3565,
           3465,
           4152,
           2942,
           2956,
           2762,
           3514,
           3488,
           3074,
           4651,
           3552,
           3075,
           2983,
           2674,
           3306,
           3050,
           2586,
           2460,
           3229,
           1046,
           1552,
           1687,
           2081,
           2390,
           1438,
           2055,
           2299,
           2723,
           3180,
           2132,
           1943,
           1573,
           1917,
           2134,
           2295,
           2299,
           1678,
           1376,
           2067,
           1489,
           708,
           1584,
           1277,
           1141,
           1745,
           1998,
           1265,
           2212,
           2872,
           2946,
           3490,
           3934,
           2547,
           2138,
           2539,
           4016,
           2895,
           2977,
           2900,
           3671,
           3499,
           5327,
           5745,
           4821,
           4544,
           5885,
           3039,
           3262,
           3405,
           5206,
           3861,
           4640,
           11142,
           9782,
           6674,
           7143,
           5954,
           8895,
           4407,
           6988,
           2874,
           4987,
           8946,
           5235,
           4211,
           5177,
           5435,
           13411,
           7021,
           6658,
           8714,
           10053,
           8125,
           19924,
           4823,
           3057,
           7373,
           8994,
           5228,
           5506,
           9995,
           10541,
           2589,
           4628,
           3189,
           4325,
           11292,
           17964,
           9369,
           5886,
           6248,
           6203,
           3133,
           5227,
           12258,
           9264,
           4387,
           5025,
           6753,
           9407,
           7678,
           14017,
           11156,
           6958,
           6323,
           11983,
           12614,
           13583,
           24640,
           27029,
           12939,
           14784,
           14163,
           14153,
           18009,
           20183,
           24376,
           26023,
           12572,
           9986,
           12549,
           3625,
           20048,
           24493,
           13045,
           13931,
           13612,
           10649,
           15918,
           27346,
           24439,
           13208,
           9714,
           15111,
           15833,
           15849,
           25334,
           19601,
           9102,
           14095,
           14023,
           14812,
           10099,
           20174,
           19506,
           10777,
           12651,
           14086,
           14818,
           8110,
           14698,
           20068,
           13130,
           7943,
           14010,
           18281,
           11390,
           20472,
           18931,
           12871,
           13404,
           13457,
           7177,
           11287,
           23320,
           11095,
           13145,
           11236,
           20678,
           12344,
           14883,
           11170,
           18529,
           13280,
           11721,
           22212,
           15867,
           16871,
           11488,
           18631,
           13887,
           10911,
           22178,
           11769,
           16142,
           15283,
           13929,
           19762,
           14811,
           16841,
           16320,
           16551,
           15978,
           17520,
           13812,
           12420,
           14342,
           14383,
           15131,
           21300,
           19261,
           13834,
           14576,
           14779,
           16433,
           16898,
           19988,
           17755,
           14394,
           15699,
           15142,
           13960,
           17403,
           17927,
           15453,
           14520,
           15821,
           16208,
           16127,
           16199,
           20267,
           18787,
           16979,
           11924,
           15111,
           14611,
           15666,
           18814,
           13480,
           14058,
           14442,
           15282,
           16260,
           17005,
           20555,
           18089,
           14965,
           11853,
           4952,
           12145,
           14479,
           12768,
           15932,
           13227,
           14666,
           14937,
           15000,
           15832,
           19347,
           7472,
           9184,
           13451,
           14380,
           14271,
           14291,
           8694,
           13607,
           14973,
           14669,
           15127,
           14972,
           10470,
           10346,
           11783,
           11467,
           14159,
           12972,
           10253,
           11827,
           11567,
           11784,
           4514,
           5962,
           13682,
           11327,
           8714,
           5796,
           10255,
           9551,
           9474,
           9539,
           9615,
           10249,
           10546,
           11672,
           10520,
           8154,
           10749,
           10377,
           10254,
           8691,
           3883,
           7703,
           8716,
           8059,
           8735,
           8994,
           7901,
           5886,
           7030,
           7862,
           8318,
           6284,
           6943,
           6306,
           1759,
           4151,
           5007,
           7068,
           6887,
           7212,
           5869,
           4131,
           4907,
           5771,
           3825,
           4908,
           6683,
           5674,
           5556,
           6691,
           6718,
           5815,
           6882,
           6984,
           1874,
           2568,
           3984,
           4706,
           3633,
           3723,
           2740,
           1647,
           2656,
           1265,
           3054,
           3521,
           4065,
           4832
          ],
          "coloraxis": "coloraxis",
          "pattern": {
           "shape": ""
          }
         },
         "name": "",
         "offsetgroup": "",
         "orientation": "v",
         "showlegend": false,
         "textposition": "auto",
         "type": "bar",
         "x": [
          "2021-01-01",
          "2021-01-02",
          "2021-01-03",
          "2021-01-04",
          "2021-01-05",
          "2021-01-06",
          "2021-01-07",
          "2021-01-08",
          "2021-01-09",
          "2021-01-10",
          "2021-01-11",
          "2021-01-12",
          "2021-01-13",
          "2021-01-14",
          "2021-01-15",
          "2021-01-16",
          "2021-01-17",
          "2021-01-18",
          "2021-01-19",
          "2021-01-20",
          "2021-01-21",
          "2021-01-22",
          "2021-01-23",
          "2021-01-24",
          "2021-01-25",
          "2021-01-26",
          "2021-01-27",
          "2021-01-28",
          "2021-01-29",
          "2021-01-30",
          "2021-01-31",
          "2021-02-01",
          "2021-02-02",
          "2021-02-03",
          "2021-02-04",
          "2021-02-05",
          "2021-02-06",
          "2021-02-07",
          "2021-02-08",
          "2021-02-09",
          "2021-02-10",
          "2021-02-11",
          "2021-02-12",
          "2021-02-13",
          "2021-02-14",
          "2021-02-15",
          "2021-02-16",
          "2021-02-17",
          "2021-02-18",
          "2021-02-19",
          "2021-02-20",
          "2021-02-21",
          "2021-02-22",
          "2021-02-23",
          "2021-02-24",
          "2021-02-25",
          "2021-02-26",
          "2021-02-27",
          "2021-02-28",
          "2021-03-01",
          "2021-03-02",
          "2021-03-03",
          "2021-03-04",
          "2021-03-05",
          "2021-03-06",
          "2021-03-07",
          "2021-03-08",
          "2021-03-09",
          "2021-03-10",
          "2021-03-11",
          "2021-03-12",
          "2021-03-13",
          "2021-03-14",
          "2021-03-15",
          "2021-03-16",
          "2021-03-17",
          "2021-03-18",
          "2021-03-19",
          "2021-03-20",
          "2021-03-21",
          "2021-03-22",
          "2021-03-23",
          "2021-03-24",
          "2021-03-25",
          "2021-03-26",
          "2021-03-27",
          "2021-03-28",
          "2021-03-29",
          "2021-03-30",
          "2021-03-31",
          "2021-04-01",
          "2021-04-02",
          "2021-04-03",
          "2021-04-04",
          "2021-04-05",
          "2021-04-06",
          "2021-04-07",
          "2021-04-08",
          "2021-04-09",
          "2021-04-10",
          "2021-04-11",
          "2021-04-12",
          "2021-04-13",
          "2021-04-14",
          "2021-04-15",
          "2021-04-16",
          "2021-04-17",
          "2021-04-18",
          "2021-04-19",
          "2021-04-20",
          "2021-04-21",
          "2021-04-22",
          "2021-04-23",
          "2021-04-24",
          "2021-04-25",
          "2021-04-26",
          "2021-04-27",
          "2021-04-28",
          "2021-04-29",
          "2021-04-30",
          "2021-05-01",
          "2021-05-02",
          "2021-05-03",
          "2021-05-04",
          "2021-05-05",
          "2021-05-06",
          "2021-05-07",
          "2021-05-08",
          "2021-05-09",
          "2021-05-10",
          "2021-05-11",
          "2021-05-12",
          "2021-05-13",
          "2021-05-14",
          "2021-05-15",
          "2021-05-16",
          "2021-05-17",
          "2021-05-18",
          "2021-05-19",
          "2021-05-20",
          "2021-05-21",
          "2021-05-22",
          "2021-05-23",
          "2021-05-24",
          "2021-05-25",
          "2021-05-26",
          "2021-05-27",
          "2021-05-28",
          "2021-05-29",
          "2021-05-30",
          "2021-05-31",
          "2021-06-01",
          "2021-06-02",
          "2021-06-03",
          "2021-06-04",
          "2021-06-05",
          "2021-06-06",
          "2021-06-07",
          "2021-06-08",
          "2021-06-09",
          "2021-06-10",
          "2021-06-11",
          "2021-06-12",
          "2021-06-13",
          "2021-06-14",
          "2021-06-15",
          "2021-06-16",
          "2021-06-17",
          "2021-06-18",
          "2021-06-19",
          "2021-06-20",
          "2021-06-21",
          "2021-06-22",
          "2021-06-23",
          "2021-06-24",
          "2021-06-25",
          "2021-06-26",
          "2021-06-27",
          "2021-06-28",
          "2021-06-29",
          "2021-06-30",
          "2021-07-01",
          "2021-07-02",
          "2021-07-03",
          "2021-07-04",
          "2021-07-05",
          "2021-07-06",
          "2021-07-07",
          "2021-07-08",
          "2021-07-09",
          "2021-07-10",
          "2021-07-11",
          "2021-07-12",
          "2021-07-13",
          "2021-07-14",
          "2021-07-15",
          "2021-07-16",
          "2021-07-17",
          "2021-07-18",
          "2021-07-19",
          "2021-07-20",
          "2021-07-21",
          "2021-07-22",
          "2021-07-23",
          "2021-07-24",
          "2021-07-25",
          "2021-07-26",
          "2021-07-27",
          "2021-07-28",
          "2021-07-29",
          "2021-07-30",
          "2021-07-31",
          "2021-08-01",
          "2021-08-02",
          "2021-08-03",
          "2021-08-04",
          "2021-08-05",
          "2021-08-06",
          "2021-08-07",
          "2021-08-08",
          "2021-08-09",
          "2021-08-10",
          "2021-08-11",
          "2021-08-12",
          "2021-08-13",
          "2021-08-14",
          "2021-08-15",
          "2021-08-16",
          "2021-08-17",
          "2021-08-18",
          "2021-08-19",
          "2021-08-20",
          "2021-08-21",
          "2021-08-22",
          "2021-08-23",
          "2021-08-24",
          "2021-08-25",
          "2021-08-26",
          "2021-08-27",
          "2021-08-28",
          "2021-08-29",
          "2021-08-30",
          "2021-08-31",
          "2021-09-01",
          "2021-09-02",
          "2021-09-03",
          "2021-09-04",
          "2021-09-05",
          "2021-09-06",
          "2021-09-07",
          "2021-09-08",
          "2021-09-09",
          "2021-09-10",
          "2021-09-11",
          "2021-09-12",
          "2021-09-13",
          "2021-09-14",
          "2021-09-15",
          "2021-09-16",
          "2021-09-17",
          "2021-09-18",
          "2021-09-19",
          "2021-09-20",
          "2021-09-21",
          "2021-09-22",
          "2021-09-23",
          "2021-09-24",
          "2021-09-25",
          "2021-09-26",
          "2021-09-27",
          "2021-09-28",
          "2021-09-29",
          "2021-09-30",
          "2021-10-01",
          "2021-10-02",
          "2021-10-03",
          "2021-10-04",
          "2021-10-05",
          "2021-10-06",
          "2021-10-07",
          "2021-10-08",
          "2021-10-09",
          "2021-10-10",
          "2021-10-11",
          "2021-10-12",
          "2021-10-13",
          "2021-10-14",
          "2021-10-15",
          "2021-10-16",
          "2021-10-17",
          "2021-10-18",
          "2021-10-19",
          "2021-10-20",
          "2021-10-21",
          "2021-10-22",
          "2021-10-23",
          "2021-10-24",
          "2021-10-25",
          "2021-10-26",
          "2021-10-27",
          "2021-10-28",
          "2021-10-29",
          "2021-10-30",
          "2021-10-31",
          "2021-11-01",
          "2021-11-02",
          "2021-11-03",
          "2021-11-04",
          "2021-11-05",
          "2021-11-06",
          "2021-11-07",
          "2021-11-08",
          "2021-11-09",
          "2021-11-10",
          "2021-11-11",
          "2021-11-12",
          "2021-11-13",
          "2021-11-14",
          "2021-11-15",
          "2021-11-16",
          "2021-11-17",
          "2021-11-18",
          "2021-11-19",
          "2021-11-20",
          "2021-11-21",
          "2021-11-22",
          "2021-11-23",
          "2021-11-24",
          "2021-11-25",
          "2021-11-26",
          "2021-11-27",
          "2021-11-28",
          "2021-11-29",
          "2021-11-30",
          "2021-12-01",
          "2021-12-02",
          "2021-12-03",
          "2021-12-04",
          "2021-12-05",
          "2021-12-06",
          "2021-12-07",
          "2021-12-08",
          "2021-12-09",
          "2021-12-10",
          "2021-12-11",
          "2021-12-12",
          "2021-12-13",
          "2021-12-14",
          "2021-12-15",
          "2021-12-16",
          "2021-12-17",
          "2021-12-18",
          "2021-12-19",
          "2021-12-20",
          "2021-12-21",
          "2021-12-22",
          "2021-12-23",
          "2021-12-24",
          "2021-12-25",
          "2021-12-26",
          "2021-12-27",
          "2021-12-28",
          "2021-12-29",
          "2021-12-30",
          "2021-12-31"
         ],
         "xaxis": "x",
         "y": [
          1804,
          1906,
          1941,
          3054,
          2816,
          3172,
          3565,
          3465,
          4152,
          2942,
          2956,
          2762,
          3514,
          3488,
          3074,
          4651,
          3552,
          3075,
          2983,
          2674,
          3306,
          3050,
          2586,
          2460,
          3229,
          1046,
          1552,
          1687,
          2081,
          2390,
          1438,
          2055,
          2299,
          2723,
          3180,
          2132,
          1943,
          1573,
          1917,
          2134,
          2295,
          2299,
          1678,
          1376,
          2067,
          1489,
          708,
          1584,
          1277,
          1141,
          1745,
          1998,
          1265,
          2212,
          2872,
          2946,
          3490,
          3934,
          2547,
          2138,
          2539,
          4016,
          2895,
          2977,
          2900,
          3671,
          3499,
          5327,
          5745,
          4821,
          4544,
          5885,
          3039,
          3262,
          3405,
          5206,
          3861,
          4640,
          11142,
          9782,
          6674,
          7143,
          5954,
          8895,
          4407,
          6988,
          2874,
          4987,
          8946,
          5235,
          4211,
          5177,
          5435,
          13411,
          7021,
          6658,
          8714,
          10053,
          8125,
          19924,
          4823,
          3057,
          7373,
          8994,
          5228,
          5506,
          9995,
          10541,
          2589,
          4628,
          3189,
          4325,
          11292,
          17964,
          9369,
          5886,
          6248,
          6203,
          3133,
          5227,
          12258,
          9264,
          4387,
          5025,
          6753,
          9407,
          7678,
          14017,
          11156,
          6958,
          6323,
          11983,
          12614,
          13583,
          24640,
          27029,
          12939,
          14784,
          14163,
          14153,
          18009,
          20183,
          24376,
          26023,
          12572,
          9986,
          12549,
          3625,
          20048,
          24493,
          13045,
          13931,
          13612,
          10649,
          15918,
          27346,
          24439,
          13208,
          9714,
          15111,
          15833,
          15849,
          25334,
          19601,
          9102,
          14095,
          14023,
          14812,
          10099,
          20174,
          19506,
          10777,
          12651,
          14086,
          14818,
          8110,
          14698,
          20068,
          13130,
          7943,
          14010,
          18281,
          11390,
          20472,
          18931,
          12871,
          13404,
          13457,
          7177,
          11287,
          23320,
          11095,
          13145,
          11236,
          20678,
          12344,
          14883,
          11170,
          18529,
          13280,
          11721,
          22212,
          15867,
          16871,
          11488,
          18631,
          13887,
          10911,
          22178,
          11769,
          16142,
          15283,
          13929,
          19762,
          14811,
          16841,
          16320,
          16551,
          15978,
          17520,
          13812,
          12420,
          14342,
          14383,
          15131,
          21300,
          19261,
          13834,
          14576,
          14779,
          16433,
          16898,
          19988,
          17755,
          14394,
          15699,
          15142,
          13960,
          17403,
          17927,
          15453,
          14520,
          15821,
          16208,
          16127,
          16199,
          20267,
          18787,
          16979,
          11924,
          15111,
          14611,
          15666,
          18814,
          13480,
          14058,
          14442,
          15282,
          16260,
          17005,
          20555,
          18089,
          14965,
          11853,
          4952,
          12145,
          14479,
          12768,
          15932,
          13227,
          14666,
          14937,
          15000,
          15832,
          19347,
          7472,
          9184,
          13451,
          14380,
          14271,
          14291,
          8694,
          13607,
          14973,
          14669,
          15127,
          14972,
          10470,
          10346,
          11783,
          11467,
          14159,
          12972,
          10253,
          11827,
          11567,
          11784,
          4514,
          5962,
          13682,
          11327,
          8714,
          5796,
          10255,
          9551,
          9474,
          9539,
          9615,
          10249,
          10546,
          11672,
          10520,
          8154,
          10749,
          10377,
          10254,
          8691,
          3883,
          7703,
          8716,
          8059,
          8735,
          8994,
          7901,
          5886,
          7030,
          7862,
          8318,
          6284,
          6943,
          6306,
          1759,
          4151,
          5007,
          7068,
          6887,
          7212,
          5869,
          4131,
          4907,
          5771,
          3825,
          4908,
          6683,
          5674,
          5556,
          6691,
          6718,
          5815,
          6882,
          6984,
          1874,
          2568,
          3984,
          4706,
          3633,
          3723,
          2740,
          1647,
          2656,
          1265,
          3054,
          3521,
          4065,
          4832
         ],
         "yaxis": "y"
        }
       ],
       "layout": {
        "barmode": "relative",
        "coloraxis": {
         "colorbar": {
          "title": {
           "text": "# of trips"
          }
         },
         "colorscale": [
          [
           0,
           "#0d0887"
          ],
          [
           0.1111111111111111,
           "#46039f"
          ],
          [
           0.2222222222222222,
           "#7201a8"
          ],
          [
           0.3333333333333333,
           "#9c179e"
          ],
          [
           0.4444444444444444,
           "#bd3786"
          ],
          [
           0.5555555555555556,
           "#d8576b"
          ],
          [
           0.6666666666666666,
           "#ed7953"
          ],
          [
           0.7777777777777778,
           "#fb9f3a"
          ],
          [
           0.8888888888888888,
           "#fdca26"
          ],
          [
           1,
           "#f0f921"
          ]
         ]
        },
        "height": 500,
        "legend": {
         "tracegroupgap": 0
        },
        "template": {
         "data": {
          "bar": [
           {
            "error_x": {
             "color": "#2a3f5f"
            },
            "error_y": {
             "color": "#2a3f5f"
            },
            "marker": {
             "line": {
              "color": "#E5ECF6",
              "width": 0.5
             },
             "pattern": {
              "fillmode": "overlay",
              "size": 10,
              "solidity": 0.2
             }
            },
            "type": "bar"
           }
          ],
          "barpolar": [
           {
            "marker": {
             "line": {
              "color": "#E5ECF6",
              "width": 0.5
             },
             "pattern": {
              "fillmode": "overlay",
              "size": 10,
              "solidity": 0.2
             }
            },
            "type": "barpolar"
           }
          ],
          "carpet": [
           {
            "aaxis": {
             "endlinecolor": "#2a3f5f",
             "gridcolor": "white",
             "linecolor": "white",
             "minorgridcolor": "white",
             "startlinecolor": "#2a3f5f"
            },
            "baxis": {
             "endlinecolor": "#2a3f5f",
             "gridcolor": "white",
             "linecolor": "white",
             "minorgridcolor": "white",
             "startlinecolor": "#2a3f5f"
            },
            "type": "carpet"
           }
          ],
          "choropleth": [
           {
            "colorbar": {
             "outlinewidth": 0,
             "ticks": ""
            },
            "type": "choropleth"
           }
          ],
          "contour": [
           {
            "colorbar": {
             "outlinewidth": 0,
             "ticks": ""
            },
            "colorscale": [
             [
              0,
              "#0d0887"
             ],
             [
              0.1111111111111111,
              "#46039f"
             ],
             [
              0.2222222222222222,
              "#7201a8"
             ],
             [
              0.3333333333333333,
              "#9c179e"
             ],
             [
              0.4444444444444444,
              "#bd3786"
             ],
             [
              0.5555555555555556,
              "#d8576b"
             ],
             [
              0.6666666666666666,
              "#ed7953"
             ],
             [
              0.7777777777777778,
              "#fb9f3a"
             ],
             [
              0.8888888888888888,
              "#fdca26"
             ],
             [
              1,
              "#f0f921"
             ]
            ],
            "type": "contour"
           }
          ],
          "contourcarpet": [
           {
            "colorbar": {
             "outlinewidth": 0,
             "ticks": ""
            },
            "type": "contourcarpet"
           }
          ],
          "heatmap": [
           {
            "colorbar": {
             "outlinewidth": 0,
             "ticks": ""
            },
            "colorscale": [
             [
              0,
              "#0d0887"
             ],
             [
              0.1111111111111111,
              "#46039f"
             ],
             [
              0.2222222222222222,
              "#7201a8"
             ],
             [
              0.3333333333333333,
              "#9c179e"
             ],
             [
              0.4444444444444444,
              "#bd3786"
             ],
             [
              0.5555555555555556,
              "#d8576b"
             ],
             [
              0.6666666666666666,
              "#ed7953"
             ],
             [
              0.7777777777777778,
              "#fb9f3a"
             ],
             [
              0.8888888888888888,
              "#fdca26"
             ],
             [
              1,
              "#f0f921"
             ]
            ],
            "type": "heatmap"
           }
          ],
          "heatmapgl": [
           {
            "colorbar": {
             "outlinewidth": 0,
             "ticks": ""
            },
            "colorscale": [
             [
              0,
              "#0d0887"
             ],
             [
              0.1111111111111111,
              "#46039f"
             ],
             [
              0.2222222222222222,
              "#7201a8"
             ],
             [
              0.3333333333333333,
              "#9c179e"
             ],
             [
              0.4444444444444444,
              "#bd3786"
             ],
             [
              0.5555555555555556,
              "#d8576b"
             ],
             [
              0.6666666666666666,
              "#ed7953"
             ],
             [
              0.7777777777777778,
              "#fb9f3a"
             ],
             [
              0.8888888888888888,
              "#fdca26"
             ],
             [
              1,
              "#f0f921"
             ]
            ],
            "type": "heatmapgl"
           }
          ],
          "histogram": [
           {
            "marker": {
             "pattern": {
              "fillmode": "overlay",
              "size": 10,
              "solidity": 0.2
             }
            },
            "type": "histogram"
           }
          ],
          "histogram2d": [
           {
            "colorbar": {
             "outlinewidth": 0,
             "ticks": ""
            },
            "colorscale": [
             [
              0,
              "#0d0887"
             ],
             [
              0.1111111111111111,
              "#46039f"
             ],
             [
              0.2222222222222222,
              "#7201a8"
             ],
             [
              0.3333333333333333,
              "#9c179e"
             ],
             [
              0.4444444444444444,
              "#bd3786"
             ],
             [
              0.5555555555555556,
              "#d8576b"
             ],
             [
              0.6666666666666666,
              "#ed7953"
             ],
             [
              0.7777777777777778,
              "#fb9f3a"
             ],
             [
              0.8888888888888888,
              "#fdca26"
             ],
             [
              1,
              "#f0f921"
             ]
            ],
            "type": "histogram2d"
           }
          ],
          "histogram2dcontour": [
           {
            "colorbar": {
             "outlinewidth": 0,
             "ticks": ""
            },
            "colorscale": [
             [
              0,
              "#0d0887"
             ],
             [
              0.1111111111111111,
              "#46039f"
             ],
             [
              0.2222222222222222,
              "#7201a8"
             ],
             [
              0.3333333333333333,
              "#9c179e"
             ],
             [
              0.4444444444444444,
              "#bd3786"
             ],
             [
              0.5555555555555556,
              "#d8576b"
             ],
             [
              0.6666666666666666,
              "#ed7953"
             ],
             [
              0.7777777777777778,
              "#fb9f3a"
             ],
             [
              0.8888888888888888,
              "#fdca26"
             ],
             [
              1,
              "#f0f921"
             ]
            ],
            "type": "histogram2dcontour"
           }
          ],
          "mesh3d": [
           {
            "colorbar": {
             "outlinewidth": 0,
             "ticks": ""
            },
            "type": "mesh3d"
           }
          ],
          "parcoords": [
           {
            "line": {
             "colorbar": {
              "outlinewidth": 0,
              "ticks": ""
             }
            },
            "type": "parcoords"
           }
          ],
          "pie": [
           {
            "automargin": true,
            "type": "pie"
           }
          ],
          "scatter": [
           {
            "marker": {
             "colorbar": {
              "outlinewidth": 0,
              "ticks": ""
             }
            },
            "type": "scatter"
           }
          ],
          "scatter3d": [
           {
            "line": {
             "colorbar": {
              "outlinewidth": 0,
              "ticks": ""
             }
            },
            "marker": {
             "colorbar": {
              "outlinewidth": 0,
              "ticks": ""
             }
            },
            "type": "scatter3d"
           }
          ],
          "scattercarpet": [
           {
            "marker": {
             "colorbar": {
              "outlinewidth": 0,
              "ticks": ""
             }
            },
            "type": "scattercarpet"
           }
          ],
          "scattergeo": [
           {
            "marker": {
             "colorbar": {
              "outlinewidth": 0,
              "ticks": ""
             }
            },
            "type": "scattergeo"
           }
          ],
          "scattergl": [
           {
            "marker": {
             "colorbar": {
              "outlinewidth": 0,
              "ticks": ""
             }
            },
            "type": "scattergl"
           }
          ],
          "scattermapbox": [
           {
            "marker": {
             "colorbar": {
              "outlinewidth": 0,
              "ticks": ""
             }
            },
            "type": "scattermapbox"
           }
          ],
          "scatterpolar": [
           {
            "marker": {
             "colorbar": {
              "outlinewidth": 0,
              "ticks": ""
             }
            },
            "type": "scatterpolar"
           }
          ],
          "scatterpolargl": [
           {
            "marker": {
             "colorbar": {
              "outlinewidth": 0,
              "ticks": ""
             }
            },
            "type": "scatterpolargl"
           }
          ],
          "scatterternary": [
           {
            "marker": {
             "colorbar": {
              "outlinewidth": 0,
              "ticks": ""
             }
            },
            "type": "scatterternary"
           }
          ],
          "surface": [
           {
            "colorbar": {
             "outlinewidth": 0,
             "ticks": ""
            },
            "colorscale": [
             [
              0,
              "#0d0887"
             ],
             [
              0.1111111111111111,
              "#46039f"
             ],
             [
              0.2222222222222222,
              "#7201a8"
             ],
             [
              0.3333333333333333,
              "#9c179e"
             ],
             [
              0.4444444444444444,
              "#bd3786"
             ],
             [
              0.5555555555555556,
              "#d8576b"
             ],
             [
              0.6666666666666666,
              "#ed7953"
             ],
             [
              0.7777777777777778,
              "#fb9f3a"
             ],
             [
              0.8888888888888888,
              "#fdca26"
             ],
             [
              1,
              "#f0f921"
             ]
            ],
            "type": "surface"
           }
          ],
          "table": [
           {
            "cells": {
             "fill": {
              "color": "#EBF0F8"
             },
             "line": {
              "color": "white"
             }
            },
            "header": {
             "fill": {
              "color": "#C8D4E3"
             },
             "line": {
              "color": "white"
             }
            },
            "type": "table"
           }
          ]
         },
         "layout": {
          "annotationdefaults": {
           "arrowcolor": "#2a3f5f",
           "arrowhead": 0,
           "arrowwidth": 1
          },
          "autotypenumbers": "strict",
          "coloraxis": {
           "colorbar": {
            "outlinewidth": 0,
            "ticks": ""
           }
          },
          "colorscale": {
           "diverging": [
            [
             0,
             "#8e0152"
            ],
            [
             0.1,
             "#c51b7d"
            ],
            [
             0.2,
             "#de77ae"
            ],
            [
             0.3,
             "#f1b6da"
            ],
            [
             0.4,
             "#fde0ef"
            ],
            [
             0.5,
             "#f7f7f7"
            ],
            [
             0.6,
             "#e6f5d0"
            ],
            [
             0.7,
             "#b8e186"
            ],
            [
             0.8,
             "#7fbc41"
            ],
            [
             0.9,
             "#4d9221"
            ],
            [
             1,
             "#276419"
            ]
           ],
           "sequential": [
            [
             0,
             "#0d0887"
            ],
            [
             0.1111111111111111,
             "#46039f"
            ],
            [
             0.2222222222222222,
             "#7201a8"
            ],
            [
             0.3333333333333333,
             "#9c179e"
            ],
            [
             0.4444444444444444,
             "#bd3786"
            ],
            [
             0.5555555555555556,
             "#d8576b"
            ],
            [
             0.6666666666666666,
             "#ed7953"
            ],
            [
             0.7777777777777778,
             "#fb9f3a"
            ],
            [
             0.8888888888888888,
             "#fdca26"
            ],
            [
             1,
             "#f0f921"
            ]
           ],
           "sequentialminus": [
            [
             0,
             "#0d0887"
            ],
            [
             0.1111111111111111,
             "#46039f"
            ],
            [
             0.2222222222222222,
             "#7201a8"
            ],
            [
             0.3333333333333333,
             "#9c179e"
            ],
            [
             0.4444444444444444,
             "#bd3786"
            ],
            [
             0.5555555555555556,
             "#d8576b"
            ],
            [
             0.6666666666666666,
             "#ed7953"
            ],
            [
             0.7777777777777778,
             "#fb9f3a"
            ],
            [
             0.8888888888888888,
             "#fdca26"
            ],
            [
             1,
             "#f0f921"
            ]
           ]
          },
          "colorway": [
           "#636efa",
           "#EF553B",
           "#00cc96",
           "#ab63fa",
           "#FFA15A",
           "#19d3f3",
           "#FF6692",
           "#B6E880",
           "#FF97FF",
           "#FECB52"
          ],
          "font": {
           "color": "#2a3f5f"
          },
          "geo": {
           "bgcolor": "white",
           "lakecolor": "white",
           "landcolor": "#E5ECF6",
           "showlakes": true,
           "showland": true,
           "subunitcolor": "white"
          },
          "hoverlabel": {
           "align": "left"
          },
          "hovermode": "closest",
          "mapbox": {
           "style": "light"
          },
          "paper_bgcolor": "white",
          "plot_bgcolor": "#E5ECF6",
          "polar": {
           "angularaxis": {
            "gridcolor": "white",
            "linecolor": "white",
            "ticks": ""
           },
           "bgcolor": "#E5ECF6",
           "radialaxis": {
            "gridcolor": "white",
            "linecolor": "white",
            "ticks": ""
           }
          },
          "scene": {
           "xaxis": {
            "backgroundcolor": "#E5ECF6",
            "gridcolor": "white",
            "gridwidth": 2,
            "linecolor": "white",
            "showbackground": true,
            "ticks": "",
            "zerolinecolor": "white"
           },
           "yaxis": {
            "backgroundcolor": "#E5ECF6",
            "gridcolor": "white",
            "gridwidth": 2,
            "linecolor": "white",
            "showbackground": true,
            "ticks": "",
            "zerolinecolor": "white"
           },
           "zaxis": {
            "backgroundcolor": "#E5ECF6",
            "gridcolor": "white",
            "gridwidth": 2,
            "linecolor": "white",
            "showbackground": true,
            "ticks": "",
            "zerolinecolor": "white"
           }
          },
          "shapedefaults": {
           "line": {
            "color": "#2a3f5f"
           }
          },
          "ternary": {
           "aaxis": {
            "gridcolor": "white",
            "linecolor": "white",
            "ticks": ""
           },
           "baxis": {
            "gridcolor": "white",
            "linecolor": "white",
            "ticks": ""
           },
           "bgcolor": "#E5ECF6",
           "caxis": {
            "gridcolor": "white",
            "linecolor": "white",
            "ticks": ""
           }
          },
          "title": {
           "x": 0.05
          },
          "xaxis": {
           "automargin": true,
           "gridcolor": "white",
           "linecolor": "white",
           "ticks": "",
           "title": {
            "standoff": 15
           },
           "zerolinecolor": "white",
           "zerolinewidth": 2
          },
          "yaxis": {
           "automargin": true,
           "gridcolor": "white",
           "linecolor": "white",
           "ticks": "",
           "title": {
            "standoff": 15
           },
           "zerolinecolor": "white",
           "zerolinewidth": 2
          }
         }
        },
        "title": {
         "text": "Toronto Bike Share Trips 2021"
        },
        "xaxis": {
         "anchor": "y",
         "domain": [
          0,
          1
         ],
         "title": {
          "text": "Date"
         }
        },
        "yaxis": {
         "anchor": "x",
         "domain": [
          0,
          1
         ],
         "title": {
          "text": "# of trips"
         }
        }
       }
      },
      "text/html": [
       "<div>                            <div id=\"8c08b776-9280-4c2d-a5ba-8730ffbd8a58\" class=\"plotly-graph-div\" style=\"height:500px; width:100%;\"></div>            <script type=\"text/javascript\">                require([\"plotly\"], function(Plotly) {                    window.PLOTLYENV=window.PLOTLYENV || {};                                    if (document.getElementById(\"8c08b776-9280-4c2d-a5ba-8730ffbd8a58\")) {                    Plotly.newPlot(                        \"8c08b776-9280-4c2d-a5ba-8730ffbd8a58\",                        [{\"alignmentgroup\":\"True\",\"hovertemplate\":\"Date=%{x}<br># of trips=%{marker.color}<extra></extra>\",\"legendgroup\":\"\",\"marker\":{\"color\":[1804,1906,1941,3054,2816,3172,3565,3465,4152,2942,2956,2762,3514,3488,3074,4651,3552,3075,2983,2674,3306,3050,2586,2460,3229,1046,1552,1687,2081,2390,1438,2055,2299,2723,3180,2132,1943,1573,1917,2134,2295,2299,1678,1376,2067,1489,708,1584,1277,1141,1745,1998,1265,2212,2872,2946,3490,3934,2547,2138,2539,4016,2895,2977,2900,3671,3499,5327,5745,4821,4544,5885,3039,3262,3405,5206,3861,4640,11142,9782,6674,7143,5954,8895,4407,6988,2874,4987,8946,5235,4211,5177,5435,13411,7021,6658,8714,10053,8125,19924,4823,3057,7373,8994,5228,5506,9995,10541,2589,4628,3189,4325,11292,17964,9369,5886,6248,6203,3133,5227,12258,9264,4387,5025,6753,9407,7678,14017,11156,6958,6323,11983,12614,13583,24640,27029,12939,14784,14163,14153,18009,20183,24376,26023,12572,9986,12549,3625,20048,24493,13045,13931,13612,10649,15918,27346,24439,13208,9714,15111,15833,15849,25334,19601,9102,14095,14023,14812,10099,20174,19506,10777,12651,14086,14818,8110,14698,20068,13130,7943,14010,18281,11390,20472,18931,12871,13404,13457,7177,11287,23320,11095,13145,11236,20678,12344,14883,11170,18529,13280,11721,22212,15867,16871,11488,18631,13887,10911,22178,11769,16142,15283,13929,19762,14811,16841,16320,16551,15978,17520,13812,12420,14342,14383,15131,21300,19261,13834,14576,14779,16433,16898,19988,17755,14394,15699,15142,13960,17403,17927,15453,14520,15821,16208,16127,16199,20267,18787,16979,11924,15111,14611,15666,18814,13480,14058,14442,15282,16260,17005,20555,18089,14965,11853,4952,12145,14479,12768,15932,13227,14666,14937,15000,15832,19347,7472,9184,13451,14380,14271,14291,8694,13607,14973,14669,15127,14972,10470,10346,11783,11467,14159,12972,10253,11827,11567,11784,4514,5962,13682,11327,8714,5796,10255,9551,9474,9539,9615,10249,10546,11672,10520,8154,10749,10377,10254,8691,3883,7703,8716,8059,8735,8994,7901,5886,7030,7862,8318,6284,6943,6306,1759,4151,5007,7068,6887,7212,5869,4131,4907,5771,3825,4908,6683,5674,5556,6691,6718,5815,6882,6984,1874,2568,3984,4706,3633,3723,2740,1647,2656,1265,3054,3521,4065,4832],\"coloraxis\":\"coloraxis\",\"pattern\":{\"shape\":\"\"}},\"name\":\"\",\"offsetgroup\":\"\",\"orientation\":\"v\",\"showlegend\":false,\"textposition\":\"auto\",\"x\":[\"2021-01-01\",\"2021-01-02\",\"2021-01-03\",\"2021-01-04\",\"2021-01-05\",\"2021-01-06\",\"2021-01-07\",\"2021-01-08\",\"2021-01-09\",\"2021-01-10\",\"2021-01-11\",\"2021-01-12\",\"2021-01-13\",\"2021-01-14\",\"2021-01-15\",\"2021-01-16\",\"2021-01-17\",\"2021-01-18\",\"2021-01-19\",\"2021-01-20\",\"2021-01-21\",\"2021-01-22\",\"2021-01-23\",\"2021-01-24\",\"2021-01-25\",\"2021-01-26\",\"2021-01-27\",\"2021-01-28\",\"2021-01-29\",\"2021-01-30\",\"2021-01-31\",\"2021-02-01\",\"2021-02-02\",\"2021-02-03\",\"2021-02-04\",\"2021-02-05\",\"2021-02-06\",\"2021-02-07\",\"2021-02-08\",\"2021-02-09\",\"2021-02-10\",\"2021-02-11\",\"2021-02-12\",\"2021-02-13\",\"2021-02-14\",\"2021-02-15\",\"2021-02-16\",\"2021-02-17\",\"2021-02-18\",\"2021-02-19\",\"2021-02-20\",\"2021-02-21\",\"2021-02-22\",\"2021-02-23\",\"2021-02-24\",\"2021-02-25\",\"2021-02-26\",\"2021-02-27\",\"2021-02-28\",\"2021-03-01\",\"2021-03-02\",\"2021-03-03\",\"2021-03-04\",\"2021-03-05\",\"2021-03-06\",\"2021-03-07\",\"2021-03-08\",\"2021-03-09\",\"2021-03-10\",\"2021-03-11\",\"2021-03-12\",\"2021-03-13\",\"2021-03-14\",\"2021-03-15\",\"2021-03-16\",\"2021-03-17\",\"2021-03-18\",\"2021-03-19\",\"2021-03-20\",\"2021-03-21\",\"2021-03-22\",\"2021-03-23\",\"2021-03-24\",\"2021-03-25\",\"2021-03-26\",\"2021-03-27\",\"2021-03-28\",\"2021-03-29\",\"2021-03-30\",\"2021-03-31\",\"2021-04-01\",\"2021-04-02\",\"2021-04-03\",\"2021-04-04\",\"2021-04-05\",\"2021-04-06\",\"2021-04-07\",\"2021-04-08\",\"2021-04-09\",\"2021-04-10\",\"2021-04-11\",\"2021-04-12\",\"2021-04-13\",\"2021-04-14\",\"2021-04-15\",\"2021-04-16\",\"2021-04-17\",\"2021-04-18\",\"2021-04-19\",\"2021-04-20\",\"2021-04-21\",\"2021-04-22\",\"2021-04-23\",\"2021-04-24\",\"2021-04-25\",\"2021-04-26\",\"2021-04-27\",\"2021-04-28\",\"2021-04-29\",\"2021-04-30\",\"2021-05-01\",\"2021-05-02\",\"2021-05-03\",\"2021-05-04\",\"2021-05-05\",\"2021-05-06\",\"2021-05-07\",\"2021-05-08\",\"2021-05-09\",\"2021-05-10\",\"2021-05-11\",\"2021-05-12\",\"2021-05-13\",\"2021-05-14\",\"2021-05-15\",\"2021-05-16\",\"2021-05-17\",\"2021-05-18\",\"2021-05-19\",\"2021-05-20\",\"2021-05-21\",\"2021-05-22\",\"2021-05-23\",\"2021-05-24\",\"2021-05-25\",\"2021-05-26\",\"2021-05-27\",\"2021-05-28\",\"2021-05-29\",\"2021-05-30\",\"2021-05-31\",\"2021-06-01\",\"2021-06-02\",\"2021-06-03\",\"2021-06-04\",\"2021-06-05\",\"2021-06-06\",\"2021-06-07\",\"2021-06-08\",\"2021-06-09\",\"2021-06-10\",\"2021-06-11\",\"2021-06-12\",\"2021-06-13\",\"2021-06-14\",\"2021-06-15\",\"2021-06-16\",\"2021-06-17\",\"2021-06-18\",\"2021-06-19\",\"2021-06-20\",\"2021-06-21\",\"2021-06-22\",\"2021-06-23\",\"2021-06-24\",\"2021-06-25\",\"2021-06-26\",\"2021-06-27\",\"2021-06-28\",\"2021-06-29\",\"2021-06-30\",\"2021-07-01\",\"2021-07-02\",\"2021-07-03\",\"2021-07-04\",\"2021-07-05\",\"2021-07-06\",\"2021-07-07\",\"2021-07-08\",\"2021-07-09\",\"2021-07-10\",\"2021-07-11\",\"2021-07-12\",\"2021-07-13\",\"2021-07-14\",\"2021-07-15\",\"2021-07-16\",\"2021-07-17\",\"2021-07-18\",\"2021-07-19\",\"2021-07-20\",\"2021-07-21\",\"2021-07-22\",\"2021-07-23\",\"2021-07-24\",\"2021-07-25\",\"2021-07-26\",\"2021-07-27\",\"2021-07-28\",\"2021-07-29\",\"2021-07-30\",\"2021-07-31\",\"2021-08-01\",\"2021-08-02\",\"2021-08-03\",\"2021-08-04\",\"2021-08-05\",\"2021-08-06\",\"2021-08-07\",\"2021-08-08\",\"2021-08-09\",\"2021-08-10\",\"2021-08-11\",\"2021-08-12\",\"2021-08-13\",\"2021-08-14\",\"2021-08-15\",\"2021-08-16\",\"2021-08-17\",\"2021-08-18\",\"2021-08-19\",\"2021-08-20\",\"2021-08-21\",\"2021-08-22\",\"2021-08-23\",\"2021-08-24\",\"2021-08-25\",\"2021-08-26\",\"2021-08-27\",\"2021-08-28\",\"2021-08-29\",\"2021-08-30\",\"2021-08-31\",\"2021-09-01\",\"2021-09-02\",\"2021-09-03\",\"2021-09-04\",\"2021-09-05\",\"2021-09-06\",\"2021-09-07\",\"2021-09-08\",\"2021-09-09\",\"2021-09-10\",\"2021-09-11\",\"2021-09-12\",\"2021-09-13\",\"2021-09-14\",\"2021-09-15\",\"2021-09-16\",\"2021-09-17\",\"2021-09-18\",\"2021-09-19\",\"2021-09-20\",\"2021-09-21\",\"2021-09-22\",\"2021-09-23\",\"2021-09-24\",\"2021-09-25\",\"2021-09-26\",\"2021-09-27\",\"2021-09-28\",\"2021-09-29\",\"2021-09-30\",\"2021-10-01\",\"2021-10-02\",\"2021-10-03\",\"2021-10-04\",\"2021-10-05\",\"2021-10-06\",\"2021-10-07\",\"2021-10-08\",\"2021-10-09\",\"2021-10-10\",\"2021-10-11\",\"2021-10-12\",\"2021-10-13\",\"2021-10-14\",\"2021-10-15\",\"2021-10-16\",\"2021-10-17\",\"2021-10-18\",\"2021-10-19\",\"2021-10-20\",\"2021-10-21\",\"2021-10-22\",\"2021-10-23\",\"2021-10-24\",\"2021-10-25\",\"2021-10-26\",\"2021-10-27\",\"2021-10-28\",\"2021-10-29\",\"2021-10-30\",\"2021-10-31\",\"2021-11-01\",\"2021-11-02\",\"2021-11-03\",\"2021-11-04\",\"2021-11-05\",\"2021-11-06\",\"2021-11-07\",\"2021-11-08\",\"2021-11-09\",\"2021-11-10\",\"2021-11-11\",\"2021-11-12\",\"2021-11-13\",\"2021-11-14\",\"2021-11-15\",\"2021-11-16\",\"2021-11-17\",\"2021-11-18\",\"2021-11-19\",\"2021-11-20\",\"2021-11-21\",\"2021-11-22\",\"2021-11-23\",\"2021-11-24\",\"2021-11-25\",\"2021-11-26\",\"2021-11-27\",\"2021-11-28\",\"2021-11-29\",\"2021-11-30\",\"2021-12-01\",\"2021-12-02\",\"2021-12-03\",\"2021-12-04\",\"2021-12-05\",\"2021-12-06\",\"2021-12-07\",\"2021-12-08\",\"2021-12-09\",\"2021-12-10\",\"2021-12-11\",\"2021-12-12\",\"2021-12-13\",\"2021-12-14\",\"2021-12-15\",\"2021-12-16\",\"2021-12-17\",\"2021-12-18\",\"2021-12-19\",\"2021-12-20\",\"2021-12-21\",\"2021-12-22\",\"2021-12-23\",\"2021-12-24\",\"2021-12-25\",\"2021-12-26\",\"2021-12-27\",\"2021-12-28\",\"2021-12-29\",\"2021-12-30\",\"2021-12-31\"],\"xaxis\":\"x\",\"y\":[1804,1906,1941,3054,2816,3172,3565,3465,4152,2942,2956,2762,3514,3488,3074,4651,3552,3075,2983,2674,3306,3050,2586,2460,3229,1046,1552,1687,2081,2390,1438,2055,2299,2723,3180,2132,1943,1573,1917,2134,2295,2299,1678,1376,2067,1489,708,1584,1277,1141,1745,1998,1265,2212,2872,2946,3490,3934,2547,2138,2539,4016,2895,2977,2900,3671,3499,5327,5745,4821,4544,5885,3039,3262,3405,5206,3861,4640,11142,9782,6674,7143,5954,8895,4407,6988,2874,4987,8946,5235,4211,5177,5435,13411,7021,6658,8714,10053,8125,19924,4823,3057,7373,8994,5228,5506,9995,10541,2589,4628,3189,4325,11292,17964,9369,5886,6248,6203,3133,5227,12258,9264,4387,5025,6753,9407,7678,14017,11156,6958,6323,11983,12614,13583,24640,27029,12939,14784,14163,14153,18009,20183,24376,26023,12572,9986,12549,3625,20048,24493,13045,13931,13612,10649,15918,27346,24439,13208,9714,15111,15833,15849,25334,19601,9102,14095,14023,14812,10099,20174,19506,10777,12651,14086,14818,8110,14698,20068,13130,7943,14010,18281,11390,20472,18931,12871,13404,13457,7177,11287,23320,11095,13145,11236,20678,12344,14883,11170,18529,13280,11721,22212,15867,16871,11488,18631,13887,10911,22178,11769,16142,15283,13929,19762,14811,16841,16320,16551,15978,17520,13812,12420,14342,14383,15131,21300,19261,13834,14576,14779,16433,16898,19988,17755,14394,15699,15142,13960,17403,17927,15453,14520,15821,16208,16127,16199,20267,18787,16979,11924,15111,14611,15666,18814,13480,14058,14442,15282,16260,17005,20555,18089,14965,11853,4952,12145,14479,12768,15932,13227,14666,14937,15000,15832,19347,7472,9184,13451,14380,14271,14291,8694,13607,14973,14669,15127,14972,10470,10346,11783,11467,14159,12972,10253,11827,11567,11784,4514,5962,13682,11327,8714,5796,10255,9551,9474,9539,9615,10249,10546,11672,10520,8154,10749,10377,10254,8691,3883,7703,8716,8059,8735,8994,7901,5886,7030,7862,8318,6284,6943,6306,1759,4151,5007,7068,6887,7212,5869,4131,4907,5771,3825,4908,6683,5674,5556,6691,6718,5815,6882,6984,1874,2568,3984,4706,3633,3723,2740,1647,2656,1265,3054,3521,4065,4832],\"yaxis\":\"y\",\"type\":\"bar\"}],                        {\"template\":{\"data\":{\"bar\":[{\"error_x\":{\"color\":\"#2a3f5f\"},\"error_y\":{\"color\":\"#2a3f5f\"},\"marker\":{\"line\":{\"color\":\"#E5ECF6\",\"width\":0.5},\"pattern\":{\"fillmode\":\"overlay\",\"size\":10,\"solidity\":0.2}},\"type\":\"bar\"}],\"barpolar\":[{\"marker\":{\"line\":{\"color\":\"#E5ECF6\",\"width\":0.5},\"pattern\":{\"fillmode\":\"overlay\",\"size\":10,\"solidity\":0.2}},\"type\":\"barpolar\"}],\"carpet\":[{\"aaxis\":{\"endlinecolor\":\"#2a3f5f\",\"gridcolor\":\"white\",\"linecolor\":\"white\",\"minorgridcolor\":\"white\",\"startlinecolor\":\"#2a3f5f\"},\"baxis\":{\"endlinecolor\":\"#2a3f5f\",\"gridcolor\":\"white\",\"linecolor\":\"white\",\"minorgridcolor\":\"white\",\"startlinecolor\":\"#2a3f5f\"},\"type\":\"carpet\"}],\"choropleth\":[{\"colorbar\":{\"outlinewidth\":0,\"ticks\":\"\"},\"type\":\"choropleth\"}],\"contour\":[{\"colorbar\":{\"outlinewidth\":0,\"ticks\":\"\"},\"colorscale\":[[0.0,\"#0d0887\"],[0.1111111111111111,\"#46039f\"],[0.2222222222222222,\"#7201a8\"],[0.3333333333333333,\"#9c179e\"],[0.4444444444444444,\"#bd3786\"],[0.5555555555555556,\"#d8576b\"],[0.6666666666666666,\"#ed7953\"],[0.7777777777777778,\"#fb9f3a\"],[0.8888888888888888,\"#fdca26\"],[1.0,\"#f0f921\"]],\"type\":\"contour\"}],\"contourcarpet\":[{\"colorbar\":{\"outlinewidth\":0,\"ticks\":\"\"},\"type\":\"contourcarpet\"}],\"heatmap\":[{\"colorbar\":{\"outlinewidth\":0,\"ticks\":\"\"},\"colorscale\":[[0.0,\"#0d0887\"],[0.1111111111111111,\"#46039f\"],[0.2222222222222222,\"#7201a8\"],[0.3333333333333333,\"#9c179e\"],[0.4444444444444444,\"#bd3786\"],[0.5555555555555556,\"#d8576b\"],[0.6666666666666666,\"#ed7953\"],[0.7777777777777778,\"#fb9f3a\"],[0.8888888888888888,\"#fdca26\"],[1.0,\"#f0f921\"]],\"type\":\"heatmap\"}],\"heatmapgl\":[{\"colorbar\":{\"outlinewidth\":0,\"ticks\":\"\"},\"colorscale\":[[0.0,\"#0d0887\"],[0.1111111111111111,\"#46039f\"],[0.2222222222222222,\"#7201a8\"],[0.3333333333333333,\"#9c179e\"],[0.4444444444444444,\"#bd3786\"],[0.5555555555555556,\"#d8576b\"],[0.6666666666666666,\"#ed7953\"],[0.7777777777777778,\"#fb9f3a\"],[0.8888888888888888,\"#fdca26\"],[1.0,\"#f0f921\"]],\"type\":\"heatmapgl\"}],\"histogram\":[{\"marker\":{\"pattern\":{\"fillmode\":\"overlay\",\"size\":10,\"solidity\":0.2}},\"type\":\"histogram\"}],\"histogram2d\":[{\"colorbar\":{\"outlinewidth\":0,\"ticks\":\"\"},\"colorscale\":[[0.0,\"#0d0887\"],[0.1111111111111111,\"#46039f\"],[0.2222222222222222,\"#7201a8\"],[0.3333333333333333,\"#9c179e\"],[0.4444444444444444,\"#bd3786\"],[0.5555555555555556,\"#d8576b\"],[0.6666666666666666,\"#ed7953\"],[0.7777777777777778,\"#fb9f3a\"],[0.8888888888888888,\"#fdca26\"],[1.0,\"#f0f921\"]],\"type\":\"histogram2d\"}],\"histogram2dcontour\":[{\"colorbar\":{\"outlinewidth\":0,\"ticks\":\"\"},\"colorscale\":[[0.0,\"#0d0887\"],[0.1111111111111111,\"#46039f\"],[0.2222222222222222,\"#7201a8\"],[0.3333333333333333,\"#9c179e\"],[0.4444444444444444,\"#bd3786\"],[0.5555555555555556,\"#d8576b\"],[0.6666666666666666,\"#ed7953\"],[0.7777777777777778,\"#fb9f3a\"],[0.8888888888888888,\"#fdca26\"],[1.0,\"#f0f921\"]],\"type\":\"histogram2dcontour\"}],\"mesh3d\":[{\"colorbar\":{\"outlinewidth\":0,\"ticks\":\"\"},\"type\":\"mesh3d\"}],\"parcoords\":[{\"line\":{\"colorbar\":{\"outlinewidth\":0,\"ticks\":\"\"}},\"type\":\"parcoords\"}],\"pie\":[{\"automargin\":true,\"type\":\"pie\"}],\"scatter\":[{\"marker\":{\"colorbar\":{\"outlinewidth\":0,\"ticks\":\"\"}},\"type\":\"scatter\"}],\"scatter3d\":[{\"line\":{\"colorbar\":{\"outlinewidth\":0,\"ticks\":\"\"}},\"marker\":{\"colorbar\":{\"outlinewidth\":0,\"ticks\":\"\"}},\"type\":\"scatter3d\"}],\"scattercarpet\":[{\"marker\":{\"colorbar\":{\"outlinewidth\":0,\"ticks\":\"\"}},\"type\":\"scattercarpet\"}],\"scattergeo\":[{\"marker\":{\"colorbar\":{\"outlinewidth\":0,\"ticks\":\"\"}},\"type\":\"scattergeo\"}],\"scattergl\":[{\"marker\":{\"colorbar\":{\"outlinewidth\":0,\"ticks\":\"\"}},\"type\":\"scattergl\"}],\"scattermapbox\":[{\"marker\":{\"colorbar\":{\"outlinewidth\":0,\"ticks\":\"\"}},\"type\":\"scattermapbox\"}],\"scatterpolar\":[{\"marker\":{\"colorbar\":{\"outlinewidth\":0,\"ticks\":\"\"}},\"type\":\"scatterpolar\"}],\"scatterpolargl\":[{\"marker\":{\"colorbar\":{\"outlinewidth\":0,\"ticks\":\"\"}},\"type\":\"scatterpolargl\"}],\"scatterternary\":[{\"marker\":{\"colorbar\":{\"outlinewidth\":0,\"ticks\":\"\"}},\"type\":\"scatterternary\"}],\"surface\":[{\"colorbar\":{\"outlinewidth\":0,\"ticks\":\"\"},\"colorscale\":[[0.0,\"#0d0887\"],[0.1111111111111111,\"#46039f\"],[0.2222222222222222,\"#7201a8\"],[0.3333333333333333,\"#9c179e\"],[0.4444444444444444,\"#bd3786\"],[0.5555555555555556,\"#d8576b\"],[0.6666666666666666,\"#ed7953\"],[0.7777777777777778,\"#fb9f3a\"],[0.8888888888888888,\"#fdca26\"],[1.0,\"#f0f921\"]],\"type\":\"surface\"}],\"table\":[{\"cells\":{\"fill\":{\"color\":\"#EBF0F8\"},\"line\":{\"color\":\"white\"}},\"header\":{\"fill\":{\"color\":\"#C8D4E3\"},\"line\":{\"color\":\"white\"}},\"type\":\"table\"}]},\"layout\":{\"annotationdefaults\":{\"arrowcolor\":\"#2a3f5f\",\"arrowhead\":0,\"arrowwidth\":1},\"autotypenumbers\":\"strict\",\"coloraxis\":{\"colorbar\":{\"outlinewidth\":0,\"ticks\":\"\"}},\"colorscale\":{\"diverging\":[[0,\"#8e0152\"],[0.1,\"#c51b7d\"],[0.2,\"#de77ae\"],[0.3,\"#f1b6da\"],[0.4,\"#fde0ef\"],[0.5,\"#f7f7f7\"],[0.6,\"#e6f5d0\"],[0.7,\"#b8e186\"],[0.8,\"#7fbc41\"],[0.9,\"#4d9221\"],[1,\"#276419\"]],\"sequential\":[[0.0,\"#0d0887\"],[0.1111111111111111,\"#46039f\"],[0.2222222222222222,\"#7201a8\"],[0.3333333333333333,\"#9c179e\"],[0.4444444444444444,\"#bd3786\"],[0.5555555555555556,\"#d8576b\"],[0.6666666666666666,\"#ed7953\"],[0.7777777777777778,\"#fb9f3a\"],[0.8888888888888888,\"#fdca26\"],[1.0,\"#f0f921\"]],\"sequentialminus\":[[0.0,\"#0d0887\"],[0.1111111111111111,\"#46039f\"],[0.2222222222222222,\"#7201a8\"],[0.3333333333333333,\"#9c179e\"],[0.4444444444444444,\"#bd3786\"],[0.5555555555555556,\"#d8576b\"],[0.6666666666666666,\"#ed7953\"],[0.7777777777777778,\"#fb9f3a\"],[0.8888888888888888,\"#fdca26\"],[1.0,\"#f0f921\"]]},\"colorway\":[\"#636efa\",\"#EF553B\",\"#00cc96\",\"#ab63fa\",\"#FFA15A\",\"#19d3f3\",\"#FF6692\",\"#B6E880\",\"#FF97FF\",\"#FECB52\"],\"font\":{\"color\":\"#2a3f5f\"},\"geo\":{\"bgcolor\":\"white\",\"lakecolor\":\"white\",\"landcolor\":\"#E5ECF6\",\"showlakes\":true,\"showland\":true,\"subunitcolor\":\"white\"},\"hoverlabel\":{\"align\":\"left\"},\"hovermode\":\"closest\",\"mapbox\":{\"style\":\"light\"},\"paper_bgcolor\":\"white\",\"plot_bgcolor\":\"#E5ECF6\",\"polar\":{\"angularaxis\":{\"gridcolor\":\"white\",\"linecolor\":\"white\",\"ticks\":\"\"},\"bgcolor\":\"#E5ECF6\",\"radialaxis\":{\"gridcolor\":\"white\",\"linecolor\":\"white\",\"ticks\":\"\"}},\"scene\":{\"xaxis\":{\"backgroundcolor\":\"#E5ECF6\",\"gridcolor\":\"white\",\"gridwidth\":2,\"linecolor\":\"white\",\"showbackground\":true,\"ticks\":\"\",\"zerolinecolor\":\"white\"},\"yaxis\":{\"backgroundcolor\":\"#E5ECF6\",\"gridcolor\":\"white\",\"gridwidth\":2,\"linecolor\":\"white\",\"showbackground\":true,\"ticks\":\"\",\"zerolinecolor\":\"white\"},\"zaxis\":{\"backgroundcolor\":\"#E5ECF6\",\"gridcolor\":\"white\",\"gridwidth\":2,\"linecolor\":\"white\",\"showbackground\":true,\"ticks\":\"\",\"zerolinecolor\":\"white\"}},\"shapedefaults\":{\"line\":{\"color\":\"#2a3f5f\"}},\"ternary\":{\"aaxis\":{\"gridcolor\":\"white\",\"linecolor\":\"white\",\"ticks\":\"\"},\"baxis\":{\"gridcolor\":\"white\",\"linecolor\":\"white\",\"ticks\":\"\"},\"bgcolor\":\"#E5ECF6\",\"caxis\":{\"gridcolor\":\"white\",\"linecolor\":\"white\",\"ticks\":\"\"}},\"title\":{\"x\":0.05},\"xaxis\":{\"automargin\":true,\"gridcolor\":\"white\",\"linecolor\":\"white\",\"ticks\":\"\",\"title\":{\"standoff\":15},\"zerolinecolor\":\"white\",\"zerolinewidth\":2},\"yaxis\":{\"automargin\":true,\"gridcolor\":\"white\",\"linecolor\":\"white\",\"ticks\":\"\",\"title\":{\"standoff\":15},\"zerolinecolor\":\"white\",\"zerolinewidth\":2}}},\"xaxis\":{\"anchor\":\"y\",\"domain\":[0.0,1.0],\"title\":{\"text\":\"Date\"}},\"yaxis\":{\"anchor\":\"x\",\"domain\":[0.0,1.0],\"title\":{\"text\":\"# of trips\"}},\"coloraxis\":{\"colorbar\":{\"title\":{\"text\":\"# of trips\"}},\"colorscale\":[[0.0,\"#0d0887\"],[0.1111111111111111,\"#46039f\"],[0.2222222222222222,\"#7201a8\"],[0.3333333333333333,\"#9c179e\"],[0.4444444444444444,\"#bd3786\"],[0.5555555555555556,\"#d8576b\"],[0.6666666666666666,\"#ed7953\"],[0.7777777777777778,\"#fb9f3a\"],[0.8888888888888888,\"#fdca26\"],[1.0,\"#f0f921\"]]},\"legend\":{\"tracegroupgap\":0},\"title\":{\"text\":\"Toronto Bike Share Trips 2021\"},\"barmode\":\"relative\",\"height\":500},                        {\"responsive\": true}                    ).then(function(){\n",
       "                            \n",
       "var gd = document.getElementById('8c08b776-9280-4c2d-a5ba-8730ffbd8a58');\n",
       "var x = new MutationObserver(function (mutations, observer) {{\n",
       "        var display = window.getComputedStyle(gd).display;\n",
       "        if (!display || display === 'none') {{\n",
       "            console.log([gd, 'removed!']);\n",
       "            Plotly.purge(gd);\n",
       "            observer.disconnect();\n",
       "        }}\n",
       "}});\n",
       "\n",
       "// Listen for the removal of the full notebook cells\n",
       "var notebookContainer = gd.closest('#notebook-container');\n",
       "if (notebookContainer) {{\n",
       "    x.observe(notebookContainer, {childList: true});\n",
       "}}\n",
       "\n",
       "// Listen for the clearing of the current output cell\n",
       "var outputEl = gd.closest('.output');\n",
       "if (outputEl) {{\n",
       "    x.observe(outputEl, {childList: true});\n",
       "}}\n",
       "\n",
       "                        })                };                });            </script>        </div>"
      ]
     },
     "metadata": {},
     "output_type": "display_data"
    }
   ],
   "source": [
    "import plotly.express as px\n",
    "\n",
    "fig = px.bar(byDate, x='Start Time', y='Start Station Id',\n",
    "             color='Start Station Id',\n",
    "             labels={'Start Time':'Date', 'Start Station Id':'# of trips'}, \n",
    "             title='Toronto Bike Share Trips 2021', height=500)\n",
    "fig.show()"
   ]
  },
  {
   "cell_type": "code",
   "execution_count": 63,
   "id": "6393f2ae",
   "metadata": {},
   "outputs": [
    {
     "data": {
      "application/vnd.plotly.v1+json": {
       "config": {
        "plotlyServerURL": "https://plot.ly"
       },
       "data": [
        {
         "hovertemplate": "Date=%{x}<br># of trips=%{y}<extra></extra>",
         "legendgroup": "",
         "line": {
          "color": "#636efa",
          "dash": "solid"
         },
         "marker": {
          "symbol": "circle"
         },
         "mode": "lines",
         "name": "",
         "orientation": "v",
         "showlegend": false,
         "type": "scatter",
         "x": [
          "2021-01-01",
          "2021-01-02",
          "2021-01-03",
          "2021-01-04",
          "2021-01-05",
          "2021-01-06",
          "2021-01-07",
          "2021-01-08",
          "2021-01-09",
          "2021-01-10",
          "2021-01-11",
          "2021-01-12",
          "2021-01-13",
          "2021-01-14",
          "2021-01-15",
          "2021-01-16",
          "2021-01-17",
          "2021-01-18",
          "2021-01-19",
          "2021-01-20",
          "2021-01-21",
          "2021-01-22",
          "2021-01-23",
          "2021-01-24",
          "2021-01-25",
          "2021-01-26",
          "2021-01-27",
          "2021-01-28",
          "2021-01-29",
          "2021-01-30",
          "2021-01-31",
          "2021-02-01",
          "2021-02-02",
          "2021-02-03",
          "2021-02-04",
          "2021-02-05",
          "2021-02-06",
          "2021-02-07",
          "2021-02-08",
          "2021-02-09",
          "2021-02-10",
          "2021-02-11",
          "2021-02-12",
          "2021-02-13",
          "2021-02-14",
          "2021-02-15",
          "2021-02-16",
          "2021-02-17",
          "2021-02-18",
          "2021-02-19",
          "2021-02-20",
          "2021-02-21",
          "2021-02-22",
          "2021-02-23",
          "2021-02-24",
          "2021-02-25",
          "2021-02-26",
          "2021-02-27",
          "2021-02-28",
          "2021-03-01",
          "2021-03-02",
          "2021-03-03",
          "2021-03-04",
          "2021-03-05",
          "2021-03-06",
          "2021-03-07",
          "2021-03-08",
          "2021-03-09",
          "2021-03-10",
          "2021-03-11",
          "2021-03-12",
          "2021-03-13",
          "2021-03-14",
          "2021-03-15",
          "2021-03-16",
          "2021-03-17",
          "2021-03-18",
          "2021-03-19",
          "2021-03-20",
          "2021-03-21",
          "2021-03-22",
          "2021-03-23",
          "2021-03-24",
          "2021-03-25",
          "2021-03-26",
          "2021-03-27",
          "2021-03-28",
          "2021-03-29",
          "2021-03-30",
          "2021-03-31",
          "2021-04-01",
          "2021-04-02",
          "2021-04-03",
          "2021-04-04",
          "2021-04-05",
          "2021-04-06",
          "2021-04-07",
          "2021-04-08",
          "2021-04-09",
          "2021-04-10",
          "2021-04-11",
          "2021-04-12",
          "2021-04-13",
          "2021-04-14",
          "2021-04-15",
          "2021-04-16",
          "2021-04-17",
          "2021-04-18",
          "2021-04-19",
          "2021-04-20",
          "2021-04-21",
          "2021-04-22",
          "2021-04-23",
          "2021-04-24",
          "2021-04-25",
          "2021-04-26",
          "2021-04-27",
          "2021-04-28",
          "2021-04-29",
          "2021-04-30",
          "2021-05-01",
          "2021-05-02",
          "2021-05-03",
          "2021-05-04",
          "2021-05-05",
          "2021-05-06",
          "2021-05-07",
          "2021-05-08",
          "2021-05-09",
          "2021-05-10",
          "2021-05-11",
          "2021-05-12",
          "2021-05-13",
          "2021-05-14",
          "2021-05-15",
          "2021-05-16",
          "2021-05-17",
          "2021-05-18",
          "2021-05-19",
          "2021-05-20",
          "2021-05-21",
          "2021-05-22",
          "2021-05-23",
          "2021-05-24",
          "2021-05-25",
          "2021-05-26",
          "2021-05-27",
          "2021-05-28",
          "2021-05-29",
          "2021-05-30",
          "2021-05-31",
          "2021-06-01",
          "2021-06-02",
          "2021-06-03",
          "2021-06-04",
          "2021-06-05",
          "2021-06-06",
          "2021-06-07",
          "2021-06-08",
          "2021-06-09",
          "2021-06-10",
          "2021-06-11",
          "2021-06-12",
          "2021-06-13",
          "2021-06-14",
          "2021-06-15",
          "2021-06-16",
          "2021-06-17",
          "2021-06-18",
          "2021-06-19",
          "2021-06-20",
          "2021-06-21",
          "2021-06-22",
          "2021-06-23",
          "2021-06-24",
          "2021-06-25",
          "2021-06-26",
          "2021-06-27",
          "2021-06-28",
          "2021-06-29",
          "2021-06-30",
          "2021-07-01",
          "2021-07-02",
          "2021-07-03",
          "2021-07-04",
          "2021-07-05",
          "2021-07-06",
          "2021-07-07",
          "2021-07-08",
          "2021-07-09",
          "2021-07-10",
          "2021-07-11",
          "2021-07-12",
          "2021-07-13",
          "2021-07-14",
          "2021-07-15",
          "2021-07-16",
          "2021-07-17",
          "2021-07-18",
          "2021-07-19",
          "2021-07-20",
          "2021-07-21",
          "2021-07-22",
          "2021-07-23",
          "2021-07-24",
          "2021-07-25",
          "2021-07-26",
          "2021-07-27",
          "2021-07-28",
          "2021-07-29",
          "2021-07-30",
          "2021-07-31",
          "2021-08-01",
          "2021-08-02",
          "2021-08-03",
          "2021-08-04",
          "2021-08-05",
          "2021-08-06",
          "2021-08-07",
          "2021-08-08",
          "2021-08-09",
          "2021-08-10",
          "2021-08-11",
          "2021-08-12",
          "2021-08-13",
          "2021-08-14",
          "2021-08-15",
          "2021-08-16",
          "2021-08-17",
          "2021-08-18",
          "2021-08-19",
          "2021-08-20",
          "2021-08-21",
          "2021-08-22",
          "2021-08-23",
          "2021-08-24",
          "2021-08-25",
          "2021-08-26",
          "2021-08-27",
          "2021-08-28",
          "2021-08-29",
          "2021-08-30",
          "2021-08-31",
          "2021-09-01",
          "2021-09-02",
          "2021-09-03",
          "2021-09-04",
          "2021-09-05",
          "2021-09-06",
          "2021-09-07",
          "2021-09-08",
          "2021-09-09",
          "2021-09-10",
          "2021-09-11",
          "2021-09-12",
          "2021-09-13",
          "2021-09-14",
          "2021-09-15",
          "2021-09-16",
          "2021-09-17",
          "2021-09-18",
          "2021-09-19",
          "2021-09-20",
          "2021-09-21",
          "2021-09-22",
          "2021-09-23",
          "2021-09-24",
          "2021-09-25",
          "2021-09-26",
          "2021-09-27",
          "2021-09-28",
          "2021-09-29",
          "2021-09-30",
          "2021-10-01",
          "2021-10-02",
          "2021-10-03",
          "2021-10-04",
          "2021-10-05",
          "2021-10-06",
          "2021-10-07",
          "2021-10-08",
          "2021-10-09",
          "2021-10-10",
          "2021-10-11",
          "2021-10-12",
          "2021-10-13",
          "2021-10-14",
          "2021-10-15",
          "2021-10-16",
          "2021-10-17",
          "2021-10-18",
          "2021-10-19",
          "2021-10-20",
          "2021-10-21",
          "2021-10-22",
          "2021-10-23",
          "2021-10-24",
          "2021-10-25",
          "2021-10-26",
          "2021-10-27",
          "2021-10-28",
          "2021-10-29",
          "2021-10-30",
          "2021-10-31",
          "2021-11-01",
          "2021-11-02",
          "2021-11-03",
          "2021-11-04",
          "2021-11-05",
          "2021-11-06",
          "2021-11-07",
          "2021-11-08",
          "2021-11-09",
          "2021-11-10",
          "2021-11-11",
          "2021-11-12",
          "2021-11-13",
          "2021-11-14",
          "2021-11-15",
          "2021-11-16",
          "2021-11-17",
          "2021-11-18",
          "2021-11-19",
          "2021-11-20",
          "2021-11-21",
          "2021-11-22",
          "2021-11-23",
          "2021-11-24",
          "2021-11-25",
          "2021-11-26",
          "2021-11-27",
          "2021-11-28",
          "2021-11-29",
          "2021-11-30",
          "2021-12-01",
          "2021-12-02",
          "2021-12-03",
          "2021-12-04",
          "2021-12-05",
          "2021-12-06",
          "2021-12-07",
          "2021-12-08",
          "2021-12-09",
          "2021-12-10",
          "2021-12-11",
          "2021-12-12",
          "2021-12-13",
          "2021-12-14",
          "2021-12-15",
          "2021-12-16",
          "2021-12-17",
          "2021-12-18",
          "2021-12-19",
          "2021-12-20",
          "2021-12-21",
          "2021-12-22",
          "2021-12-23",
          "2021-12-24",
          "2021-12-25",
          "2021-12-26",
          "2021-12-27",
          "2021-12-28",
          "2021-12-29",
          "2021-12-30",
          "2021-12-31"
         ],
         "xaxis": "x",
         "y": [
          1804,
          1906,
          1941,
          3054,
          2816,
          3172,
          3565,
          3465,
          4152,
          2942,
          2956,
          2762,
          3514,
          3488,
          3074,
          4651,
          3552,
          3075,
          2983,
          2674,
          3306,
          3050,
          2586,
          2460,
          3229,
          1046,
          1552,
          1687,
          2081,
          2390,
          1438,
          2055,
          2299,
          2723,
          3180,
          2132,
          1943,
          1573,
          1917,
          2134,
          2295,
          2299,
          1678,
          1376,
          2067,
          1489,
          708,
          1584,
          1277,
          1141,
          1745,
          1998,
          1265,
          2212,
          2872,
          2946,
          3490,
          3934,
          2547,
          2138,
          2539,
          4016,
          2895,
          2977,
          2900,
          3671,
          3499,
          5327,
          5745,
          4821,
          4544,
          5885,
          3039,
          3262,
          3405,
          5206,
          3861,
          4640,
          11142,
          9782,
          6674,
          7143,
          5954,
          8895,
          4407,
          6988,
          2874,
          4987,
          8946,
          5235,
          4211,
          5177,
          5435,
          13411,
          7021,
          6658,
          8714,
          10053,
          8125,
          19924,
          4823,
          3057,
          7373,
          8994,
          5228,
          5506,
          9995,
          10541,
          2589,
          4628,
          3189,
          4325,
          11292,
          17964,
          9369,
          5886,
          6248,
          6203,
          3133,
          5227,
          12258,
          9264,
          4387,
          5025,
          6753,
          9407,
          7678,
          14017,
          11156,
          6958,
          6323,
          11983,
          12614,
          13583,
          24640,
          27029,
          12939,
          14784,
          14163,
          14153,
          18009,
          20183,
          24376,
          26023,
          12572,
          9986,
          12549,
          3625,
          20048,
          24493,
          13045,
          13931,
          13612,
          10649,
          15918,
          27346,
          24439,
          13208,
          9714,
          15111,
          15833,
          15849,
          25334,
          19601,
          9102,
          14095,
          14023,
          14812,
          10099,
          20174,
          19506,
          10777,
          12651,
          14086,
          14818,
          8110,
          14698,
          20068,
          13130,
          7943,
          14010,
          18281,
          11390,
          20472,
          18931,
          12871,
          13404,
          13457,
          7177,
          11287,
          23320,
          11095,
          13145,
          11236,
          20678,
          12344,
          14883,
          11170,
          18529,
          13280,
          11721,
          22212,
          15867,
          16871,
          11488,
          18631,
          13887,
          10911,
          22178,
          11769,
          16142,
          15283,
          13929,
          19762,
          14811,
          16841,
          16320,
          16551,
          15978,
          17520,
          13812,
          12420,
          14342,
          14383,
          15131,
          21300,
          19261,
          13834,
          14576,
          14779,
          16433,
          16898,
          19988,
          17755,
          14394,
          15699,
          15142,
          13960,
          17403,
          17927,
          15453,
          14520,
          15821,
          16208,
          16127,
          16199,
          20267,
          18787,
          16979,
          11924,
          15111,
          14611,
          15666,
          18814,
          13480,
          14058,
          14442,
          15282,
          16260,
          17005,
          20555,
          18089,
          14965,
          11853,
          4952,
          12145,
          14479,
          12768,
          15932,
          13227,
          14666,
          14937,
          15000,
          15832,
          19347,
          7472,
          9184,
          13451,
          14380,
          14271,
          14291,
          8694,
          13607,
          14973,
          14669,
          15127,
          14972,
          10470,
          10346,
          11783,
          11467,
          14159,
          12972,
          10253,
          11827,
          11567,
          11784,
          4514,
          5962,
          13682,
          11327,
          8714,
          5796,
          10255,
          9551,
          9474,
          9539,
          9615,
          10249,
          10546,
          11672,
          10520,
          8154,
          10749,
          10377,
          10254,
          8691,
          3883,
          7703,
          8716,
          8059,
          8735,
          8994,
          7901,
          5886,
          7030,
          7862,
          8318,
          6284,
          6943,
          6306,
          1759,
          4151,
          5007,
          7068,
          6887,
          7212,
          5869,
          4131,
          4907,
          5771,
          3825,
          4908,
          6683,
          5674,
          5556,
          6691,
          6718,
          5815,
          6882,
          6984,
          1874,
          2568,
          3984,
          4706,
          3633,
          3723,
          2740,
          1647,
          2656,
          1265,
          3054,
          3521,
          4065,
          4832
         ],
         "yaxis": "y"
        }
       ],
       "layout": {
        "legend": {
         "tracegroupgap": 0
        },
        "template": {
         "data": {
          "bar": [
           {
            "error_x": {
             "color": "#2a3f5f"
            },
            "error_y": {
             "color": "#2a3f5f"
            },
            "marker": {
             "line": {
              "color": "#E5ECF6",
              "width": 0.5
             },
             "pattern": {
              "fillmode": "overlay",
              "size": 10,
              "solidity": 0.2
             }
            },
            "type": "bar"
           }
          ],
          "barpolar": [
           {
            "marker": {
             "line": {
              "color": "#E5ECF6",
              "width": 0.5
             },
             "pattern": {
              "fillmode": "overlay",
              "size": 10,
              "solidity": 0.2
             }
            },
            "type": "barpolar"
           }
          ],
          "carpet": [
           {
            "aaxis": {
             "endlinecolor": "#2a3f5f",
             "gridcolor": "white",
             "linecolor": "white",
             "minorgridcolor": "white",
             "startlinecolor": "#2a3f5f"
            },
            "baxis": {
             "endlinecolor": "#2a3f5f",
             "gridcolor": "white",
             "linecolor": "white",
             "minorgridcolor": "white",
             "startlinecolor": "#2a3f5f"
            },
            "type": "carpet"
           }
          ],
          "choropleth": [
           {
            "colorbar": {
             "outlinewidth": 0,
             "ticks": ""
            },
            "type": "choropleth"
           }
          ],
          "contour": [
           {
            "colorbar": {
             "outlinewidth": 0,
             "ticks": ""
            },
            "colorscale": [
             [
              0,
              "#0d0887"
             ],
             [
              0.1111111111111111,
              "#46039f"
             ],
             [
              0.2222222222222222,
              "#7201a8"
             ],
             [
              0.3333333333333333,
              "#9c179e"
             ],
             [
              0.4444444444444444,
              "#bd3786"
             ],
             [
              0.5555555555555556,
              "#d8576b"
             ],
             [
              0.6666666666666666,
              "#ed7953"
             ],
             [
              0.7777777777777778,
              "#fb9f3a"
             ],
             [
              0.8888888888888888,
              "#fdca26"
             ],
             [
              1,
              "#f0f921"
             ]
            ],
            "type": "contour"
           }
          ],
          "contourcarpet": [
           {
            "colorbar": {
             "outlinewidth": 0,
             "ticks": ""
            },
            "type": "contourcarpet"
           }
          ],
          "heatmap": [
           {
            "colorbar": {
             "outlinewidth": 0,
             "ticks": ""
            },
            "colorscale": [
             [
              0,
              "#0d0887"
             ],
             [
              0.1111111111111111,
              "#46039f"
             ],
             [
              0.2222222222222222,
              "#7201a8"
             ],
             [
              0.3333333333333333,
              "#9c179e"
             ],
             [
              0.4444444444444444,
              "#bd3786"
             ],
             [
              0.5555555555555556,
              "#d8576b"
             ],
             [
              0.6666666666666666,
              "#ed7953"
             ],
             [
              0.7777777777777778,
              "#fb9f3a"
             ],
             [
              0.8888888888888888,
              "#fdca26"
             ],
             [
              1,
              "#f0f921"
             ]
            ],
            "type": "heatmap"
           }
          ],
          "heatmapgl": [
           {
            "colorbar": {
             "outlinewidth": 0,
             "ticks": ""
            },
            "colorscale": [
             [
              0,
              "#0d0887"
             ],
             [
              0.1111111111111111,
              "#46039f"
             ],
             [
              0.2222222222222222,
              "#7201a8"
             ],
             [
              0.3333333333333333,
              "#9c179e"
             ],
             [
              0.4444444444444444,
              "#bd3786"
             ],
             [
              0.5555555555555556,
              "#d8576b"
             ],
             [
              0.6666666666666666,
              "#ed7953"
             ],
             [
              0.7777777777777778,
              "#fb9f3a"
             ],
             [
              0.8888888888888888,
              "#fdca26"
             ],
             [
              1,
              "#f0f921"
             ]
            ],
            "type": "heatmapgl"
           }
          ],
          "histogram": [
           {
            "marker": {
             "pattern": {
              "fillmode": "overlay",
              "size": 10,
              "solidity": 0.2
             }
            },
            "type": "histogram"
           }
          ],
          "histogram2d": [
           {
            "colorbar": {
             "outlinewidth": 0,
             "ticks": ""
            },
            "colorscale": [
             [
              0,
              "#0d0887"
             ],
             [
              0.1111111111111111,
              "#46039f"
             ],
             [
              0.2222222222222222,
              "#7201a8"
             ],
             [
              0.3333333333333333,
              "#9c179e"
             ],
             [
              0.4444444444444444,
              "#bd3786"
             ],
             [
              0.5555555555555556,
              "#d8576b"
             ],
             [
              0.6666666666666666,
              "#ed7953"
             ],
             [
              0.7777777777777778,
              "#fb9f3a"
             ],
             [
              0.8888888888888888,
              "#fdca26"
             ],
             [
              1,
              "#f0f921"
             ]
            ],
            "type": "histogram2d"
           }
          ],
          "histogram2dcontour": [
           {
            "colorbar": {
             "outlinewidth": 0,
             "ticks": ""
            },
            "colorscale": [
             [
              0,
              "#0d0887"
             ],
             [
              0.1111111111111111,
              "#46039f"
             ],
             [
              0.2222222222222222,
              "#7201a8"
             ],
             [
              0.3333333333333333,
              "#9c179e"
             ],
             [
              0.4444444444444444,
              "#bd3786"
             ],
             [
              0.5555555555555556,
              "#d8576b"
             ],
             [
              0.6666666666666666,
              "#ed7953"
             ],
             [
              0.7777777777777778,
              "#fb9f3a"
             ],
             [
              0.8888888888888888,
              "#fdca26"
             ],
             [
              1,
              "#f0f921"
             ]
            ],
            "type": "histogram2dcontour"
           }
          ],
          "mesh3d": [
           {
            "colorbar": {
             "outlinewidth": 0,
             "ticks": ""
            },
            "type": "mesh3d"
           }
          ],
          "parcoords": [
           {
            "line": {
             "colorbar": {
              "outlinewidth": 0,
              "ticks": ""
             }
            },
            "type": "parcoords"
           }
          ],
          "pie": [
           {
            "automargin": true,
            "type": "pie"
           }
          ],
          "scatter": [
           {
            "marker": {
             "colorbar": {
              "outlinewidth": 0,
              "ticks": ""
             }
            },
            "type": "scatter"
           }
          ],
          "scatter3d": [
           {
            "line": {
             "colorbar": {
              "outlinewidth": 0,
              "ticks": ""
             }
            },
            "marker": {
             "colorbar": {
              "outlinewidth": 0,
              "ticks": ""
             }
            },
            "type": "scatter3d"
           }
          ],
          "scattercarpet": [
           {
            "marker": {
             "colorbar": {
              "outlinewidth": 0,
              "ticks": ""
             }
            },
            "type": "scattercarpet"
           }
          ],
          "scattergeo": [
           {
            "marker": {
             "colorbar": {
              "outlinewidth": 0,
              "ticks": ""
             }
            },
            "type": "scattergeo"
           }
          ],
          "scattergl": [
           {
            "marker": {
             "colorbar": {
              "outlinewidth": 0,
              "ticks": ""
             }
            },
            "type": "scattergl"
           }
          ],
          "scattermapbox": [
           {
            "marker": {
             "colorbar": {
              "outlinewidth": 0,
              "ticks": ""
             }
            },
            "type": "scattermapbox"
           }
          ],
          "scatterpolar": [
           {
            "marker": {
             "colorbar": {
              "outlinewidth": 0,
              "ticks": ""
             }
            },
            "type": "scatterpolar"
           }
          ],
          "scatterpolargl": [
           {
            "marker": {
             "colorbar": {
              "outlinewidth": 0,
              "ticks": ""
             }
            },
            "type": "scatterpolargl"
           }
          ],
          "scatterternary": [
           {
            "marker": {
             "colorbar": {
              "outlinewidth": 0,
              "ticks": ""
             }
            },
            "type": "scatterternary"
           }
          ],
          "surface": [
           {
            "colorbar": {
             "outlinewidth": 0,
             "ticks": ""
            },
            "colorscale": [
             [
              0,
              "#0d0887"
             ],
             [
              0.1111111111111111,
              "#46039f"
             ],
             [
              0.2222222222222222,
              "#7201a8"
             ],
             [
              0.3333333333333333,
              "#9c179e"
             ],
             [
              0.4444444444444444,
              "#bd3786"
             ],
             [
              0.5555555555555556,
              "#d8576b"
             ],
             [
              0.6666666666666666,
              "#ed7953"
             ],
             [
              0.7777777777777778,
              "#fb9f3a"
             ],
             [
              0.8888888888888888,
              "#fdca26"
             ],
             [
              1,
              "#f0f921"
             ]
            ],
            "type": "surface"
           }
          ],
          "table": [
           {
            "cells": {
             "fill": {
              "color": "#EBF0F8"
             },
             "line": {
              "color": "white"
             }
            },
            "header": {
             "fill": {
              "color": "#C8D4E3"
             },
             "line": {
              "color": "white"
             }
            },
            "type": "table"
           }
          ]
         },
         "layout": {
          "annotationdefaults": {
           "arrowcolor": "#2a3f5f",
           "arrowhead": 0,
           "arrowwidth": 1
          },
          "autotypenumbers": "strict",
          "coloraxis": {
           "colorbar": {
            "outlinewidth": 0,
            "ticks": ""
           }
          },
          "colorscale": {
           "diverging": [
            [
             0,
             "#8e0152"
            ],
            [
             0.1,
             "#c51b7d"
            ],
            [
             0.2,
             "#de77ae"
            ],
            [
             0.3,
             "#f1b6da"
            ],
            [
             0.4,
             "#fde0ef"
            ],
            [
             0.5,
             "#f7f7f7"
            ],
            [
             0.6,
             "#e6f5d0"
            ],
            [
             0.7,
             "#b8e186"
            ],
            [
             0.8,
             "#7fbc41"
            ],
            [
             0.9,
             "#4d9221"
            ],
            [
             1,
             "#276419"
            ]
           ],
           "sequential": [
            [
             0,
             "#0d0887"
            ],
            [
             0.1111111111111111,
             "#46039f"
            ],
            [
             0.2222222222222222,
             "#7201a8"
            ],
            [
             0.3333333333333333,
             "#9c179e"
            ],
            [
             0.4444444444444444,
             "#bd3786"
            ],
            [
             0.5555555555555556,
             "#d8576b"
            ],
            [
             0.6666666666666666,
             "#ed7953"
            ],
            [
             0.7777777777777778,
             "#fb9f3a"
            ],
            [
             0.8888888888888888,
             "#fdca26"
            ],
            [
             1,
             "#f0f921"
            ]
           ],
           "sequentialminus": [
            [
             0,
             "#0d0887"
            ],
            [
             0.1111111111111111,
             "#46039f"
            ],
            [
             0.2222222222222222,
             "#7201a8"
            ],
            [
             0.3333333333333333,
             "#9c179e"
            ],
            [
             0.4444444444444444,
             "#bd3786"
            ],
            [
             0.5555555555555556,
             "#d8576b"
            ],
            [
             0.6666666666666666,
             "#ed7953"
            ],
            [
             0.7777777777777778,
             "#fb9f3a"
            ],
            [
             0.8888888888888888,
             "#fdca26"
            ],
            [
             1,
             "#f0f921"
            ]
           ]
          },
          "colorway": [
           "#636efa",
           "#EF553B",
           "#00cc96",
           "#ab63fa",
           "#FFA15A",
           "#19d3f3",
           "#FF6692",
           "#B6E880",
           "#FF97FF",
           "#FECB52"
          ],
          "font": {
           "color": "#2a3f5f"
          },
          "geo": {
           "bgcolor": "white",
           "lakecolor": "white",
           "landcolor": "#E5ECF6",
           "showlakes": true,
           "showland": true,
           "subunitcolor": "white"
          },
          "hoverlabel": {
           "align": "left"
          },
          "hovermode": "closest",
          "mapbox": {
           "style": "light"
          },
          "paper_bgcolor": "white",
          "plot_bgcolor": "#E5ECF6",
          "polar": {
           "angularaxis": {
            "gridcolor": "white",
            "linecolor": "white",
            "ticks": ""
           },
           "bgcolor": "#E5ECF6",
           "radialaxis": {
            "gridcolor": "white",
            "linecolor": "white",
            "ticks": ""
           }
          },
          "scene": {
           "xaxis": {
            "backgroundcolor": "#E5ECF6",
            "gridcolor": "white",
            "gridwidth": 2,
            "linecolor": "white",
            "showbackground": true,
            "ticks": "",
            "zerolinecolor": "white"
           },
           "yaxis": {
            "backgroundcolor": "#E5ECF6",
            "gridcolor": "white",
            "gridwidth": 2,
            "linecolor": "white",
            "showbackground": true,
            "ticks": "",
            "zerolinecolor": "white"
           },
           "zaxis": {
            "backgroundcolor": "#E5ECF6",
            "gridcolor": "white",
            "gridwidth": 2,
            "linecolor": "white",
            "showbackground": true,
            "ticks": "",
            "zerolinecolor": "white"
           }
          },
          "shapedefaults": {
           "line": {
            "color": "#2a3f5f"
           }
          },
          "ternary": {
           "aaxis": {
            "gridcolor": "white",
            "linecolor": "white",
            "ticks": ""
           },
           "baxis": {
            "gridcolor": "white",
            "linecolor": "white",
            "ticks": ""
           },
           "bgcolor": "#E5ECF6",
           "caxis": {
            "gridcolor": "white",
            "linecolor": "white",
            "ticks": ""
           }
          },
          "title": {
           "x": 0.05
          },
          "xaxis": {
           "automargin": true,
           "gridcolor": "white",
           "linecolor": "white",
           "ticks": "",
           "title": {
            "standoff": 15
           },
           "zerolinecolor": "white",
           "zerolinewidth": 2
          },
          "yaxis": {
           "automargin": true,
           "gridcolor": "white",
           "linecolor": "white",
           "ticks": "",
           "title": {
            "standoff": 15
           },
           "zerolinecolor": "white",
           "zerolinewidth": 2
          }
         }
        },
        "title": {
         "text": "Toronto Bike Share Trips 2021"
        },
        "xaxis": {
         "anchor": "y",
         "domain": [
          0,
          1
         ],
         "title": {
          "text": "Date"
         }
        },
        "yaxis": {
         "anchor": "x",
         "domain": [
          0,
          1
         ],
         "title": {
          "text": "# of trips"
         }
        }
       }
      },
      "text/html": [
       "<div>                            <div id=\"83ef9932-b8bb-42c3-941e-4f9693e56d33\" class=\"plotly-graph-div\" style=\"height:525px; width:100%;\"></div>            <script type=\"text/javascript\">                require([\"plotly\"], function(Plotly) {                    window.PLOTLYENV=window.PLOTLYENV || {};                                    if (document.getElementById(\"83ef9932-b8bb-42c3-941e-4f9693e56d33\")) {                    Plotly.newPlot(                        \"83ef9932-b8bb-42c3-941e-4f9693e56d33\",                        [{\"hovertemplate\":\"Date=%{x}<br># of trips=%{y}<extra></extra>\",\"legendgroup\":\"\",\"line\":{\"color\":\"#636efa\",\"dash\":\"solid\"},\"marker\":{\"symbol\":\"circle\"},\"mode\":\"lines\",\"name\":\"\",\"orientation\":\"v\",\"showlegend\":false,\"x\":[\"2021-01-01\",\"2021-01-02\",\"2021-01-03\",\"2021-01-04\",\"2021-01-05\",\"2021-01-06\",\"2021-01-07\",\"2021-01-08\",\"2021-01-09\",\"2021-01-10\",\"2021-01-11\",\"2021-01-12\",\"2021-01-13\",\"2021-01-14\",\"2021-01-15\",\"2021-01-16\",\"2021-01-17\",\"2021-01-18\",\"2021-01-19\",\"2021-01-20\",\"2021-01-21\",\"2021-01-22\",\"2021-01-23\",\"2021-01-24\",\"2021-01-25\",\"2021-01-26\",\"2021-01-27\",\"2021-01-28\",\"2021-01-29\",\"2021-01-30\",\"2021-01-31\",\"2021-02-01\",\"2021-02-02\",\"2021-02-03\",\"2021-02-04\",\"2021-02-05\",\"2021-02-06\",\"2021-02-07\",\"2021-02-08\",\"2021-02-09\",\"2021-02-10\",\"2021-02-11\",\"2021-02-12\",\"2021-02-13\",\"2021-02-14\",\"2021-02-15\",\"2021-02-16\",\"2021-02-17\",\"2021-02-18\",\"2021-02-19\",\"2021-02-20\",\"2021-02-21\",\"2021-02-22\",\"2021-02-23\",\"2021-02-24\",\"2021-02-25\",\"2021-02-26\",\"2021-02-27\",\"2021-02-28\",\"2021-03-01\",\"2021-03-02\",\"2021-03-03\",\"2021-03-04\",\"2021-03-05\",\"2021-03-06\",\"2021-03-07\",\"2021-03-08\",\"2021-03-09\",\"2021-03-10\",\"2021-03-11\",\"2021-03-12\",\"2021-03-13\",\"2021-03-14\",\"2021-03-15\",\"2021-03-16\",\"2021-03-17\",\"2021-03-18\",\"2021-03-19\",\"2021-03-20\",\"2021-03-21\",\"2021-03-22\",\"2021-03-23\",\"2021-03-24\",\"2021-03-25\",\"2021-03-26\",\"2021-03-27\",\"2021-03-28\",\"2021-03-29\",\"2021-03-30\",\"2021-03-31\",\"2021-04-01\",\"2021-04-02\",\"2021-04-03\",\"2021-04-04\",\"2021-04-05\",\"2021-04-06\",\"2021-04-07\",\"2021-04-08\",\"2021-04-09\",\"2021-04-10\",\"2021-04-11\",\"2021-04-12\",\"2021-04-13\",\"2021-04-14\",\"2021-04-15\",\"2021-04-16\",\"2021-04-17\",\"2021-04-18\",\"2021-04-19\",\"2021-04-20\",\"2021-04-21\",\"2021-04-22\",\"2021-04-23\",\"2021-04-24\",\"2021-04-25\",\"2021-04-26\",\"2021-04-27\",\"2021-04-28\",\"2021-04-29\",\"2021-04-30\",\"2021-05-01\",\"2021-05-02\",\"2021-05-03\",\"2021-05-04\",\"2021-05-05\",\"2021-05-06\",\"2021-05-07\",\"2021-05-08\",\"2021-05-09\",\"2021-05-10\",\"2021-05-11\",\"2021-05-12\",\"2021-05-13\",\"2021-05-14\",\"2021-05-15\",\"2021-05-16\",\"2021-05-17\",\"2021-05-18\",\"2021-05-19\",\"2021-05-20\",\"2021-05-21\",\"2021-05-22\",\"2021-05-23\",\"2021-05-24\",\"2021-05-25\",\"2021-05-26\",\"2021-05-27\",\"2021-05-28\",\"2021-05-29\",\"2021-05-30\",\"2021-05-31\",\"2021-06-01\",\"2021-06-02\",\"2021-06-03\",\"2021-06-04\",\"2021-06-05\",\"2021-06-06\",\"2021-06-07\",\"2021-06-08\",\"2021-06-09\",\"2021-06-10\",\"2021-06-11\",\"2021-06-12\",\"2021-06-13\",\"2021-06-14\",\"2021-06-15\",\"2021-06-16\",\"2021-06-17\",\"2021-06-18\",\"2021-06-19\",\"2021-06-20\",\"2021-06-21\",\"2021-06-22\",\"2021-06-23\",\"2021-06-24\",\"2021-06-25\",\"2021-06-26\",\"2021-06-27\",\"2021-06-28\",\"2021-06-29\",\"2021-06-30\",\"2021-07-01\",\"2021-07-02\",\"2021-07-03\",\"2021-07-04\",\"2021-07-05\",\"2021-07-06\",\"2021-07-07\",\"2021-07-08\",\"2021-07-09\",\"2021-07-10\",\"2021-07-11\",\"2021-07-12\",\"2021-07-13\",\"2021-07-14\",\"2021-07-15\",\"2021-07-16\",\"2021-07-17\",\"2021-07-18\",\"2021-07-19\",\"2021-07-20\",\"2021-07-21\",\"2021-07-22\",\"2021-07-23\",\"2021-07-24\",\"2021-07-25\",\"2021-07-26\",\"2021-07-27\",\"2021-07-28\",\"2021-07-29\",\"2021-07-30\",\"2021-07-31\",\"2021-08-01\",\"2021-08-02\",\"2021-08-03\",\"2021-08-04\",\"2021-08-05\",\"2021-08-06\",\"2021-08-07\",\"2021-08-08\",\"2021-08-09\",\"2021-08-10\",\"2021-08-11\",\"2021-08-12\",\"2021-08-13\",\"2021-08-14\",\"2021-08-15\",\"2021-08-16\",\"2021-08-17\",\"2021-08-18\",\"2021-08-19\",\"2021-08-20\",\"2021-08-21\",\"2021-08-22\",\"2021-08-23\",\"2021-08-24\",\"2021-08-25\",\"2021-08-26\",\"2021-08-27\",\"2021-08-28\",\"2021-08-29\",\"2021-08-30\",\"2021-08-31\",\"2021-09-01\",\"2021-09-02\",\"2021-09-03\",\"2021-09-04\",\"2021-09-05\",\"2021-09-06\",\"2021-09-07\",\"2021-09-08\",\"2021-09-09\",\"2021-09-10\",\"2021-09-11\",\"2021-09-12\",\"2021-09-13\",\"2021-09-14\",\"2021-09-15\",\"2021-09-16\",\"2021-09-17\",\"2021-09-18\",\"2021-09-19\",\"2021-09-20\",\"2021-09-21\",\"2021-09-22\",\"2021-09-23\",\"2021-09-24\",\"2021-09-25\",\"2021-09-26\",\"2021-09-27\",\"2021-09-28\",\"2021-09-29\",\"2021-09-30\",\"2021-10-01\",\"2021-10-02\",\"2021-10-03\",\"2021-10-04\",\"2021-10-05\",\"2021-10-06\",\"2021-10-07\",\"2021-10-08\",\"2021-10-09\",\"2021-10-10\",\"2021-10-11\",\"2021-10-12\",\"2021-10-13\",\"2021-10-14\",\"2021-10-15\",\"2021-10-16\",\"2021-10-17\",\"2021-10-18\",\"2021-10-19\",\"2021-10-20\",\"2021-10-21\",\"2021-10-22\",\"2021-10-23\",\"2021-10-24\",\"2021-10-25\",\"2021-10-26\",\"2021-10-27\",\"2021-10-28\",\"2021-10-29\",\"2021-10-30\",\"2021-10-31\",\"2021-11-01\",\"2021-11-02\",\"2021-11-03\",\"2021-11-04\",\"2021-11-05\",\"2021-11-06\",\"2021-11-07\",\"2021-11-08\",\"2021-11-09\",\"2021-11-10\",\"2021-11-11\",\"2021-11-12\",\"2021-11-13\",\"2021-11-14\",\"2021-11-15\",\"2021-11-16\",\"2021-11-17\",\"2021-11-18\",\"2021-11-19\",\"2021-11-20\",\"2021-11-21\",\"2021-11-22\",\"2021-11-23\",\"2021-11-24\",\"2021-11-25\",\"2021-11-26\",\"2021-11-27\",\"2021-11-28\",\"2021-11-29\",\"2021-11-30\",\"2021-12-01\",\"2021-12-02\",\"2021-12-03\",\"2021-12-04\",\"2021-12-05\",\"2021-12-06\",\"2021-12-07\",\"2021-12-08\",\"2021-12-09\",\"2021-12-10\",\"2021-12-11\",\"2021-12-12\",\"2021-12-13\",\"2021-12-14\",\"2021-12-15\",\"2021-12-16\",\"2021-12-17\",\"2021-12-18\",\"2021-12-19\",\"2021-12-20\",\"2021-12-21\",\"2021-12-22\",\"2021-12-23\",\"2021-12-24\",\"2021-12-25\",\"2021-12-26\",\"2021-12-27\",\"2021-12-28\",\"2021-12-29\",\"2021-12-30\",\"2021-12-31\"],\"xaxis\":\"x\",\"y\":[1804,1906,1941,3054,2816,3172,3565,3465,4152,2942,2956,2762,3514,3488,3074,4651,3552,3075,2983,2674,3306,3050,2586,2460,3229,1046,1552,1687,2081,2390,1438,2055,2299,2723,3180,2132,1943,1573,1917,2134,2295,2299,1678,1376,2067,1489,708,1584,1277,1141,1745,1998,1265,2212,2872,2946,3490,3934,2547,2138,2539,4016,2895,2977,2900,3671,3499,5327,5745,4821,4544,5885,3039,3262,3405,5206,3861,4640,11142,9782,6674,7143,5954,8895,4407,6988,2874,4987,8946,5235,4211,5177,5435,13411,7021,6658,8714,10053,8125,19924,4823,3057,7373,8994,5228,5506,9995,10541,2589,4628,3189,4325,11292,17964,9369,5886,6248,6203,3133,5227,12258,9264,4387,5025,6753,9407,7678,14017,11156,6958,6323,11983,12614,13583,24640,27029,12939,14784,14163,14153,18009,20183,24376,26023,12572,9986,12549,3625,20048,24493,13045,13931,13612,10649,15918,27346,24439,13208,9714,15111,15833,15849,25334,19601,9102,14095,14023,14812,10099,20174,19506,10777,12651,14086,14818,8110,14698,20068,13130,7943,14010,18281,11390,20472,18931,12871,13404,13457,7177,11287,23320,11095,13145,11236,20678,12344,14883,11170,18529,13280,11721,22212,15867,16871,11488,18631,13887,10911,22178,11769,16142,15283,13929,19762,14811,16841,16320,16551,15978,17520,13812,12420,14342,14383,15131,21300,19261,13834,14576,14779,16433,16898,19988,17755,14394,15699,15142,13960,17403,17927,15453,14520,15821,16208,16127,16199,20267,18787,16979,11924,15111,14611,15666,18814,13480,14058,14442,15282,16260,17005,20555,18089,14965,11853,4952,12145,14479,12768,15932,13227,14666,14937,15000,15832,19347,7472,9184,13451,14380,14271,14291,8694,13607,14973,14669,15127,14972,10470,10346,11783,11467,14159,12972,10253,11827,11567,11784,4514,5962,13682,11327,8714,5796,10255,9551,9474,9539,9615,10249,10546,11672,10520,8154,10749,10377,10254,8691,3883,7703,8716,8059,8735,8994,7901,5886,7030,7862,8318,6284,6943,6306,1759,4151,5007,7068,6887,7212,5869,4131,4907,5771,3825,4908,6683,5674,5556,6691,6718,5815,6882,6984,1874,2568,3984,4706,3633,3723,2740,1647,2656,1265,3054,3521,4065,4832],\"yaxis\":\"y\",\"type\":\"scatter\"}],                        {\"template\":{\"data\":{\"bar\":[{\"error_x\":{\"color\":\"#2a3f5f\"},\"error_y\":{\"color\":\"#2a3f5f\"},\"marker\":{\"line\":{\"color\":\"#E5ECF6\",\"width\":0.5},\"pattern\":{\"fillmode\":\"overlay\",\"size\":10,\"solidity\":0.2}},\"type\":\"bar\"}],\"barpolar\":[{\"marker\":{\"line\":{\"color\":\"#E5ECF6\",\"width\":0.5},\"pattern\":{\"fillmode\":\"overlay\",\"size\":10,\"solidity\":0.2}},\"type\":\"barpolar\"}],\"carpet\":[{\"aaxis\":{\"endlinecolor\":\"#2a3f5f\",\"gridcolor\":\"white\",\"linecolor\":\"white\",\"minorgridcolor\":\"white\",\"startlinecolor\":\"#2a3f5f\"},\"baxis\":{\"endlinecolor\":\"#2a3f5f\",\"gridcolor\":\"white\",\"linecolor\":\"white\",\"minorgridcolor\":\"white\",\"startlinecolor\":\"#2a3f5f\"},\"type\":\"carpet\"}],\"choropleth\":[{\"colorbar\":{\"outlinewidth\":0,\"ticks\":\"\"},\"type\":\"choropleth\"}],\"contour\":[{\"colorbar\":{\"outlinewidth\":0,\"ticks\":\"\"},\"colorscale\":[[0.0,\"#0d0887\"],[0.1111111111111111,\"#46039f\"],[0.2222222222222222,\"#7201a8\"],[0.3333333333333333,\"#9c179e\"],[0.4444444444444444,\"#bd3786\"],[0.5555555555555556,\"#d8576b\"],[0.6666666666666666,\"#ed7953\"],[0.7777777777777778,\"#fb9f3a\"],[0.8888888888888888,\"#fdca26\"],[1.0,\"#f0f921\"]],\"type\":\"contour\"}],\"contourcarpet\":[{\"colorbar\":{\"outlinewidth\":0,\"ticks\":\"\"},\"type\":\"contourcarpet\"}],\"heatmap\":[{\"colorbar\":{\"outlinewidth\":0,\"ticks\":\"\"},\"colorscale\":[[0.0,\"#0d0887\"],[0.1111111111111111,\"#46039f\"],[0.2222222222222222,\"#7201a8\"],[0.3333333333333333,\"#9c179e\"],[0.4444444444444444,\"#bd3786\"],[0.5555555555555556,\"#d8576b\"],[0.6666666666666666,\"#ed7953\"],[0.7777777777777778,\"#fb9f3a\"],[0.8888888888888888,\"#fdca26\"],[1.0,\"#f0f921\"]],\"type\":\"heatmap\"}],\"heatmapgl\":[{\"colorbar\":{\"outlinewidth\":0,\"ticks\":\"\"},\"colorscale\":[[0.0,\"#0d0887\"],[0.1111111111111111,\"#46039f\"],[0.2222222222222222,\"#7201a8\"],[0.3333333333333333,\"#9c179e\"],[0.4444444444444444,\"#bd3786\"],[0.5555555555555556,\"#d8576b\"],[0.6666666666666666,\"#ed7953\"],[0.7777777777777778,\"#fb9f3a\"],[0.8888888888888888,\"#fdca26\"],[1.0,\"#f0f921\"]],\"type\":\"heatmapgl\"}],\"histogram\":[{\"marker\":{\"pattern\":{\"fillmode\":\"overlay\",\"size\":10,\"solidity\":0.2}},\"type\":\"histogram\"}],\"histogram2d\":[{\"colorbar\":{\"outlinewidth\":0,\"ticks\":\"\"},\"colorscale\":[[0.0,\"#0d0887\"],[0.1111111111111111,\"#46039f\"],[0.2222222222222222,\"#7201a8\"],[0.3333333333333333,\"#9c179e\"],[0.4444444444444444,\"#bd3786\"],[0.5555555555555556,\"#d8576b\"],[0.6666666666666666,\"#ed7953\"],[0.7777777777777778,\"#fb9f3a\"],[0.8888888888888888,\"#fdca26\"],[1.0,\"#f0f921\"]],\"type\":\"histogram2d\"}],\"histogram2dcontour\":[{\"colorbar\":{\"outlinewidth\":0,\"ticks\":\"\"},\"colorscale\":[[0.0,\"#0d0887\"],[0.1111111111111111,\"#46039f\"],[0.2222222222222222,\"#7201a8\"],[0.3333333333333333,\"#9c179e\"],[0.4444444444444444,\"#bd3786\"],[0.5555555555555556,\"#d8576b\"],[0.6666666666666666,\"#ed7953\"],[0.7777777777777778,\"#fb9f3a\"],[0.8888888888888888,\"#fdca26\"],[1.0,\"#f0f921\"]],\"type\":\"histogram2dcontour\"}],\"mesh3d\":[{\"colorbar\":{\"outlinewidth\":0,\"ticks\":\"\"},\"type\":\"mesh3d\"}],\"parcoords\":[{\"line\":{\"colorbar\":{\"outlinewidth\":0,\"ticks\":\"\"}},\"type\":\"parcoords\"}],\"pie\":[{\"automargin\":true,\"type\":\"pie\"}],\"scatter\":[{\"marker\":{\"colorbar\":{\"outlinewidth\":0,\"ticks\":\"\"}},\"type\":\"scatter\"}],\"scatter3d\":[{\"line\":{\"colorbar\":{\"outlinewidth\":0,\"ticks\":\"\"}},\"marker\":{\"colorbar\":{\"outlinewidth\":0,\"ticks\":\"\"}},\"type\":\"scatter3d\"}],\"scattercarpet\":[{\"marker\":{\"colorbar\":{\"outlinewidth\":0,\"ticks\":\"\"}},\"type\":\"scattercarpet\"}],\"scattergeo\":[{\"marker\":{\"colorbar\":{\"outlinewidth\":0,\"ticks\":\"\"}},\"type\":\"scattergeo\"}],\"scattergl\":[{\"marker\":{\"colorbar\":{\"outlinewidth\":0,\"ticks\":\"\"}},\"type\":\"scattergl\"}],\"scattermapbox\":[{\"marker\":{\"colorbar\":{\"outlinewidth\":0,\"ticks\":\"\"}},\"type\":\"scattermapbox\"}],\"scatterpolar\":[{\"marker\":{\"colorbar\":{\"outlinewidth\":0,\"ticks\":\"\"}},\"type\":\"scatterpolar\"}],\"scatterpolargl\":[{\"marker\":{\"colorbar\":{\"outlinewidth\":0,\"ticks\":\"\"}},\"type\":\"scatterpolargl\"}],\"scatterternary\":[{\"marker\":{\"colorbar\":{\"outlinewidth\":0,\"ticks\":\"\"}},\"type\":\"scatterternary\"}],\"surface\":[{\"colorbar\":{\"outlinewidth\":0,\"ticks\":\"\"},\"colorscale\":[[0.0,\"#0d0887\"],[0.1111111111111111,\"#46039f\"],[0.2222222222222222,\"#7201a8\"],[0.3333333333333333,\"#9c179e\"],[0.4444444444444444,\"#bd3786\"],[0.5555555555555556,\"#d8576b\"],[0.6666666666666666,\"#ed7953\"],[0.7777777777777778,\"#fb9f3a\"],[0.8888888888888888,\"#fdca26\"],[1.0,\"#f0f921\"]],\"type\":\"surface\"}],\"table\":[{\"cells\":{\"fill\":{\"color\":\"#EBF0F8\"},\"line\":{\"color\":\"white\"}},\"header\":{\"fill\":{\"color\":\"#C8D4E3\"},\"line\":{\"color\":\"white\"}},\"type\":\"table\"}]},\"layout\":{\"annotationdefaults\":{\"arrowcolor\":\"#2a3f5f\",\"arrowhead\":0,\"arrowwidth\":1},\"autotypenumbers\":\"strict\",\"coloraxis\":{\"colorbar\":{\"outlinewidth\":0,\"ticks\":\"\"}},\"colorscale\":{\"diverging\":[[0,\"#8e0152\"],[0.1,\"#c51b7d\"],[0.2,\"#de77ae\"],[0.3,\"#f1b6da\"],[0.4,\"#fde0ef\"],[0.5,\"#f7f7f7\"],[0.6,\"#e6f5d0\"],[0.7,\"#b8e186\"],[0.8,\"#7fbc41\"],[0.9,\"#4d9221\"],[1,\"#276419\"]],\"sequential\":[[0.0,\"#0d0887\"],[0.1111111111111111,\"#46039f\"],[0.2222222222222222,\"#7201a8\"],[0.3333333333333333,\"#9c179e\"],[0.4444444444444444,\"#bd3786\"],[0.5555555555555556,\"#d8576b\"],[0.6666666666666666,\"#ed7953\"],[0.7777777777777778,\"#fb9f3a\"],[0.8888888888888888,\"#fdca26\"],[1.0,\"#f0f921\"]],\"sequentialminus\":[[0.0,\"#0d0887\"],[0.1111111111111111,\"#46039f\"],[0.2222222222222222,\"#7201a8\"],[0.3333333333333333,\"#9c179e\"],[0.4444444444444444,\"#bd3786\"],[0.5555555555555556,\"#d8576b\"],[0.6666666666666666,\"#ed7953\"],[0.7777777777777778,\"#fb9f3a\"],[0.8888888888888888,\"#fdca26\"],[1.0,\"#f0f921\"]]},\"colorway\":[\"#636efa\",\"#EF553B\",\"#00cc96\",\"#ab63fa\",\"#FFA15A\",\"#19d3f3\",\"#FF6692\",\"#B6E880\",\"#FF97FF\",\"#FECB52\"],\"font\":{\"color\":\"#2a3f5f\"},\"geo\":{\"bgcolor\":\"white\",\"lakecolor\":\"white\",\"landcolor\":\"#E5ECF6\",\"showlakes\":true,\"showland\":true,\"subunitcolor\":\"white\"},\"hoverlabel\":{\"align\":\"left\"},\"hovermode\":\"closest\",\"mapbox\":{\"style\":\"light\"},\"paper_bgcolor\":\"white\",\"plot_bgcolor\":\"#E5ECF6\",\"polar\":{\"angularaxis\":{\"gridcolor\":\"white\",\"linecolor\":\"white\",\"ticks\":\"\"},\"bgcolor\":\"#E5ECF6\",\"radialaxis\":{\"gridcolor\":\"white\",\"linecolor\":\"white\",\"ticks\":\"\"}},\"scene\":{\"xaxis\":{\"backgroundcolor\":\"#E5ECF6\",\"gridcolor\":\"white\",\"gridwidth\":2,\"linecolor\":\"white\",\"showbackground\":true,\"ticks\":\"\",\"zerolinecolor\":\"white\"},\"yaxis\":{\"backgroundcolor\":\"#E5ECF6\",\"gridcolor\":\"white\",\"gridwidth\":2,\"linecolor\":\"white\",\"showbackground\":true,\"ticks\":\"\",\"zerolinecolor\":\"white\"},\"zaxis\":{\"backgroundcolor\":\"#E5ECF6\",\"gridcolor\":\"white\",\"gridwidth\":2,\"linecolor\":\"white\",\"showbackground\":true,\"ticks\":\"\",\"zerolinecolor\":\"white\"}},\"shapedefaults\":{\"line\":{\"color\":\"#2a3f5f\"}},\"ternary\":{\"aaxis\":{\"gridcolor\":\"white\",\"linecolor\":\"white\",\"ticks\":\"\"},\"baxis\":{\"gridcolor\":\"white\",\"linecolor\":\"white\",\"ticks\":\"\"},\"bgcolor\":\"#E5ECF6\",\"caxis\":{\"gridcolor\":\"white\",\"linecolor\":\"white\",\"ticks\":\"\"}},\"title\":{\"x\":0.05},\"xaxis\":{\"automargin\":true,\"gridcolor\":\"white\",\"linecolor\":\"white\",\"ticks\":\"\",\"title\":{\"standoff\":15},\"zerolinecolor\":\"white\",\"zerolinewidth\":2},\"yaxis\":{\"automargin\":true,\"gridcolor\":\"white\",\"linecolor\":\"white\",\"ticks\":\"\",\"title\":{\"standoff\":15},\"zerolinecolor\":\"white\",\"zerolinewidth\":2}}},\"xaxis\":{\"anchor\":\"y\",\"domain\":[0.0,1.0],\"title\":{\"text\":\"Date\"}},\"yaxis\":{\"anchor\":\"x\",\"domain\":[0.0,1.0],\"title\":{\"text\":\"# of trips\"}},\"legend\":{\"tracegroupgap\":0},\"title\":{\"text\":\"Toronto Bike Share Trips 2021\"}},                        {\"responsive\": true}                    ).then(function(){\n",
       "                            \n",
       "var gd = document.getElementById('83ef9932-b8bb-42c3-941e-4f9693e56d33');\n",
       "var x = new MutationObserver(function (mutations, observer) {{\n",
       "        var display = window.getComputedStyle(gd).display;\n",
       "        if (!display || display === 'none') {{\n",
       "            console.log([gd, 'removed!']);\n",
       "            Plotly.purge(gd);\n",
       "            observer.disconnect();\n",
       "        }}\n",
       "}});\n",
       "\n",
       "// Listen for the removal of the full notebook cells\n",
       "var notebookContainer = gd.closest('#notebook-container');\n",
       "if (notebookContainer) {{\n",
       "    x.observe(notebookContainer, {childList: true});\n",
       "}}\n",
       "\n",
       "// Listen for the clearing of the current output cell\n",
       "var outputEl = gd.closest('.output');\n",
       "if (outputEl) {{\n",
       "    x.observe(outputEl, {childList: true});\n",
       "}}\n",
       "\n",
       "                        })                };                });            </script>        </div>"
      ]
     },
     "metadata": {},
     "output_type": "display_data"
    }
   ],
   "source": [
    "fig = px.line(byDate, x='Start Time', y='Start Station Id', \n",
    "              labels={'Start Time':'Date', 'Start Station Id':'# of trips'}, \n",
    "              title='Toronto Bike Share Trips 2021')\n",
    "fig.show()"
   ]
  },
  {
   "cell_type": "code",
   "execution_count": 101,
   "id": "38874804",
   "metadata": {},
   "outputs": [
    {
     "data": {
      "text/html": [
       "<div>\n",
       "<style scoped>\n",
       "    .dataframe tbody tr th:only-of-type {\n",
       "        vertical-align: middle;\n",
       "    }\n",
       "\n",
       "    .dataframe tbody tr th {\n",
       "        vertical-align: top;\n",
       "    }\n",
       "\n",
       "    .dataframe thead th {\n",
       "        text-align: right;\n",
       "    }\n",
       "</style>\n",
       "<table border=\"1\" class=\"dataframe\">\n",
       "  <thead>\n",
       "    <tr style=\"text-align: right;\">\n",
       "      <th></th>\n",
       "      <th>Start Time</th>\n",
       "      <th>Start Station Id</th>\n",
       "    </tr>\n",
       "  </thead>\n",
       "  <tbody>\n",
       "    <tr>\n",
       "      <th>0</th>\n",
       "      <td>1</td>\n",
       "      <td>82295</td>\n",
       "    </tr>\n",
       "    <tr>\n",
       "      <th>1</th>\n",
       "      <td>2</td>\n",
       "      <td>56483</td>\n",
       "    </tr>\n",
       "    <tr>\n",
       "      <th>2</th>\n",
       "      <td>3</td>\n",
       "      <td>151305</td>\n",
       "    </tr>\n",
       "    <tr>\n",
       "      <th>3</th>\n",
       "      <td>4</td>\n",
       "      <td>215679</td>\n",
       "    </tr>\n",
       "    <tr>\n",
       "      <th>4</th>\n",
       "      <td>5</td>\n",
       "      <td>409469</td>\n",
       "    </tr>\n",
       "    <tr>\n",
       "      <th>5</th>\n",
       "      <td>6</td>\n",
       "      <td>437254</td>\n",
       "    </tr>\n",
       "    <tr>\n",
       "      <th>6</th>\n",
       "      <td>7</td>\n",
       "      <td>449514</td>\n",
       "    </tr>\n",
       "    <tr>\n",
       "      <th>7</th>\n",
       "      <td>8</td>\n",
       "      <td>482637</td>\n",
       "    </tr>\n",
       "    <tr>\n",
       "      <th>8</th>\n",
       "      <td>9</td>\n",
       "      <td>444920</td>\n",
       "    </tr>\n",
       "    <tr>\n",
       "      <th>9</th>\n",
       "      <td>10</td>\n",
       "      <td>361038</td>\n",
       "    </tr>\n",
       "    <tr>\n",
       "      <th>10</th>\n",
       "      <td>11</td>\n",
       "      <td>239414</td>\n",
       "    </tr>\n",
       "    <tr>\n",
       "      <th>11</th>\n",
       "      <td>12</td>\n",
       "      <td>144282</td>\n",
       "    </tr>\n",
       "  </tbody>\n",
       "</table>\n",
       "</div>"
      ],
      "text/plain": [
       "    Start Time  Start Station Id\n",
       "0            1             82295\n",
       "1            2             56483\n",
       "2            3            151305\n",
       "3            4            215679\n",
       "4            5            409469\n",
       "5            6            437254\n",
       "6            7            449514\n",
       "7            8            482637\n",
       "8            9            444920\n",
       "9           10            361038\n",
       "10          11            239414\n",
       "11          12            144282"
      ]
     },
     "execution_count": 101,
     "metadata": {},
     "output_type": "execute_result"
    }
   ],
   "source": [
    "byMonth = df.groupby(df['Start Time'].dt.month)[\"Start Station Id\"].count()\n",
    "byMonth = byMonth.reset_index()\n",
    "\n",
    "fig = px.bar(byMonth, x='Start Time', y='Start Station Id',\n",
    "             color='Start Station Id',\n",
    "             labels={'Start Time':'Month', 'Start Station Id':'# of trips'}, \n",
    "             title='Toronto Bike Share Trips 2021', height=500)\n",
    "fig.show()"
   ]
  },
  {
   "cell_type": "code",
   "execution_count": 102,
   "id": "8062653d",
   "metadata": {},
   "outputs": [
    {
     "data": {
      "application/vnd.plotly.v1+json": {
       "config": {
        "plotlyServerURL": "https://plot.ly"
       },
       "data": [
        {
         "alignmentgroup": "True",
         "hovertemplate": "Month=%{x}<br># of trips=%{marker.color}<extra></extra>",
         "legendgroup": "",
         "marker": {
          "color": [
           82295,
           56483,
           151305,
           215679,
           409469,
           437254,
           449514,
           482637,
           444920,
           361038,
           239414,
           144282
          ],
          "coloraxis": "coloraxis",
          "pattern": {
           "shape": ""
          }
         },
         "name": "",
         "offsetgroup": "",
         "orientation": "v",
         "showlegend": false,
         "textposition": "auto",
         "type": "bar",
         "x": [
          1,
          2,
          3,
          4,
          5,
          6,
          7,
          8,
          9,
          10,
          11,
          12
         ],
         "xaxis": "x",
         "y": [
          82295,
          56483,
          151305,
          215679,
          409469,
          437254,
          449514,
          482637,
          444920,
          361038,
          239414,
          144282
         ],
         "yaxis": "y"
        }
       ],
       "layout": {
        "barmode": "relative",
        "coloraxis": {
         "colorbar": {
          "title": {
           "text": "# of trips"
          }
         },
         "colorscale": [
          [
           0,
           "#0d0887"
          ],
          [
           0.1111111111111111,
           "#46039f"
          ],
          [
           0.2222222222222222,
           "#7201a8"
          ],
          [
           0.3333333333333333,
           "#9c179e"
          ],
          [
           0.4444444444444444,
           "#bd3786"
          ],
          [
           0.5555555555555556,
           "#d8576b"
          ],
          [
           0.6666666666666666,
           "#ed7953"
          ],
          [
           0.7777777777777778,
           "#fb9f3a"
          ],
          [
           0.8888888888888888,
           "#fdca26"
          ],
          [
           1,
           "#f0f921"
          ]
         ]
        },
        "height": 500,
        "legend": {
         "tracegroupgap": 0
        },
        "template": {
         "data": {
          "bar": [
           {
            "error_x": {
             "color": "#2a3f5f"
            },
            "error_y": {
             "color": "#2a3f5f"
            },
            "marker": {
             "line": {
              "color": "#E5ECF6",
              "width": 0.5
             },
             "pattern": {
              "fillmode": "overlay",
              "size": 10,
              "solidity": 0.2
             }
            },
            "type": "bar"
           }
          ],
          "barpolar": [
           {
            "marker": {
             "line": {
              "color": "#E5ECF6",
              "width": 0.5
             },
             "pattern": {
              "fillmode": "overlay",
              "size": 10,
              "solidity": 0.2
             }
            },
            "type": "barpolar"
           }
          ],
          "carpet": [
           {
            "aaxis": {
             "endlinecolor": "#2a3f5f",
             "gridcolor": "white",
             "linecolor": "white",
             "minorgridcolor": "white",
             "startlinecolor": "#2a3f5f"
            },
            "baxis": {
             "endlinecolor": "#2a3f5f",
             "gridcolor": "white",
             "linecolor": "white",
             "minorgridcolor": "white",
             "startlinecolor": "#2a3f5f"
            },
            "type": "carpet"
           }
          ],
          "choropleth": [
           {
            "colorbar": {
             "outlinewidth": 0,
             "ticks": ""
            },
            "type": "choropleth"
           }
          ],
          "contour": [
           {
            "colorbar": {
             "outlinewidth": 0,
             "ticks": ""
            },
            "colorscale": [
             [
              0,
              "#0d0887"
             ],
             [
              0.1111111111111111,
              "#46039f"
             ],
             [
              0.2222222222222222,
              "#7201a8"
             ],
             [
              0.3333333333333333,
              "#9c179e"
             ],
             [
              0.4444444444444444,
              "#bd3786"
             ],
             [
              0.5555555555555556,
              "#d8576b"
             ],
             [
              0.6666666666666666,
              "#ed7953"
             ],
             [
              0.7777777777777778,
              "#fb9f3a"
             ],
             [
              0.8888888888888888,
              "#fdca26"
             ],
             [
              1,
              "#f0f921"
             ]
            ],
            "type": "contour"
           }
          ],
          "contourcarpet": [
           {
            "colorbar": {
             "outlinewidth": 0,
             "ticks": ""
            },
            "type": "contourcarpet"
           }
          ],
          "heatmap": [
           {
            "colorbar": {
             "outlinewidth": 0,
             "ticks": ""
            },
            "colorscale": [
             [
              0,
              "#0d0887"
             ],
             [
              0.1111111111111111,
              "#46039f"
             ],
             [
              0.2222222222222222,
              "#7201a8"
             ],
             [
              0.3333333333333333,
              "#9c179e"
             ],
             [
              0.4444444444444444,
              "#bd3786"
             ],
             [
              0.5555555555555556,
              "#d8576b"
             ],
             [
              0.6666666666666666,
              "#ed7953"
             ],
             [
              0.7777777777777778,
              "#fb9f3a"
             ],
             [
              0.8888888888888888,
              "#fdca26"
             ],
             [
              1,
              "#f0f921"
             ]
            ],
            "type": "heatmap"
           }
          ],
          "heatmapgl": [
           {
            "colorbar": {
             "outlinewidth": 0,
             "ticks": ""
            },
            "colorscale": [
             [
              0,
              "#0d0887"
             ],
             [
              0.1111111111111111,
              "#46039f"
             ],
             [
              0.2222222222222222,
              "#7201a8"
             ],
             [
              0.3333333333333333,
              "#9c179e"
             ],
             [
              0.4444444444444444,
              "#bd3786"
             ],
             [
              0.5555555555555556,
              "#d8576b"
             ],
             [
              0.6666666666666666,
              "#ed7953"
             ],
             [
              0.7777777777777778,
              "#fb9f3a"
             ],
             [
              0.8888888888888888,
              "#fdca26"
             ],
             [
              1,
              "#f0f921"
             ]
            ],
            "type": "heatmapgl"
           }
          ],
          "histogram": [
           {
            "marker": {
             "pattern": {
              "fillmode": "overlay",
              "size": 10,
              "solidity": 0.2
             }
            },
            "type": "histogram"
           }
          ],
          "histogram2d": [
           {
            "colorbar": {
             "outlinewidth": 0,
             "ticks": ""
            },
            "colorscale": [
             [
              0,
              "#0d0887"
             ],
             [
              0.1111111111111111,
              "#46039f"
             ],
             [
              0.2222222222222222,
              "#7201a8"
             ],
             [
              0.3333333333333333,
              "#9c179e"
             ],
             [
              0.4444444444444444,
              "#bd3786"
             ],
             [
              0.5555555555555556,
              "#d8576b"
             ],
             [
              0.6666666666666666,
              "#ed7953"
             ],
             [
              0.7777777777777778,
              "#fb9f3a"
             ],
             [
              0.8888888888888888,
              "#fdca26"
             ],
             [
              1,
              "#f0f921"
             ]
            ],
            "type": "histogram2d"
           }
          ],
          "histogram2dcontour": [
           {
            "colorbar": {
             "outlinewidth": 0,
             "ticks": ""
            },
            "colorscale": [
             [
              0,
              "#0d0887"
             ],
             [
              0.1111111111111111,
              "#46039f"
             ],
             [
              0.2222222222222222,
              "#7201a8"
             ],
             [
              0.3333333333333333,
              "#9c179e"
             ],
             [
              0.4444444444444444,
              "#bd3786"
             ],
             [
              0.5555555555555556,
              "#d8576b"
             ],
             [
              0.6666666666666666,
              "#ed7953"
             ],
             [
              0.7777777777777778,
              "#fb9f3a"
             ],
             [
              0.8888888888888888,
              "#fdca26"
             ],
             [
              1,
              "#f0f921"
             ]
            ],
            "type": "histogram2dcontour"
           }
          ],
          "mesh3d": [
           {
            "colorbar": {
             "outlinewidth": 0,
             "ticks": ""
            },
            "type": "mesh3d"
           }
          ],
          "parcoords": [
           {
            "line": {
             "colorbar": {
              "outlinewidth": 0,
              "ticks": ""
             }
            },
            "type": "parcoords"
           }
          ],
          "pie": [
           {
            "automargin": true,
            "type": "pie"
           }
          ],
          "scatter": [
           {
            "marker": {
             "colorbar": {
              "outlinewidth": 0,
              "ticks": ""
             }
            },
            "type": "scatter"
           }
          ],
          "scatter3d": [
           {
            "line": {
             "colorbar": {
              "outlinewidth": 0,
              "ticks": ""
             }
            },
            "marker": {
             "colorbar": {
              "outlinewidth": 0,
              "ticks": ""
             }
            },
            "type": "scatter3d"
           }
          ],
          "scattercarpet": [
           {
            "marker": {
             "colorbar": {
              "outlinewidth": 0,
              "ticks": ""
             }
            },
            "type": "scattercarpet"
           }
          ],
          "scattergeo": [
           {
            "marker": {
             "colorbar": {
              "outlinewidth": 0,
              "ticks": ""
             }
            },
            "type": "scattergeo"
           }
          ],
          "scattergl": [
           {
            "marker": {
             "colorbar": {
              "outlinewidth": 0,
              "ticks": ""
             }
            },
            "type": "scattergl"
           }
          ],
          "scattermapbox": [
           {
            "marker": {
             "colorbar": {
              "outlinewidth": 0,
              "ticks": ""
             }
            },
            "type": "scattermapbox"
           }
          ],
          "scatterpolar": [
           {
            "marker": {
             "colorbar": {
              "outlinewidth": 0,
              "ticks": ""
             }
            },
            "type": "scatterpolar"
           }
          ],
          "scatterpolargl": [
           {
            "marker": {
             "colorbar": {
              "outlinewidth": 0,
              "ticks": ""
             }
            },
            "type": "scatterpolargl"
           }
          ],
          "scatterternary": [
           {
            "marker": {
             "colorbar": {
              "outlinewidth": 0,
              "ticks": ""
             }
            },
            "type": "scatterternary"
           }
          ],
          "surface": [
           {
            "colorbar": {
             "outlinewidth": 0,
             "ticks": ""
            },
            "colorscale": [
             [
              0,
              "#0d0887"
             ],
             [
              0.1111111111111111,
              "#46039f"
             ],
             [
              0.2222222222222222,
              "#7201a8"
             ],
             [
              0.3333333333333333,
              "#9c179e"
             ],
             [
              0.4444444444444444,
              "#bd3786"
             ],
             [
              0.5555555555555556,
              "#d8576b"
             ],
             [
              0.6666666666666666,
              "#ed7953"
             ],
             [
              0.7777777777777778,
              "#fb9f3a"
             ],
             [
              0.8888888888888888,
              "#fdca26"
             ],
             [
              1,
              "#f0f921"
             ]
            ],
            "type": "surface"
           }
          ],
          "table": [
           {
            "cells": {
             "fill": {
              "color": "#EBF0F8"
             },
             "line": {
              "color": "white"
             }
            },
            "header": {
             "fill": {
              "color": "#C8D4E3"
             },
             "line": {
              "color": "white"
             }
            },
            "type": "table"
           }
          ]
         },
         "layout": {
          "annotationdefaults": {
           "arrowcolor": "#2a3f5f",
           "arrowhead": 0,
           "arrowwidth": 1
          },
          "autotypenumbers": "strict",
          "coloraxis": {
           "colorbar": {
            "outlinewidth": 0,
            "ticks": ""
           }
          },
          "colorscale": {
           "diverging": [
            [
             0,
             "#8e0152"
            ],
            [
             0.1,
             "#c51b7d"
            ],
            [
             0.2,
             "#de77ae"
            ],
            [
             0.3,
             "#f1b6da"
            ],
            [
             0.4,
             "#fde0ef"
            ],
            [
             0.5,
             "#f7f7f7"
            ],
            [
             0.6,
             "#e6f5d0"
            ],
            [
             0.7,
             "#b8e186"
            ],
            [
             0.8,
             "#7fbc41"
            ],
            [
             0.9,
             "#4d9221"
            ],
            [
             1,
             "#276419"
            ]
           ],
           "sequential": [
            [
             0,
             "#0d0887"
            ],
            [
             0.1111111111111111,
             "#46039f"
            ],
            [
             0.2222222222222222,
             "#7201a8"
            ],
            [
             0.3333333333333333,
             "#9c179e"
            ],
            [
             0.4444444444444444,
             "#bd3786"
            ],
            [
             0.5555555555555556,
             "#d8576b"
            ],
            [
             0.6666666666666666,
             "#ed7953"
            ],
            [
             0.7777777777777778,
             "#fb9f3a"
            ],
            [
             0.8888888888888888,
             "#fdca26"
            ],
            [
             1,
             "#f0f921"
            ]
           ],
           "sequentialminus": [
            [
             0,
             "#0d0887"
            ],
            [
             0.1111111111111111,
             "#46039f"
            ],
            [
             0.2222222222222222,
             "#7201a8"
            ],
            [
             0.3333333333333333,
             "#9c179e"
            ],
            [
             0.4444444444444444,
             "#bd3786"
            ],
            [
             0.5555555555555556,
             "#d8576b"
            ],
            [
             0.6666666666666666,
             "#ed7953"
            ],
            [
             0.7777777777777778,
             "#fb9f3a"
            ],
            [
             0.8888888888888888,
             "#fdca26"
            ],
            [
             1,
             "#f0f921"
            ]
           ]
          },
          "colorway": [
           "#636efa",
           "#EF553B",
           "#00cc96",
           "#ab63fa",
           "#FFA15A",
           "#19d3f3",
           "#FF6692",
           "#B6E880",
           "#FF97FF",
           "#FECB52"
          ],
          "font": {
           "color": "#2a3f5f"
          },
          "geo": {
           "bgcolor": "white",
           "lakecolor": "white",
           "landcolor": "#E5ECF6",
           "showlakes": true,
           "showland": true,
           "subunitcolor": "white"
          },
          "hoverlabel": {
           "align": "left"
          },
          "hovermode": "closest",
          "mapbox": {
           "style": "light"
          },
          "paper_bgcolor": "white",
          "plot_bgcolor": "#E5ECF6",
          "polar": {
           "angularaxis": {
            "gridcolor": "white",
            "linecolor": "white",
            "ticks": ""
           },
           "bgcolor": "#E5ECF6",
           "radialaxis": {
            "gridcolor": "white",
            "linecolor": "white",
            "ticks": ""
           }
          },
          "scene": {
           "xaxis": {
            "backgroundcolor": "#E5ECF6",
            "gridcolor": "white",
            "gridwidth": 2,
            "linecolor": "white",
            "showbackground": true,
            "ticks": "",
            "zerolinecolor": "white"
           },
           "yaxis": {
            "backgroundcolor": "#E5ECF6",
            "gridcolor": "white",
            "gridwidth": 2,
            "linecolor": "white",
            "showbackground": true,
            "ticks": "",
            "zerolinecolor": "white"
           },
           "zaxis": {
            "backgroundcolor": "#E5ECF6",
            "gridcolor": "white",
            "gridwidth": 2,
            "linecolor": "white",
            "showbackground": true,
            "ticks": "",
            "zerolinecolor": "white"
           }
          },
          "shapedefaults": {
           "line": {
            "color": "#2a3f5f"
           }
          },
          "ternary": {
           "aaxis": {
            "gridcolor": "white",
            "linecolor": "white",
            "ticks": ""
           },
           "baxis": {
            "gridcolor": "white",
            "linecolor": "white",
            "ticks": ""
           },
           "bgcolor": "#E5ECF6",
           "caxis": {
            "gridcolor": "white",
            "linecolor": "white",
            "ticks": ""
           }
          },
          "title": {
           "x": 0.05
          },
          "xaxis": {
           "automargin": true,
           "gridcolor": "white",
           "linecolor": "white",
           "ticks": "",
           "title": {
            "standoff": 15
           },
           "zerolinecolor": "white",
           "zerolinewidth": 2
          },
          "yaxis": {
           "automargin": true,
           "gridcolor": "white",
           "linecolor": "white",
           "ticks": "",
           "title": {
            "standoff": 15
           },
           "zerolinecolor": "white",
           "zerolinewidth": 2
          }
         }
        },
        "title": {
         "text": "Toronto Bike Share Trips 2021"
        },
        "xaxis": {
         "anchor": "y",
         "domain": [
          0,
          1
         ],
         "title": {
          "text": "Month"
         }
        },
        "yaxis": {
         "anchor": "x",
         "domain": [
          0,
          1
         ],
         "title": {
          "text": "# of trips"
         }
        }
       }
      },
      "text/html": [
       "<div>                            <div id=\"a0099252-9ca6-49aa-b8c2-8350fb30a1fd\" class=\"plotly-graph-div\" style=\"height:500px; width:100%;\"></div>            <script type=\"text/javascript\">                require([\"plotly\"], function(Plotly) {                    window.PLOTLYENV=window.PLOTLYENV || {};                                    if (document.getElementById(\"a0099252-9ca6-49aa-b8c2-8350fb30a1fd\")) {                    Plotly.newPlot(                        \"a0099252-9ca6-49aa-b8c2-8350fb30a1fd\",                        [{\"alignmentgroup\":\"True\",\"hovertemplate\":\"Month=%{x}<br># of trips=%{marker.color}<extra></extra>\",\"legendgroup\":\"\",\"marker\":{\"color\":[82295,56483,151305,215679,409469,437254,449514,482637,444920,361038,239414,144282],\"coloraxis\":\"coloraxis\",\"pattern\":{\"shape\":\"\"}},\"name\":\"\",\"offsetgroup\":\"\",\"orientation\":\"v\",\"showlegend\":false,\"textposition\":\"auto\",\"x\":[1,2,3,4,5,6,7,8,9,10,11,12],\"xaxis\":\"x\",\"y\":[82295,56483,151305,215679,409469,437254,449514,482637,444920,361038,239414,144282],\"yaxis\":\"y\",\"type\":\"bar\"}],                        {\"template\":{\"data\":{\"bar\":[{\"error_x\":{\"color\":\"#2a3f5f\"},\"error_y\":{\"color\":\"#2a3f5f\"},\"marker\":{\"line\":{\"color\":\"#E5ECF6\",\"width\":0.5},\"pattern\":{\"fillmode\":\"overlay\",\"size\":10,\"solidity\":0.2}},\"type\":\"bar\"}],\"barpolar\":[{\"marker\":{\"line\":{\"color\":\"#E5ECF6\",\"width\":0.5},\"pattern\":{\"fillmode\":\"overlay\",\"size\":10,\"solidity\":0.2}},\"type\":\"barpolar\"}],\"carpet\":[{\"aaxis\":{\"endlinecolor\":\"#2a3f5f\",\"gridcolor\":\"white\",\"linecolor\":\"white\",\"minorgridcolor\":\"white\",\"startlinecolor\":\"#2a3f5f\"},\"baxis\":{\"endlinecolor\":\"#2a3f5f\",\"gridcolor\":\"white\",\"linecolor\":\"white\",\"minorgridcolor\":\"white\",\"startlinecolor\":\"#2a3f5f\"},\"type\":\"carpet\"}],\"choropleth\":[{\"colorbar\":{\"outlinewidth\":0,\"ticks\":\"\"},\"type\":\"choropleth\"}],\"contour\":[{\"colorbar\":{\"outlinewidth\":0,\"ticks\":\"\"},\"colorscale\":[[0.0,\"#0d0887\"],[0.1111111111111111,\"#46039f\"],[0.2222222222222222,\"#7201a8\"],[0.3333333333333333,\"#9c179e\"],[0.4444444444444444,\"#bd3786\"],[0.5555555555555556,\"#d8576b\"],[0.6666666666666666,\"#ed7953\"],[0.7777777777777778,\"#fb9f3a\"],[0.8888888888888888,\"#fdca26\"],[1.0,\"#f0f921\"]],\"type\":\"contour\"}],\"contourcarpet\":[{\"colorbar\":{\"outlinewidth\":0,\"ticks\":\"\"},\"type\":\"contourcarpet\"}],\"heatmap\":[{\"colorbar\":{\"outlinewidth\":0,\"ticks\":\"\"},\"colorscale\":[[0.0,\"#0d0887\"],[0.1111111111111111,\"#46039f\"],[0.2222222222222222,\"#7201a8\"],[0.3333333333333333,\"#9c179e\"],[0.4444444444444444,\"#bd3786\"],[0.5555555555555556,\"#d8576b\"],[0.6666666666666666,\"#ed7953\"],[0.7777777777777778,\"#fb9f3a\"],[0.8888888888888888,\"#fdca26\"],[1.0,\"#f0f921\"]],\"type\":\"heatmap\"}],\"heatmapgl\":[{\"colorbar\":{\"outlinewidth\":0,\"ticks\":\"\"},\"colorscale\":[[0.0,\"#0d0887\"],[0.1111111111111111,\"#46039f\"],[0.2222222222222222,\"#7201a8\"],[0.3333333333333333,\"#9c179e\"],[0.4444444444444444,\"#bd3786\"],[0.5555555555555556,\"#d8576b\"],[0.6666666666666666,\"#ed7953\"],[0.7777777777777778,\"#fb9f3a\"],[0.8888888888888888,\"#fdca26\"],[1.0,\"#f0f921\"]],\"type\":\"heatmapgl\"}],\"histogram\":[{\"marker\":{\"pattern\":{\"fillmode\":\"overlay\",\"size\":10,\"solidity\":0.2}},\"type\":\"histogram\"}],\"histogram2d\":[{\"colorbar\":{\"outlinewidth\":0,\"ticks\":\"\"},\"colorscale\":[[0.0,\"#0d0887\"],[0.1111111111111111,\"#46039f\"],[0.2222222222222222,\"#7201a8\"],[0.3333333333333333,\"#9c179e\"],[0.4444444444444444,\"#bd3786\"],[0.5555555555555556,\"#d8576b\"],[0.6666666666666666,\"#ed7953\"],[0.7777777777777778,\"#fb9f3a\"],[0.8888888888888888,\"#fdca26\"],[1.0,\"#f0f921\"]],\"type\":\"histogram2d\"}],\"histogram2dcontour\":[{\"colorbar\":{\"outlinewidth\":0,\"ticks\":\"\"},\"colorscale\":[[0.0,\"#0d0887\"],[0.1111111111111111,\"#46039f\"],[0.2222222222222222,\"#7201a8\"],[0.3333333333333333,\"#9c179e\"],[0.4444444444444444,\"#bd3786\"],[0.5555555555555556,\"#d8576b\"],[0.6666666666666666,\"#ed7953\"],[0.7777777777777778,\"#fb9f3a\"],[0.8888888888888888,\"#fdca26\"],[1.0,\"#f0f921\"]],\"type\":\"histogram2dcontour\"}],\"mesh3d\":[{\"colorbar\":{\"outlinewidth\":0,\"ticks\":\"\"},\"type\":\"mesh3d\"}],\"parcoords\":[{\"line\":{\"colorbar\":{\"outlinewidth\":0,\"ticks\":\"\"}},\"type\":\"parcoords\"}],\"pie\":[{\"automargin\":true,\"type\":\"pie\"}],\"scatter\":[{\"marker\":{\"colorbar\":{\"outlinewidth\":0,\"ticks\":\"\"}},\"type\":\"scatter\"}],\"scatter3d\":[{\"line\":{\"colorbar\":{\"outlinewidth\":0,\"ticks\":\"\"}},\"marker\":{\"colorbar\":{\"outlinewidth\":0,\"ticks\":\"\"}},\"type\":\"scatter3d\"}],\"scattercarpet\":[{\"marker\":{\"colorbar\":{\"outlinewidth\":0,\"ticks\":\"\"}},\"type\":\"scattercarpet\"}],\"scattergeo\":[{\"marker\":{\"colorbar\":{\"outlinewidth\":0,\"ticks\":\"\"}},\"type\":\"scattergeo\"}],\"scattergl\":[{\"marker\":{\"colorbar\":{\"outlinewidth\":0,\"ticks\":\"\"}},\"type\":\"scattergl\"}],\"scattermapbox\":[{\"marker\":{\"colorbar\":{\"outlinewidth\":0,\"ticks\":\"\"}},\"type\":\"scattermapbox\"}],\"scatterpolar\":[{\"marker\":{\"colorbar\":{\"outlinewidth\":0,\"ticks\":\"\"}},\"type\":\"scatterpolar\"}],\"scatterpolargl\":[{\"marker\":{\"colorbar\":{\"outlinewidth\":0,\"ticks\":\"\"}},\"type\":\"scatterpolargl\"}],\"scatterternary\":[{\"marker\":{\"colorbar\":{\"outlinewidth\":0,\"ticks\":\"\"}},\"type\":\"scatterternary\"}],\"surface\":[{\"colorbar\":{\"outlinewidth\":0,\"ticks\":\"\"},\"colorscale\":[[0.0,\"#0d0887\"],[0.1111111111111111,\"#46039f\"],[0.2222222222222222,\"#7201a8\"],[0.3333333333333333,\"#9c179e\"],[0.4444444444444444,\"#bd3786\"],[0.5555555555555556,\"#d8576b\"],[0.6666666666666666,\"#ed7953\"],[0.7777777777777778,\"#fb9f3a\"],[0.8888888888888888,\"#fdca26\"],[1.0,\"#f0f921\"]],\"type\":\"surface\"}],\"table\":[{\"cells\":{\"fill\":{\"color\":\"#EBF0F8\"},\"line\":{\"color\":\"white\"}},\"header\":{\"fill\":{\"color\":\"#C8D4E3\"},\"line\":{\"color\":\"white\"}},\"type\":\"table\"}]},\"layout\":{\"annotationdefaults\":{\"arrowcolor\":\"#2a3f5f\",\"arrowhead\":0,\"arrowwidth\":1},\"autotypenumbers\":\"strict\",\"coloraxis\":{\"colorbar\":{\"outlinewidth\":0,\"ticks\":\"\"}},\"colorscale\":{\"diverging\":[[0,\"#8e0152\"],[0.1,\"#c51b7d\"],[0.2,\"#de77ae\"],[0.3,\"#f1b6da\"],[0.4,\"#fde0ef\"],[0.5,\"#f7f7f7\"],[0.6,\"#e6f5d0\"],[0.7,\"#b8e186\"],[0.8,\"#7fbc41\"],[0.9,\"#4d9221\"],[1,\"#276419\"]],\"sequential\":[[0.0,\"#0d0887\"],[0.1111111111111111,\"#46039f\"],[0.2222222222222222,\"#7201a8\"],[0.3333333333333333,\"#9c179e\"],[0.4444444444444444,\"#bd3786\"],[0.5555555555555556,\"#d8576b\"],[0.6666666666666666,\"#ed7953\"],[0.7777777777777778,\"#fb9f3a\"],[0.8888888888888888,\"#fdca26\"],[1.0,\"#f0f921\"]],\"sequentialminus\":[[0.0,\"#0d0887\"],[0.1111111111111111,\"#46039f\"],[0.2222222222222222,\"#7201a8\"],[0.3333333333333333,\"#9c179e\"],[0.4444444444444444,\"#bd3786\"],[0.5555555555555556,\"#d8576b\"],[0.6666666666666666,\"#ed7953\"],[0.7777777777777778,\"#fb9f3a\"],[0.8888888888888888,\"#fdca26\"],[1.0,\"#f0f921\"]]},\"colorway\":[\"#636efa\",\"#EF553B\",\"#00cc96\",\"#ab63fa\",\"#FFA15A\",\"#19d3f3\",\"#FF6692\",\"#B6E880\",\"#FF97FF\",\"#FECB52\"],\"font\":{\"color\":\"#2a3f5f\"},\"geo\":{\"bgcolor\":\"white\",\"lakecolor\":\"white\",\"landcolor\":\"#E5ECF6\",\"showlakes\":true,\"showland\":true,\"subunitcolor\":\"white\"},\"hoverlabel\":{\"align\":\"left\"},\"hovermode\":\"closest\",\"mapbox\":{\"style\":\"light\"},\"paper_bgcolor\":\"white\",\"plot_bgcolor\":\"#E5ECF6\",\"polar\":{\"angularaxis\":{\"gridcolor\":\"white\",\"linecolor\":\"white\",\"ticks\":\"\"},\"bgcolor\":\"#E5ECF6\",\"radialaxis\":{\"gridcolor\":\"white\",\"linecolor\":\"white\",\"ticks\":\"\"}},\"scene\":{\"xaxis\":{\"backgroundcolor\":\"#E5ECF6\",\"gridcolor\":\"white\",\"gridwidth\":2,\"linecolor\":\"white\",\"showbackground\":true,\"ticks\":\"\",\"zerolinecolor\":\"white\"},\"yaxis\":{\"backgroundcolor\":\"#E5ECF6\",\"gridcolor\":\"white\",\"gridwidth\":2,\"linecolor\":\"white\",\"showbackground\":true,\"ticks\":\"\",\"zerolinecolor\":\"white\"},\"zaxis\":{\"backgroundcolor\":\"#E5ECF6\",\"gridcolor\":\"white\",\"gridwidth\":2,\"linecolor\":\"white\",\"showbackground\":true,\"ticks\":\"\",\"zerolinecolor\":\"white\"}},\"shapedefaults\":{\"line\":{\"color\":\"#2a3f5f\"}},\"ternary\":{\"aaxis\":{\"gridcolor\":\"white\",\"linecolor\":\"white\",\"ticks\":\"\"},\"baxis\":{\"gridcolor\":\"white\",\"linecolor\":\"white\",\"ticks\":\"\"},\"bgcolor\":\"#E5ECF6\",\"caxis\":{\"gridcolor\":\"white\",\"linecolor\":\"white\",\"ticks\":\"\"}},\"title\":{\"x\":0.05},\"xaxis\":{\"automargin\":true,\"gridcolor\":\"white\",\"linecolor\":\"white\",\"ticks\":\"\",\"title\":{\"standoff\":15},\"zerolinecolor\":\"white\",\"zerolinewidth\":2},\"yaxis\":{\"automargin\":true,\"gridcolor\":\"white\",\"linecolor\":\"white\",\"ticks\":\"\",\"title\":{\"standoff\":15},\"zerolinecolor\":\"white\",\"zerolinewidth\":2}}},\"xaxis\":{\"anchor\":\"y\",\"domain\":[0.0,1.0],\"title\":{\"text\":\"Month\"}},\"yaxis\":{\"anchor\":\"x\",\"domain\":[0.0,1.0],\"title\":{\"text\":\"# of trips\"}},\"coloraxis\":{\"colorbar\":{\"title\":{\"text\":\"# of trips\"}},\"colorscale\":[[0.0,\"#0d0887\"],[0.1111111111111111,\"#46039f\"],[0.2222222222222222,\"#7201a8\"],[0.3333333333333333,\"#9c179e\"],[0.4444444444444444,\"#bd3786\"],[0.5555555555555556,\"#d8576b\"],[0.6666666666666666,\"#ed7953\"],[0.7777777777777778,\"#fb9f3a\"],[0.8888888888888888,\"#fdca26\"],[1.0,\"#f0f921\"]]},\"legend\":{\"tracegroupgap\":0},\"title\":{\"text\":\"Toronto Bike Share Trips 2021\"},\"barmode\":\"relative\",\"height\":500},                        {\"responsive\": true}                    ).then(function(){\n",
       "                            \n",
       "var gd = document.getElementById('a0099252-9ca6-49aa-b8c2-8350fb30a1fd');\n",
       "var x = new MutationObserver(function (mutations, observer) {{\n",
       "        var display = window.getComputedStyle(gd).display;\n",
       "        if (!display || display === 'none') {{\n",
       "            console.log([gd, 'removed!']);\n",
       "            Plotly.purge(gd);\n",
       "            observer.disconnect();\n",
       "        }}\n",
       "}});\n",
       "\n",
       "// Listen for the removal of the full notebook cells\n",
       "var notebookContainer = gd.closest('#notebook-container');\n",
       "if (notebookContainer) {{\n",
       "    x.observe(notebookContainer, {childList: true});\n",
       "}}\n",
       "\n",
       "// Listen for the clearing of the current output cell\n",
       "var outputEl = gd.closest('.output');\n",
       "if (outputEl) {{\n",
       "    x.observe(outputEl, {childList: true});\n",
       "}}\n",
       "\n",
       "                        })                };                });            </script>        </div>"
      ]
     },
     "metadata": {},
     "output_type": "display_data"
    }
   ],
   "source": []
  },
  {
   "cell_type": "markdown",
   "id": "968a2426",
   "metadata": {},
   "source": [
    "### What factors affected ridership?\n",
    "\n",
    "The monthly ridership plot revealed the impact of weather: summer definitely is the season when more people use Share Bike Toronto\n",
    "\n",
    "From the ridership plot by each day of 2021, we found a few outstanding \"spikes\" on: 05/16, 05/24, 06/05, 06/12, 07/10.\n",
    "\n",
    "All these days seemed to be gamedays (baseball and basketball), although the baseball game didn't return to Rogers Centre until Jul 30."
   ]
  },
  {
   "cell_type": "code",
   "execution_count": 116,
   "id": "eea4a034",
   "metadata": {},
   "outputs": [
    {
     "data": {
      "text/html": [
       "<div>\n",
       "<style scoped>\n",
       "    .dataframe tbody tr th:only-of-type {\n",
       "        vertical-align: middle;\n",
       "    }\n",
       "\n",
       "    .dataframe tbody tr th {\n",
       "        vertical-align: top;\n",
       "    }\n",
       "\n",
       "    .dataframe thead th {\n",
       "        text-align: right;\n",
       "    }\n",
       "</style>\n",
       "<table border=\"1\" class=\"dataframe\">\n",
       "  <thead>\n",
       "    <tr style=\"text-align: right;\">\n",
       "      <th></th>\n",
       "      <th>_id</th>\n",
       "      <th>Assigned_ID</th>\n",
       "      <th>Outbreak Associated</th>\n",
       "      <th>Age Group</th>\n",
       "      <th>Neighbourhood Name</th>\n",
       "      <th>FSA</th>\n",
       "      <th>Source of Infection</th>\n",
       "      <th>Classification</th>\n",
       "      <th>Episode Date</th>\n",
       "      <th>Reported Date</th>\n",
       "      <th>Client Gender</th>\n",
       "      <th>Outcome</th>\n",
       "      <th>Currently Hospitalized</th>\n",
       "      <th>Currently in ICU</th>\n",
       "      <th>Currently Intubated</th>\n",
       "      <th>Ever Hospitalized</th>\n",
       "      <th>Ever in ICU</th>\n",
       "      <th>Ever Intubated</th>\n",
       "    </tr>\n",
       "  </thead>\n",
       "  <tbody>\n",
       "    <tr>\n",
       "      <th>0</th>\n",
       "      <td>6488576</td>\n",
       "      <td>1</td>\n",
       "      <td>Sporadic</td>\n",
       "      <td>50 to 59 Years</td>\n",
       "      <td>Willowdale East</td>\n",
       "      <td>M2N</td>\n",
       "      <td>Travel</td>\n",
       "      <td>CONFIRMED</td>\n",
       "      <td>2020-01-22</td>\n",
       "      <td>2020-01-23</td>\n",
       "      <td>FEMALE</td>\n",
       "      <td>RESOLVED</td>\n",
       "      <td>No</td>\n",
       "      <td>No</td>\n",
       "      <td>No</td>\n",
       "      <td>No</td>\n",
       "      <td>No</td>\n",
       "      <td>No</td>\n",
       "    </tr>\n",
       "    <tr>\n",
       "      <th>1</th>\n",
       "      <td>6488577</td>\n",
       "      <td>2</td>\n",
       "      <td>Sporadic</td>\n",
       "      <td>50 to 59 Years</td>\n",
       "      <td>Willowdale East</td>\n",
       "      <td>M2N</td>\n",
       "      <td>Travel</td>\n",
       "      <td>CONFIRMED</td>\n",
       "      <td>2020-01-21</td>\n",
       "      <td>2020-01-23</td>\n",
       "      <td>MALE</td>\n",
       "      <td>RESOLVED</td>\n",
       "      <td>No</td>\n",
       "      <td>No</td>\n",
       "      <td>No</td>\n",
       "      <td>Yes</td>\n",
       "      <td>No</td>\n",
       "      <td>No</td>\n",
       "    </tr>\n",
       "    <tr>\n",
       "      <th>2</th>\n",
       "      <td>6488578</td>\n",
       "      <td>3</td>\n",
       "      <td>Sporadic</td>\n",
       "      <td>20 to 29 Years</td>\n",
       "      <td>Parkwoods-Donalda</td>\n",
       "      <td>M3A</td>\n",
       "      <td>Travel</td>\n",
       "      <td>CONFIRMED</td>\n",
       "      <td>2020-02-05</td>\n",
       "      <td>2020-02-21</td>\n",
       "      <td>FEMALE</td>\n",
       "      <td>RESOLVED</td>\n",
       "      <td>No</td>\n",
       "      <td>No</td>\n",
       "      <td>No</td>\n",
       "      <td>No</td>\n",
       "      <td>No</td>\n",
       "      <td>No</td>\n",
       "    </tr>\n",
       "    <tr>\n",
       "      <th>3</th>\n",
       "      <td>6488579</td>\n",
       "      <td>4</td>\n",
       "      <td>Sporadic</td>\n",
       "      <td>60 to 69 Years</td>\n",
       "      <td>Church-Yonge Corridor</td>\n",
       "      <td>M4W</td>\n",
       "      <td>Travel</td>\n",
       "      <td>CONFIRMED</td>\n",
       "      <td>2020-02-16</td>\n",
       "      <td>2020-02-25</td>\n",
       "      <td>FEMALE</td>\n",
       "      <td>RESOLVED</td>\n",
       "      <td>No</td>\n",
       "      <td>No</td>\n",
       "      <td>No</td>\n",
       "      <td>No</td>\n",
       "      <td>No</td>\n",
       "      <td>No</td>\n",
       "    </tr>\n",
       "    <tr>\n",
       "      <th>4</th>\n",
       "      <td>6488580</td>\n",
       "      <td>5</td>\n",
       "      <td>Sporadic</td>\n",
       "      <td>60 to 69 Years</td>\n",
       "      <td>Church-Yonge Corridor</td>\n",
       "      <td>M4W</td>\n",
       "      <td>Travel</td>\n",
       "      <td>CONFIRMED</td>\n",
       "      <td>2020-02-20</td>\n",
       "      <td>2020-02-26</td>\n",
       "      <td>MALE</td>\n",
       "      <td>RESOLVED</td>\n",
       "      <td>No</td>\n",
       "      <td>No</td>\n",
       "      <td>No</td>\n",
       "      <td>No</td>\n",
       "      <td>No</td>\n",
       "      <td>No</td>\n",
       "    </tr>\n",
       "    <tr>\n",
       "      <th>...</th>\n",
       "      <td>...</td>\n",
       "      <td>...</td>\n",
       "      <td>...</td>\n",
       "      <td>...</td>\n",
       "      <td>...</td>\n",
       "      <td>...</td>\n",
       "      <td>...</td>\n",
       "      <td>...</td>\n",
       "      <td>...</td>\n",
       "      <td>...</td>\n",
       "      <td>...</td>\n",
       "      <td>...</td>\n",
       "      <td>...</td>\n",
       "      <td>...</td>\n",
       "      <td>...</td>\n",
       "      <td>...</td>\n",
       "      <td>...</td>\n",
       "      <td>...</td>\n",
       "    </tr>\n",
       "    <tr>\n",
       "      <th>288013</th>\n",
       "      <td>6776589</td>\n",
       "      <td>295626</td>\n",
       "      <td>Sporadic</td>\n",
       "      <td>50 to 59 Years</td>\n",
       "      <td>Eglinton East</td>\n",
       "      <td>M1J</td>\n",
       "      <td>No Information</td>\n",
       "      <td>CONFIRMED</td>\n",
       "      <td>2022-02-28</td>\n",
       "      <td>2022-03-01</td>\n",
       "      <td>FEMALE</td>\n",
       "      <td>ACTIVE</td>\n",
       "      <td>No</td>\n",
       "      <td>No</td>\n",
       "      <td>No</td>\n",
       "      <td>No</td>\n",
       "      <td>No</td>\n",
       "      <td>No</td>\n",
       "    </tr>\n",
       "    <tr>\n",
       "      <th>288014</th>\n",
       "      <td>6776590</td>\n",
       "      <td>295627</td>\n",
       "      <td>Sporadic</td>\n",
       "      <td>40 to 49 Years</td>\n",
       "      <td>Wychwood</td>\n",
       "      <td>M6G</td>\n",
       "      <td>No Information</td>\n",
       "      <td>CONFIRMED</td>\n",
       "      <td>2022-02-23</td>\n",
       "      <td>2022-03-01</td>\n",
       "      <td>FEMALE</td>\n",
       "      <td>ACTIVE</td>\n",
       "      <td>No</td>\n",
       "      <td>No</td>\n",
       "      <td>No</td>\n",
       "      <td>No</td>\n",
       "      <td>No</td>\n",
       "      <td>No</td>\n",
       "    </tr>\n",
       "    <tr>\n",
       "      <th>288015</th>\n",
       "      <td>6776591</td>\n",
       "      <td>295628</td>\n",
       "      <td>Sporadic</td>\n",
       "      <td>30 to 39 Years</td>\n",
       "      <td>Mount Olive-Silverstone-Jamestown</td>\n",
       "      <td>M9V</td>\n",
       "      <td>No Information</td>\n",
       "      <td>PROBABLE</td>\n",
       "      <td>2022-03-01</td>\n",
       "      <td>2022-03-01</td>\n",
       "      <td>FEMALE</td>\n",
       "      <td>ACTIVE</td>\n",
       "      <td>No</td>\n",
       "      <td>No</td>\n",
       "      <td>No</td>\n",
       "      <td>No</td>\n",
       "      <td>No</td>\n",
       "      <td>No</td>\n",
       "    </tr>\n",
       "    <tr>\n",
       "      <th>288016</th>\n",
       "      <td>6776592</td>\n",
       "      <td>295629</td>\n",
       "      <td>Sporadic</td>\n",
       "      <td>40 to 49 Years</td>\n",
       "      <td>Long Branch</td>\n",
       "      <td>M8W</td>\n",
       "      <td>No Information</td>\n",
       "      <td>CONFIRMED</td>\n",
       "      <td>2022-02-22</td>\n",
       "      <td>2022-03-01</td>\n",
       "      <td>MALE</td>\n",
       "      <td>ACTIVE</td>\n",
       "      <td>No</td>\n",
       "      <td>No</td>\n",
       "      <td>No</td>\n",
       "      <td>No</td>\n",
       "      <td>No</td>\n",
       "      <td>No</td>\n",
       "    </tr>\n",
       "    <tr>\n",
       "      <th>288017</th>\n",
       "      <td>6776593</td>\n",
       "      <td>295630</td>\n",
       "      <td>Sporadic</td>\n",
       "      <td>19 and younger</td>\n",
       "      <td>NaN</td>\n",
       "      <td>NaN</td>\n",
       "      <td>No Information</td>\n",
       "      <td>CONFIRMED</td>\n",
       "      <td>2022-02-27</td>\n",
       "      <td>2022-02-27</td>\n",
       "      <td>MALE</td>\n",
       "      <td>ACTIVE</td>\n",
       "      <td>No</td>\n",
       "      <td>No</td>\n",
       "      <td>No</td>\n",
       "      <td>No</td>\n",
       "      <td>No</td>\n",
       "      <td>No</td>\n",
       "    </tr>\n",
       "  </tbody>\n",
       "</table>\n",
       "<p>288018 rows × 18 columns</p>\n",
       "</div>"
      ],
      "text/plain": [
       "            _id  Assigned_ID Outbreak Associated       Age Group  \\\n",
       "0       6488576            1            Sporadic  50 to 59 Years   \n",
       "1       6488577            2            Sporadic  50 to 59 Years   \n",
       "2       6488578            3            Sporadic  20 to 29 Years   \n",
       "3       6488579            4            Sporadic  60 to 69 Years   \n",
       "4       6488580            5            Sporadic  60 to 69 Years   \n",
       "...         ...          ...                 ...             ...   \n",
       "288013  6776589       295626            Sporadic  50 to 59 Years   \n",
       "288014  6776590       295627            Sporadic  40 to 49 Years   \n",
       "288015  6776591       295628            Sporadic  30 to 39 Years   \n",
       "288016  6776592       295629            Sporadic  40 to 49 Years   \n",
       "288017  6776593       295630            Sporadic  19 and younger   \n",
       "\n",
       "                       Neighbourhood Name  FSA Source of Infection  \\\n",
       "0                         Willowdale East  M2N              Travel   \n",
       "1                         Willowdale East  M2N              Travel   \n",
       "2                       Parkwoods-Donalda  M3A              Travel   \n",
       "3                   Church-Yonge Corridor  M4W              Travel   \n",
       "4                   Church-Yonge Corridor  M4W              Travel   \n",
       "...                                   ...  ...                 ...   \n",
       "288013                      Eglinton East  M1J      No Information   \n",
       "288014                           Wychwood  M6G      No Information   \n",
       "288015  Mount Olive-Silverstone-Jamestown  M9V      No Information   \n",
       "288016                        Long Branch  M8W      No Information   \n",
       "288017                                NaN  NaN      No Information   \n",
       "\n",
       "       Classification Episode Date Reported Date Client Gender   Outcome  \\\n",
       "0           CONFIRMED   2020-01-22    2020-01-23        FEMALE  RESOLVED   \n",
       "1           CONFIRMED   2020-01-21    2020-01-23          MALE  RESOLVED   \n",
       "2           CONFIRMED   2020-02-05    2020-02-21        FEMALE  RESOLVED   \n",
       "3           CONFIRMED   2020-02-16    2020-02-25        FEMALE  RESOLVED   \n",
       "4           CONFIRMED   2020-02-20    2020-02-26          MALE  RESOLVED   \n",
       "...               ...          ...           ...           ...       ...   \n",
       "288013      CONFIRMED   2022-02-28    2022-03-01        FEMALE    ACTIVE   \n",
       "288014      CONFIRMED   2022-02-23    2022-03-01        FEMALE    ACTIVE   \n",
       "288015       PROBABLE   2022-03-01    2022-03-01        FEMALE    ACTIVE   \n",
       "288016      CONFIRMED   2022-02-22    2022-03-01          MALE    ACTIVE   \n",
       "288017      CONFIRMED   2022-02-27    2022-02-27          MALE    ACTIVE   \n",
       "\n",
       "       Currently Hospitalized Currently in ICU Currently Intubated  \\\n",
       "0                          No               No                  No   \n",
       "1                          No               No                  No   \n",
       "2                          No               No                  No   \n",
       "3                          No               No                  No   \n",
       "4                          No               No                  No   \n",
       "...                       ...              ...                 ...   \n",
       "288013                     No               No                  No   \n",
       "288014                     No               No                  No   \n",
       "288015                     No               No                  No   \n",
       "288016                     No               No                  No   \n",
       "288017                     No               No                  No   \n",
       "\n",
       "       Ever Hospitalized Ever in ICU Ever Intubated  \n",
       "0                     No          No             No  \n",
       "1                    Yes          No             No  \n",
       "2                     No          No             No  \n",
       "3                     No          No             No  \n",
       "4                     No          No             No  \n",
       "...                  ...         ...            ...  \n",
       "288013                No          No             No  \n",
       "288014                No          No             No  \n",
       "288015                No          No             No  \n",
       "288016                No          No             No  \n",
       "288017                No          No             No  \n",
       "\n",
       "[288018 rows x 18 columns]"
      ]
     },
     "execution_count": 116,
     "metadata": {},
     "output_type": "execute_result"
    }
   ],
   "source": [
    "COVID = pd.read_csv(\"COVID19 cases.csv\")"
   ]
  },
  {
   "cell_type": "code",
   "execution_count": 117,
   "id": "3c942e14",
   "metadata": {
    "scrolled": true
   },
   "outputs": [
    {
     "name": "stdout",
     "output_type": "stream",
     "text": [
      "<class 'pandas.core.frame.DataFrame'>\n",
      "RangeIndex: 288018 entries, 0 to 288017\n",
      "Data columns (total 18 columns):\n",
      " #   Column                  Non-Null Count   Dtype \n",
      "---  ------                  --------------   ----- \n",
      " 0   _id                     288018 non-null  int64 \n",
      " 1   Assigned_ID             288018 non-null  int64 \n",
      " 2   Outbreak Associated     288018 non-null  object\n",
      " 3   Age Group               287796 non-null  object\n",
      " 4   Neighbourhood Name      280892 non-null  object\n",
      " 5   FSA                     284293 non-null  object\n",
      " 6   Source of Infection     288018 non-null  object\n",
      " 7   Classification          288018 non-null  object\n",
      " 8   Episode Date            288018 non-null  object\n",
      " 9   Reported Date           288018 non-null  object\n",
      " 10  Client Gender           288018 non-null  object\n",
      " 11  Outcome                 288018 non-null  object\n",
      " 12  Currently Hospitalized  288018 non-null  object\n",
      " 13  Currently in ICU        288018 non-null  object\n",
      " 14  Currently Intubated     288018 non-null  object\n",
      " 15  Ever Hospitalized       288018 non-null  object\n",
      " 16  Ever in ICU             288018 non-null  object\n",
      " 17  Ever Intubated          288018 non-null  object\n",
      "dtypes: int64(2), object(16)\n",
      "memory usage: 39.6+ MB\n"
     ]
    }
   ],
   "source": [
    "COVID.info()"
   ]
  },
  {
   "cell_type": "code",
   "execution_count": 119,
   "id": "1056bd33",
   "metadata": {},
   "outputs": [
    {
     "name": "stderr",
     "output_type": "stream",
     "text": [
      "/var/folders/32/_h9xt16s0rv7h9qc5gt4hqbw0000gn/T/ipykernel_29583/727373760.py:2: SettingWithCopyWarning:\n",
      "\n",
      "\n",
      "A value is trying to be set on a copy of a slice from a DataFrame.\n",
      "Try using .loc[row_indexer,col_indexer] = value instead\n",
      "\n",
      "See the caveats in the documentation: https://pandas.pydata.org/pandas-docs/stable/user_guide/indexing.html#returning-a-view-versus-a-copy\n",
      "\n"
     ]
    }
   ],
   "source": [
    "COVID2021 = COVID[COVID[\"Reported Date\"].str[:4]==\"2021\"]\n",
    "COVID2021[\"Reported Date\"] = pd.to_datetime(COVID2021[\"Reported Date\"])"
   ]
  },
  {
   "cell_type": "code",
   "execution_count": 121,
   "id": "60161af3",
   "metadata": {},
   "outputs": [],
   "source": [
    "case_by_day = COVID2021.groupby(COVID2021['Reported Date'].dt.date)[\"Assigned_ID\"].count()\n",
    "case_by_day = case_by_day.reset_index()"
   ]
  },
  {
   "cell_type": "code",
   "execution_count": 122,
   "id": "b2946fac",
   "metadata": {},
   "outputs": [
    {
     "data": {
      "application/vnd.plotly.v1+json": {
       "config": {
        "plotlyServerURL": "https://plot.ly"
       },
       "data": [
        {
         "hovertemplate": "Date=%{x}<br># of cases=%{y}<extra></extra>",
         "legendgroup": "",
         "line": {
          "color": "#636efa",
          "dash": "solid"
         },
         "marker": {
          "symbol": "circle"
         },
         "mode": "lines",
         "name": "",
         "orientation": "v",
         "showlegend": false,
         "type": "scatter",
         "x": [
          "2021-01-01",
          "2021-01-02",
          "2021-01-03",
          "2021-01-04",
          "2021-01-05",
          "2021-01-06",
          "2021-01-07",
          "2021-01-08",
          "2021-01-09",
          "2021-01-10",
          "2021-01-11",
          "2021-01-12",
          "2021-01-13",
          "2021-01-14",
          "2021-01-15",
          "2021-01-16",
          "2021-01-17",
          "2021-01-18",
          "2021-01-19",
          "2021-01-20",
          "2021-01-21",
          "2021-01-22",
          "2021-01-23",
          "2021-01-24",
          "2021-01-25",
          "2021-01-26",
          "2021-01-27",
          "2021-01-28",
          "2021-01-29",
          "2021-01-30",
          "2021-01-31",
          "2021-02-01",
          "2021-02-02",
          "2021-02-03",
          "2021-02-04",
          "2021-02-05",
          "2021-02-06",
          "2021-02-07",
          "2021-02-08",
          "2021-02-09",
          "2021-02-10",
          "2021-02-11",
          "2021-02-12",
          "2021-02-13",
          "2021-02-14",
          "2021-02-15",
          "2021-02-16",
          "2021-02-17",
          "2021-02-18",
          "2021-02-19",
          "2021-02-20",
          "2021-02-21",
          "2021-02-22",
          "2021-02-23",
          "2021-02-24",
          "2021-02-25",
          "2021-02-26",
          "2021-02-27",
          "2021-02-28",
          "2021-03-01",
          "2021-03-02",
          "2021-03-03",
          "2021-03-04",
          "2021-03-05",
          "2021-03-06",
          "2021-03-07",
          "2021-03-08",
          "2021-03-09",
          "2021-03-10",
          "2021-03-11",
          "2021-03-12",
          "2021-03-13",
          "2021-03-14",
          "2021-03-15",
          "2021-03-16",
          "2021-03-17",
          "2021-03-18",
          "2021-03-19",
          "2021-03-20",
          "2021-03-21",
          "2021-03-22",
          "2021-03-23",
          "2021-03-24",
          "2021-03-25",
          "2021-03-26",
          "2021-03-27",
          "2021-03-28",
          "2021-03-29",
          "2021-03-30",
          "2021-03-31",
          "2021-04-01",
          "2021-04-02",
          "2021-04-03",
          "2021-04-04",
          "2021-04-05",
          "2021-04-06",
          "2021-04-07",
          "2021-04-08",
          "2021-04-09",
          "2021-04-10",
          "2021-04-11",
          "2021-04-12",
          "2021-04-13",
          "2021-04-14",
          "2021-04-15",
          "2021-04-16",
          "2021-04-17",
          "2021-04-18",
          "2021-04-19",
          "2021-04-20",
          "2021-04-21",
          "2021-04-22",
          "2021-04-23",
          "2021-04-24",
          "2021-04-25",
          "2021-04-26",
          "2021-04-27",
          "2021-04-28",
          "2021-04-29",
          "2021-04-30",
          "2021-05-01",
          "2021-05-02",
          "2021-05-03",
          "2021-05-04",
          "2021-05-05",
          "2021-05-06",
          "2021-05-07",
          "2021-05-08",
          "2021-05-09",
          "2021-05-10",
          "2021-05-11",
          "2021-05-12",
          "2021-05-13",
          "2021-05-14",
          "2021-05-15",
          "2021-05-16",
          "2021-05-17",
          "2021-05-18",
          "2021-05-19",
          "2021-05-20",
          "2021-05-21",
          "2021-05-22",
          "2021-05-23",
          "2021-05-24",
          "2021-05-25",
          "2021-05-26",
          "2021-05-27",
          "2021-05-28",
          "2021-05-29",
          "2021-05-30",
          "2021-05-31",
          "2021-06-01",
          "2021-06-02",
          "2021-06-03",
          "2021-06-04",
          "2021-06-05",
          "2021-06-06",
          "2021-06-07",
          "2021-06-08",
          "2021-06-09",
          "2021-06-10",
          "2021-06-11",
          "2021-06-12",
          "2021-06-13",
          "2021-06-14",
          "2021-06-15",
          "2021-06-16",
          "2021-06-17",
          "2021-06-18",
          "2021-06-19",
          "2021-06-20",
          "2021-06-21",
          "2021-06-22",
          "2021-06-23",
          "2021-06-24",
          "2021-06-25",
          "2021-06-26",
          "2021-06-27",
          "2021-06-28",
          "2021-06-29",
          "2021-06-30",
          "2021-07-01",
          "2021-07-02",
          "2021-07-03",
          "2021-07-04",
          "2021-07-05",
          "2021-07-06",
          "2021-07-07",
          "2021-07-08",
          "2021-07-09",
          "2021-07-10",
          "2021-07-11",
          "2021-07-12",
          "2021-07-13",
          "2021-07-14",
          "2021-07-15",
          "2021-07-16",
          "2021-07-17",
          "2021-07-18",
          "2021-07-19",
          "2021-07-20",
          "2021-07-21",
          "2021-07-22",
          "2021-07-23",
          "2021-07-24",
          "2021-07-25",
          "2021-07-26",
          "2021-07-27",
          "2021-07-28",
          "2021-07-29",
          "2021-07-30",
          "2021-07-31",
          "2021-08-01",
          "2021-08-02",
          "2021-08-03",
          "2021-08-04",
          "2021-08-05",
          "2021-08-06",
          "2021-08-07",
          "2021-08-08",
          "2021-08-09",
          "2021-08-10",
          "2021-08-11",
          "2021-08-12",
          "2021-08-13",
          "2021-08-14",
          "2021-08-15",
          "2021-08-16",
          "2021-08-17",
          "2021-08-18",
          "2021-08-19",
          "2021-08-20",
          "2021-08-21",
          "2021-08-22",
          "2021-08-23",
          "2021-08-24",
          "2021-08-25",
          "2021-08-26",
          "2021-08-27",
          "2021-08-28",
          "2021-08-29",
          "2021-08-30",
          "2021-08-31",
          "2021-09-01",
          "2021-09-02",
          "2021-09-03",
          "2021-09-04",
          "2021-09-05",
          "2021-09-06",
          "2021-09-07",
          "2021-09-08",
          "2021-09-09",
          "2021-09-10",
          "2021-09-11",
          "2021-09-12",
          "2021-09-13",
          "2021-09-14",
          "2021-09-15",
          "2021-09-16",
          "2021-09-17",
          "2021-09-18",
          "2021-09-19",
          "2021-09-20",
          "2021-09-21",
          "2021-09-22",
          "2021-09-23",
          "2021-09-24",
          "2021-09-25",
          "2021-09-26",
          "2021-09-27",
          "2021-09-28",
          "2021-09-29",
          "2021-09-30",
          "2021-10-01",
          "2021-10-02",
          "2021-10-03",
          "2021-10-04",
          "2021-10-05",
          "2021-10-06",
          "2021-10-07",
          "2021-10-08",
          "2021-10-09",
          "2021-10-10",
          "2021-10-11",
          "2021-10-12",
          "2021-10-13",
          "2021-10-14",
          "2021-10-15",
          "2021-10-16",
          "2021-10-17",
          "2021-10-18",
          "2021-10-19",
          "2021-10-20",
          "2021-10-21",
          "2021-10-22",
          "2021-10-23",
          "2021-10-24",
          "2021-10-25",
          "2021-10-26",
          "2021-10-27",
          "2021-10-28",
          "2021-10-29",
          "2021-10-30",
          "2021-10-31",
          "2021-11-01",
          "2021-11-02",
          "2021-11-03",
          "2021-11-04",
          "2021-11-05",
          "2021-11-06",
          "2021-11-07",
          "2021-11-08",
          "2021-11-09",
          "2021-11-10",
          "2021-11-11",
          "2021-11-12",
          "2021-11-13",
          "2021-11-14",
          "2021-11-15",
          "2021-11-16",
          "2021-11-17",
          "2021-11-18",
          "2021-11-19",
          "2021-11-20",
          "2021-11-21",
          "2021-11-22",
          "2021-11-23",
          "2021-11-24",
          "2021-11-25",
          "2021-11-26",
          "2021-11-27",
          "2021-11-28",
          "2021-11-29",
          "2021-11-30",
          "2021-12-01",
          "2021-12-02",
          "2021-12-03",
          "2021-12-04",
          "2021-12-05",
          "2021-12-06",
          "2021-12-07",
          "2021-12-08",
          "2021-12-09",
          "2021-12-10",
          "2021-12-11",
          "2021-12-12",
          "2021-12-13",
          "2021-12-14",
          "2021-12-15",
          "2021-12-16",
          "2021-12-17",
          "2021-12-18",
          "2021-12-19",
          "2021-12-20",
          "2021-12-21",
          "2021-12-22",
          "2021-12-23",
          "2021-12-24",
          "2021-12-25",
          "2021-12-26",
          "2021-12-27",
          "2021-12-28",
          "2021-12-29",
          "2021-12-30",
          "2021-12-31"
         ],
         "xaxis": "x",
         "y": [
          849,
          931,
          734,
          742,
          965,
          1011,
          1637,
          1166,
          962,
          738,
          825,
          1009,
          854,
          904,
          974,
          876,
          552,
          890,
          992,
          762,
          657,
          775,
          713,
          669,
          476,
          668,
          632,
          586,
          633,
          634,
          574,
          464,
          544,
          468,
          431,
          448,
          367,
          407,
          300,
          406,
          430,
          398,
          363,
          294,
          242,
          330,
          303,
          412,
          366,
          404,
          333,
          346,
          264,
          387,
          382,
          367,
          335,
          269,
          320,
          252,
          357,
          321,
          393,
          335,
          375,
          421,
          381,
          402,
          412,
          396,
          498,
          476,
          366,
          368,
          473,
          483,
          554,
          538,
          557,
          499,
          560,
          644,
          746,
          785,
          895,
          668,
          630,
          729,
          851,
          970,
          888,
          977,
          855,
          901,
          846,
          1140,
          1088,
          1177,
          1269,
          1391,
          1127,
          1225,
          1150,
          1444,
          1442,
          1211,
          1524,
          1348,
          1110,
          1325,
          1013,
          1217,
          1388,
          1119,
          1276,
          838,
          1136,
          1138,
          1338,
          1106,
          1132,
          1049,
          743,
          859,
          1052,
          880,
          836,
          797,
          707,
          621,
          738,
          759,
          693,
          631,
          656,
          507,
          473,
          463,
          614,
          461,
          458,
          422,
          351,
          289,
          242,
          317,
          278,
          239,
          266,
          174,
          176,
          207,
          190,
          176,
          165,
          109,
          124,
          98,
          102,
          114,
          83,
          89,
          70,
          89,
          73,
          62,
          73,
          65,
          60,
          40,
          52,
          42,
          57,
          38,
          40,
          66,
          32,
          37,
          28,
          32,
          30,
          28,
          18,
          39,
          21,
          32,
          19,
          18,
          25,
          24,
          18,
          18,
          24,
          23,
          12,
          22,
          41,
          19,
          24,
          26,
          30,
          32,
          47,
          42,
          29,
          36,
          20,
          22,
          56,
          62,
          40,
          43,
          41,
          29,
          44,
          69,
          81,
          106,
          93,
          97,
          86,
          88,
          118,
          151,
          127,
          117,
          126,
          92,
          120,
          155,
          164,
          159,
          128,
          100,
          115,
          153,
          163,
          200,
          163,
          153,
          111,
          142,
          170,
          181,
          160,
          207,
          120,
          129,
          151,
          140,
          153,
          162,
          202,
          109,
          129,
          129,
          184,
          151,
          171,
          134,
          132,
          109,
          136,
          116,
          161,
          117,
          105,
          111,
          91,
          118,
          92,
          98,
          133,
          140,
          90,
          124,
          95,
          122,
          114,
          125,
          111,
          102,
          75,
          68,
          66,
          57,
          92,
          92,
          47,
          64,
          50,
          47,
          69,
          46,
          54,
          43,
          29,
          42,
          71,
          77,
          58,
          49,
          56,
          53,
          44,
          73,
          57,
          78,
          63,
          46,
          62,
          43,
          54,
          69,
          104,
          71,
          65,
          81,
          58,
          81,
          87,
          115,
          76,
          82,
          79,
          74,
          80,
          101,
          143,
          104,
          118,
          85,
          98,
          115,
          137,
          162,
          168,
          108,
          111,
          159,
          170,
          220,
          275,
          205,
          243,
          243,
          274,
          405,
          689,
          718,
          1030,
          1073,
          1045,
          1158,
          1490,
          2304,
          3165,
          2796,
          2790,
          2900,
          2557,
          3324,
          4079,
          4356,
          4321
         ],
         "yaxis": "y"
        }
       ],
       "layout": {
        "legend": {
         "tracegroupgap": 0
        },
        "template": {
         "data": {
          "bar": [
           {
            "error_x": {
             "color": "#2a3f5f"
            },
            "error_y": {
             "color": "#2a3f5f"
            },
            "marker": {
             "line": {
              "color": "#E5ECF6",
              "width": 0.5
             },
             "pattern": {
              "fillmode": "overlay",
              "size": 10,
              "solidity": 0.2
             }
            },
            "type": "bar"
           }
          ],
          "barpolar": [
           {
            "marker": {
             "line": {
              "color": "#E5ECF6",
              "width": 0.5
             },
             "pattern": {
              "fillmode": "overlay",
              "size": 10,
              "solidity": 0.2
             }
            },
            "type": "barpolar"
           }
          ],
          "carpet": [
           {
            "aaxis": {
             "endlinecolor": "#2a3f5f",
             "gridcolor": "white",
             "linecolor": "white",
             "minorgridcolor": "white",
             "startlinecolor": "#2a3f5f"
            },
            "baxis": {
             "endlinecolor": "#2a3f5f",
             "gridcolor": "white",
             "linecolor": "white",
             "minorgridcolor": "white",
             "startlinecolor": "#2a3f5f"
            },
            "type": "carpet"
           }
          ],
          "choropleth": [
           {
            "colorbar": {
             "outlinewidth": 0,
             "ticks": ""
            },
            "type": "choropleth"
           }
          ],
          "contour": [
           {
            "colorbar": {
             "outlinewidth": 0,
             "ticks": ""
            },
            "colorscale": [
             [
              0,
              "#0d0887"
             ],
             [
              0.1111111111111111,
              "#46039f"
             ],
             [
              0.2222222222222222,
              "#7201a8"
             ],
             [
              0.3333333333333333,
              "#9c179e"
             ],
             [
              0.4444444444444444,
              "#bd3786"
             ],
             [
              0.5555555555555556,
              "#d8576b"
             ],
             [
              0.6666666666666666,
              "#ed7953"
             ],
             [
              0.7777777777777778,
              "#fb9f3a"
             ],
             [
              0.8888888888888888,
              "#fdca26"
             ],
             [
              1,
              "#f0f921"
             ]
            ],
            "type": "contour"
           }
          ],
          "contourcarpet": [
           {
            "colorbar": {
             "outlinewidth": 0,
             "ticks": ""
            },
            "type": "contourcarpet"
           }
          ],
          "heatmap": [
           {
            "colorbar": {
             "outlinewidth": 0,
             "ticks": ""
            },
            "colorscale": [
             [
              0,
              "#0d0887"
             ],
             [
              0.1111111111111111,
              "#46039f"
             ],
             [
              0.2222222222222222,
              "#7201a8"
             ],
             [
              0.3333333333333333,
              "#9c179e"
             ],
             [
              0.4444444444444444,
              "#bd3786"
             ],
             [
              0.5555555555555556,
              "#d8576b"
             ],
             [
              0.6666666666666666,
              "#ed7953"
             ],
             [
              0.7777777777777778,
              "#fb9f3a"
             ],
             [
              0.8888888888888888,
              "#fdca26"
             ],
             [
              1,
              "#f0f921"
             ]
            ],
            "type": "heatmap"
           }
          ],
          "heatmapgl": [
           {
            "colorbar": {
             "outlinewidth": 0,
             "ticks": ""
            },
            "colorscale": [
             [
              0,
              "#0d0887"
             ],
             [
              0.1111111111111111,
              "#46039f"
             ],
             [
              0.2222222222222222,
              "#7201a8"
             ],
             [
              0.3333333333333333,
              "#9c179e"
             ],
             [
              0.4444444444444444,
              "#bd3786"
             ],
             [
              0.5555555555555556,
              "#d8576b"
             ],
             [
              0.6666666666666666,
              "#ed7953"
             ],
             [
              0.7777777777777778,
              "#fb9f3a"
             ],
             [
              0.8888888888888888,
              "#fdca26"
             ],
             [
              1,
              "#f0f921"
             ]
            ],
            "type": "heatmapgl"
           }
          ],
          "histogram": [
           {
            "marker": {
             "pattern": {
              "fillmode": "overlay",
              "size": 10,
              "solidity": 0.2
             }
            },
            "type": "histogram"
           }
          ],
          "histogram2d": [
           {
            "colorbar": {
             "outlinewidth": 0,
             "ticks": ""
            },
            "colorscale": [
             [
              0,
              "#0d0887"
             ],
             [
              0.1111111111111111,
              "#46039f"
             ],
             [
              0.2222222222222222,
              "#7201a8"
             ],
             [
              0.3333333333333333,
              "#9c179e"
             ],
             [
              0.4444444444444444,
              "#bd3786"
             ],
             [
              0.5555555555555556,
              "#d8576b"
             ],
             [
              0.6666666666666666,
              "#ed7953"
             ],
             [
              0.7777777777777778,
              "#fb9f3a"
             ],
             [
              0.8888888888888888,
              "#fdca26"
             ],
             [
              1,
              "#f0f921"
             ]
            ],
            "type": "histogram2d"
           }
          ],
          "histogram2dcontour": [
           {
            "colorbar": {
             "outlinewidth": 0,
             "ticks": ""
            },
            "colorscale": [
             [
              0,
              "#0d0887"
             ],
             [
              0.1111111111111111,
              "#46039f"
             ],
             [
              0.2222222222222222,
              "#7201a8"
             ],
             [
              0.3333333333333333,
              "#9c179e"
             ],
             [
              0.4444444444444444,
              "#bd3786"
             ],
             [
              0.5555555555555556,
              "#d8576b"
             ],
             [
              0.6666666666666666,
              "#ed7953"
             ],
             [
              0.7777777777777778,
              "#fb9f3a"
             ],
             [
              0.8888888888888888,
              "#fdca26"
             ],
             [
              1,
              "#f0f921"
             ]
            ],
            "type": "histogram2dcontour"
           }
          ],
          "mesh3d": [
           {
            "colorbar": {
             "outlinewidth": 0,
             "ticks": ""
            },
            "type": "mesh3d"
           }
          ],
          "parcoords": [
           {
            "line": {
             "colorbar": {
              "outlinewidth": 0,
              "ticks": ""
             }
            },
            "type": "parcoords"
           }
          ],
          "pie": [
           {
            "automargin": true,
            "type": "pie"
           }
          ],
          "scatter": [
           {
            "marker": {
             "colorbar": {
              "outlinewidth": 0,
              "ticks": ""
             }
            },
            "type": "scatter"
           }
          ],
          "scatter3d": [
           {
            "line": {
             "colorbar": {
              "outlinewidth": 0,
              "ticks": ""
             }
            },
            "marker": {
             "colorbar": {
              "outlinewidth": 0,
              "ticks": ""
             }
            },
            "type": "scatter3d"
           }
          ],
          "scattercarpet": [
           {
            "marker": {
             "colorbar": {
              "outlinewidth": 0,
              "ticks": ""
             }
            },
            "type": "scattercarpet"
           }
          ],
          "scattergeo": [
           {
            "marker": {
             "colorbar": {
              "outlinewidth": 0,
              "ticks": ""
             }
            },
            "type": "scattergeo"
           }
          ],
          "scattergl": [
           {
            "marker": {
             "colorbar": {
              "outlinewidth": 0,
              "ticks": ""
             }
            },
            "type": "scattergl"
           }
          ],
          "scattermapbox": [
           {
            "marker": {
             "colorbar": {
              "outlinewidth": 0,
              "ticks": ""
             }
            },
            "type": "scattermapbox"
           }
          ],
          "scatterpolar": [
           {
            "marker": {
             "colorbar": {
              "outlinewidth": 0,
              "ticks": ""
             }
            },
            "type": "scatterpolar"
           }
          ],
          "scatterpolargl": [
           {
            "marker": {
             "colorbar": {
              "outlinewidth": 0,
              "ticks": ""
             }
            },
            "type": "scatterpolargl"
           }
          ],
          "scatterternary": [
           {
            "marker": {
             "colorbar": {
              "outlinewidth": 0,
              "ticks": ""
             }
            },
            "type": "scatterternary"
           }
          ],
          "surface": [
           {
            "colorbar": {
             "outlinewidth": 0,
             "ticks": ""
            },
            "colorscale": [
             [
              0,
              "#0d0887"
             ],
             [
              0.1111111111111111,
              "#46039f"
             ],
             [
              0.2222222222222222,
              "#7201a8"
             ],
             [
              0.3333333333333333,
              "#9c179e"
             ],
             [
              0.4444444444444444,
              "#bd3786"
             ],
             [
              0.5555555555555556,
              "#d8576b"
             ],
             [
              0.6666666666666666,
              "#ed7953"
             ],
             [
              0.7777777777777778,
              "#fb9f3a"
             ],
             [
              0.8888888888888888,
              "#fdca26"
             ],
             [
              1,
              "#f0f921"
             ]
            ],
            "type": "surface"
           }
          ],
          "table": [
           {
            "cells": {
             "fill": {
              "color": "#EBF0F8"
             },
             "line": {
              "color": "white"
             }
            },
            "header": {
             "fill": {
              "color": "#C8D4E3"
             },
             "line": {
              "color": "white"
             }
            },
            "type": "table"
           }
          ]
         },
         "layout": {
          "annotationdefaults": {
           "arrowcolor": "#2a3f5f",
           "arrowhead": 0,
           "arrowwidth": 1
          },
          "autotypenumbers": "strict",
          "coloraxis": {
           "colorbar": {
            "outlinewidth": 0,
            "ticks": ""
           }
          },
          "colorscale": {
           "diverging": [
            [
             0,
             "#8e0152"
            ],
            [
             0.1,
             "#c51b7d"
            ],
            [
             0.2,
             "#de77ae"
            ],
            [
             0.3,
             "#f1b6da"
            ],
            [
             0.4,
             "#fde0ef"
            ],
            [
             0.5,
             "#f7f7f7"
            ],
            [
             0.6,
             "#e6f5d0"
            ],
            [
             0.7,
             "#b8e186"
            ],
            [
             0.8,
             "#7fbc41"
            ],
            [
             0.9,
             "#4d9221"
            ],
            [
             1,
             "#276419"
            ]
           ],
           "sequential": [
            [
             0,
             "#0d0887"
            ],
            [
             0.1111111111111111,
             "#46039f"
            ],
            [
             0.2222222222222222,
             "#7201a8"
            ],
            [
             0.3333333333333333,
             "#9c179e"
            ],
            [
             0.4444444444444444,
             "#bd3786"
            ],
            [
             0.5555555555555556,
             "#d8576b"
            ],
            [
             0.6666666666666666,
             "#ed7953"
            ],
            [
             0.7777777777777778,
             "#fb9f3a"
            ],
            [
             0.8888888888888888,
             "#fdca26"
            ],
            [
             1,
             "#f0f921"
            ]
           ],
           "sequentialminus": [
            [
             0,
             "#0d0887"
            ],
            [
             0.1111111111111111,
             "#46039f"
            ],
            [
             0.2222222222222222,
             "#7201a8"
            ],
            [
             0.3333333333333333,
             "#9c179e"
            ],
            [
             0.4444444444444444,
             "#bd3786"
            ],
            [
             0.5555555555555556,
             "#d8576b"
            ],
            [
             0.6666666666666666,
             "#ed7953"
            ],
            [
             0.7777777777777778,
             "#fb9f3a"
            ],
            [
             0.8888888888888888,
             "#fdca26"
            ],
            [
             1,
             "#f0f921"
            ]
           ]
          },
          "colorway": [
           "#636efa",
           "#EF553B",
           "#00cc96",
           "#ab63fa",
           "#FFA15A",
           "#19d3f3",
           "#FF6692",
           "#B6E880",
           "#FF97FF",
           "#FECB52"
          ],
          "font": {
           "color": "#2a3f5f"
          },
          "geo": {
           "bgcolor": "white",
           "lakecolor": "white",
           "landcolor": "#E5ECF6",
           "showlakes": true,
           "showland": true,
           "subunitcolor": "white"
          },
          "hoverlabel": {
           "align": "left"
          },
          "hovermode": "closest",
          "mapbox": {
           "style": "light"
          },
          "paper_bgcolor": "white",
          "plot_bgcolor": "#E5ECF6",
          "polar": {
           "angularaxis": {
            "gridcolor": "white",
            "linecolor": "white",
            "ticks": ""
           },
           "bgcolor": "#E5ECF6",
           "radialaxis": {
            "gridcolor": "white",
            "linecolor": "white",
            "ticks": ""
           }
          },
          "scene": {
           "xaxis": {
            "backgroundcolor": "#E5ECF6",
            "gridcolor": "white",
            "gridwidth": 2,
            "linecolor": "white",
            "showbackground": true,
            "ticks": "",
            "zerolinecolor": "white"
           },
           "yaxis": {
            "backgroundcolor": "#E5ECF6",
            "gridcolor": "white",
            "gridwidth": 2,
            "linecolor": "white",
            "showbackground": true,
            "ticks": "",
            "zerolinecolor": "white"
           },
           "zaxis": {
            "backgroundcolor": "#E5ECF6",
            "gridcolor": "white",
            "gridwidth": 2,
            "linecolor": "white",
            "showbackground": true,
            "ticks": "",
            "zerolinecolor": "white"
           }
          },
          "shapedefaults": {
           "line": {
            "color": "#2a3f5f"
           }
          },
          "ternary": {
           "aaxis": {
            "gridcolor": "white",
            "linecolor": "white",
            "ticks": ""
           },
           "baxis": {
            "gridcolor": "white",
            "linecolor": "white",
            "ticks": ""
           },
           "bgcolor": "#E5ECF6",
           "caxis": {
            "gridcolor": "white",
            "linecolor": "white",
            "ticks": ""
           }
          },
          "title": {
           "x": 0.05
          },
          "xaxis": {
           "automargin": true,
           "gridcolor": "white",
           "linecolor": "white",
           "ticks": "",
           "title": {
            "standoff": 15
           },
           "zerolinecolor": "white",
           "zerolinewidth": 2
          },
          "yaxis": {
           "automargin": true,
           "gridcolor": "white",
           "linecolor": "white",
           "ticks": "",
           "title": {
            "standoff": 15
           },
           "zerolinecolor": "white",
           "zerolinewidth": 2
          }
         }
        },
        "title": {
         "text": "Toronto COVID-19 Cases 2021"
        },
        "xaxis": {
         "anchor": "y",
         "domain": [
          0,
          1
         ],
         "title": {
          "text": "Date"
         }
        },
        "yaxis": {
         "anchor": "x",
         "domain": [
          0,
          1
         ],
         "title": {
          "text": "# of cases"
         }
        }
       }
      },
      "text/html": [
       "<div>                            <div id=\"f9a47c29-0932-46fb-84ac-22f22ebc1494\" class=\"plotly-graph-div\" style=\"height:525px; width:100%;\"></div>            <script type=\"text/javascript\">                require([\"plotly\"], function(Plotly) {                    window.PLOTLYENV=window.PLOTLYENV || {};                                    if (document.getElementById(\"f9a47c29-0932-46fb-84ac-22f22ebc1494\")) {                    Plotly.newPlot(                        \"f9a47c29-0932-46fb-84ac-22f22ebc1494\",                        [{\"hovertemplate\":\"Date=%{x}<br># of cases=%{y}<extra></extra>\",\"legendgroup\":\"\",\"line\":{\"color\":\"#636efa\",\"dash\":\"solid\"},\"marker\":{\"symbol\":\"circle\"},\"mode\":\"lines\",\"name\":\"\",\"orientation\":\"v\",\"showlegend\":false,\"x\":[\"2021-01-01\",\"2021-01-02\",\"2021-01-03\",\"2021-01-04\",\"2021-01-05\",\"2021-01-06\",\"2021-01-07\",\"2021-01-08\",\"2021-01-09\",\"2021-01-10\",\"2021-01-11\",\"2021-01-12\",\"2021-01-13\",\"2021-01-14\",\"2021-01-15\",\"2021-01-16\",\"2021-01-17\",\"2021-01-18\",\"2021-01-19\",\"2021-01-20\",\"2021-01-21\",\"2021-01-22\",\"2021-01-23\",\"2021-01-24\",\"2021-01-25\",\"2021-01-26\",\"2021-01-27\",\"2021-01-28\",\"2021-01-29\",\"2021-01-30\",\"2021-01-31\",\"2021-02-01\",\"2021-02-02\",\"2021-02-03\",\"2021-02-04\",\"2021-02-05\",\"2021-02-06\",\"2021-02-07\",\"2021-02-08\",\"2021-02-09\",\"2021-02-10\",\"2021-02-11\",\"2021-02-12\",\"2021-02-13\",\"2021-02-14\",\"2021-02-15\",\"2021-02-16\",\"2021-02-17\",\"2021-02-18\",\"2021-02-19\",\"2021-02-20\",\"2021-02-21\",\"2021-02-22\",\"2021-02-23\",\"2021-02-24\",\"2021-02-25\",\"2021-02-26\",\"2021-02-27\",\"2021-02-28\",\"2021-03-01\",\"2021-03-02\",\"2021-03-03\",\"2021-03-04\",\"2021-03-05\",\"2021-03-06\",\"2021-03-07\",\"2021-03-08\",\"2021-03-09\",\"2021-03-10\",\"2021-03-11\",\"2021-03-12\",\"2021-03-13\",\"2021-03-14\",\"2021-03-15\",\"2021-03-16\",\"2021-03-17\",\"2021-03-18\",\"2021-03-19\",\"2021-03-20\",\"2021-03-21\",\"2021-03-22\",\"2021-03-23\",\"2021-03-24\",\"2021-03-25\",\"2021-03-26\",\"2021-03-27\",\"2021-03-28\",\"2021-03-29\",\"2021-03-30\",\"2021-03-31\",\"2021-04-01\",\"2021-04-02\",\"2021-04-03\",\"2021-04-04\",\"2021-04-05\",\"2021-04-06\",\"2021-04-07\",\"2021-04-08\",\"2021-04-09\",\"2021-04-10\",\"2021-04-11\",\"2021-04-12\",\"2021-04-13\",\"2021-04-14\",\"2021-04-15\",\"2021-04-16\",\"2021-04-17\",\"2021-04-18\",\"2021-04-19\",\"2021-04-20\",\"2021-04-21\",\"2021-04-22\",\"2021-04-23\",\"2021-04-24\",\"2021-04-25\",\"2021-04-26\",\"2021-04-27\",\"2021-04-28\",\"2021-04-29\",\"2021-04-30\",\"2021-05-01\",\"2021-05-02\",\"2021-05-03\",\"2021-05-04\",\"2021-05-05\",\"2021-05-06\",\"2021-05-07\",\"2021-05-08\",\"2021-05-09\",\"2021-05-10\",\"2021-05-11\",\"2021-05-12\",\"2021-05-13\",\"2021-05-14\",\"2021-05-15\",\"2021-05-16\",\"2021-05-17\",\"2021-05-18\",\"2021-05-19\",\"2021-05-20\",\"2021-05-21\",\"2021-05-22\",\"2021-05-23\",\"2021-05-24\",\"2021-05-25\",\"2021-05-26\",\"2021-05-27\",\"2021-05-28\",\"2021-05-29\",\"2021-05-30\",\"2021-05-31\",\"2021-06-01\",\"2021-06-02\",\"2021-06-03\",\"2021-06-04\",\"2021-06-05\",\"2021-06-06\",\"2021-06-07\",\"2021-06-08\",\"2021-06-09\",\"2021-06-10\",\"2021-06-11\",\"2021-06-12\",\"2021-06-13\",\"2021-06-14\",\"2021-06-15\",\"2021-06-16\",\"2021-06-17\",\"2021-06-18\",\"2021-06-19\",\"2021-06-20\",\"2021-06-21\",\"2021-06-22\",\"2021-06-23\",\"2021-06-24\",\"2021-06-25\",\"2021-06-26\",\"2021-06-27\",\"2021-06-28\",\"2021-06-29\",\"2021-06-30\",\"2021-07-01\",\"2021-07-02\",\"2021-07-03\",\"2021-07-04\",\"2021-07-05\",\"2021-07-06\",\"2021-07-07\",\"2021-07-08\",\"2021-07-09\",\"2021-07-10\",\"2021-07-11\",\"2021-07-12\",\"2021-07-13\",\"2021-07-14\",\"2021-07-15\",\"2021-07-16\",\"2021-07-17\",\"2021-07-18\",\"2021-07-19\",\"2021-07-20\",\"2021-07-21\",\"2021-07-22\",\"2021-07-23\",\"2021-07-24\",\"2021-07-25\",\"2021-07-26\",\"2021-07-27\",\"2021-07-28\",\"2021-07-29\",\"2021-07-30\",\"2021-07-31\",\"2021-08-01\",\"2021-08-02\",\"2021-08-03\",\"2021-08-04\",\"2021-08-05\",\"2021-08-06\",\"2021-08-07\",\"2021-08-08\",\"2021-08-09\",\"2021-08-10\",\"2021-08-11\",\"2021-08-12\",\"2021-08-13\",\"2021-08-14\",\"2021-08-15\",\"2021-08-16\",\"2021-08-17\",\"2021-08-18\",\"2021-08-19\",\"2021-08-20\",\"2021-08-21\",\"2021-08-22\",\"2021-08-23\",\"2021-08-24\",\"2021-08-25\",\"2021-08-26\",\"2021-08-27\",\"2021-08-28\",\"2021-08-29\",\"2021-08-30\",\"2021-08-31\",\"2021-09-01\",\"2021-09-02\",\"2021-09-03\",\"2021-09-04\",\"2021-09-05\",\"2021-09-06\",\"2021-09-07\",\"2021-09-08\",\"2021-09-09\",\"2021-09-10\",\"2021-09-11\",\"2021-09-12\",\"2021-09-13\",\"2021-09-14\",\"2021-09-15\",\"2021-09-16\",\"2021-09-17\",\"2021-09-18\",\"2021-09-19\",\"2021-09-20\",\"2021-09-21\",\"2021-09-22\",\"2021-09-23\",\"2021-09-24\",\"2021-09-25\",\"2021-09-26\",\"2021-09-27\",\"2021-09-28\",\"2021-09-29\",\"2021-09-30\",\"2021-10-01\",\"2021-10-02\",\"2021-10-03\",\"2021-10-04\",\"2021-10-05\",\"2021-10-06\",\"2021-10-07\",\"2021-10-08\",\"2021-10-09\",\"2021-10-10\",\"2021-10-11\",\"2021-10-12\",\"2021-10-13\",\"2021-10-14\",\"2021-10-15\",\"2021-10-16\",\"2021-10-17\",\"2021-10-18\",\"2021-10-19\",\"2021-10-20\",\"2021-10-21\",\"2021-10-22\",\"2021-10-23\",\"2021-10-24\",\"2021-10-25\",\"2021-10-26\",\"2021-10-27\",\"2021-10-28\",\"2021-10-29\",\"2021-10-30\",\"2021-10-31\",\"2021-11-01\",\"2021-11-02\",\"2021-11-03\",\"2021-11-04\",\"2021-11-05\",\"2021-11-06\",\"2021-11-07\",\"2021-11-08\",\"2021-11-09\",\"2021-11-10\",\"2021-11-11\",\"2021-11-12\",\"2021-11-13\",\"2021-11-14\",\"2021-11-15\",\"2021-11-16\",\"2021-11-17\",\"2021-11-18\",\"2021-11-19\",\"2021-11-20\",\"2021-11-21\",\"2021-11-22\",\"2021-11-23\",\"2021-11-24\",\"2021-11-25\",\"2021-11-26\",\"2021-11-27\",\"2021-11-28\",\"2021-11-29\",\"2021-11-30\",\"2021-12-01\",\"2021-12-02\",\"2021-12-03\",\"2021-12-04\",\"2021-12-05\",\"2021-12-06\",\"2021-12-07\",\"2021-12-08\",\"2021-12-09\",\"2021-12-10\",\"2021-12-11\",\"2021-12-12\",\"2021-12-13\",\"2021-12-14\",\"2021-12-15\",\"2021-12-16\",\"2021-12-17\",\"2021-12-18\",\"2021-12-19\",\"2021-12-20\",\"2021-12-21\",\"2021-12-22\",\"2021-12-23\",\"2021-12-24\",\"2021-12-25\",\"2021-12-26\",\"2021-12-27\",\"2021-12-28\",\"2021-12-29\",\"2021-12-30\",\"2021-12-31\"],\"xaxis\":\"x\",\"y\":[849,931,734,742,965,1011,1637,1166,962,738,825,1009,854,904,974,876,552,890,992,762,657,775,713,669,476,668,632,586,633,634,574,464,544,468,431,448,367,407,300,406,430,398,363,294,242,330,303,412,366,404,333,346,264,387,382,367,335,269,320,252,357,321,393,335,375,421,381,402,412,396,498,476,366,368,473,483,554,538,557,499,560,644,746,785,895,668,630,729,851,970,888,977,855,901,846,1140,1088,1177,1269,1391,1127,1225,1150,1444,1442,1211,1524,1348,1110,1325,1013,1217,1388,1119,1276,838,1136,1138,1338,1106,1132,1049,743,859,1052,880,836,797,707,621,738,759,693,631,656,507,473,463,614,461,458,422,351,289,242,317,278,239,266,174,176,207,190,176,165,109,124,98,102,114,83,89,70,89,73,62,73,65,60,40,52,42,57,38,40,66,32,37,28,32,30,28,18,39,21,32,19,18,25,24,18,18,24,23,12,22,41,19,24,26,30,32,47,42,29,36,20,22,56,62,40,43,41,29,44,69,81,106,93,97,86,88,118,151,127,117,126,92,120,155,164,159,128,100,115,153,163,200,163,153,111,142,170,181,160,207,120,129,151,140,153,162,202,109,129,129,184,151,171,134,132,109,136,116,161,117,105,111,91,118,92,98,133,140,90,124,95,122,114,125,111,102,75,68,66,57,92,92,47,64,50,47,69,46,54,43,29,42,71,77,58,49,56,53,44,73,57,78,63,46,62,43,54,69,104,71,65,81,58,81,87,115,76,82,79,74,80,101,143,104,118,85,98,115,137,162,168,108,111,159,170,220,275,205,243,243,274,405,689,718,1030,1073,1045,1158,1490,2304,3165,2796,2790,2900,2557,3324,4079,4356,4321],\"yaxis\":\"y\",\"type\":\"scatter\"}],                        {\"template\":{\"data\":{\"bar\":[{\"error_x\":{\"color\":\"#2a3f5f\"},\"error_y\":{\"color\":\"#2a3f5f\"},\"marker\":{\"line\":{\"color\":\"#E5ECF6\",\"width\":0.5},\"pattern\":{\"fillmode\":\"overlay\",\"size\":10,\"solidity\":0.2}},\"type\":\"bar\"}],\"barpolar\":[{\"marker\":{\"line\":{\"color\":\"#E5ECF6\",\"width\":0.5},\"pattern\":{\"fillmode\":\"overlay\",\"size\":10,\"solidity\":0.2}},\"type\":\"barpolar\"}],\"carpet\":[{\"aaxis\":{\"endlinecolor\":\"#2a3f5f\",\"gridcolor\":\"white\",\"linecolor\":\"white\",\"minorgridcolor\":\"white\",\"startlinecolor\":\"#2a3f5f\"},\"baxis\":{\"endlinecolor\":\"#2a3f5f\",\"gridcolor\":\"white\",\"linecolor\":\"white\",\"minorgridcolor\":\"white\",\"startlinecolor\":\"#2a3f5f\"},\"type\":\"carpet\"}],\"choropleth\":[{\"colorbar\":{\"outlinewidth\":0,\"ticks\":\"\"},\"type\":\"choropleth\"}],\"contour\":[{\"colorbar\":{\"outlinewidth\":0,\"ticks\":\"\"},\"colorscale\":[[0.0,\"#0d0887\"],[0.1111111111111111,\"#46039f\"],[0.2222222222222222,\"#7201a8\"],[0.3333333333333333,\"#9c179e\"],[0.4444444444444444,\"#bd3786\"],[0.5555555555555556,\"#d8576b\"],[0.6666666666666666,\"#ed7953\"],[0.7777777777777778,\"#fb9f3a\"],[0.8888888888888888,\"#fdca26\"],[1.0,\"#f0f921\"]],\"type\":\"contour\"}],\"contourcarpet\":[{\"colorbar\":{\"outlinewidth\":0,\"ticks\":\"\"},\"type\":\"contourcarpet\"}],\"heatmap\":[{\"colorbar\":{\"outlinewidth\":0,\"ticks\":\"\"},\"colorscale\":[[0.0,\"#0d0887\"],[0.1111111111111111,\"#46039f\"],[0.2222222222222222,\"#7201a8\"],[0.3333333333333333,\"#9c179e\"],[0.4444444444444444,\"#bd3786\"],[0.5555555555555556,\"#d8576b\"],[0.6666666666666666,\"#ed7953\"],[0.7777777777777778,\"#fb9f3a\"],[0.8888888888888888,\"#fdca26\"],[1.0,\"#f0f921\"]],\"type\":\"heatmap\"}],\"heatmapgl\":[{\"colorbar\":{\"outlinewidth\":0,\"ticks\":\"\"},\"colorscale\":[[0.0,\"#0d0887\"],[0.1111111111111111,\"#46039f\"],[0.2222222222222222,\"#7201a8\"],[0.3333333333333333,\"#9c179e\"],[0.4444444444444444,\"#bd3786\"],[0.5555555555555556,\"#d8576b\"],[0.6666666666666666,\"#ed7953\"],[0.7777777777777778,\"#fb9f3a\"],[0.8888888888888888,\"#fdca26\"],[1.0,\"#f0f921\"]],\"type\":\"heatmapgl\"}],\"histogram\":[{\"marker\":{\"pattern\":{\"fillmode\":\"overlay\",\"size\":10,\"solidity\":0.2}},\"type\":\"histogram\"}],\"histogram2d\":[{\"colorbar\":{\"outlinewidth\":0,\"ticks\":\"\"},\"colorscale\":[[0.0,\"#0d0887\"],[0.1111111111111111,\"#46039f\"],[0.2222222222222222,\"#7201a8\"],[0.3333333333333333,\"#9c179e\"],[0.4444444444444444,\"#bd3786\"],[0.5555555555555556,\"#d8576b\"],[0.6666666666666666,\"#ed7953\"],[0.7777777777777778,\"#fb9f3a\"],[0.8888888888888888,\"#fdca26\"],[1.0,\"#f0f921\"]],\"type\":\"histogram2d\"}],\"histogram2dcontour\":[{\"colorbar\":{\"outlinewidth\":0,\"ticks\":\"\"},\"colorscale\":[[0.0,\"#0d0887\"],[0.1111111111111111,\"#46039f\"],[0.2222222222222222,\"#7201a8\"],[0.3333333333333333,\"#9c179e\"],[0.4444444444444444,\"#bd3786\"],[0.5555555555555556,\"#d8576b\"],[0.6666666666666666,\"#ed7953\"],[0.7777777777777778,\"#fb9f3a\"],[0.8888888888888888,\"#fdca26\"],[1.0,\"#f0f921\"]],\"type\":\"histogram2dcontour\"}],\"mesh3d\":[{\"colorbar\":{\"outlinewidth\":0,\"ticks\":\"\"},\"type\":\"mesh3d\"}],\"parcoords\":[{\"line\":{\"colorbar\":{\"outlinewidth\":0,\"ticks\":\"\"}},\"type\":\"parcoords\"}],\"pie\":[{\"automargin\":true,\"type\":\"pie\"}],\"scatter\":[{\"marker\":{\"colorbar\":{\"outlinewidth\":0,\"ticks\":\"\"}},\"type\":\"scatter\"}],\"scatter3d\":[{\"line\":{\"colorbar\":{\"outlinewidth\":0,\"ticks\":\"\"}},\"marker\":{\"colorbar\":{\"outlinewidth\":0,\"ticks\":\"\"}},\"type\":\"scatter3d\"}],\"scattercarpet\":[{\"marker\":{\"colorbar\":{\"outlinewidth\":0,\"ticks\":\"\"}},\"type\":\"scattercarpet\"}],\"scattergeo\":[{\"marker\":{\"colorbar\":{\"outlinewidth\":0,\"ticks\":\"\"}},\"type\":\"scattergeo\"}],\"scattergl\":[{\"marker\":{\"colorbar\":{\"outlinewidth\":0,\"ticks\":\"\"}},\"type\":\"scattergl\"}],\"scattermapbox\":[{\"marker\":{\"colorbar\":{\"outlinewidth\":0,\"ticks\":\"\"}},\"type\":\"scattermapbox\"}],\"scatterpolar\":[{\"marker\":{\"colorbar\":{\"outlinewidth\":0,\"ticks\":\"\"}},\"type\":\"scatterpolar\"}],\"scatterpolargl\":[{\"marker\":{\"colorbar\":{\"outlinewidth\":0,\"ticks\":\"\"}},\"type\":\"scatterpolargl\"}],\"scatterternary\":[{\"marker\":{\"colorbar\":{\"outlinewidth\":0,\"ticks\":\"\"}},\"type\":\"scatterternary\"}],\"surface\":[{\"colorbar\":{\"outlinewidth\":0,\"ticks\":\"\"},\"colorscale\":[[0.0,\"#0d0887\"],[0.1111111111111111,\"#46039f\"],[0.2222222222222222,\"#7201a8\"],[0.3333333333333333,\"#9c179e\"],[0.4444444444444444,\"#bd3786\"],[0.5555555555555556,\"#d8576b\"],[0.6666666666666666,\"#ed7953\"],[0.7777777777777778,\"#fb9f3a\"],[0.8888888888888888,\"#fdca26\"],[1.0,\"#f0f921\"]],\"type\":\"surface\"}],\"table\":[{\"cells\":{\"fill\":{\"color\":\"#EBF0F8\"},\"line\":{\"color\":\"white\"}},\"header\":{\"fill\":{\"color\":\"#C8D4E3\"},\"line\":{\"color\":\"white\"}},\"type\":\"table\"}]},\"layout\":{\"annotationdefaults\":{\"arrowcolor\":\"#2a3f5f\",\"arrowhead\":0,\"arrowwidth\":1},\"autotypenumbers\":\"strict\",\"coloraxis\":{\"colorbar\":{\"outlinewidth\":0,\"ticks\":\"\"}},\"colorscale\":{\"diverging\":[[0,\"#8e0152\"],[0.1,\"#c51b7d\"],[0.2,\"#de77ae\"],[0.3,\"#f1b6da\"],[0.4,\"#fde0ef\"],[0.5,\"#f7f7f7\"],[0.6,\"#e6f5d0\"],[0.7,\"#b8e186\"],[0.8,\"#7fbc41\"],[0.9,\"#4d9221\"],[1,\"#276419\"]],\"sequential\":[[0.0,\"#0d0887\"],[0.1111111111111111,\"#46039f\"],[0.2222222222222222,\"#7201a8\"],[0.3333333333333333,\"#9c179e\"],[0.4444444444444444,\"#bd3786\"],[0.5555555555555556,\"#d8576b\"],[0.6666666666666666,\"#ed7953\"],[0.7777777777777778,\"#fb9f3a\"],[0.8888888888888888,\"#fdca26\"],[1.0,\"#f0f921\"]],\"sequentialminus\":[[0.0,\"#0d0887\"],[0.1111111111111111,\"#46039f\"],[0.2222222222222222,\"#7201a8\"],[0.3333333333333333,\"#9c179e\"],[0.4444444444444444,\"#bd3786\"],[0.5555555555555556,\"#d8576b\"],[0.6666666666666666,\"#ed7953\"],[0.7777777777777778,\"#fb9f3a\"],[0.8888888888888888,\"#fdca26\"],[1.0,\"#f0f921\"]]},\"colorway\":[\"#636efa\",\"#EF553B\",\"#00cc96\",\"#ab63fa\",\"#FFA15A\",\"#19d3f3\",\"#FF6692\",\"#B6E880\",\"#FF97FF\",\"#FECB52\"],\"font\":{\"color\":\"#2a3f5f\"},\"geo\":{\"bgcolor\":\"white\",\"lakecolor\":\"white\",\"landcolor\":\"#E5ECF6\",\"showlakes\":true,\"showland\":true,\"subunitcolor\":\"white\"},\"hoverlabel\":{\"align\":\"left\"},\"hovermode\":\"closest\",\"mapbox\":{\"style\":\"light\"},\"paper_bgcolor\":\"white\",\"plot_bgcolor\":\"#E5ECF6\",\"polar\":{\"angularaxis\":{\"gridcolor\":\"white\",\"linecolor\":\"white\",\"ticks\":\"\"},\"bgcolor\":\"#E5ECF6\",\"radialaxis\":{\"gridcolor\":\"white\",\"linecolor\":\"white\",\"ticks\":\"\"}},\"scene\":{\"xaxis\":{\"backgroundcolor\":\"#E5ECF6\",\"gridcolor\":\"white\",\"gridwidth\":2,\"linecolor\":\"white\",\"showbackground\":true,\"ticks\":\"\",\"zerolinecolor\":\"white\"},\"yaxis\":{\"backgroundcolor\":\"#E5ECF6\",\"gridcolor\":\"white\",\"gridwidth\":2,\"linecolor\":\"white\",\"showbackground\":true,\"ticks\":\"\",\"zerolinecolor\":\"white\"},\"zaxis\":{\"backgroundcolor\":\"#E5ECF6\",\"gridcolor\":\"white\",\"gridwidth\":2,\"linecolor\":\"white\",\"showbackground\":true,\"ticks\":\"\",\"zerolinecolor\":\"white\"}},\"shapedefaults\":{\"line\":{\"color\":\"#2a3f5f\"}},\"ternary\":{\"aaxis\":{\"gridcolor\":\"white\",\"linecolor\":\"white\",\"ticks\":\"\"},\"baxis\":{\"gridcolor\":\"white\",\"linecolor\":\"white\",\"ticks\":\"\"},\"bgcolor\":\"#E5ECF6\",\"caxis\":{\"gridcolor\":\"white\",\"linecolor\":\"white\",\"ticks\":\"\"}},\"title\":{\"x\":0.05},\"xaxis\":{\"automargin\":true,\"gridcolor\":\"white\",\"linecolor\":\"white\",\"ticks\":\"\",\"title\":{\"standoff\":15},\"zerolinecolor\":\"white\",\"zerolinewidth\":2},\"yaxis\":{\"automargin\":true,\"gridcolor\":\"white\",\"linecolor\":\"white\",\"ticks\":\"\",\"title\":{\"standoff\":15},\"zerolinecolor\":\"white\",\"zerolinewidth\":2}}},\"xaxis\":{\"anchor\":\"y\",\"domain\":[0.0,1.0],\"title\":{\"text\":\"Date\"}},\"yaxis\":{\"anchor\":\"x\",\"domain\":[0.0,1.0],\"title\":{\"text\":\"# of cases\"}},\"legend\":{\"tracegroupgap\":0},\"title\":{\"text\":\"Toronto COVID-19 Cases 2021\"}},                        {\"responsive\": true}                    ).then(function(){\n",
       "                            \n",
       "var gd = document.getElementById('f9a47c29-0932-46fb-84ac-22f22ebc1494');\n",
       "var x = new MutationObserver(function (mutations, observer) {{\n",
       "        var display = window.getComputedStyle(gd).display;\n",
       "        if (!display || display === 'none') {{\n",
       "            console.log([gd, 'removed!']);\n",
       "            Plotly.purge(gd);\n",
       "            observer.disconnect();\n",
       "        }}\n",
       "}});\n",
       "\n",
       "// Listen for the removal of the full notebook cells\n",
       "var notebookContainer = gd.closest('#notebook-container');\n",
       "if (notebookContainer) {{\n",
       "    x.observe(notebookContainer, {childList: true});\n",
       "}}\n",
       "\n",
       "// Listen for the clearing of the current output cell\n",
       "var outputEl = gd.closest('.output');\n",
       "if (outputEl) {{\n",
       "    x.observe(outputEl, {childList: true});\n",
       "}}\n",
       "\n",
       "                        })                };                });            </script>        </div>"
      ]
     },
     "metadata": {},
     "output_type": "display_data"
    }
   ],
   "source": [
    "fig = px.line(case_by_day, x='Reported Date', y='Assigned_ID', \n",
    "              labels={'Reported Date':'Date', 'Assigned_ID':'# of cases'}, \n",
    "              title='Toronto COVID-19 Cases 2021')\n",
    "fig.show()"
   ]
  },
  {
   "cell_type": "markdown",
   "id": "fcf9f3c7",
   "metadata": {},
   "source": [
    "### What are the riders' behavior?\n",
    "in terms of distance, speed, time of the day, day of the week, etc."
   ]
  },
  {
   "cell_type": "code",
   "execution_count": null,
   "id": "b744bcfa",
   "metadata": {},
   "outputs": [],
   "source": []
  },
  {
   "cell_type": "code",
   "execution_count": 123,
   "id": "d44a46d6",
   "metadata": {},
   "outputs": [
    {
     "data": {
      "application/vnd.plotly.v1+json": {
       "config": {
        "plotlyServerURL": "https://plot.ly"
       },
       "data": [
        {
         "alignmentgroup": "True",
         "hovertemplate": "Day of the Week (Mon - Sun)=%{x}<br># of trips=%{marker.color}<extra></extra>",
         "legendgroup": "",
         "marker": {
          "color": [
           438948,
           434526,
           495544,
           472931,
           478811,
           600452,
           553078
          ],
          "coloraxis": "coloraxis",
          "pattern": {
           "shape": ""
          }
         },
         "name": "",
         "offsetgroup": "",
         "orientation": "v",
         "showlegend": false,
         "textposition": "auto",
         "type": "bar",
         "x": [
          0,
          1,
          2,
          3,
          4,
          5,
          6
         ],
         "xaxis": "x",
         "y": [
          438948,
          434526,
          495544,
          472931,
          478811,
          600452,
          553078
         ],
         "yaxis": "y"
        }
       ],
       "layout": {
        "barmode": "relative",
        "coloraxis": {
         "colorbar": {
          "title": {
           "text": "# of trips"
          }
         },
         "colorscale": [
          [
           0,
           "#0d0887"
          ],
          [
           0.1111111111111111,
           "#46039f"
          ],
          [
           0.2222222222222222,
           "#7201a8"
          ],
          [
           0.3333333333333333,
           "#9c179e"
          ],
          [
           0.4444444444444444,
           "#bd3786"
          ],
          [
           0.5555555555555556,
           "#d8576b"
          ],
          [
           0.6666666666666666,
           "#ed7953"
          ],
          [
           0.7777777777777778,
           "#fb9f3a"
          ],
          [
           0.8888888888888888,
           "#fdca26"
          ],
          [
           1,
           "#f0f921"
          ]
         ]
        },
        "height": 500,
        "legend": {
         "tracegroupgap": 0
        },
        "template": {
         "data": {
          "bar": [
           {
            "error_x": {
             "color": "#2a3f5f"
            },
            "error_y": {
             "color": "#2a3f5f"
            },
            "marker": {
             "line": {
              "color": "#E5ECF6",
              "width": 0.5
             },
             "pattern": {
              "fillmode": "overlay",
              "size": 10,
              "solidity": 0.2
             }
            },
            "type": "bar"
           }
          ],
          "barpolar": [
           {
            "marker": {
             "line": {
              "color": "#E5ECF6",
              "width": 0.5
             },
             "pattern": {
              "fillmode": "overlay",
              "size": 10,
              "solidity": 0.2
             }
            },
            "type": "barpolar"
           }
          ],
          "carpet": [
           {
            "aaxis": {
             "endlinecolor": "#2a3f5f",
             "gridcolor": "white",
             "linecolor": "white",
             "minorgridcolor": "white",
             "startlinecolor": "#2a3f5f"
            },
            "baxis": {
             "endlinecolor": "#2a3f5f",
             "gridcolor": "white",
             "linecolor": "white",
             "minorgridcolor": "white",
             "startlinecolor": "#2a3f5f"
            },
            "type": "carpet"
           }
          ],
          "choropleth": [
           {
            "colorbar": {
             "outlinewidth": 0,
             "ticks": ""
            },
            "type": "choropleth"
           }
          ],
          "contour": [
           {
            "colorbar": {
             "outlinewidth": 0,
             "ticks": ""
            },
            "colorscale": [
             [
              0,
              "#0d0887"
             ],
             [
              0.1111111111111111,
              "#46039f"
             ],
             [
              0.2222222222222222,
              "#7201a8"
             ],
             [
              0.3333333333333333,
              "#9c179e"
             ],
             [
              0.4444444444444444,
              "#bd3786"
             ],
             [
              0.5555555555555556,
              "#d8576b"
             ],
             [
              0.6666666666666666,
              "#ed7953"
             ],
             [
              0.7777777777777778,
              "#fb9f3a"
             ],
             [
              0.8888888888888888,
              "#fdca26"
             ],
             [
              1,
              "#f0f921"
             ]
            ],
            "type": "contour"
           }
          ],
          "contourcarpet": [
           {
            "colorbar": {
             "outlinewidth": 0,
             "ticks": ""
            },
            "type": "contourcarpet"
           }
          ],
          "heatmap": [
           {
            "colorbar": {
             "outlinewidth": 0,
             "ticks": ""
            },
            "colorscale": [
             [
              0,
              "#0d0887"
             ],
             [
              0.1111111111111111,
              "#46039f"
             ],
             [
              0.2222222222222222,
              "#7201a8"
             ],
             [
              0.3333333333333333,
              "#9c179e"
             ],
             [
              0.4444444444444444,
              "#bd3786"
             ],
             [
              0.5555555555555556,
              "#d8576b"
             ],
             [
              0.6666666666666666,
              "#ed7953"
             ],
             [
              0.7777777777777778,
              "#fb9f3a"
             ],
             [
              0.8888888888888888,
              "#fdca26"
             ],
             [
              1,
              "#f0f921"
             ]
            ],
            "type": "heatmap"
           }
          ],
          "heatmapgl": [
           {
            "colorbar": {
             "outlinewidth": 0,
             "ticks": ""
            },
            "colorscale": [
             [
              0,
              "#0d0887"
             ],
             [
              0.1111111111111111,
              "#46039f"
             ],
             [
              0.2222222222222222,
              "#7201a8"
             ],
             [
              0.3333333333333333,
              "#9c179e"
             ],
             [
              0.4444444444444444,
              "#bd3786"
             ],
             [
              0.5555555555555556,
              "#d8576b"
             ],
             [
              0.6666666666666666,
              "#ed7953"
             ],
             [
              0.7777777777777778,
              "#fb9f3a"
             ],
             [
              0.8888888888888888,
              "#fdca26"
             ],
             [
              1,
              "#f0f921"
             ]
            ],
            "type": "heatmapgl"
           }
          ],
          "histogram": [
           {
            "marker": {
             "pattern": {
              "fillmode": "overlay",
              "size": 10,
              "solidity": 0.2
             }
            },
            "type": "histogram"
           }
          ],
          "histogram2d": [
           {
            "colorbar": {
             "outlinewidth": 0,
             "ticks": ""
            },
            "colorscale": [
             [
              0,
              "#0d0887"
             ],
             [
              0.1111111111111111,
              "#46039f"
             ],
             [
              0.2222222222222222,
              "#7201a8"
             ],
             [
              0.3333333333333333,
              "#9c179e"
             ],
             [
              0.4444444444444444,
              "#bd3786"
             ],
             [
              0.5555555555555556,
              "#d8576b"
             ],
             [
              0.6666666666666666,
              "#ed7953"
             ],
             [
              0.7777777777777778,
              "#fb9f3a"
             ],
             [
              0.8888888888888888,
              "#fdca26"
             ],
             [
              1,
              "#f0f921"
             ]
            ],
            "type": "histogram2d"
           }
          ],
          "histogram2dcontour": [
           {
            "colorbar": {
             "outlinewidth": 0,
             "ticks": ""
            },
            "colorscale": [
             [
              0,
              "#0d0887"
             ],
             [
              0.1111111111111111,
              "#46039f"
             ],
             [
              0.2222222222222222,
              "#7201a8"
             ],
             [
              0.3333333333333333,
              "#9c179e"
             ],
             [
              0.4444444444444444,
              "#bd3786"
             ],
             [
              0.5555555555555556,
              "#d8576b"
             ],
             [
              0.6666666666666666,
              "#ed7953"
             ],
             [
              0.7777777777777778,
              "#fb9f3a"
             ],
             [
              0.8888888888888888,
              "#fdca26"
             ],
             [
              1,
              "#f0f921"
             ]
            ],
            "type": "histogram2dcontour"
           }
          ],
          "mesh3d": [
           {
            "colorbar": {
             "outlinewidth": 0,
             "ticks": ""
            },
            "type": "mesh3d"
           }
          ],
          "parcoords": [
           {
            "line": {
             "colorbar": {
              "outlinewidth": 0,
              "ticks": ""
             }
            },
            "type": "parcoords"
           }
          ],
          "pie": [
           {
            "automargin": true,
            "type": "pie"
           }
          ],
          "scatter": [
           {
            "marker": {
             "colorbar": {
              "outlinewidth": 0,
              "ticks": ""
             }
            },
            "type": "scatter"
           }
          ],
          "scatter3d": [
           {
            "line": {
             "colorbar": {
              "outlinewidth": 0,
              "ticks": ""
             }
            },
            "marker": {
             "colorbar": {
              "outlinewidth": 0,
              "ticks": ""
             }
            },
            "type": "scatter3d"
           }
          ],
          "scattercarpet": [
           {
            "marker": {
             "colorbar": {
              "outlinewidth": 0,
              "ticks": ""
             }
            },
            "type": "scattercarpet"
           }
          ],
          "scattergeo": [
           {
            "marker": {
             "colorbar": {
              "outlinewidth": 0,
              "ticks": ""
             }
            },
            "type": "scattergeo"
           }
          ],
          "scattergl": [
           {
            "marker": {
             "colorbar": {
              "outlinewidth": 0,
              "ticks": ""
             }
            },
            "type": "scattergl"
           }
          ],
          "scattermapbox": [
           {
            "marker": {
             "colorbar": {
              "outlinewidth": 0,
              "ticks": ""
             }
            },
            "type": "scattermapbox"
           }
          ],
          "scatterpolar": [
           {
            "marker": {
             "colorbar": {
              "outlinewidth": 0,
              "ticks": ""
             }
            },
            "type": "scatterpolar"
           }
          ],
          "scatterpolargl": [
           {
            "marker": {
             "colorbar": {
              "outlinewidth": 0,
              "ticks": ""
             }
            },
            "type": "scatterpolargl"
           }
          ],
          "scatterternary": [
           {
            "marker": {
             "colorbar": {
              "outlinewidth": 0,
              "ticks": ""
             }
            },
            "type": "scatterternary"
           }
          ],
          "surface": [
           {
            "colorbar": {
             "outlinewidth": 0,
             "ticks": ""
            },
            "colorscale": [
             [
              0,
              "#0d0887"
             ],
             [
              0.1111111111111111,
              "#46039f"
             ],
             [
              0.2222222222222222,
              "#7201a8"
             ],
             [
              0.3333333333333333,
              "#9c179e"
             ],
             [
              0.4444444444444444,
              "#bd3786"
             ],
             [
              0.5555555555555556,
              "#d8576b"
             ],
             [
              0.6666666666666666,
              "#ed7953"
             ],
             [
              0.7777777777777778,
              "#fb9f3a"
             ],
             [
              0.8888888888888888,
              "#fdca26"
             ],
             [
              1,
              "#f0f921"
             ]
            ],
            "type": "surface"
           }
          ],
          "table": [
           {
            "cells": {
             "fill": {
              "color": "#EBF0F8"
             },
             "line": {
              "color": "white"
             }
            },
            "header": {
             "fill": {
              "color": "#C8D4E3"
             },
             "line": {
              "color": "white"
             }
            },
            "type": "table"
           }
          ]
         },
         "layout": {
          "annotationdefaults": {
           "arrowcolor": "#2a3f5f",
           "arrowhead": 0,
           "arrowwidth": 1
          },
          "autotypenumbers": "strict",
          "coloraxis": {
           "colorbar": {
            "outlinewidth": 0,
            "ticks": ""
           }
          },
          "colorscale": {
           "diverging": [
            [
             0,
             "#8e0152"
            ],
            [
             0.1,
             "#c51b7d"
            ],
            [
             0.2,
             "#de77ae"
            ],
            [
             0.3,
             "#f1b6da"
            ],
            [
             0.4,
             "#fde0ef"
            ],
            [
             0.5,
             "#f7f7f7"
            ],
            [
             0.6,
             "#e6f5d0"
            ],
            [
             0.7,
             "#b8e186"
            ],
            [
             0.8,
             "#7fbc41"
            ],
            [
             0.9,
             "#4d9221"
            ],
            [
             1,
             "#276419"
            ]
           ],
           "sequential": [
            [
             0,
             "#0d0887"
            ],
            [
             0.1111111111111111,
             "#46039f"
            ],
            [
             0.2222222222222222,
             "#7201a8"
            ],
            [
             0.3333333333333333,
             "#9c179e"
            ],
            [
             0.4444444444444444,
             "#bd3786"
            ],
            [
             0.5555555555555556,
             "#d8576b"
            ],
            [
             0.6666666666666666,
             "#ed7953"
            ],
            [
             0.7777777777777778,
             "#fb9f3a"
            ],
            [
             0.8888888888888888,
             "#fdca26"
            ],
            [
             1,
             "#f0f921"
            ]
           ],
           "sequentialminus": [
            [
             0,
             "#0d0887"
            ],
            [
             0.1111111111111111,
             "#46039f"
            ],
            [
             0.2222222222222222,
             "#7201a8"
            ],
            [
             0.3333333333333333,
             "#9c179e"
            ],
            [
             0.4444444444444444,
             "#bd3786"
            ],
            [
             0.5555555555555556,
             "#d8576b"
            ],
            [
             0.6666666666666666,
             "#ed7953"
            ],
            [
             0.7777777777777778,
             "#fb9f3a"
            ],
            [
             0.8888888888888888,
             "#fdca26"
            ],
            [
             1,
             "#f0f921"
            ]
           ]
          },
          "colorway": [
           "#636efa",
           "#EF553B",
           "#00cc96",
           "#ab63fa",
           "#FFA15A",
           "#19d3f3",
           "#FF6692",
           "#B6E880",
           "#FF97FF",
           "#FECB52"
          ],
          "font": {
           "color": "#2a3f5f"
          },
          "geo": {
           "bgcolor": "white",
           "lakecolor": "white",
           "landcolor": "#E5ECF6",
           "showlakes": true,
           "showland": true,
           "subunitcolor": "white"
          },
          "hoverlabel": {
           "align": "left"
          },
          "hovermode": "closest",
          "mapbox": {
           "style": "light"
          },
          "paper_bgcolor": "white",
          "plot_bgcolor": "#E5ECF6",
          "polar": {
           "angularaxis": {
            "gridcolor": "white",
            "linecolor": "white",
            "ticks": ""
           },
           "bgcolor": "#E5ECF6",
           "radialaxis": {
            "gridcolor": "white",
            "linecolor": "white",
            "ticks": ""
           }
          },
          "scene": {
           "xaxis": {
            "backgroundcolor": "#E5ECF6",
            "gridcolor": "white",
            "gridwidth": 2,
            "linecolor": "white",
            "showbackground": true,
            "ticks": "",
            "zerolinecolor": "white"
           },
           "yaxis": {
            "backgroundcolor": "#E5ECF6",
            "gridcolor": "white",
            "gridwidth": 2,
            "linecolor": "white",
            "showbackground": true,
            "ticks": "",
            "zerolinecolor": "white"
           },
           "zaxis": {
            "backgroundcolor": "#E5ECF6",
            "gridcolor": "white",
            "gridwidth": 2,
            "linecolor": "white",
            "showbackground": true,
            "ticks": "",
            "zerolinecolor": "white"
           }
          },
          "shapedefaults": {
           "line": {
            "color": "#2a3f5f"
           }
          },
          "ternary": {
           "aaxis": {
            "gridcolor": "white",
            "linecolor": "white",
            "ticks": ""
           },
           "baxis": {
            "gridcolor": "white",
            "linecolor": "white",
            "ticks": ""
           },
           "bgcolor": "#E5ECF6",
           "caxis": {
            "gridcolor": "white",
            "linecolor": "white",
            "ticks": ""
           }
          },
          "title": {
           "x": 0.05
          },
          "xaxis": {
           "automargin": true,
           "gridcolor": "white",
           "linecolor": "white",
           "ticks": "",
           "title": {
            "standoff": 15
           },
           "zerolinecolor": "white",
           "zerolinewidth": 2
          },
          "yaxis": {
           "automargin": true,
           "gridcolor": "white",
           "linecolor": "white",
           "ticks": "",
           "title": {
            "standoff": 15
           },
           "zerolinecolor": "white",
           "zerolinewidth": 2
          }
         }
        },
        "title": {
         "text": "Toronto Bike Share Trips 2021"
        },
        "xaxis": {
         "anchor": "y",
         "domain": [
          0,
          1
         ],
         "title": {
          "text": "Day of the Week (Mon - Sun)"
         }
        },
        "yaxis": {
         "anchor": "x",
         "domain": [
          0,
          1
         ],
         "title": {
          "text": "# of trips"
         }
        }
       }
      },
      "text/html": [
       "<div>                            <div id=\"985bf9b4-7218-4feb-90c5-098cf16c672e\" class=\"plotly-graph-div\" style=\"height:500px; width:100%;\"></div>            <script type=\"text/javascript\">                require([\"plotly\"], function(Plotly) {                    window.PLOTLYENV=window.PLOTLYENV || {};                                    if (document.getElementById(\"985bf9b4-7218-4feb-90c5-098cf16c672e\")) {                    Plotly.newPlot(                        \"985bf9b4-7218-4feb-90c5-098cf16c672e\",                        [{\"alignmentgroup\":\"True\",\"hovertemplate\":\"Day of the Week (Mon - Sun)=%{x}<br># of trips=%{marker.color}<extra></extra>\",\"legendgroup\":\"\",\"marker\":{\"color\":[438948,434526,495544,472931,478811,600452,553078],\"coloraxis\":\"coloraxis\",\"pattern\":{\"shape\":\"\"}},\"name\":\"\",\"offsetgroup\":\"\",\"orientation\":\"v\",\"showlegend\":false,\"textposition\":\"auto\",\"x\":[0,1,2,3,4,5,6],\"xaxis\":\"x\",\"y\":[438948,434526,495544,472931,478811,600452,553078],\"yaxis\":\"y\",\"type\":\"bar\"}],                        {\"template\":{\"data\":{\"bar\":[{\"error_x\":{\"color\":\"#2a3f5f\"},\"error_y\":{\"color\":\"#2a3f5f\"},\"marker\":{\"line\":{\"color\":\"#E5ECF6\",\"width\":0.5},\"pattern\":{\"fillmode\":\"overlay\",\"size\":10,\"solidity\":0.2}},\"type\":\"bar\"}],\"barpolar\":[{\"marker\":{\"line\":{\"color\":\"#E5ECF6\",\"width\":0.5},\"pattern\":{\"fillmode\":\"overlay\",\"size\":10,\"solidity\":0.2}},\"type\":\"barpolar\"}],\"carpet\":[{\"aaxis\":{\"endlinecolor\":\"#2a3f5f\",\"gridcolor\":\"white\",\"linecolor\":\"white\",\"minorgridcolor\":\"white\",\"startlinecolor\":\"#2a3f5f\"},\"baxis\":{\"endlinecolor\":\"#2a3f5f\",\"gridcolor\":\"white\",\"linecolor\":\"white\",\"minorgridcolor\":\"white\",\"startlinecolor\":\"#2a3f5f\"},\"type\":\"carpet\"}],\"choropleth\":[{\"colorbar\":{\"outlinewidth\":0,\"ticks\":\"\"},\"type\":\"choropleth\"}],\"contour\":[{\"colorbar\":{\"outlinewidth\":0,\"ticks\":\"\"},\"colorscale\":[[0.0,\"#0d0887\"],[0.1111111111111111,\"#46039f\"],[0.2222222222222222,\"#7201a8\"],[0.3333333333333333,\"#9c179e\"],[0.4444444444444444,\"#bd3786\"],[0.5555555555555556,\"#d8576b\"],[0.6666666666666666,\"#ed7953\"],[0.7777777777777778,\"#fb9f3a\"],[0.8888888888888888,\"#fdca26\"],[1.0,\"#f0f921\"]],\"type\":\"contour\"}],\"contourcarpet\":[{\"colorbar\":{\"outlinewidth\":0,\"ticks\":\"\"},\"type\":\"contourcarpet\"}],\"heatmap\":[{\"colorbar\":{\"outlinewidth\":0,\"ticks\":\"\"},\"colorscale\":[[0.0,\"#0d0887\"],[0.1111111111111111,\"#46039f\"],[0.2222222222222222,\"#7201a8\"],[0.3333333333333333,\"#9c179e\"],[0.4444444444444444,\"#bd3786\"],[0.5555555555555556,\"#d8576b\"],[0.6666666666666666,\"#ed7953\"],[0.7777777777777778,\"#fb9f3a\"],[0.8888888888888888,\"#fdca26\"],[1.0,\"#f0f921\"]],\"type\":\"heatmap\"}],\"heatmapgl\":[{\"colorbar\":{\"outlinewidth\":0,\"ticks\":\"\"},\"colorscale\":[[0.0,\"#0d0887\"],[0.1111111111111111,\"#46039f\"],[0.2222222222222222,\"#7201a8\"],[0.3333333333333333,\"#9c179e\"],[0.4444444444444444,\"#bd3786\"],[0.5555555555555556,\"#d8576b\"],[0.6666666666666666,\"#ed7953\"],[0.7777777777777778,\"#fb9f3a\"],[0.8888888888888888,\"#fdca26\"],[1.0,\"#f0f921\"]],\"type\":\"heatmapgl\"}],\"histogram\":[{\"marker\":{\"pattern\":{\"fillmode\":\"overlay\",\"size\":10,\"solidity\":0.2}},\"type\":\"histogram\"}],\"histogram2d\":[{\"colorbar\":{\"outlinewidth\":0,\"ticks\":\"\"},\"colorscale\":[[0.0,\"#0d0887\"],[0.1111111111111111,\"#46039f\"],[0.2222222222222222,\"#7201a8\"],[0.3333333333333333,\"#9c179e\"],[0.4444444444444444,\"#bd3786\"],[0.5555555555555556,\"#d8576b\"],[0.6666666666666666,\"#ed7953\"],[0.7777777777777778,\"#fb9f3a\"],[0.8888888888888888,\"#fdca26\"],[1.0,\"#f0f921\"]],\"type\":\"histogram2d\"}],\"histogram2dcontour\":[{\"colorbar\":{\"outlinewidth\":0,\"ticks\":\"\"},\"colorscale\":[[0.0,\"#0d0887\"],[0.1111111111111111,\"#46039f\"],[0.2222222222222222,\"#7201a8\"],[0.3333333333333333,\"#9c179e\"],[0.4444444444444444,\"#bd3786\"],[0.5555555555555556,\"#d8576b\"],[0.6666666666666666,\"#ed7953\"],[0.7777777777777778,\"#fb9f3a\"],[0.8888888888888888,\"#fdca26\"],[1.0,\"#f0f921\"]],\"type\":\"histogram2dcontour\"}],\"mesh3d\":[{\"colorbar\":{\"outlinewidth\":0,\"ticks\":\"\"},\"type\":\"mesh3d\"}],\"parcoords\":[{\"line\":{\"colorbar\":{\"outlinewidth\":0,\"ticks\":\"\"}},\"type\":\"parcoords\"}],\"pie\":[{\"automargin\":true,\"type\":\"pie\"}],\"scatter\":[{\"marker\":{\"colorbar\":{\"outlinewidth\":0,\"ticks\":\"\"}},\"type\":\"scatter\"}],\"scatter3d\":[{\"line\":{\"colorbar\":{\"outlinewidth\":0,\"ticks\":\"\"}},\"marker\":{\"colorbar\":{\"outlinewidth\":0,\"ticks\":\"\"}},\"type\":\"scatter3d\"}],\"scattercarpet\":[{\"marker\":{\"colorbar\":{\"outlinewidth\":0,\"ticks\":\"\"}},\"type\":\"scattercarpet\"}],\"scattergeo\":[{\"marker\":{\"colorbar\":{\"outlinewidth\":0,\"ticks\":\"\"}},\"type\":\"scattergeo\"}],\"scattergl\":[{\"marker\":{\"colorbar\":{\"outlinewidth\":0,\"ticks\":\"\"}},\"type\":\"scattergl\"}],\"scattermapbox\":[{\"marker\":{\"colorbar\":{\"outlinewidth\":0,\"ticks\":\"\"}},\"type\":\"scattermapbox\"}],\"scatterpolar\":[{\"marker\":{\"colorbar\":{\"outlinewidth\":0,\"ticks\":\"\"}},\"type\":\"scatterpolar\"}],\"scatterpolargl\":[{\"marker\":{\"colorbar\":{\"outlinewidth\":0,\"ticks\":\"\"}},\"type\":\"scatterpolargl\"}],\"scatterternary\":[{\"marker\":{\"colorbar\":{\"outlinewidth\":0,\"ticks\":\"\"}},\"type\":\"scatterternary\"}],\"surface\":[{\"colorbar\":{\"outlinewidth\":0,\"ticks\":\"\"},\"colorscale\":[[0.0,\"#0d0887\"],[0.1111111111111111,\"#46039f\"],[0.2222222222222222,\"#7201a8\"],[0.3333333333333333,\"#9c179e\"],[0.4444444444444444,\"#bd3786\"],[0.5555555555555556,\"#d8576b\"],[0.6666666666666666,\"#ed7953\"],[0.7777777777777778,\"#fb9f3a\"],[0.8888888888888888,\"#fdca26\"],[1.0,\"#f0f921\"]],\"type\":\"surface\"}],\"table\":[{\"cells\":{\"fill\":{\"color\":\"#EBF0F8\"},\"line\":{\"color\":\"white\"}},\"header\":{\"fill\":{\"color\":\"#C8D4E3\"},\"line\":{\"color\":\"white\"}},\"type\":\"table\"}]},\"layout\":{\"annotationdefaults\":{\"arrowcolor\":\"#2a3f5f\",\"arrowhead\":0,\"arrowwidth\":1},\"autotypenumbers\":\"strict\",\"coloraxis\":{\"colorbar\":{\"outlinewidth\":0,\"ticks\":\"\"}},\"colorscale\":{\"diverging\":[[0,\"#8e0152\"],[0.1,\"#c51b7d\"],[0.2,\"#de77ae\"],[0.3,\"#f1b6da\"],[0.4,\"#fde0ef\"],[0.5,\"#f7f7f7\"],[0.6,\"#e6f5d0\"],[0.7,\"#b8e186\"],[0.8,\"#7fbc41\"],[0.9,\"#4d9221\"],[1,\"#276419\"]],\"sequential\":[[0.0,\"#0d0887\"],[0.1111111111111111,\"#46039f\"],[0.2222222222222222,\"#7201a8\"],[0.3333333333333333,\"#9c179e\"],[0.4444444444444444,\"#bd3786\"],[0.5555555555555556,\"#d8576b\"],[0.6666666666666666,\"#ed7953\"],[0.7777777777777778,\"#fb9f3a\"],[0.8888888888888888,\"#fdca26\"],[1.0,\"#f0f921\"]],\"sequentialminus\":[[0.0,\"#0d0887\"],[0.1111111111111111,\"#46039f\"],[0.2222222222222222,\"#7201a8\"],[0.3333333333333333,\"#9c179e\"],[0.4444444444444444,\"#bd3786\"],[0.5555555555555556,\"#d8576b\"],[0.6666666666666666,\"#ed7953\"],[0.7777777777777778,\"#fb9f3a\"],[0.8888888888888888,\"#fdca26\"],[1.0,\"#f0f921\"]]},\"colorway\":[\"#636efa\",\"#EF553B\",\"#00cc96\",\"#ab63fa\",\"#FFA15A\",\"#19d3f3\",\"#FF6692\",\"#B6E880\",\"#FF97FF\",\"#FECB52\"],\"font\":{\"color\":\"#2a3f5f\"},\"geo\":{\"bgcolor\":\"white\",\"lakecolor\":\"white\",\"landcolor\":\"#E5ECF6\",\"showlakes\":true,\"showland\":true,\"subunitcolor\":\"white\"},\"hoverlabel\":{\"align\":\"left\"},\"hovermode\":\"closest\",\"mapbox\":{\"style\":\"light\"},\"paper_bgcolor\":\"white\",\"plot_bgcolor\":\"#E5ECF6\",\"polar\":{\"angularaxis\":{\"gridcolor\":\"white\",\"linecolor\":\"white\",\"ticks\":\"\"},\"bgcolor\":\"#E5ECF6\",\"radialaxis\":{\"gridcolor\":\"white\",\"linecolor\":\"white\",\"ticks\":\"\"}},\"scene\":{\"xaxis\":{\"backgroundcolor\":\"#E5ECF6\",\"gridcolor\":\"white\",\"gridwidth\":2,\"linecolor\":\"white\",\"showbackground\":true,\"ticks\":\"\",\"zerolinecolor\":\"white\"},\"yaxis\":{\"backgroundcolor\":\"#E5ECF6\",\"gridcolor\":\"white\",\"gridwidth\":2,\"linecolor\":\"white\",\"showbackground\":true,\"ticks\":\"\",\"zerolinecolor\":\"white\"},\"zaxis\":{\"backgroundcolor\":\"#E5ECF6\",\"gridcolor\":\"white\",\"gridwidth\":2,\"linecolor\":\"white\",\"showbackground\":true,\"ticks\":\"\",\"zerolinecolor\":\"white\"}},\"shapedefaults\":{\"line\":{\"color\":\"#2a3f5f\"}},\"ternary\":{\"aaxis\":{\"gridcolor\":\"white\",\"linecolor\":\"white\",\"ticks\":\"\"},\"baxis\":{\"gridcolor\":\"white\",\"linecolor\":\"white\",\"ticks\":\"\"},\"bgcolor\":\"#E5ECF6\",\"caxis\":{\"gridcolor\":\"white\",\"linecolor\":\"white\",\"ticks\":\"\"}},\"title\":{\"x\":0.05},\"xaxis\":{\"automargin\":true,\"gridcolor\":\"white\",\"linecolor\":\"white\",\"ticks\":\"\",\"title\":{\"standoff\":15},\"zerolinecolor\":\"white\",\"zerolinewidth\":2},\"yaxis\":{\"automargin\":true,\"gridcolor\":\"white\",\"linecolor\":\"white\",\"ticks\":\"\",\"title\":{\"standoff\":15},\"zerolinecolor\":\"white\",\"zerolinewidth\":2}}},\"xaxis\":{\"anchor\":\"y\",\"domain\":[0.0,1.0],\"title\":{\"text\":\"Day of the Week (Mon - Sun)\"}},\"yaxis\":{\"anchor\":\"x\",\"domain\":[0.0,1.0],\"title\":{\"text\":\"# of trips\"}},\"coloraxis\":{\"colorbar\":{\"title\":{\"text\":\"# of trips\"}},\"colorscale\":[[0.0,\"#0d0887\"],[0.1111111111111111,\"#46039f\"],[0.2222222222222222,\"#7201a8\"],[0.3333333333333333,\"#9c179e\"],[0.4444444444444444,\"#bd3786\"],[0.5555555555555556,\"#d8576b\"],[0.6666666666666666,\"#ed7953\"],[0.7777777777777778,\"#fb9f3a\"],[0.8888888888888888,\"#fdca26\"],[1.0,\"#f0f921\"]]},\"legend\":{\"tracegroupgap\":0},\"title\":{\"text\":\"Toronto Bike Share Trips 2021\"},\"barmode\":\"relative\",\"height\":500},                        {\"responsive\": true}                    ).then(function(){\n",
       "                            \n",
       "var gd = document.getElementById('985bf9b4-7218-4feb-90c5-098cf16c672e');\n",
       "var x = new MutationObserver(function (mutations, observer) {{\n",
       "        var display = window.getComputedStyle(gd).display;\n",
       "        if (!display || display === 'none') {{\n",
       "            console.log([gd, 'removed!']);\n",
       "            Plotly.purge(gd);\n",
       "            observer.disconnect();\n",
       "        }}\n",
       "}});\n",
       "\n",
       "// Listen for the removal of the full notebook cells\n",
       "var notebookContainer = gd.closest('#notebook-container');\n",
       "if (notebookContainer) {{\n",
       "    x.observe(notebookContainer, {childList: true});\n",
       "}}\n",
       "\n",
       "// Listen for the clearing of the current output cell\n",
       "var outputEl = gd.closest('.output');\n",
       "if (outputEl) {{\n",
       "    x.observe(outputEl, {childList: true});\n",
       "}}\n",
       "\n",
       "                        })                };                });            </script>        </div>"
      ]
     },
     "metadata": {},
     "output_type": "display_data"
    }
   ],
   "source": [
    "byWeek = df.groupby(df['Start Time'].dt.weekday)[\"Start Station Id\"].count()\n",
    "byWeek = byWeek.reset_index()\n",
    "\n",
    "fig = px.bar(byWeek, x='Start Time', y='Start Station Id',\n",
    "             color='Start Station Id',\n",
    "             labels={'Start Time':'Day of the Week (Mon - Sun)', 'Start Station Id':'# of trips'}, \n",
    "             title='Toronto Bike Share Trips 2021', height=500)\n",
    "fig.show()"
   ]
  },
  {
   "cell_type": "code",
   "execution_count": 142,
   "id": "ef4b2c4f",
   "metadata": {
    "scrolled": true
   },
   "outputs": [
    {
     "data": {
      "application/vnd.plotly.v1+json": {
       "config": {
        "plotlyServerURL": "https://plot.ly"
       },
       "data": [
        {
         "alignmentgroup": "True",
         "hovertemplate": "Hour of the day=%{x}<br># of trips=%{marker.color}<extra></extra>",
         "legendgroup": "",
         "marker": {
          "color": [
           48198,
           30943,
           21079,
           12070,
           8360,
           14102,
           43832,
           90149,
           136223,
           123103,
           129226,
           161375,
           201057,
           214863,
           231163,
           251711,
           284235,
           339680,
           329145,
           274308,
           206490,
           144941,
           103528,
           74509
          ],
          "coloraxis": "coloraxis",
          "pattern": {
           "shape": ""
          }
         },
         "name": "",
         "offsetgroup": "",
         "orientation": "v",
         "showlegend": false,
         "textposition": "auto",
         "type": "bar",
         "x": [
          0,
          1,
          2,
          3,
          4,
          5,
          6,
          7,
          8,
          9,
          10,
          11,
          12,
          13,
          14,
          15,
          16,
          17,
          18,
          19,
          20,
          21,
          22,
          23
         ],
         "xaxis": "x",
         "y": [
          48198,
          30943,
          21079,
          12070,
          8360,
          14102,
          43832,
          90149,
          136223,
          123103,
          129226,
          161375,
          201057,
          214863,
          231163,
          251711,
          284235,
          339680,
          329145,
          274308,
          206490,
          144941,
          103528,
          74509
         ],
         "yaxis": "y"
        }
       ],
       "layout": {
        "barmode": "relative",
        "coloraxis": {
         "colorbar": {
          "title": {
           "text": "# of trips"
          }
         },
         "colorscale": [
          [
           0,
           "#0d0887"
          ],
          [
           0.1111111111111111,
           "#46039f"
          ],
          [
           0.2222222222222222,
           "#7201a8"
          ],
          [
           0.3333333333333333,
           "#9c179e"
          ],
          [
           0.4444444444444444,
           "#bd3786"
          ],
          [
           0.5555555555555556,
           "#d8576b"
          ],
          [
           0.6666666666666666,
           "#ed7953"
          ],
          [
           0.7777777777777778,
           "#fb9f3a"
          ],
          [
           0.8888888888888888,
           "#fdca26"
          ],
          [
           1,
           "#f0f921"
          ]
         ]
        },
        "height": 500,
        "legend": {
         "tracegroupgap": 0
        },
        "template": {
         "data": {
          "bar": [
           {
            "error_x": {
             "color": "#2a3f5f"
            },
            "error_y": {
             "color": "#2a3f5f"
            },
            "marker": {
             "line": {
              "color": "#E5ECF6",
              "width": 0.5
             },
             "pattern": {
              "fillmode": "overlay",
              "size": 10,
              "solidity": 0.2
             }
            },
            "type": "bar"
           }
          ],
          "barpolar": [
           {
            "marker": {
             "line": {
              "color": "#E5ECF6",
              "width": 0.5
             },
             "pattern": {
              "fillmode": "overlay",
              "size": 10,
              "solidity": 0.2
             }
            },
            "type": "barpolar"
           }
          ],
          "carpet": [
           {
            "aaxis": {
             "endlinecolor": "#2a3f5f",
             "gridcolor": "white",
             "linecolor": "white",
             "minorgridcolor": "white",
             "startlinecolor": "#2a3f5f"
            },
            "baxis": {
             "endlinecolor": "#2a3f5f",
             "gridcolor": "white",
             "linecolor": "white",
             "minorgridcolor": "white",
             "startlinecolor": "#2a3f5f"
            },
            "type": "carpet"
           }
          ],
          "choropleth": [
           {
            "colorbar": {
             "outlinewidth": 0,
             "ticks": ""
            },
            "type": "choropleth"
           }
          ],
          "contour": [
           {
            "colorbar": {
             "outlinewidth": 0,
             "ticks": ""
            },
            "colorscale": [
             [
              0,
              "#0d0887"
             ],
             [
              0.1111111111111111,
              "#46039f"
             ],
             [
              0.2222222222222222,
              "#7201a8"
             ],
             [
              0.3333333333333333,
              "#9c179e"
             ],
             [
              0.4444444444444444,
              "#bd3786"
             ],
             [
              0.5555555555555556,
              "#d8576b"
             ],
             [
              0.6666666666666666,
              "#ed7953"
             ],
             [
              0.7777777777777778,
              "#fb9f3a"
             ],
             [
              0.8888888888888888,
              "#fdca26"
             ],
             [
              1,
              "#f0f921"
             ]
            ],
            "type": "contour"
           }
          ],
          "contourcarpet": [
           {
            "colorbar": {
             "outlinewidth": 0,
             "ticks": ""
            },
            "type": "contourcarpet"
           }
          ],
          "heatmap": [
           {
            "colorbar": {
             "outlinewidth": 0,
             "ticks": ""
            },
            "colorscale": [
             [
              0,
              "#0d0887"
             ],
             [
              0.1111111111111111,
              "#46039f"
             ],
             [
              0.2222222222222222,
              "#7201a8"
             ],
             [
              0.3333333333333333,
              "#9c179e"
             ],
             [
              0.4444444444444444,
              "#bd3786"
             ],
             [
              0.5555555555555556,
              "#d8576b"
             ],
             [
              0.6666666666666666,
              "#ed7953"
             ],
             [
              0.7777777777777778,
              "#fb9f3a"
             ],
             [
              0.8888888888888888,
              "#fdca26"
             ],
             [
              1,
              "#f0f921"
             ]
            ],
            "type": "heatmap"
           }
          ],
          "heatmapgl": [
           {
            "colorbar": {
             "outlinewidth": 0,
             "ticks": ""
            },
            "colorscale": [
             [
              0,
              "#0d0887"
             ],
             [
              0.1111111111111111,
              "#46039f"
             ],
             [
              0.2222222222222222,
              "#7201a8"
             ],
             [
              0.3333333333333333,
              "#9c179e"
             ],
             [
              0.4444444444444444,
              "#bd3786"
             ],
             [
              0.5555555555555556,
              "#d8576b"
             ],
             [
              0.6666666666666666,
              "#ed7953"
             ],
             [
              0.7777777777777778,
              "#fb9f3a"
             ],
             [
              0.8888888888888888,
              "#fdca26"
             ],
             [
              1,
              "#f0f921"
             ]
            ],
            "type": "heatmapgl"
           }
          ],
          "histogram": [
           {
            "marker": {
             "pattern": {
              "fillmode": "overlay",
              "size": 10,
              "solidity": 0.2
             }
            },
            "type": "histogram"
           }
          ],
          "histogram2d": [
           {
            "colorbar": {
             "outlinewidth": 0,
             "ticks": ""
            },
            "colorscale": [
             [
              0,
              "#0d0887"
             ],
             [
              0.1111111111111111,
              "#46039f"
             ],
             [
              0.2222222222222222,
              "#7201a8"
             ],
             [
              0.3333333333333333,
              "#9c179e"
             ],
             [
              0.4444444444444444,
              "#bd3786"
             ],
             [
              0.5555555555555556,
              "#d8576b"
             ],
             [
              0.6666666666666666,
              "#ed7953"
             ],
             [
              0.7777777777777778,
              "#fb9f3a"
             ],
             [
              0.8888888888888888,
              "#fdca26"
             ],
             [
              1,
              "#f0f921"
             ]
            ],
            "type": "histogram2d"
           }
          ],
          "histogram2dcontour": [
           {
            "colorbar": {
             "outlinewidth": 0,
             "ticks": ""
            },
            "colorscale": [
             [
              0,
              "#0d0887"
             ],
             [
              0.1111111111111111,
              "#46039f"
             ],
             [
              0.2222222222222222,
              "#7201a8"
             ],
             [
              0.3333333333333333,
              "#9c179e"
             ],
             [
              0.4444444444444444,
              "#bd3786"
             ],
             [
              0.5555555555555556,
              "#d8576b"
             ],
             [
              0.6666666666666666,
              "#ed7953"
             ],
             [
              0.7777777777777778,
              "#fb9f3a"
             ],
             [
              0.8888888888888888,
              "#fdca26"
             ],
             [
              1,
              "#f0f921"
             ]
            ],
            "type": "histogram2dcontour"
           }
          ],
          "mesh3d": [
           {
            "colorbar": {
             "outlinewidth": 0,
             "ticks": ""
            },
            "type": "mesh3d"
           }
          ],
          "parcoords": [
           {
            "line": {
             "colorbar": {
              "outlinewidth": 0,
              "ticks": ""
             }
            },
            "type": "parcoords"
           }
          ],
          "pie": [
           {
            "automargin": true,
            "type": "pie"
           }
          ],
          "scatter": [
           {
            "marker": {
             "colorbar": {
              "outlinewidth": 0,
              "ticks": ""
             }
            },
            "type": "scatter"
           }
          ],
          "scatter3d": [
           {
            "line": {
             "colorbar": {
              "outlinewidth": 0,
              "ticks": ""
             }
            },
            "marker": {
             "colorbar": {
              "outlinewidth": 0,
              "ticks": ""
             }
            },
            "type": "scatter3d"
           }
          ],
          "scattercarpet": [
           {
            "marker": {
             "colorbar": {
              "outlinewidth": 0,
              "ticks": ""
             }
            },
            "type": "scattercarpet"
           }
          ],
          "scattergeo": [
           {
            "marker": {
             "colorbar": {
              "outlinewidth": 0,
              "ticks": ""
             }
            },
            "type": "scattergeo"
           }
          ],
          "scattergl": [
           {
            "marker": {
             "colorbar": {
              "outlinewidth": 0,
              "ticks": ""
             }
            },
            "type": "scattergl"
           }
          ],
          "scattermapbox": [
           {
            "marker": {
             "colorbar": {
              "outlinewidth": 0,
              "ticks": ""
             }
            },
            "type": "scattermapbox"
           }
          ],
          "scatterpolar": [
           {
            "marker": {
             "colorbar": {
              "outlinewidth": 0,
              "ticks": ""
             }
            },
            "type": "scatterpolar"
           }
          ],
          "scatterpolargl": [
           {
            "marker": {
             "colorbar": {
              "outlinewidth": 0,
              "ticks": ""
             }
            },
            "type": "scatterpolargl"
           }
          ],
          "scatterternary": [
           {
            "marker": {
             "colorbar": {
              "outlinewidth": 0,
              "ticks": ""
             }
            },
            "type": "scatterternary"
           }
          ],
          "surface": [
           {
            "colorbar": {
             "outlinewidth": 0,
             "ticks": ""
            },
            "colorscale": [
             [
              0,
              "#0d0887"
             ],
             [
              0.1111111111111111,
              "#46039f"
             ],
             [
              0.2222222222222222,
              "#7201a8"
             ],
             [
              0.3333333333333333,
              "#9c179e"
             ],
             [
              0.4444444444444444,
              "#bd3786"
             ],
             [
              0.5555555555555556,
              "#d8576b"
             ],
             [
              0.6666666666666666,
              "#ed7953"
             ],
             [
              0.7777777777777778,
              "#fb9f3a"
             ],
             [
              0.8888888888888888,
              "#fdca26"
             ],
             [
              1,
              "#f0f921"
             ]
            ],
            "type": "surface"
           }
          ],
          "table": [
           {
            "cells": {
             "fill": {
              "color": "#EBF0F8"
             },
             "line": {
              "color": "white"
             }
            },
            "header": {
             "fill": {
              "color": "#C8D4E3"
             },
             "line": {
              "color": "white"
             }
            },
            "type": "table"
           }
          ]
         },
         "layout": {
          "annotationdefaults": {
           "arrowcolor": "#2a3f5f",
           "arrowhead": 0,
           "arrowwidth": 1
          },
          "autotypenumbers": "strict",
          "coloraxis": {
           "colorbar": {
            "outlinewidth": 0,
            "ticks": ""
           }
          },
          "colorscale": {
           "diverging": [
            [
             0,
             "#8e0152"
            ],
            [
             0.1,
             "#c51b7d"
            ],
            [
             0.2,
             "#de77ae"
            ],
            [
             0.3,
             "#f1b6da"
            ],
            [
             0.4,
             "#fde0ef"
            ],
            [
             0.5,
             "#f7f7f7"
            ],
            [
             0.6,
             "#e6f5d0"
            ],
            [
             0.7,
             "#b8e186"
            ],
            [
             0.8,
             "#7fbc41"
            ],
            [
             0.9,
             "#4d9221"
            ],
            [
             1,
             "#276419"
            ]
           ],
           "sequential": [
            [
             0,
             "#0d0887"
            ],
            [
             0.1111111111111111,
             "#46039f"
            ],
            [
             0.2222222222222222,
             "#7201a8"
            ],
            [
             0.3333333333333333,
             "#9c179e"
            ],
            [
             0.4444444444444444,
             "#bd3786"
            ],
            [
             0.5555555555555556,
             "#d8576b"
            ],
            [
             0.6666666666666666,
             "#ed7953"
            ],
            [
             0.7777777777777778,
             "#fb9f3a"
            ],
            [
             0.8888888888888888,
             "#fdca26"
            ],
            [
             1,
             "#f0f921"
            ]
           ],
           "sequentialminus": [
            [
             0,
             "#0d0887"
            ],
            [
             0.1111111111111111,
             "#46039f"
            ],
            [
             0.2222222222222222,
             "#7201a8"
            ],
            [
             0.3333333333333333,
             "#9c179e"
            ],
            [
             0.4444444444444444,
             "#bd3786"
            ],
            [
             0.5555555555555556,
             "#d8576b"
            ],
            [
             0.6666666666666666,
             "#ed7953"
            ],
            [
             0.7777777777777778,
             "#fb9f3a"
            ],
            [
             0.8888888888888888,
             "#fdca26"
            ],
            [
             1,
             "#f0f921"
            ]
           ]
          },
          "colorway": [
           "#636efa",
           "#EF553B",
           "#00cc96",
           "#ab63fa",
           "#FFA15A",
           "#19d3f3",
           "#FF6692",
           "#B6E880",
           "#FF97FF",
           "#FECB52"
          ],
          "font": {
           "color": "#2a3f5f"
          },
          "geo": {
           "bgcolor": "white",
           "lakecolor": "white",
           "landcolor": "#E5ECF6",
           "showlakes": true,
           "showland": true,
           "subunitcolor": "white"
          },
          "hoverlabel": {
           "align": "left"
          },
          "hovermode": "closest",
          "mapbox": {
           "style": "light"
          },
          "paper_bgcolor": "white",
          "plot_bgcolor": "#E5ECF6",
          "polar": {
           "angularaxis": {
            "gridcolor": "white",
            "linecolor": "white",
            "ticks": ""
           },
           "bgcolor": "#E5ECF6",
           "radialaxis": {
            "gridcolor": "white",
            "linecolor": "white",
            "ticks": ""
           }
          },
          "scene": {
           "xaxis": {
            "backgroundcolor": "#E5ECF6",
            "gridcolor": "white",
            "gridwidth": 2,
            "linecolor": "white",
            "showbackground": true,
            "ticks": "",
            "zerolinecolor": "white"
           },
           "yaxis": {
            "backgroundcolor": "#E5ECF6",
            "gridcolor": "white",
            "gridwidth": 2,
            "linecolor": "white",
            "showbackground": true,
            "ticks": "",
            "zerolinecolor": "white"
           },
           "zaxis": {
            "backgroundcolor": "#E5ECF6",
            "gridcolor": "white",
            "gridwidth": 2,
            "linecolor": "white",
            "showbackground": true,
            "ticks": "",
            "zerolinecolor": "white"
           }
          },
          "shapedefaults": {
           "line": {
            "color": "#2a3f5f"
           }
          },
          "ternary": {
           "aaxis": {
            "gridcolor": "white",
            "linecolor": "white",
            "ticks": ""
           },
           "baxis": {
            "gridcolor": "white",
            "linecolor": "white",
            "ticks": ""
           },
           "bgcolor": "#E5ECF6",
           "caxis": {
            "gridcolor": "white",
            "linecolor": "white",
            "ticks": ""
           }
          },
          "title": {
           "x": 0.05
          },
          "xaxis": {
           "automargin": true,
           "gridcolor": "white",
           "linecolor": "white",
           "ticks": "",
           "title": {
            "standoff": 15
           },
           "zerolinecolor": "white",
           "zerolinewidth": 2
          },
          "yaxis": {
           "automargin": true,
           "gridcolor": "white",
           "linecolor": "white",
           "ticks": "",
           "title": {
            "standoff": 15
           },
           "zerolinecolor": "white",
           "zerolinewidth": 2
          }
         }
        },
        "title": {
         "text": "Toronto Bike Share Trips 2021, by hour of the day"
        },
        "xaxis": {
         "anchor": "y",
         "domain": [
          0,
          1
         ],
         "title": {
          "text": "Hour of the day"
         }
        },
        "yaxis": {
         "anchor": "x",
         "domain": [
          0,
          1
         ],
         "title": {
          "text": "# of trips"
         }
        }
       }
      },
      "text/html": [
       "<div>                            <div id=\"d3f2fd2a-a99f-4846-8b10-2a01132efc49\" class=\"plotly-graph-div\" style=\"height:500px; width:100%;\"></div>            <script type=\"text/javascript\">                require([\"plotly\"], function(Plotly) {                    window.PLOTLYENV=window.PLOTLYENV || {};                                    if (document.getElementById(\"d3f2fd2a-a99f-4846-8b10-2a01132efc49\")) {                    Plotly.newPlot(                        \"d3f2fd2a-a99f-4846-8b10-2a01132efc49\",                        [{\"alignmentgroup\":\"True\",\"hovertemplate\":\"Hour of the day=%{x}<br># of trips=%{marker.color}<extra></extra>\",\"legendgroup\":\"\",\"marker\":{\"color\":[48198,30943,21079,12070,8360,14102,43832,90149,136223,123103,129226,161375,201057,214863,231163,251711,284235,339680,329145,274308,206490,144941,103528,74509],\"coloraxis\":\"coloraxis\",\"pattern\":{\"shape\":\"\"}},\"name\":\"\",\"offsetgroup\":\"\",\"orientation\":\"v\",\"showlegend\":false,\"textposition\":\"auto\",\"x\":[0,1,2,3,4,5,6,7,8,9,10,11,12,13,14,15,16,17,18,19,20,21,22,23],\"xaxis\":\"x\",\"y\":[48198,30943,21079,12070,8360,14102,43832,90149,136223,123103,129226,161375,201057,214863,231163,251711,284235,339680,329145,274308,206490,144941,103528,74509],\"yaxis\":\"y\",\"type\":\"bar\"}],                        {\"template\":{\"data\":{\"bar\":[{\"error_x\":{\"color\":\"#2a3f5f\"},\"error_y\":{\"color\":\"#2a3f5f\"},\"marker\":{\"line\":{\"color\":\"#E5ECF6\",\"width\":0.5},\"pattern\":{\"fillmode\":\"overlay\",\"size\":10,\"solidity\":0.2}},\"type\":\"bar\"}],\"barpolar\":[{\"marker\":{\"line\":{\"color\":\"#E5ECF6\",\"width\":0.5},\"pattern\":{\"fillmode\":\"overlay\",\"size\":10,\"solidity\":0.2}},\"type\":\"barpolar\"}],\"carpet\":[{\"aaxis\":{\"endlinecolor\":\"#2a3f5f\",\"gridcolor\":\"white\",\"linecolor\":\"white\",\"minorgridcolor\":\"white\",\"startlinecolor\":\"#2a3f5f\"},\"baxis\":{\"endlinecolor\":\"#2a3f5f\",\"gridcolor\":\"white\",\"linecolor\":\"white\",\"minorgridcolor\":\"white\",\"startlinecolor\":\"#2a3f5f\"},\"type\":\"carpet\"}],\"choropleth\":[{\"colorbar\":{\"outlinewidth\":0,\"ticks\":\"\"},\"type\":\"choropleth\"}],\"contour\":[{\"colorbar\":{\"outlinewidth\":0,\"ticks\":\"\"},\"colorscale\":[[0.0,\"#0d0887\"],[0.1111111111111111,\"#46039f\"],[0.2222222222222222,\"#7201a8\"],[0.3333333333333333,\"#9c179e\"],[0.4444444444444444,\"#bd3786\"],[0.5555555555555556,\"#d8576b\"],[0.6666666666666666,\"#ed7953\"],[0.7777777777777778,\"#fb9f3a\"],[0.8888888888888888,\"#fdca26\"],[1.0,\"#f0f921\"]],\"type\":\"contour\"}],\"contourcarpet\":[{\"colorbar\":{\"outlinewidth\":0,\"ticks\":\"\"},\"type\":\"contourcarpet\"}],\"heatmap\":[{\"colorbar\":{\"outlinewidth\":0,\"ticks\":\"\"},\"colorscale\":[[0.0,\"#0d0887\"],[0.1111111111111111,\"#46039f\"],[0.2222222222222222,\"#7201a8\"],[0.3333333333333333,\"#9c179e\"],[0.4444444444444444,\"#bd3786\"],[0.5555555555555556,\"#d8576b\"],[0.6666666666666666,\"#ed7953\"],[0.7777777777777778,\"#fb9f3a\"],[0.8888888888888888,\"#fdca26\"],[1.0,\"#f0f921\"]],\"type\":\"heatmap\"}],\"heatmapgl\":[{\"colorbar\":{\"outlinewidth\":0,\"ticks\":\"\"},\"colorscale\":[[0.0,\"#0d0887\"],[0.1111111111111111,\"#46039f\"],[0.2222222222222222,\"#7201a8\"],[0.3333333333333333,\"#9c179e\"],[0.4444444444444444,\"#bd3786\"],[0.5555555555555556,\"#d8576b\"],[0.6666666666666666,\"#ed7953\"],[0.7777777777777778,\"#fb9f3a\"],[0.8888888888888888,\"#fdca26\"],[1.0,\"#f0f921\"]],\"type\":\"heatmapgl\"}],\"histogram\":[{\"marker\":{\"pattern\":{\"fillmode\":\"overlay\",\"size\":10,\"solidity\":0.2}},\"type\":\"histogram\"}],\"histogram2d\":[{\"colorbar\":{\"outlinewidth\":0,\"ticks\":\"\"},\"colorscale\":[[0.0,\"#0d0887\"],[0.1111111111111111,\"#46039f\"],[0.2222222222222222,\"#7201a8\"],[0.3333333333333333,\"#9c179e\"],[0.4444444444444444,\"#bd3786\"],[0.5555555555555556,\"#d8576b\"],[0.6666666666666666,\"#ed7953\"],[0.7777777777777778,\"#fb9f3a\"],[0.8888888888888888,\"#fdca26\"],[1.0,\"#f0f921\"]],\"type\":\"histogram2d\"}],\"histogram2dcontour\":[{\"colorbar\":{\"outlinewidth\":0,\"ticks\":\"\"},\"colorscale\":[[0.0,\"#0d0887\"],[0.1111111111111111,\"#46039f\"],[0.2222222222222222,\"#7201a8\"],[0.3333333333333333,\"#9c179e\"],[0.4444444444444444,\"#bd3786\"],[0.5555555555555556,\"#d8576b\"],[0.6666666666666666,\"#ed7953\"],[0.7777777777777778,\"#fb9f3a\"],[0.8888888888888888,\"#fdca26\"],[1.0,\"#f0f921\"]],\"type\":\"histogram2dcontour\"}],\"mesh3d\":[{\"colorbar\":{\"outlinewidth\":0,\"ticks\":\"\"},\"type\":\"mesh3d\"}],\"parcoords\":[{\"line\":{\"colorbar\":{\"outlinewidth\":0,\"ticks\":\"\"}},\"type\":\"parcoords\"}],\"pie\":[{\"automargin\":true,\"type\":\"pie\"}],\"scatter\":[{\"marker\":{\"colorbar\":{\"outlinewidth\":0,\"ticks\":\"\"}},\"type\":\"scatter\"}],\"scatter3d\":[{\"line\":{\"colorbar\":{\"outlinewidth\":0,\"ticks\":\"\"}},\"marker\":{\"colorbar\":{\"outlinewidth\":0,\"ticks\":\"\"}},\"type\":\"scatter3d\"}],\"scattercarpet\":[{\"marker\":{\"colorbar\":{\"outlinewidth\":0,\"ticks\":\"\"}},\"type\":\"scattercarpet\"}],\"scattergeo\":[{\"marker\":{\"colorbar\":{\"outlinewidth\":0,\"ticks\":\"\"}},\"type\":\"scattergeo\"}],\"scattergl\":[{\"marker\":{\"colorbar\":{\"outlinewidth\":0,\"ticks\":\"\"}},\"type\":\"scattergl\"}],\"scattermapbox\":[{\"marker\":{\"colorbar\":{\"outlinewidth\":0,\"ticks\":\"\"}},\"type\":\"scattermapbox\"}],\"scatterpolar\":[{\"marker\":{\"colorbar\":{\"outlinewidth\":0,\"ticks\":\"\"}},\"type\":\"scatterpolar\"}],\"scatterpolargl\":[{\"marker\":{\"colorbar\":{\"outlinewidth\":0,\"ticks\":\"\"}},\"type\":\"scatterpolargl\"}],\"scatterternary\":[{\"marker\":{\"colorbar\":{\"outlinewidth\":0,\"ticks\":\"\"}},\"type\":\"scatterternary\"}],\"surface\":[{\"colorbar\":{\"outlinewidth\":0,\"ticks\":\"\"},\"colorscale\":[[0.0,\"#0d0887\"],[0.1111111111111111,\"#46039f\"],[0.2222222222222222,\"#7201a8\"],[0.3333333333333333,\"#9c179e\"],[0.4444444444444444,\"#bd3786\"],[0.5555555555555556,\"#d8576b\"],[0.6666666666666666,\"#ed7953\"],[0.7777777777777778,\"#fb9f3a\"],[0.8888888888888888,\"#fdca26\"],[1.0,\"#f0f921\"]],\"type\":\"surface\"}],\"table\":[{\"cells\":{\"fill\":{\"color\":\"#EBF0F8\"},\"line\":{\"color\":\"white\"}},\"header\":{\"fill\":{\"color\":\"#C8D4E3\"},\"line\":{\"color\":\"white\"}},\"type\":\"table\"}]},\"layout\":{\"annotationdefaults\":{\"arrowcolor\":\"#2a3f5f\",\"arrowhead\":0,\"arrowwidth\":1},\"autotypenumbers\":\"strict\",\"coloraxis\":{\"colorbar\":{\"outlinewidth\":0,\"ticks\":\"\"}},\"colorscale\":{\"diverging\":[[0,\"#8e0152\"],[0.1,\"#c51b7d\"],[0.2,\"#de77ae\"],[0.3,\"#f1b6da\"],[0.4,\"#fde0ef\"],[0.5,\"#f7f7f7\"],[0.6,\"#e6f5d0\"],[0.7,\"#b8e186\"],[0.8,\"#7fbc41\"],[0.9,\"#4d9221\"],[1,\"#276419\"]],\"sequential\":[[0.0,\"#0d0887\"],[0.1111111111111111,\"#46039f\"],[0.2222222222222222,\"#7201a8\"],[0.3333333333333333,\"#9c179e\"],[0.4444444444444444,\"#bd3786\"],[0.5555555555555556,\"#d8576b\"],[0.6666666666666666,\"#ed7953\"],[0.7777777777777778,\"#fb9f3a\"],[0.8888888888888888,\"#fdca26\"],[1.0,\"#f0f921\"]],\"sequentialminus\":[[0.0,\"#0d0887\"],[0.1111111111111111,\"#46039f\"],[0.2222222222222222,\"#7201a8\"],[0.3333333333333333,\"#9c179e\"],[0.4444444444444444,\"#bd3786\"],[0.5555555555555556,\"#d8576b\"],[0.6666666666666666,\"#ed7953\"],[0.7777777777777778,\"#fb9f3a\"],[0.8888888888888888,\"#fdca26\"],[1.0,\"#f0f921\"]]},\"colorway\":[\"#636efa\",\"#EF553B\",\"#00cc96\",\"#ab63fa\",\"#FFA15A\",\"#19d3f3\",\"#FF6692\",\"#B6E880\",\"#FF97FF\",\"#FECB52\"],\"font\":{\"color\":\"#2a3f5f\"},\"geo\":{\"bgcolor\":\"white\",\"lakecolor\":\"white\",\"landcolor\":\"#E5ECF6\",\"showlakes\":true,\"showland\":true,\"subunitcolor\":\"white\"},\"hoverlabel\":{\"align\":\"left\"},\"hovermode\":\"closest\",\"mapbox\":{\"style\":\"light\"},\"paper_bgcolor\":\"white\",\"plot_bgcolor\":\"#E5ECF6\",\"polar\":{\"angularaxis\":{\"gridcolor\":\"white\",\"linecolor\":\"white\",\"ticks\":\"\"},\"bgcolor\":\"#E5ECF6\",\"radialaxis\":{\"gridcolor\":\"white\",\"linecolor\":\"white\",\"ticks\":\"\"}},\"scene\":{\"xaxis\":{\"backgroundcolor\":\"#E5ECF6\",\"gridcolor\":\"white\",\"gridwidth\":2,\"linecolor\":\"white\",\"showbackground\":true,\"ticks\":\"\",\"zerolinecolor\":\"white\"},\"yaxis\":{\"backgroundcolor\":\"#E5ECF6\",\"gridcolor\":\"white\",\"gridwidth\":2,\"linecolor\":\"white\",\"showbackground\":true,\"ticks\":\"\",\"zerolinecolor\":\"white\"},\"zaxis\":{\"backgroundcolor\":\"#E5ECF6\",\"gridcolor\":\"white\",\"gridwidth\":2,\"linecolor\":\"white\",\"showbackground\":true,\"ticks\":\"\",\"zerolinecolor\":\"white\"}},\"shapedefaults\":{\"line\":{\"color\":\"#2a3f5f\"}},\"ternary\":{\"aaxis\":{\"gridcolor\":\"white\",\"linecolor\":\"white\",\"ticks\":\"\"},\"baxis\":{\"gridcolor\":\"white\",\"linecolor\":\"white\",\"ticks\":\"\"},\"bgcolor\":\"#E5ECF6\",\"caxis\":{\"gridcolor\":\"white\",\"linecolor\":\"white\",\"ticks\":\"\"}},\"title\":{\"x\":0.05},\"xaxis\":{\"automargin\":true,\"gridcolor\":\"white\",\"linecolor\":\"white\",\"ticks\":\"\",\"title\":{\"standoff\":15},\"zerolinecolor\":\"white\",\"zerolinewidth\":2},\"yaxis\":{\"automargin\":true,\"gridcolor\":\"white\",\"linecolor\":\"white\",\"ticks\":\"\",\"title\":{\"standoff\":15},\"zerolinecolor\":\"white\",\"zerolinewidth\":2}}},\"xaxis\":{\"anchor\":\"y\",\"domain\":[0.0,1.0],\"title\":{\"text\":\"Hour of the day\"}},\"yaxis\":{\"anchor\":\"x\",\"domain\":[0.0,1.0],\"title\":{\"text\":\"# of trips\"}},\"coloraxis\":{\"colorbar\":{\"title\":{\"text\":\"# of trips\"}},\"colorscale\":[[0.0,\"#0d0887\"],[0.1111111111111111,\"#46039f\"],[0.2222222222222222,\"#7201a8\"],[0.3333333333333333,\"#9c179e\"],[0.4444444444444444,\"#bd3786\"],[0.5555555555555556,\"#d8576b\"],[0.6666666666666666,\"#ed7953\"],[0.7777777777777778,\"#fb9f3a\"],[0.8888888888888888,\"#fdca26\"],[1.0,\"#f0f921\"]]},\"legend\":{\"tracegroupgap\":0},\"title\":{\"text\":\"Toronto Bike Share Trips 2021, by hour of the day\"},\"barmode\":\"relative\",\"height\":500},                        {\"responsive\": true}                    ).then(function(){\n",
       "                            \n",
       "var gd = document.getElementById('d3f2fd2a-a99f-4846-8b10-2a01132efc49');\n",
       "var x = new MutationObserver(function (mutations, observer) {{\n",
       "        var display = window.getComputedStyle(gd).display;\n",
       "        if (!display || display === 'none') {{\n",
       "            console.log([gd, 'removed!']);\n",
       "            Plotly.purge(gd);\n",
       "            observer.disconnect();\n",
       "        }}\n",
       "}});\n",
       "\n",
       "// Listen for the removal of the full notebook cells\n",
       "var notebookContainer = gd.closest('#notebook-container');\n",
       "if (notebookContainer) {{\n",
       "    x.observe(notebookContainer, {childList: true});\n",
       "}}\n",
       "\n",
       "// Listen for the clearing of the current output cell\n",
       "var outputEl = gd.closest('.output');\n",
       "if (outputEl) {{\n",
       "    x.observe(outputEl, {childList: true});\n",
       "}}\n",
       "\n",
       "                        })                };                });            </script>        </div>"
      ]
     },
     "metadata": {},
     "output_type": "display_data"
    }
   ],
   "source": [
    "byHr = df.groupby(df['Start Time'].dt.hour)[\"Start Station Id\"].count()\n",
    "byHr = byHr.reset_index()\n",
    "\n",
    "fig = px.bar(byHr, x='Start Time', y='Start Station Id',\n",
    "             color='Start Station Id',\n",
    "             labels={'Start Time':'Hour of the day', 'Start Station Id':'# of trips'}, \n",
    "             title='Toronto Bike Share Trips 2021, by hour of the day', height=500)\n",
    "fig.show()"
   ]
  },
  {
   "cell_type": "code",
   "execution_count": 144,
   "id": "7769fcf6",
   "metadata": {},
   "outputs": [
    {
     "data": {
      "application/vnd.plotly.v1+json": {
       "config": {
        "plotlyServerURL": "https://plot.ly"
       },
       "data": [
        {
         "alignmentgroup": "True",
         "hovertemplate": "Hour of the day=%{x}<br>average speed=%{marker.color}<extra></extra>",
         "legendgroup": "",
         "marker": {
          "color": [
           2.3234011715719145,
           2.3272513172846945,
           2.334037577171933,
           2.4067655741395235,
           2.786302219719341,
           2.9894086500723667,
           3.0225037115377487,
           2.930738299932881,
           2.837017767267412,
           2.7178733693858828,
           2.5791896259353027,
           2.4747288999768298,
           2.4009640111608936,
           2.3615044429326755,
           2.3315503435251657,
           2.3351551910982655,
           2.366544625375976,
           2.3785517261768794,
           2.330492612993267,
           2.276466790484563,
           2.2399241660655407,
           2.2516954103314366,
           2.2970813117195474,
           2.3495590075545247
          ],
          "coloraxis": "coloraxis",
          "pattern": {
           "shape": ""
          }
         },
         "name": "",
         "offsetgroup": "",
         "orientation": "v",
         "showlegend": false,
         "textposition": "auto",
         "type": "bar",
         "x": [
          0,
          1,
          2,
          3,
          4,
          5,
          6,
          7,
          8,
          9,
          10,
          11,
          12,
          13,
          14,
          15,
          16,
          17,
          18,
          19,
          20,
          21,
          22,
          23
         ],
         "xaxis": "x",
         "y": [
          2.3234011715719145,
          2.3272513172846945,
          2.334037577171933,
          2.4067655741395235,
          2.786302219719341,
          2.9894086500723667,
          3.0225037115377487,
          2.930738299932881,
          2.837017767267412,
          2.7178733693858828,
          2.5791896259353027,
          2.4747288999768298,
          2.4009640111608936,
          2.3615044429326755,
          2.3315503435251657,
          2.3351551910982655,
          2.366544625375976,
          2.3785517261768794,
          2.330492612993267,
          2.276466790484563,
          2.2399241660655407,
          2.2516954103314366,
          2.2970813117195474,
          2.3495590075545247
         ],
         "yaxis": "y"
        }
       ],
       "layout": {
        "barmode": "relative",
        "coloraxis": {
         "colorbar": {
          "title": {
           "text": "average speed"
          }
         },
         "colorscale": [
          [
           0,
           "#0d0887"
          ],
          [
           0.1111111111111111,
           "#46039f"
          ],
          [
           0.2222222222222222,
           "#7201a8"
          ],
          [
           0.3333333333333333,
           "#9c179e"
          ],
          [
           0.4444444444444444,
           "#bd3786"
          ],
          [
           0.5555555555555556,
           "#d8576b"
          ],
          [
           0.6666666666666666,
           "#ed7953"
          ],
          [
           0.7777777777777778,
           "#fb9f3a"
          ],
          [
           0.8888888888888888,
           "#fdca26"
          ],
          [
           1,
           "#f0f921"
          ]
         ]
        },
        "height": 500,
        "legend": {
         "tracegroupgap": 0
        },
        "template": {
         "data": {
          "bar": [
           {
            "error_x": {
             "color": "#2a3f5f"
            },
            "error_y": {
             "color": "#2a3f5f"
            },
            "marker": {
             "line": {
              "color": "#E5ECF6",
              "width": 0.5
             },
             "pattern": {
              "fillmode": "overlay",
              "size": 10,
              "solidity": 0.2
             }
            },
            "type": "bar"
           }
          ],
          "barpolar": [
           {
            "marker": {
             "line": {
              "color": "#E5ECF6",
              "width": 0.5
             },
             "pattern": {
              "fillmode": "overlay",
              "size": 10,
              "solidity": 0.2
             }
            },
            "type": "barpolar"
           }
          ],
          "carpet": [
           {
            "aaxis": {
             "endlinecolor": "#2a3f5f",
             "gridcolor": "white",
             "linecolor": "white",
             "minorgridcolor": "white",
             "startlinecolor": "#2a3f5f"
            },
            "baxis": {
             "endlinecolor": "#2a3f5f",
             "gridcolor": "white",
             "linecolor": "white",
             "minorgridcolor": "white",
             "startlinecolor": "#2a3f5f"
            },
            "type": "carpet"
           }
          ],
          "choropleth": [
           {
            "colorbar": {
             "outlinewidth": 0,
             "ticks": ""
            },
            "type": "choropleth"
           }
          ],
          "contour": [
           {
            "colorbar": {
             "outlinewidth": 0,
             "ticks": ""
            },
            "colorscale": [
             [
              0,
              "#0d0887"
             ],
             [
              0.1111111111111111,
              "#46039f"
             ],
             [
              0.2222222222222222,
              "#7201a8"
             ],
             [
              0.3333333333333333,
              "#9c179e"
             ],
             [
              0.4444444444444444,
              "#bd3786"
             ],
             [
              0.5555555555555556,
              "#d8576b"
             ],
             [
              0.6666666666666666,
              "#ed7953"
             ],
             [
              0.7777777777777778,
              "#fb9f3a"
             ],
             [
              0.8888888888888888,
              "#fdca26"
             ],
             [
              1,
              "#f0f921"
             ]
            ],
            "type": "contour"
           }
          ],
          "contourcarpet": [
           {
            "colorbar": {
             "outlinewidth": 0,
             "ticks": ""
            },
            "type": "contourcarpet"
           }
          ],
          "heatmap": [
           {
            "colorbar": {
             "outlinewidth": 0,
             "ticks": ""
            },
            "colorscale": [
             [
              0,
              "#0d0887"
             ],
             [
              0.1111111111111111,
              "#46039f"
             ],
             [
              0.2222222222222222,
              "#7201a8"
             ],
             [
              0.3333333333333333,
              "#9c179e"
             ],
             [
              0.4444444444444444,
              "#bd3786"
             ],
             [
              0.5555555555555556,
              "#d8576b"
             ],
             [
              0.6666666666666666,
              "#ed7953"
             ],
             [
              0.7777777777777778,
              "#fb9f3a"
             ],
             [
              0.8888888888888888,
              "#fdca26"
             ],
             [
              1,
              "#f0f921"
             ]
            ],
            "type": "heatmap"
           }
          ],
          "heatmapgl": [
           {
            "colorbar": {
             "outlinewidth": 0,
             "ticks": ""
            },
            "colorscale": [
             [
              0,
              "#0d0887"
             ],
             [
              0.1111111111111111,
              "#46039f"
             ],
             [
              0.2222222222222222,
              "#7201a8"
             ],
             [
              0.3333333333333333,
              "#9c179e"
             ],
             [
              0.4444444444444444,
              "#bd3786"
             ],
             [
              0.5555555555555556,
              "#d8576b"
             ],
             [
              0.6666666666666666,
              "#ed7953"
             ],
             [
              0.7777777777777778,
              "#fb9f3a"
             ],
             [
              0.8888888888888888,
              "#fdca26"
             ],
             [
              1,
              "#f0f921"
             ]
            ],
            "type": "heatmapgl"
           }
          ],
          "histogram": [
           {
            "marker": {
             "pattern": {
              "fillmode": "overlay",
              "size": 10,
              "solidity": 0.2
             }
            },
            "type": "histogram"
           }
          ],
          "histogram2d": [
           {
            "colorbar": {
             "outlinewidth": 0,
             "ticks": ""
            },
            "colorscale": [
             [
              0,
              "#0d0887"
             ],
             [
              0.1111111111111111,
              "#46039f"
             ],
             [
              0.2222222222222222,
              "#7201a8"
             ],
             [
              0.3333333333333333,
              "#9c179e"
             ],
             [
              0.4444444444444444,
              "#bd3786"
             ],
             [
              0.5555555555555556,
              "#d8576b"
             ],
             [
              0.6666666666666666,
              "#ed7953"
             ],
             [
              0.7777777777777778,
              "#fb9f3a"
             ],
             [
              0.8888888888888888,
              "#fdca26"
             ],
             [
              1,
              "#f0f921"
             ]
            ],
            "type": "histogram2d"
           }
          ],
          "histogram2dcontour": [
           {
            "colorbar": {
             "outlinewidth": 0,
             "ticks": ""
            },
            "colorscale": [
             [
              0,
              "#0d0887"
             ],
             [
              0.1111111111111111,
              "#46039f"
             ],
             [
              0.2222222222222222,
              "#7201a8"
             ],
             [
              0.3333333333333333,
              "#9c179e"
             ],
             [
              0.4444444444444444,
              "#bd3786"
             ],
             [
              0.5555555555555556,
              "#d8576b"
             ],
             [
              0.6666666666666666,
              "#ed7953"
             ],
             [
              0.7777777777777778,
              "#fb9f3a"
             ],
             [
              0.8888888888888888,
              "#fdca26"
             ],
             [
              1,
              "#f0f921"
             ]
            ],
            "type": "histogram2dcontour"
           }
          ],
          "mesh3d": [
           {
            "colorbar": {
             "outlinewidth": 0,
             "ticks": ""
            },
            "type": "mesh3d"
           }
          ],
          "parcoords": [
           {
            "line": {
             "colorbar": {
              "outlinewidth": 0,
              "ticks": ""
             }
            },
            "type": "parcoords"
           }
          ],
          "pie": [
           {
            "automargin": true,
            "type": "pie"
           }
          ],
          "scatter": [
           {
            "marker": {
             "colorbar": {
              "outlinewidth": 0,
              "ticks": ""
             }
            },
            "type": "scatter"
           }
          ],
          "scatter3d": [
           {
            "line": {
             "colorbar": {
              "outlinewidth": 0,
              "ticks": ""
             }
            },
            "marker": {
             "colorbar": {
              "outlinewidth": 0,
              "ticks": ""
             }
            },
            "type": "scatter3d"
           }
          ],
          "scattercarpet": [
           {
            "marker": {
             "colorbar": {
              "outlinewidth": 0,
              "ticks": ""
             }
            },
            "type": "scattercarpet"
           }
          ],
          "scattergeo": [
           {
            "marker": {
             "colorbar": {
              "outlinewidth": 0,
              "ticks": ""
             }
            },
            "type": "scattergeo"
           }
          ],
          "scattergl": [
           {
            "marker": {
             "colorbar": {
              "outlinewidth": 0,
              "ticks": ""
             }
            },
            "type": "scattergl"
           }
          ],
          "scattermapbox": [
           {
            "marker": {
             "colorbar": {
              "outlinewidth": 0,
              "ticks": ""
             }
            },
            "type": "scattermapbox"
           }
          ],
          "scatterpolar": [
           {
            "marker": {
             "colorbar": {
              "outlinewidth": 0,
              "ticks": ""
             }
            },
            "type": "scatterpolar"
           }
          ],
          "scatterpolargl": [
           {
            "marker": {
             "colorbar": {
              "outlinewidth": 0,
              "ticks": ""
             }
            },
            "type": "scatterpolargl"
           }
          ],
          "scatterternary": [
           {
            "marker": {
             "colorbar": {
              "outlinewidth": 0,
              "ticks": ""
             }
            },
            "type": "scatterternary"
           }
          ],
          "surface": [
           {
            "colorbar": {
             "outlinewidth": 0,
             "ticks": ""
            },
            "colorscale": [
             [
              0,
              "#0d0887"
             ],
             [
              0.1111111111111111,
              "#46039f"
             ],
             [
              0.2222222222222222,
              "#7201a8"
             ],
             [
              0.3333333333333333,
              "#9c179e"
             ],
             [
              0.4444444444444444,
              "#bd3786"
             ],
             [
              0.5555555555555556,
              "#d8576b"
             ],
             [
              0.6666666666666666,
              "#ed7953"
             ],
             [
              0.7777777777777778,
              "#fb9f3a"
             ],
             [
              0.8888888888888888,
              "#fdca26"
             ],
             [
              1,
              "#f0f921"
             ]
            ],
            "type": "surface"
           }
          ],
          "table": [
           {
            "cells": {
             "fill": {
              "color": "#EBF0F8"
             },
             "line": {
              "color": "white"
             }
            },
            "header": {
             "fill": {
              "color": "#C8D4E3"
             },
             "line": {
              "color": "white"
             }
            },
            "type": "table"
           }
          ]
         },
         "layout": {
          "annotationdefaults": {
           "arrowcolor": "#2a3f5f",
           "arrowhead": 0,
           "arrowwidth": 1
          },
          "autotypenumbers": "strict",
          "coloraxis": {
           "colorbar": {
            "outlinewidth": 0,
            "ticks": ""
           }
          },
          "colorscale": {
           "diverging": [
            [
             0,
             "#8e0152"
            ],
            [
             0.1,
             "#c51b7d"
            ],
            [
             0.2,
             "#de77ae"
            ],
            [
             0.3,
             "#f1b6da"
            ],
            [
             0.4,
             "#fde0ef"
            ],
            [
             0.5,
             "#f7f7f7"
            ],
            [
             0.6,
             "#e6f5d0"
            ],
            [
             0.7,
             "#b8e186"
            ],
            [
             0.8,
             "#7fbc41"
            ],
            [
             0.9,
             "#4d9221"
            ],
            [
             1,
             "#276419"
            ]
           ],
           "sequential": [
            [
             0,
             "#0d0887"
            ],
            [
             0.1111111111111111,
             "#46039f"
            ],
            [
             0.2222222222222222,
             "#7201a8"
            ],
            [
             0.3333333333333333,
             "#9c179e"
            ],
            [
             0.4444444444444444,
             "#bd3786"
            ],
            [
             0.5555555555555556,
             "#d8576b"
            ],
            [
             0.6666666666666666,
             "#ed7953"
            ],
            [
             0.7777777777777778,
             "#fb9f3a"
            ],
            [
             0.8888888888888888,
             "#fdca26"
            ],
            [
             1,
             "#f0f921"
            ]
           ],
           "sequentialminus": [
            [
             0,
             "#0d0887"
            ],
            [
             0.1111111111111111,
             "#46039f"
            ],
            [
             0.2222222222222222,
             "#7201a8"
            ],
            [
             0.3333333333333333,
             "#9c179e"
            ],
            [
             0.4444444444444444,
             "#bd3786"
            ],
            [
             0.5555555555555556,
             "#d8576b"
            ],
            [
             0.6666666666666666,
             "#ed7953"
            ],
            [
             0.7777777777777778,
             "#fb9f3a"
            ],
            [
             0.8888888888888888,
             "#fdca26"
            ],
            [
             1,
             "#f0f921"
            ]
           ]
          },
          "colorway": [
           "#636efa",
           "#EF553B",
           "#00cc96",
           "#ab63fa",
           "#FFA15A",
           "#19d3f3",
           "#FF6692",
           "#B6E880",
           "#FF97FF",
           "#FECB52"
          ],
          "font": {
           "color": "#2a3f5f"
          },
          "geo": {
           "bgcolor": "white",
           "lakecolor": "white",
           "landcolor": "#E5ECF6",
           "showlakes": true,
           "showland": true,
           "subunitcolor": "white"
          },
          "hoverlabel": {
           "align": "left"
          },
          "hovermode": "closest",
          "mapbox": {
           "style": "light"
          },
          "paper_bgcolor": "white",
          "plot_bgcolor": "#E5ECF6",
          "polar": {
           "angularaxis": {
            "gridcolor": "white",
            "linecolor": "white",
            "ticks": ""
           },
           "bgcolor": "#E5ECF6",
           "radialaxis": {
            "gridcolor": "white",
            "linecolor": "white",
            "ticks": ""
           }
          },
          "scene": {
           "xaxis": {
            "backgroundcolor": "#E5ECF6",
            "gridcolor": "white",
            "gridwidth": 2,
            "linecolor": "white",
            "showbackground": true,
            "ticks": "",
            "zerolinecolor": "white"
           },
           "yaxis": {
            "backgroundcolor": "#E5ECF6",
            "gridcolor": "white",
            "gridwidth": 2,
            "linecolor": "white",
            "showbackground": true,
            "ticks": "",
            "zerolinecolor": "white"
           },
           "zaxis": {
            "backgroundcolor": "#E5ECF6",
            "gridcolor": "white",
            "gridwidth": 2,
            "linecolor": "white",
            "showbackground": true,
            "ticks": "",
            "zerolinecolor": "white"
           }
          },
          "shapedefaults": {
           "line": {
            "color": "#2a3f5f"
           }
          },
          "ternary": {
           "aaxis": {
            "gridcolor": "white",
            "linecolor": "white",
            "ticks": ""
           },
           "baxis": {
            "gridcolor": "white",
            "linecolor": "white",
            "ticks": ""
           },
           "bgcolor": "#E5ECF6",
           "caxis": {
            "gridcolor": "white",
            "linecolor": "white",
            "ticks": ""
           }
          },
          "title": {
           "x": 0.05
          },
          "xaxis": {
           "automargin": true,
           "gridcolor": "white",
           "linecolor": "white",
           "ticks": "",
           "title": {
            "standoff": 15
           },
           "zerolinecolor": "white",
           "zerolinewidth": 2
          },
          "yaxis": {
           "automargin": true,
           "gridcolor": "white",
           "linecolor": "white",
           "ticks": "",
           "title": {
            "standoff": 15
           },
           "zerolinecolor": "white",
           "zerolinewidth": 2
          }
         }
        },
        "title": {
         "text": "Bike riding speed by hour of the day"
        },
        "xaxis": {
         "anchor": "y",
         "domain": [
          0,
          1
         ],
         "title": {
          "text": "Hour of the day"
         }
        },
        "yaxis": {
         "anchor": "x",
         "domain": [
          0,
          1
         ],
         "title": {
          "text": "average speed"
         }
        }
       }
      },
      "text/html": [
       "<div>                            <div id=\"20956eea-df2a-451a-83a0-e1ad6dbf621e\" class=\"plotly-graph-div\" style=\"height:500px; width:100%;\"></div>            <script type=\"text/javascript\">                require([\"plotly\"], function(Plotly) {                    window.PLOTLYENV=window.PLOTLYENV || {};                                    if (document.getElementById(\"20956eea-df2a-451a-83a0-e1ad6dbf621e\")) {                    Plotly.newPlot(                        \"20956eea-df2a-451a-83a0-e1ad6dbf621e\",                        [{\"alignmentgroup\":\"True\",\"hovertemplate\":\"Hour of the day=%{x}<br>average speed=%{marker.color}<extra></extra>\",\"legendgroup\":\"\",\"marker\":{\"color\":[2.3234011715719145,2.3272513172846945,2.334037577171933,2.4067655741395235,2.786302219719341,2.9894086500723667,3.0225037115377487,2.930738299932881,2.837017767267412,2.7178733693858828,2.5791896259353027,2.4747288999768298,2.4009640111608936,2.3615044429326755,2.3315503435251657,2.3351551910982655,2.366544625375976,2.3785517261768794,2.330492612993267,2.276466790484563,2.2399241660655407,2.2516954103314366,2.2970813117195474,2.3495590075545247],\"coloraxis\":\"coloraxis\",\"pattern\":{\"shape\":\"\"}},\"name\":\"\",\"offsetgroup\":\"\",\"orientation\":\"v\",\"showlegend\":false,\"textposition\":\"auto\",\"x\":[0,1,2,3,4,5,6,7,8,9,10,11,12,13,14,15,16,17,18,19,20,21,22,23],\"xaxis\":\"x\",\"y\":[2.3234011715719145,2.3272513172846945,2.334037577171933,2.4067655741395235,2.786302219719341,2.9894086500723667,3.0225037115377487,2.930738299932881,2.837017767267412,2.7178733693858828,2.5791896259353027,2.4747288999768298,2.4009640111608936,2.3615044429326755,2.3315503435251657,2.3351551910982655,2.366544625375976,2.3785517261768794,2.330492612993267,2.276466790484563,2.2399241660655407,2.2516954103314366,2.2970813117195474,2.3495590075545247],\"yaxis\":\"y\",\"type\":\"bar\"}],                        {\"template\":{\"data\":{\"bar\":[{\"error_x\":{\"color\":\"#2a3f5f\"},\"error_y\":{\"color\":\"#2a3f5f\"},\"marker\":{\"line\":{\"color\":\"#E5ECF6\",\"width\":0.5},\"pattern\":{\"fillmode\":\"overlay\",\"size\":10,\"solidity\":0.2}},\"type\":\"bar\"}],\"barpolar\":[{\"marker\":{\"line\":{\"color\":\"#E5ECF6\",\"width\":0.5},\"pattern\":{\"fillmode\":\"overlay\",\"size\":10,\"solidity\":0.2}},\"type\":\"barpolar\"}],\"carpet\":[{\"aaxis\":{\"endlinecolor\":\"#2a3f5f\",\"gridcolor\":\"white\",\"linecolor\":\"white\",\"minorgridcolor\":\"white\",\"startlinecolor\":\"#2a3f5f\"},\"baxis\":{\"endlinecolor\":\"#2a3f5f\",\"gridcolor\":\"white\",\"linecolor\":\"white\",\"minorgridcolor\":\"white\",\"startlinecolor\":\"#2a3f5f\"},\"type\":\"carpet\"}],\"choropleth\":[{\"colorbar\":{\"outlinewidth\":0,\"ticks\":\"\"},\"type\":\"choropleth\"}],\"contour\":[{\"colorbar\":{\"outlinewidth\":0,\"ticks\":\"\"},\"colorscale\":[[0.0,\"#0d0887\"],[0.1111111111111111,\"#46039f\"],[0.2222222222222222,\"#7201a8\"],[0.3333333333333333,\"#9c179e\"],[0.4444444444444444,\"#bd3786\"],[0.5555555555555556,\"#d8576b\"],[0.6666666666666666,\"#ed7953\"],[0.7777777777777778,\"#fb9f3a\"],[0.8888888888888888,\"#fdca26\"],[1.0,\"#f0f921\"]],\"type\":\"contour\"}],\"contourcarpet\":[{\"colorbar\":{\"outlinewidth\":0,\"ticks\":\"\"},\"type\":\"contourcarpet\"}],\"heatmap\":[{\"colorbar\":{\"outlinewidth\":0,\"ticks\":\"\"},\"colorscale\":[[0.0,\"#0d0887\"],[0.1111111111111111,\"#46039f\"],[0.2222222222222222,\"#7201a8\"],[0.3333333333333333,\"#9c179e\"],[0.4444444444444444,\"#bd3786\"],[0.5555555555555556,\"#d8576b\"],[0.6666666666666666,\"#ed7953\"],[0.7777777777777778,\"#fb9f3a\"],[0.8888888888888888,\"#fdca26\"],[1.0,\"#f0f921\"]],\"type\":\"heatmap\"}],\"heatmapgl\":[{\"colorbar\":{\"outlinewidth\":0,\"ticks\":\"\"},\"colorscale\":[[0.0,\"#0d0887\"],[0.1111111111111111,\"#46039f\"],[0.2222222222222222,\"#7201a8\"],[0.3333333333333333,\"#9c179e\"],[0.4444444444444444,\"#bd3786\"],[0.5555555555555556,\"#d8576b\"],[0.6666666666666666,\"#ed7953\"],[0.7777777777777778,\"#fb9f3a\"],[0.8888888888888888,\"#fdca26\"],[1.0,\"#f0f921\"]],\"type\":\"heatmapgl\"}],\"histogram\":[{\"marker\":{\"pattern\":{\"fillmode\":\"overlay\",\"size\":10,\"solidity\":0.2}},\"type\":\"histogram\"}],\"histogram2d\":[{\"colorbar\":{\"outlinewidth\":0,\"ticks\":\"\"},\"colorscale\":[[0.0,\"#0d0887\"],[0.1111111111111111,\"#46039f\"],[0.2222222222222222,\"#7201a8\"],[0.3333333333333333,\"#9c179e\"],[0.4444444444444444,\"#bd3786\"],[0.5555555555555556,\"#d8576b\"],[0.6666666666666666,\"#ed7953\"],[0.7777777777777778,\"#fb9f3a\"],[0.8888888888888888,\"#fdca26\"],[1.0,\"#f0f921\"]],\"type\":\"histogram2d\"}],\"histogram2dcontour\":[{\"colorbar\":{\"outlinewidth\":0,\"ticks\":\"\"},\"colorscale\":[[0.0,\"#0d0887\"],[0.1111111111111111,\"#46039f\"],[0.2222222222222222,\"#7201a8\"],[0.3333333333333333,\"#9c179e\"],[0.4444444444444444,\"#bd3786\"],[0.5555555555555556,\"#d8576b\"],[0.6666666666666666,\"#ed7953\"],[0.7777777777777778,\"#fb9f3a\"],[0.8888888888888888,\"#fdca26\"],[1.0,\"#f0f921\"]],\"type\":\"histogram2dcontour\"}],\"mesh3d\":[{\"colorbar\":{\"outlinewidth\":0,\"ticks\":\"\"},\"type\":\"mesh3d\"}],\"parcoords\":[{\"line\":{\"colorbar\":{\"outlinewidth\":0,\"ticks\":\"\"}},\"type\":\"parcoords\"}],\"pie\":[{\"automargin\":true,\"type\":\"pie\"}],\"scatter\":[{\"marker\":{\"colorbar\":{\"outlinewidth\":0,\"ticks\":\"\"}},\"type\":\"scatter\"}],\"scatter3d\":[{\"line\":{\"colorbar\":{\"outlinewidth\":0,\"ticks\":\"\"}},\"marker\":{\"colorbar\":{\"outlinewidth\":0,\"ticks\":\"\"}},\"type\":\"scatter3d\"}],\"scattercarpet\":[{\"marker\":{\"colorbar\":{\"outlinewidth\":0,\"ticks\":\"\"}},\"type\":\"scattercarpet\"}],\"scattergeo\":[{\"marker\":{\"colorbar\":{\"outlinewidth\":0,\"ticks\":\"\"}},\"type\":\"scattergeo\"}],\"scattergl\":[{\"marker\":{\"colorbar\":{\"outlinewidth\":0,\"ticks\":\"\"}},\"type\":\"scattergl\"}],\"scattermapbox\":[{\"marker\":{\"colorbar\":{\"outlinewidth\":0,\"ticks\":\"\"}},\"type\":\"scattermapbox\"}],\"scatterpolar\":[{\"marker\":{\"colorbar\":{\"outlinewidth\":0,\"ticks\":\"\"}},\"type\":\"scatterpolar\"}],\"scatterpolargl\":[{\"marker\":{\"colorbar\":{\"outlinewidth\":0,\"ticks\":\"\"}},\"type\":\"scatterpolargl\"}],\"scatterternary\":[{\"marker\":{\"colorbar\":{\"outlinewidth\":0,\"ticks\":\"\"}},\"type\":\"scatterternary\"}],\"surface\":[{\"colorbar\":{\"outlinewidth\":0,\"ticks\":\"\"},\"colorscale\":[[0.0,\"#0d0887\"],[0.1111111111111111,\"#46039f\"],[0.2222222222222222,\"#7201a8\"],[0.3333333333333333,\"#9c179e\"],[0.4444444444444444,\"#bd3786\"],[0.5555555555555556,\"#d8576b\"],[0.6666666666666666,\"#ed7953\"],[0.7777777777777778,\"#fb9f3a\"],[0.8888888888888888,\"#fdca26\"],[1.0,\"#f0f921\"]],\"type\":\"surface\"}],\"table\":[{\"cells\":{\"fill\":{\"color\":\"#EBF0F8\"},\"line\":{\"color\":\"white\"}},\"header\":{\"fill\":{\"color\":\"#C8D4E3\"},\"line\":{\"color\":\"white\"}},\"type\":\"table\"}]},\"layout\":{\"annotationdefaults\":{\"arrowcolor\":\"#2a3f5f\",\"arrowhead\":0,\"arrowwidth\":1},\"autotypenumbers\":\"strict\",\"coloraxis\":{\"colorbar\":{\"outlinewidth\":0,\"ticks\":\"\"}},\"colorscale\":{\"diverging\":[[0,\"#8e0152\"],[0.1,\"#c51b7d\"],[0.2,\"#de77ae\"],[0.3,\"#f1b6da\"],[0.4,\"#fde0ef\"],[0.5,\"#f7f7f7\"],[0.6,\"#e6f5d0\"],[0.7,\"#b8e186\"],[0.8,\"#7fbc41\"],[0.9,\"#4d9221\"],[1,\"#276419\"]],\"sequential\":[[0.0,\"#0d0887\"],[0.1111111111111111,\"#46039f\"],[0.2222222222222222,\"#7201a8\"],[0.3333333333333333,\"#9c179e\"],[0.4444444444444444,\"#bd3786\"],[0.5555555555555556,\"#d8576b\"],[0.6666666666666666,\"#ed7953\"],[0.7777777777777778,\"#fb9f3a\"],[0.8888888888888888,\"#fdca26\"],[1.0,\"#f0f921\"]],\"sequentialminus\":[[0.0,\"#0d0887\"],[0.1111111111111111,\"#46039f\"],[0.2222222222222222,\"#7201a8\"],[0.3333333333333333,\"#9c179e\"],[0.4444444444444444,\"#bd3786\"],[0.5555555555555556,\"#d8576b\"],[0.6666666666666666,\"#ed7953\"],[0.7777777777777778,\"#fb9f3a\"],[0.8888888888888888,\"#fdca26\"],[1.0,\"#f0f921\"]]},\"colorway\":[\"#636efa\",\"#EF553B\",\"#00cc96\",\"#ab63fa\",\"#FFA15A\",\"#19d3f3\",\"#FF6692\",\"#B6E880\",\"#FF97FF\",\"#FECB52\"],\"font\":{\"color\":\"#2a3f5f\"},\"geo\":{\"bgcolor\":\"white\",\"lakecolor\":\"white\",\"landcolor\":\"#E5ECF6\",\"showlakes\":true,\"showland\":true,\"subunitcolor\":\"white\"},\"hoverlabel\":{\"align\":\"left\"},\"hovermode\":\"closest\",\"mapbox\":{\"style\":\"light\"},\"paper_bgcolor\":\"white\",\"plot_bgcolor\":\"#E5ECF6\",\"polar\":{\"angularaxis\":{\"gridcolor\":\"white\",\"linecolor\":\"white\",\"ticks\":\"\"},\"bgcolor\":\"#E5ECF6\",\"radialaxis\":{\"gridcolor\":\"white\",\"linecolor\":\"white\",\"ticks\":\"\"}},\"scene\":{\"xaxis\":{\"backgroundcolor\":\"#E5ECF6\",\"gridcolor\":\"white\",\"gridwidth\":2,\"linecolor\":\"white\",\"showbackground\":true,\"ticks\":\"\",\"zerolinecolor\":\"white\"},\"yaxis\":{\"backgroundcolor\":\"#E5ECF6\",\"gridcolor\":\"white\",\"gridwidth\":2,\"linecolor\":\"white\",\"showbackground\":true,\"ticks\":\"\",\"zerolinecolor\":\"white\"},\"zaxis\":{\"backgroundcolor\":\"#E5ECF6\",\"gridcolor\":\"white\",\"gridwidth\":2,\"linecolor\":\"white\",\"showbackground\":true,\"ticks\":\"\",\"zerolinecolor\":\"white\"}},\"shapedefaults\":{\"line\":{\"color\":\"#2a3f5f\"}},\"ternary\":{\"aaxis\":{\"gridcolor\":\"white\",\"linecolor\":\"white\",\"ticks\":\"\"},\"baxis\":{\"gridcolor\":\"white\",\"linecolor\":\"white\",\"ticks\":\"\"},\"bgcolor\":\"#E5ECF6\",\"caxis\":{\"gridcolor\":\"white\",\"linecolor\":\"white\",\"ticks\":\"\"}},\"title\":{\"x\":0.05},\"xaxis\":{\"automargin\":true,\"gridcolor\":\"white\",\"linecolor\":\"white\",\"ticks\":\"\",\"title\":{\"standoff\":15},\"zerolinecolor\":\"white\",\"zerolinewidth\":2},\"yaxis\":{\"automargin\":true,\"gridcolor\":\"white\",\"linecolor\":\"white\",\"ticks\":\"\",\"title\":{\"standoff\":15},\"zerolinecolor\":\"white\",\"zerolinewidth\":2}}},\"xaxis\":{\"anchor\":\"y\",\"domain\":[0.0,1.0],\"title\":{\"text\":\"Hour of the day\"}},\"yaxis\":{\"anchor\":\"x\",\"domain\":[0.0,1.0],\"title\":{\"text\":\"average speed\"}},\"coloraxis\":{\"colorbar\":{\"title\":{\"text\":\"average speed\"}},\"colorscale\":[[0.0,\"#0d0887\"],[0.1111111111111111,\"#46039f\"],[0.2222222222222222,\"#7201a8\"],[0.3333333333333333,\"#9c179e\"],[0.4444444444444444,\"#bd3786\"],[0.5555555555555556,\"#d8576b\"],[0.6666666666666666,\"#ed7953\"],[0.7777777777777778,\"#fb9f3a\"],[0.8888888888888888,\"#fdca26\"],[1.0,\"#f0f921\"]]},\"legend\":{\"tracegroupgap\":0},\"title\":{\"text\":\"Bike riding speed by hour of the day\"},\"barmode\":\"relative\",\"height\":500},                        {\"responsive\": true}                    ).then(function(){\n",
       "                            \n",
       "var gd = document.getElementById('20956eea-df2a-451a-83a0-e1ad6dbf621e');\n",
       "var x = new MutationObserver(function (mutations, observer) {{\n",
       "        var display = window.getComputedStyle(gd).display;\n",
       "        if (!display || display === 'none') {{\n",
       "            console.log([gd, 'removed!']);\n",
       "            Plotly.purge(gd);\n",
       "            observer.disconnect();\n",
       "        }}\n",
       "}});\n",
       "\n",
       "// Listen for the removal of the full notebook cells\n",
       "var notebookContainer = gd.closest('#notebook-container');\n",
       "if (notebookContainer) {{\n",
       "    x.observe(notebookContainer, {childList: true});\n",
       "}}\n",
       "\n",
       "// Listen for the clearing of the current output cell\n",
       "var outputEl = gd.closest('.output');\n",
       "if (outputEl) {{\n",
       "    x.observe(outputEl, {childList: true});\n",
       "}}\n",
       "\n",
       "                        })                };                });            </script>        </div>"
      ]
     },
     "metadata": {},
     "output_type": "display_data"
    }
   ],
   "source": [
    "byHr_speed = df[df[\"avg_speed\"] != 0].groupby(df['Start Time'].dt.hour)[\"avg_speed\"].mean()\n",
    "byHr_speed = byHr_speed.reset_index()\n",
    "\n",
    "fig = px.bar(byHr_speed, x='Start Time', y='avg_speed',\n",
    "             color='avg_speed',\n",
    "             labels={'Start Time':'Hour of the day', 'avg_speed':'average speed'}, \n",
    "             title='Bike riding speed by hour of the day', height=500)\n",
    "fig.show()"
   ]
  },
  {
   "cell_type": "code",
   "execution_count": 124,
   "id": "4685b777",
   "metadata": {},
   "outputs": [
    {
     "data": {
      "text/html": [
       "<div>\n",
       "<style scoped>\n",
       "    .dataframe tbody tr th:only-of-type {\n",
       "        vertical-align: middle;\n",
       "    }\n",
       "\n",
       "    .dataframe tbody tr th {\n",
       "        vertical-align: top;\n",
       "    }\n",
       "\n",
       "    .dataframe thead th {\n",
       "        text-align: right;\n",
       "    }\n",
       "</style>\n",
       "<table border=\"1\" class=\"dataframe\">\n",
       "  <thead>\n",
       "    <tr style=\"text-align: right;\">\n",
       "      <th></th>\n",
       "      <th>Start Station Id</th>\n",
       "      <th>Start Time</th>\n",
       "      <th>station_id</th>\n",
       "      <th>name</th>\n",
       "      <th>lat</th>\n",
       "      <th>lon</th>\n",
       "    </tr>\n",
       "  </thead>\n",
       "  <tbody>\n",
       "    <tr>\n",
       "      <th>0</th>\n",
       "      <td>7000</td>\n",
       "      <td>20472</td>\n",
       "      <td>7000</td>\n",
       "      <td>Fort York  Blvd / Capreol Ct</td>\n",
       "      <td>43.639832</td>\n",
       "      <td>-79.395954</td>\n",
       "    </tr>\n",
       "    <tr>\n",
       "      <th>1</th>\n",
       "      <td>7001</td>\n",
       "      <td>11517</td>\n",
       "      <td>7001</td>\n",
       "      <td>Wellesley Station Green P</td>\n",
       "      <td>43.664964</td>\n",
       "      <td>-79.383550</td>\n",
       "    </tr>\n",
       "    <tr>\n",
       "      <th>2</th>\n",
       "      <td>7002</td>\n",
       "      <td>14543</td>\n",
       "      <td>7002</td>\n",
       "      <td>St. George St / Bloor St W</td>\n",
       "      <td>43.667333</td>\n",
       "      <td>-79.399429</td>\n",
       "    </tr>\n",
       "    <tr>\n",
       "      <th>3</th>\n",
       "      <td>7003</td>\n",
       "      <td>7396</td>\n",
       "      <td>7003</td>\n",
       "      <td>Madison Ave / Bloor St W</td>\n",
       "      <td>43.667158</td>\n",
       "      <td>-79.402761</td>\n",
       "    </tr>\n",
       "    <tr>\n",
       "      <th>4</th>\n",
       "      <td>7004</td>\n",
       "      <td>4702</td>\n",
       "      <td>7004</td>\n",
       "      <td>University Ave / Elm St</td>\n",
       "      <td>43.656518</td>\n",
       "      <td>-79.389099</td>\n",
       "    </tr>\n",
       "    <tr>\n",
       "      <th>...</th>\n",
       "      <td>...</td>\n",
       "      <td>...</td>\n",
       "      <td>...</td>\n",
       "      <td>...</td>\n",
       "      <td>...</td>\n",
       "      <td>...</td>\n",
       "    </tr>\n",
       "    <tr>\n",
       "      <th>609</th>\n",
       "      <td>7684</td>\n",
       "      <td>351</td>\n",
       "      <td>7684</td>\n",
       "      <td>Bay St / Harbour St (East)</td>\n",
       "      <td>43.642150</td>\n",
       "      <td>-79.377000</td>\n",
       "    </tr>\n",
       "    <tr>\n",
       "      <th>610</th>\n",
       "      <td>7685</td>\n",
       "      <td>189</td>\n",
       "      <td>7685</td>\n",
       "      <td>King / Brant</td>\n",
       "      <td>43.645102</td>\n",
       "      <td>-79.397450</td>\n",
       "    </tr>\n",
       "    <tr>\n",
       "      <th>611</th>\n",
       "      <td>7686</td>\n",
       "      <td>157</td>\n",
       "      <td>7686</td>\n",
       "      <td>Lower Jarvis / The Esplanade</td>\n",
       "      <td>43.647821</td>\n",
       "      <td>-79.370472</td>\n",
       "    </tr>\n",
       "    <tr>\n",
       "      <th>612</th>\n",
       "      <td>7687</td>\n",
       "      <td>133</td>\n",
       "      <td>7687</td>\n",
       "      <td>Bloor / Gladstone - SMART</td>\n",
       "      <td>43.660202</td>\n",
       "      <td>-79.434273</td>\n",
       "    </tr>\n",
       "    <tr>\n",
       "      <th>613</th>\n",
       "      <td>7688</td>\n",
       "      <td>3</td>\n",
       "      <td>7688</td>\n",
       "      <td>High Park Blvd / Parkside Dr</td>\n",
       "      <td>43.644887</td>\n",
       "      <td>-79.456412</td>\n",
       "    </tr>\n",
       "  </tbody>\n",
       "</table>\n",
       "<p>614 rows × 6 columns</p>\n",
       "</div>"
      ],
      "text/plain": [
       "    Start Station Id  Start Time station_id                          name  \\\n",
       "0               7000       20472       7000  Fort York  Blvd / Capreol Ct   \n",
       "1               7001       11517       7001     Wellesley Station Green P   \n",
       "2               7002       14543       7002    St. George St / Bloor St W   \n",
       "3               7003        7396       7003      Madison Ave / Bloor St W   \n",
       "4               7004        4702       7004       University Ave / Elm St   \n",
       "..               ...         ...        ...                           ...   \n",
       "609             7684         351       7684    Bay St / Harbour St (East)   \n",
       "610             7685         189       7685                  King / Brant   \n",
       "611             7686         157       7686  Lower Jarvis / The Esplanade   \n",
       "612             7687         133       7687     Bloor / Gladstone - SMART   \n",
       "613             7688           3       7688  High Park Blvd / Parkside Dr   \n",
       "\n",
       "           lat        lon  \n",
       "0    43.639832 -79.395954  \n",
       "1    43.664964 -79.383550  \n",
       "2    43.667333 -79.399429  \n",
       "3    43.667158 -79.402761  \n",
       "4    43.656518 -79.389099  \n",
       "..         ...        ...  \n",
       "609  43.642150 -79.377000  \n",
       "610  43.645102 -79.397450  \n",
       "611  43.647821 -79.370472  \n",
       "612  43.660202 -79.434273  \n",
       "613  43.644887 -79.456412  \n",
       "\n",
       "[614 rows x 6 columns]"
      ]
     },
     "execution_count": 124,
     "metadata": {},
     "output_type": "execute_result"
    }
   ],
   "source": [
    "station = df.groupby(df['Start Station Id'])[\"Start Time\"].count()\n",
    "station = station.reset_index()\n",
    "station = station.merge(bikeshare_stations, how='left', left_on='Start Station Id', right_on='station_id')\n",
    "station"
   ]
  },
  {
   "cell_type": "code",
   "execution_count": 140,
   "id": "19fca3be",
   "metadata": {
    "scrolled": true
   },
   "outputs": [
    {
     "data": {
      "application/vnd.plotly.v1+json": {
       "config": {
        "plotlyServerURL": "https://plot.ly"
       },
       "data": [
        {
         "customdata": [
          [
           20472,
           "Fort York  Blvd / Capreol Ct"
          ],
          [
           11517,
           "Wellesley Station Green P"
          ],
          [
           14543,
           "St. George St / Bloor St W"
          ],
          [
           7396,
           "Madison Ave / Bloor St W"
          ],
          [
           4702,
           "University Ave / Elm St"
          ],
          [
           6057,
           "King St W / York St"
          ],
          [
           18892,
           "Bay St / College St (East Side)"
          ],
          [
           14849,
           "College St / Huron St"
          ],
          [
           7005,
           "Wellesley St / Queen's Park Cres"
          ],
          [
           7808,
           "King St E / Jarvis St"
          ],
          [
           4707,
           "King St W / Spadina Ave"
          ],
          [
           10654,
           "Wellington St W / Portland St"
          ],
          [
           9586,
           "Elizabeth St / Edward St (Bus Terminal)"
          ],
          [
           10759,
           "Scott St / The Esplanade"
          ],
          [
           12197,
           "Sherbourne St / Carlton St (Allan Gardens)"
          ],
          [
           5139,
           "King St W / Bay St (West Side)"
          ],
          [
           26937,
           "Bay St / Queens Quay W (Ferry Terminal)"
          ],
          [
           17034,
           "Widmer St / Adelaide St W"
          ],
          [
           12640,
           "Bremner Blvd / Rees St"
          ],
          [
           5602,
           "Temperance St. Station"
          ],
          [
           10524,
           "Phoebe St / Spadina Ave"
          ],
          [
           9795,
           "Bay St / Albert St"
          ],
          [
           13322,
           "Simcoe St / Queen St W"
          ],
          [
           7470,
           "College St / Borden St"
          ],
          [
           6779,
           "Dundonald St / Church St"
          ],
          [
           7464,
           "Ted Rogers Way / Bloor St E"
          ],
          [
           11430,
           "Bay St / St. Joseph St"
          ],
          [
           14931,
           "Beverley  St / Dundas St W"
          ],
          [
           11502,
           "Gould St / Mutual St"
          ],
          [
           8761,
           "Bay St / Bloor St W (East Side)"
          ],
          [
           19754,
           "Bay St / Wellesley St W"
          ],
          [
           6926,
           "Jarvis St / Isabella St"
          ],
          [
           7943,
           "Augusta Ave / Dundas St W"
          ],
          [
           14500,
           "Union Station"
          ],
          [
           8814,
           "Church St / Bloor St E"
          ],
          [
           8280,
           "Queen St W / Ossington Ave"
          ],
          [
           4286,
           "Trinity St /Front St E"
          ],
          [
           14668,
           "Bathurst St / Dundas St W"
          ],
          [
           16783,
           "Dundas St W / Yonge St"
          ],
          [
           4265,
           "Simcoe St / Michael Sweet Ave"
          ],
          [
           7264,
           "Euclid Ave / Bloor St W"
          ],
          [
           8235,
           "Edward St / Yonge St"
          ],
          [
           15808,
           "Sherbourne St / Wellesley St E"
          ],
          [
           19382,
           "Queens Quay W / Lower Simcoe St"
          ],
          [
           12921,
           "Church St / Alexander St"
          ],
          [
           9497,
           "Bond St / Queen St E"
          ],
          [
           9805,
           "Niagara St / Richmond St W"
          ],
          [
           9939,
           "University Ave / Gerrard St W (East Side)"
          ],
          [
           5431,
           "Front St W / Yonge St (Hockey Hall of Fame)"
          ],
          [
           19208,
           "Queen St W / Portland St"
          ],
          [
           2594,
           "Richmond St E / Jarvis St Green P"
          ],
          [
           5986,
           "Wellington St W / Bay St"
          ],
          [
           5040,
           "Metro Hall Plaza"
          ],
          [
           11229,
           "Navy Wharf Ct. / Bremner Blvd."
          ],
          [
           9299,
           "Jarvis St / Carlton St"
          ],
          [
           4589,
           "Parliament St / Gerrard St"
          ],
          [
           4886,
           "Simcoe St / Wellington St South"
          ],
          [
           5244,
           "Huron/ Harbord St"
          ],
          [
           12661,
           "Front St W / Blue Jays Way"
          ],
          [
           13108,
           "Princess St / Adelaide St E"
          ],
          [
           10542,
           "Dalton Rd / Bloor St W"
          ],
          [
           6326,
           "University Ave / College St (West)"
          ],
          [
           10621,
           "Queen's Park / Bloor St W"
          ],
          [
           3774,
           "51 Parliament St"
          ],
          [
           9729,
           "Dundas St E / Parliament St"
          ],
          [
           9532,
           "Willcocks St / St. George St"
          ],
          [
           7696,
           "Yonge St / Harbour St"
          ],
          [
           772,
           "Blantyre Park"
          ],
          [
           7502,
           "Queen St W / Spadina Ave"
          ],
          [
           3670,
           "25 York St – Union Station South"
          ],
          [
           3036,
           "161 Bleecker St (South of Wellesley)"
          ],
          [
           15250,
           "Fleet St / Bathurst St"
          ],
          [
           10371,
           "Spadina Ave / Fort York Blvd"
          ],
          [
           5804,
           "King St E / Church St"
          ],
          [
           12457,
           "Queens Quay W / Dan Leckie Way"
          ],
          [
           35437,
           "York St / Queens Quay W"
          ],
          [
           7850,
           "College Park South"
          ],
          [
           17526,
           "College St / Major St"
          ],
          [
           14094,
           "McGill St / Church St"
          ],
          [
           2072,
           "Danforth Ave / Barrington Ave"
          ],
          [
           3703,
           "High Park - Grenadier Cafe"
          ],
          [
           1484,
           "Danforth Ave / Westlake Ave"
          ],
          [
           4913,
           "High Park - West Rd"
          ],
          [
           1680,
           "Danforth Ave / Aldridge Ave"
          ],
          [
           3429,
           "Danforth Ave / Coxwell Ave"
          ],
          [
           16078,
           "Church St  / Wood St"
          ],
          [
           3854,
           "Danforth Ave / Lamb Ave"
          ],
          [
           2352,
           "Donlands Station"
          ],
          [
           1927,
           "Pape Subway Green P"
          ],
          [
           3652,
           "Danforth Ave / Gough Ave"
          ],
          [
           3189,
           "Chester Station"
          ],
          [
           5092,
           "Danforth Ave / Ellerbeck St"
          ],
          [
           2159,
           "Lower Don River Trail and Taylor Creek Trail"
          ],
          [
           5339,
           "Riverdale Park North (Broadview Ave)"
          ],
          [
           7214,
           "Riverdale Park South (Broadview Ave)"
          ],
          [
           7104,
           "Cherry St / Mill St"
          ],
          [
           20667,
           "Dundas St E / Regent Park Blvd"
          ],
          [
           6658,
           "Lower Sherbourne St / The Esplanade"
          ],
          [
           12438,
           "Nelson St / Duncan St"
          ],
          [
           6730,
           "Jimmie Simpson Park (Queen St E)"
          ],
          [
           12167,
           "King St E / River St"
          ],
          [
           2622,
           "Queen St E / Sackville St"
          ],
          [
           3239,
           "Mill St / Tannery Rd"
          ],
          [
           3066,
           "Cherry St / Distillery Ln"
          ],
          [
           5357,
           "Front St E / Cherry St"
          ],
          [
           5212,
           "Seaton St / Dundas St E - SMART"
          ],
          [
           5282,
           "Queen St E / Berkeley St"
          ],
          [
           8439,
           "King St W / Douro St"
          ],
          [
           2562,
           "Liberty St / Fraser Ave Green P"
          ],
          [
           7338,
           "Parliament St / Aberdeen Ave"
          ],
          [
           8829,
           "Carlton St / Parliament St"
          ],
          [
           7919,
           "Howard St / Sherbourne St"
          ],
          [
           3251,
           "640 Bloor Street E"
          ],
          [
           5093,
           "King St W / Bay St (East Side)"
          ],
          [
           7562,
           "Sumach St / Carlton St. (Riverdale Farm)"
          ],
          [
           4328,
           "Gerrard St E / River St"
          ],
          [
           19779,
           "Jarvis St / Dundas St E"
          ],
          [
           2968,
           "Niagara St / Tecumseth St"
          ],
          [
           2367,
           "424 Wellington St W"
          ],
          [
           6114,
           "Dundas St E / Broadview Ave"
          ],
          [
           10101,
           "Yonge St / Yorkville Ave"
          ],
          [
           4017,
           "Bay St / Scollard St"
          ],
          [
           2057,
           "Yonge St / Aylmer Ave"
          ],
          [
           6149,
           "Davenport Rd / Avenue Rd"
          ],
          [
           3641,
           "Davenport Rd / Bedford Rd"
          ],
          [
           6040,
           "Taddle Creek Park"
          ],
          [
           3999,
           "Kendal Ave / Spadina Rd"
          ],
          [
           2835,
           "Summerhill Station"
          ],
          [
           2799,
           "Marlborough Ave / Yonge St"
          ],
          [
           5685,
           "Hanna Ave / Liberty St"
          ],
          [
           3420,
           "Queen St W / Close Ave"
          ],
          [
           1482,
           "Davenport Rd / Bathurst St"
          ],
          [
           2374,
           "Davenport Rd / Christie St"
          ],
          [
           3045,
           "Glen Edyth Dr / Davenport Rd"
          ],
          [
           4184,
           "Macpherson Ave / Spadina Rd"
          ],
          [
           1797,
           "Bridgeman Ave / Kendal Ave"
          ],
          [
           1395,
           "Bridgeman Ave / Bathurst St"
          ],
          [
           4191,
           "Kendal Ave / Bernard Ave"
          ],
          [
           2988,
           "Palmerston Ave / Vermont Ave"
          ],
          [
           3130,
           "Christie St / Benson Ave (Wychwood Barns)"
          ],
          [
           2157,
           "King St W / Fraser Ave"
          ],
          [
           8625,
           "King St W / Joe Shuster Way"
          ],
          [
           3632,
           "Yarmouth Rd / Christie St"
          ],
          [
           4516,
           "Dufferin St / Sylvan Av (Dufferin Grove Park)"
          ],
          [
           3116,
           "Essex St / Christie St - SMART"
          ],
          [
           5390,
           "Ossington Ave / Bloor St W"
          ],
          [
           9924,
           "Bloor St W / Christie St"
          ],
          [
           5703,
           "Bathurst Subway Station"
          ],
          [
           5788,
           "Bathurst St / Lennox St"
          ],
          [
           4378,
           "Salem Ave / Bloor St W"
          ],
          [
           2264,
           "Dufferin St / Bloor St"
          ],
          [
           5590,
           "King St W / Stafford St"
          ],
          [
           11411,
           "King St W / Tecumseth St"
          ],
          [
           5242,
           "Beverley St / College St"
          ],
          [
           7056,
           "Hayter St / Laplante Ave"
          ],
          [
           13112,
           "Yonge St / Wood St"
          ],
          [
           10037,
           "Gould St / Yonge St (Ryerson University)"
          ],
          [
           4899,
           "Queen St E / George St (Moss Park)"
          ],
          [
           21957,
           "Queens Quay / Yonge St"
          ],
          [
           4473,
           "Front St W / Bay St (North Side)"
          ],
          [
           3928,
           "Spadina Ave / Willcocks St"
          ],
          [
           27530,
           "Ontario Place Blvd / Lake Shore Blvd W (East)"
          ],
          [
           6539,
           "Strachan Ave / Princes' Blvd"
          ],
          [
           3090,
           "Cariboo St / Rail Path"
          ],
          [
           3472,
           "Bloor St W / Dundas St W"
          ],
          [
           25826,
           "HTO Park (Queens Quay W)"
          ],
          [
           9143,
           "Bathurst St / Fort York Blvd"
          ],
          [
           11100,
           "East Liberty St / Pirandello St"
          ],
          [
           2969,
           "Dundas St W / Edna Ave"
          ],
          [
           3477,
           "Bloor GO / UP Station (West Toronto Railpath)"
          ],
          [
           4005,
           "Lansdowne Subway Station"
          ],
          [
           1323,
           "Lansdowne Ave / Whytock Ave"
          ],
          [
           2264,
           "Sterling Rd / Dundas St W"
          ],
          [
           3602,
           "St Clarens Ave / College St"
          ],
          [
           4752,
           "Ossington Ave / College St"
          ],
          [
           2770,
           "Exhibition GO (Atlantic Ave)"
          ],
          [
           8174,
           "Augusta Ave / Denison Sq"
          ],
          [
           8321,
           "St. George St / Hoskin Ave"
          ],
          [
           6568,
           "Central Tech  (Harbord St)"
          ],
          [
           5200,
           "Harbord St / Clinton St"
          ],
          [
           7032,
           "Queen St W / Gladstone Ave"
          ],
          [
           1792,
           "Mortimer Ave / Coxwell Ave"
          ],
          [
           4730,
           "Ulster St / Bathurst St"
          ],
          [
           2726,
           "Roxton Rd / Harbord St"
          ],
          [
           4839,
           "Queen St W / Dovercourt Rd"
          ],
          [
           3566,
           "Queen St W / Cowan Ave"
          ],
          [
           13665,
           "College St / Markham St"
          ],
          [
           5931,
           "Queen St W / York St (City Hall)"
          ],
          [
           25234,
           "Bathurst St/Queens Quay(Billy Bishop Airport)"
          ],
          [
           10025,
           "College St / Crawford St"
          ],
          [
           4884,
           "Rusholme Park Cres / College St"
          ],
          [
           5225,
           "Claremont St / Dundas St W"
          ],
          [
           13244,
           "Dundas St W / Crawford St"
          ],
          [
           4981,
           "80 Clinton St (North of College)"
          ],
          [
           2952,
           "Ossington Ave / Harrison St"
          ],
          [
           2202,
           "Mary McCormick Rec Centre (Sheridan Ave)"
          ],
          [
           10133,
           "Fort York Blvd / Garrison Rd"
          ],
          [
           8718,
           "Wellington St W / Stafford St"
          ],
          [
           14964,
           "Soho St / Queen St W"
          ],
          [
           14131,
           "Lake Shore Blvd W / Ellis Ave"
          ],
          [
           1990,
           "High Park Subway Station"
          ],
          [
           10915,
           "Sunnyside - Gus Ryder Pool"
          ],
          [
           2029,
           "Parkside Dr / Bloor St W - SMART"
          ],
          [
           3084,
           "Bloor St W / High Park Ave (High Park)"
          ],
          [
           6962,
           "Lake Shore Blvd W / Windermere Ave"
          ],
          [
           14544,
           "Lake Shore Blvd W / The Boulevard Club"
          ],
          [
           15659,
           "Martin Goodman Trail (Marilyn Bell Park)"
          ],
          [
           2317,
           "Queen St W / Roncesvalles Ave"
          ],
          [
           1401,
           "Dundas St W / Roncesvalles Green P - SMART"
          ],
          [
           4349,
           "Garden Ave / Roncesvalles Ave"
          ],
          [
           2265,
           "Wright / Sorauren (Sorauren Park) - SMART"
          ],
          [
           3086,
           "Queen St W  /  Fuller Ave - SMART"
          ],
          [
           3235,
           "King / Cowan Ave - SMART"
          ],
          [
           3463,
           "Roncesvalles Ave / Marmaduke St"
          ],
          [
           13001,
           "Bay St / College St (West Side) - SMART"
          ],
          [
           7442,
           "Thompson St / Broadview Ave - SMART"
          ],
          [
           3406,
           "Ward Ave / Wallace Ave"
          ],
          [
           2264,
           "Sorauren/Geoffrey (Sorauren Park) - SMART"
          ],
          [
           8188,
           "Bloor St W / Manning Ave - SMART"
          ],
          [
           9083,
           "Bloor St W / Shaw Ave - SMART"
          ],
          [
           3748,
           "519 Church St - SMART"
          ],
          [
           26374,
           "Lake Shore Blvd W / Ontario Dr"
          ],
          [
           2730,
           "Exhibition GO Station"
          ],
          [
           1679,
           "Dufferin Gate - SMART"
          ],
          [
           7624,
           "Tecumseth St / Queen St W - SMART"
          ],
          [
           14189,
           "Yonge St / Bloor St"
          ],
          [
           2047,
           "Howard Park Ave / Dundas St W - SMART"
          ],
          [
           10343,
           "Baldwin Ave / Spadina Ave - SMART"
          ],
          [
           1413,
           "Dovercourt Rd / Harrison St (Green P) - SMART"
          ],
          [
           8600,
           "St. George St / Russell St - SMART"
          ],
          [
           7017,
           "The Royal Ontario Museum (Bloor St Entrance)"
          ],
          [
           11900,
           "Robert St / Bloor St W - SMART"
          ],
          [
           14831,
           "John St  / Mercer St - SMART"
          ],
          [
           9102,
           "Stewart St / Bathurst St  - SMART"
          ],
          [
           7934,
           "Vanauley St / Queen St W - SMART"
          ],
          [
           10207,
           "Dundas St W / St. Patrick St"
          ],
          [
           3548,
           "Queen St E / Rushbrooke Ave"
          ],
          [
           11445,
           "Lower Spadina Ave / Lake Shore Blvd"
          ],
          [
           13809,
           "Spadina Ave / Adelaide St W"
          ],
          [
           26356,
           "Queens Quay E / Lower Sherbourne St"
          ],
          [
           1431,
           "Wychwood Ave / Benson Ave - SMART"
          ],
          [
           12521,
           "Walton St / Elizabeth St - SMART"
          ],
          [
           9618,
           "Bloor St E / Huntley St - SMART"
          ],
          [
           2575,
           "Wallace Ave / Symington Ave - SMART"
          ],
          [
           614,
           "Victoria Park Subway Station - SMART"
          ],
          [
           4450,
           "Dundas St E / Pembroke St - SMART"
          ],
          [
           1975,
           "111 Bond St (North of Dundas St E)  - SMART"
          ],
          [
           9602,
           "Toronto Eaton Centre (Yonge St)"
          ],
          [
           4244,
           "Church St / Dundas St E - SMART"
          ],
          [
           9158,
           "Yonge St / Alexander St - SMART"
          ],
          [
           9501,
           "Yonge St / Dundonald St - SMART"
          ],
          [
           10819,
           "Bay St / Charles St - SMART"
          ],
          [
           5287,
           "Queen's Park Cres E / Grosvenor St - SMART"
          ],
          [
           9365,
           "Queen St W / James St"
          ],
          [
           6872,
           "Bloor St W / Balmuto St"
          ],
          [
           3052,
           "Chorley Park - SMART"
          ],
          [
           2363,
           "Mallon Ave / Jones Ave -SMART"
          ],
          [
           1497,
           "Rosehill Ave / Avoca Ave - SMART"
          ],
          [
           8466,
           "Charles St E / Jarvis St - SMART"
          ],
          [
           13815,
           "Charles St W / Balmuto St - SMART"
          ],
          [
           8133,
           "Adelaide St W / Bay St - SMART"
          ],
          [
           4615,
           "Front St W / Bay St (South Side)"
          ],
          [
           6286,
           "University Ave / King St W - SMART"
          ],
          [
           9436,
           "Spadina Ave / Harbord St - SMART"
          ],
          [
           4459,
           "Gerrard St E / Broadview - SMART"
          ],
          [
           3376,
           "Queen St E / Pape Ave - SMART"
          ],
          [
           15716,
           "Humber Bay Shores Park West"
          ],
          [
           15179,
           "Humber Bay Shores Park East"
          ],
          [
           7224,
           "190 Queens Quay E"
          ],
          [
           9685,
           "Granby St / Church St - SMART"
          ],
          [
           7914,
           "College St / McCaul St"
          ],
          [
           3571,
           "Westmoreland Ave / Fernbank Ave"
          ],
          [
           2241,
           "Havelock St / Dufferin Park"
          ],
          [
           11829,
           "Bathurst St / Adelaide St W"
          ],
          [
           10533,
           "Mill St / Parliament St"
          ],
          [
           760,
           "Primrose Ave / Davenport Rd"
          ],
          [
           2063,
           "Winona Dr / Davenport Rd"
          ],
          [
           1916,
           "Queen St E / Woodward Ave"
          ],
          [
           1879,
           "Queen St. E / Rhodes Ave."
          ],
          [
           13636,
           "Sherbourne St / Isabella St"
          ],
          [
           3928,
           "Amelia St. / Sumach St."
          ],
          [
           4048,
           "Coxwell Ave /  Lake Shore Blvd E"
          ],
          [
           2734,
           "Queen St. E / Eastern Ave"
          ],
          [
           759,
           "Queen St E / Hammersmith Ave"
          ],
          [
           1044,
           "Queen St. E / Spruce Hill Rd."
          ],
          [
           3520,
           "Hubbard Blvd / Balsam Av"
          ],
          [
           2891,
           "Hubbard Blvd. / Glen Manor Dr."
          ],
          [
           3048,
           "Lake Shore Blvd E / Knox Ave"
          ],
          [
           4303,
           "Front St W / University Ave (1)"
          ],
          [
           7612,
           "Front St W / University Ave (2)"
          ],
          [
           6195,
           "E Liberty St / Western Battery Rd"
          ],
          [
           4968,
           "457 King St. W. at Spadina"
          ],
          [
           16687,
           "King St W / Charlotte St (West Side)"
          ],
          [
           1667,
           "Davenport Rd / Lansdowne Ave"
          ],
          [
           1777,
           "Davenport Rd / Oakwood Rd - SMART"
          ],
          [
           2620,
           "Roxborough St W / Yonge St"
          ],
          [
           6408,
           "Crawford St / Queen St W"
          ],
          [
           2037,
           "Lee Ave / Queen St E"
          ],
          [
           716,
           "Coxwell Ave / Plains Rd"
          ],
          [
           3506,
           "200 Bloor St. E."
          ],
          [
           8543,
           "King St E / Victoria St"
          ],
          [
           3434,
           "Simcoe St / Wellington St North"
          ],
          [
           6032,
           "Bay St / Bloor St W (West Side)"
          ],
          [
           2663,
           "Queen St E / Alton Av"
          ],
          [
           5046,
           "Gerrard Square Mall (1010 Gerrard St E)"
          ],
          [
           1992,
           "Logan Ave / Bain Ave"
          ],
          [
           2423,
           "Carlaw Ave / Strathcona Ave"
          ],
          [
           1590,
           "Blake St / Boultbee Ave"
          ],
          [
           1244,
           "Eastern Ave / Winnifred Ave"
          ],
          [
           3392,
           "Morse St / Eastern Ave"
          ],
          [
           2743,
           "Alton Ave / Dundas St E (Greenwood Park)"
          ],
          [
           18144,
           "Cherry Beach"
          ],
          [
           4816,
           "Cherry Beach Sports Field (55 Unwin Ave)"
          ],
          [
           3809,
           "Logan Av / Gerrard St E"
          ],
          [
           1046,
           "Regal Rd / Dufferin St"
          ],
          [
           2493,
           "Pape Ave / Gamble Ave"
          ],
          [
           1855,
           "Gamble Ave / Broadview Ave"
          ],
          [
           2384,
           "Broadview Ave / Westwood Ave"
          ],
          [
           2419,
           "Pretoria Av / Broadview Av"
          ],
          [
           2045,
           "Cosburn Ave / Donlands Ave"
          ],
          [
           1126,
           "Fulton Ave / Pape Ave"
          ],
          [
           19424,
           "Tommy Thompson Park (Leslie Street Spit)"
          ],
          [
           3475,
           "Beltline Trail / Chaplin Cres."
          ],
          [
           4274,
           "King St E / Ontario St."
          ],
          [
           15272,
           "Lake Shore Blvd E / Leslie St"
          ],
          [
           1630,
           "Rosedale Park (20 Schofield Ave)"
          ],
          [
           2809,
           "Concord Av / Dewson St"
          ],
          [
           2047,
           "Hocken Ave./Vaughan Rd."
          ],
          [
           5358,
           "St Clair Ave W / Bathurst St."
          ],
          [
           2121,
           "Wells Hill Ave / St Clair Ave W"
          ],
          [
           1407,
           "Queen St E / Nursewood Rd (Neville Park Loop)"
          ],
          [
           4036,
           "Kew Beach Ave / Kenilworth Ave"
          ],
          [
           8159,
           "Fort York Blvd / Bathurst St SMART"
          ],
          [
           2172,
           "Alma Ave / Gladstone Ave SMART"
          ],
          [
           5161,
           "Lisgar St / Dundas St SMART"
          ],
          [
           3015,
           "Dupont St / Emerson Ave SMART"
          ],
          [
           671,
           "Eglinton Ave W / Henning Ave SMART"
          ],
          [
           8968,
           "Adelaide St W / Portland St"
          ],
          [
           5840,
           "George St / King St E"
          ],
          [
           4658,
           "Frederick St / The Esplanade"
          ],
          [
           8063,
           "Front St E / Scott St"
          ],
          [
           3527,
           "Frobisher Ave / Lascelles Blvd"
          ],
          [
           2221,
           "Balliol St / Yonge St  SMART"
          ],
          [
           3151,
           "Yonge St / Davisville Ave"
          ],
          [
           3774,
           "Lawton Blvd / Yonge St"
          ],
          [
           2101,
           "Erskine Ave / Yonge St SMART"
          ],
          [
           3963,
           "Yonge St / Orchard View Blvd"
          ],
          [
           12266,
           "Simcoe St / Adelaide St W"
          ],
          [
           10680,
           "12 Harbour St"
          ],
          [
           7851,
           "Cumberland Ave / Bay St SMART"
          ],
          [
           9381,
           "20 Charles St E"
          ],
          [
           5760,
           "D'Arcy St. /McCaul St. SMART"
          ],
          [
           1608,
           "Mortimer Ave / Carlaw Ave SMART"
          ],
          [
           5829,
           "Broadview Ave / Danforth Ave"
          ],
          [
           16900,
           "College Park- Gerrard Entrance"
          ],
          [
           11566,
           "Yonge St / Dundas Sq"
          ],
          [
           592,
           "Woodbine Subway Green P SMART"
          ],
          [
           438,
           "Dentonia Park"
          ],
          [
           8367,
           "York St / Lakeshore St W - South"
          ],
          [
           20047,
           "Lower Jarvis / Queens Quay E"
          ],
          [
           6656,
           "Polson Pier"
          ],
          [
           1513,
           "Lascelles Blvd / Eglinton Ave W"
          ],
          [
           2461,
           "Roehampton Ave / Mount Pleasant Rd"
          ],
          [
           11675,
           "Victoria St / Queen St E"
          ],
          [
           3331,
           "University Ave / Queen St W"
          ],
          [
           3723,
           "University Ave / Armoury St"
          ],
          [
           12684,
           "Isabella St / Church St"
          ],
          [
           3526,
           "Howard St / Rose Ave"
          ],
          [
           15761,
           "Little Norway Park"
          ],
          [
           7295,
           "King St W / Crawford St"
          ],
          [
           1458,
           "Dundas St W / Watkinson Ave"
          ],
          [
           1895,
           "Keele St / Annette St"
          ],
          [
           1396,
           "Keele St / Vine Ave"
          ],
          [
           7858,
           "Spadina Ave / Blue Jays Way"
          ],
          [
           6024,
           "King St W / Jordan St"
          ],
          [
           16841,
           "College Park - Yonge St Entrance"
          ],
          [
           7592,
           "Bloor St W / Huron St"
          ],
          [
           3890,
           "Barton St / Howland St - SMART"
          ],
          [
           2988,
           "Tyndall Ave / King St W - SMART"
          ],
          [
           2196,
           "Merton St / Al Green Ln"
          ],
          [
           3181,
           "Merton St / Mount Pleasant Rd"
          ],
          [
           1042,
           "The Queensway at South Kingsway"
          ],
          [
           5257,
           "Fleet St / Garrison Rd (Fort York)"
          ],
          [
           12572,
           "Northern Dancer Blvd / Lake Shore Blvd E"
          ],
          [
           4195,
           "Woodbine Ave / Lake Shore Blvd E"
          ],
          [
           2034,
           "Woodbine Subway Station"
          ],
          [
           22530,
           "Marilyn Bell Park Tennis Court"
          ],
          [
           1775,
           "Gerrard St E / Leslie St"
          ],
          [
           7520,
           "Frederick St / King St E"
          ],
          [
           2944,
           "Dundas St E / Boulton Ave - SMART"
          ],
          [
           1599,
           "Via Italia / Mackay Ave"
          ],
          [
           3691,
           "Rushton Rd / St Clair Ave W"
          ],
          [
           4224,
           "Concord Ave / Bloor St W"
          ],
          [
           1695,
           "High Park Subway"
          ],
          [
           12579,
           "Martin Goodman Trail / Ontario Dr"
          ],
          [
           2541,
           "Pacific Ave / Glenlake Ave"
          ],
          [
           2124,
           "Lonsdale Rd / Spadina Rd"
          ],
          [
           4940,
           "Dundas St E / George St"
          ],
          [
           624,
           "Clendenan Ave / Rowland St - SMART"
          ],
          [
           2782,
           "Eastwood Rd / Coxwell Ave"
          ],
          [
           1230,
           "Orchard Park"
          ],
          [
           853,
           "Trent Ave / Danforth Ave"
          ],
          [
           908,
           "Goodwood Park Ct / Dentonia Park"
          ],
          [
           1186,
           "Cosburn Ave / Cedarvale Ave"
          ],
          [
           4558,
           "Carlaw Ave / Danforth Ave"
          ],
          [
           4176,
           "Western Battery Rd / Pirandello St"
          ],
          [
           6668,
           "Bleecker St / St James Ave"
          ],
          [
           6864,
           "Jarvis St / Maitland Pl"
          ],
          [
           6198,
           "Pottery Rd / Lower Don River Trail"
          ],
          [
           3485,
           "E.T. Seton Park (Eglinton Ave E / Leslie St)"
          ],
          [
           8004,
           "Queen's Park Cres W / Hoskin Ave"
          ],
          [
           8907,
           "Church St / Lombard St"
          ],
          [
           2971,
           "St Clair Ave W / Winona Ave"
          ],
          [
           1725,
           "High Park Outdoor Pool"
          ],
          [
           4872,
           "High Park Amphitheatre"
          ],
          [
           15113,
           "Richmond St E / Yonge St"
          ],
          [
           8528,
           "Adelaide St W / Brant St"
          ],
          [
           2688,
           "Russell Hill Rd / St Clair Ave W"
          ],
          [
           2931,
           "Glendonwynne Ave / Bloor St W"
          ],
          [
           14823,
           "Lower Simcoe St / Bremner Blvd"
          ],
          [
           6480,
           "Front St / Simcoe St"
          ],
          [
           4475,
           "Wellington St W / York St"
          ],
          [
           1403,
           "Lake Shore Blvd W / Louisa St"
          ],
          [
           4918,
           "Dundas St E / Victoria St"
          ],
          [
           6770,
           "Adelaide St W / Strachan Ave"
          ],
          [
           10637,
           "Clarence Square"
          ],
          [
           6640,
           "Jarvis St / Richmond St E"
          ],
          [
           2347,
           "Symington Ave / Dupont St"
          ],
          [
           618,
           "Antler St / Campbell Ave - SMART"
          ],
          [
           2032,
           "Ellis Ave / The Queensway"
          ],
          [
           1847,
           "Jane St / Bloor St W (Jane Subway Station)"
          ],
          [
           1819,
           "Neil McLellan Park"
          ],
          [
           917,
           "Danforth Ave / Sibley Ave"
          ],
          [
           1135,
           "Southwood Dr / Kingston Rd - SMART"
          ],
          [
           1100,
           "Briar Hill Ave / Yonge St - SMART"
          ],
          [
           1013,
           "Blythwood Rd / Yonge St - SMART"
          ],
          [
           958,
           "Gerrard St E / Ted Reeve Dr"
          ],
          [
           1403,
           "Eastwood Rd / Woodbine Ave - SMART"
          ],
          [
           1835,
           "Summerhill Ave / Maclennan Ave"
          ],
          [
           5943,
           "Sumach St  / Queen St E"
          ],
          [
           9239,
           "D'Arcy St / Spadina Ave - SMART"
          ],
          [
           13628,
           "324 Cherry St"
          ],
          [
           1530,
           "Sackville St / Eastern Ave - SMART"
          ],
          [
           2472,
           "Davenport Rd / McAlpine St - SMART"
          ],
          [
           2491,
           "Sunnyside Ave / The Queensway - SMART"
          ],
          [
           2208,
           "128 Sterling Ave - SMART"
          ],
          [
           509,
           "Humberside Grounds - SMART"
          ],
          [
           10396,
           "University Ave / College St (East)"
          ],
          [
           473,
           "Gerrard St E / Malvern Ave - SMART"
          ],
          [
           671,
           "Gerrard St E / Victoria Park Ave - SMART"
          ],
          [
           4082,
           "Ontario St / Adelaide St E -SMART"
          ],
          [
           3964,
           "Berkeley St / Adelaide St E - SMART"
          ],
          [
           3634,
           "Berkeley St / Dundas St E - SMART"
          ],
          [
           2740,
           "Ontario St / King St E"
          ],
          [
           18334,
           "Humber Bay Shores Park / Marine Parade Dr"
          ],
          [
           3694,
           "Amos Waites Park"
          ],
          [
           2672,
           "Superior Ave / Lake Shore Blvd W"
          ],
          [
           466,
           "Ripley Ave / Ormskirk Ave"
          ],
          [
           14500,
           "Lake Shore Blvd W / Colborne Lodge Dr"
          ],
          [
           988,
           "406 Oakwood Ave"
          ],
          [
           1141,
           "St Clarens Ave / Shirley Ave"
          ],
          [
           3310,
           "Emerson Ave / Bloor St W"
          ],
          [
           1623,
           "Wallace Ave / Pauline Ave"
          ],
          [
           7344,
           "Lynn Williams St / East Liberty St - SMART"
          ],
          [
           13072,
           "Lisgar Park"
          ],
          [
           2133,
           "Fennings St / Queen St W"
          ],
          [
           3061,
           "Bartlett Parkette"
          ],
          [
           1549,
           "Joseph J Piccininni Community Centre"
          ],
          [
           2731,
           "Spadina Rd / Austin Terrace"
          ],
          [
           790,
           "Symington Ave / Davenport Rd"
          ],
          [
           4080,
           "Sherbourne St N / Elm Ave"
          ],
          [
           4879,
           "541 Huron St - SMART"
          ],
          [
           10640,
           "Housey St / Dan Leckie Way"
          ],
          [
           10335,
           "Walnut Ave / Queen St W"
          ],
          [
           4137,
           "Wolsley St / Palmerston Ave - SMART"
          ],
          [
           6394,
           "Palmerston Ave / Dundas St W"
          ],
          [
           2272,
           "Euclid Ave / Herrick St - SMART"
          ],
          [
           1946,
           "Vaughan Rd /Wychwood Ave"
          ],
          [
           1646,
           "Davisville Ave / Pailton Cres"
          ],
          [
           2206,
           "Alvin Ave / St Clair Ave E"
          ],
          [
           1898,
           "Bellwoods Ave / Treford Pl - SMART"
          ],
          [
           15070,
           "Queen St W / John St"
          ],
          [
           8796,
           "Nassau St / Bellevue Ave"
          ],
          [
           7651,
           "Foster Pl / Elizabeth St"
          ],
          [
           6172,
           "Baldwin St / Henry St"
          ],
          [
           3890,
           "Ross St / Cecil St - SMART"
          ],
          [
           5241,
           "Orde St / McCaul St"
          ],
          [
           11367,
           "St Joseph St / Bay St - SMART"
          ],
          [
           4379,
           "439 Sherbourne St"
          ],
          [
           6738,
           "The Esplanade / Hahn Pl"
          ],
          [
           593,
           "Lake Shore Blvd W / Thirty Ninth Street"
          ],
          [
           1022,
           "Lake Shore Blvd W / Twenty Fourth St"
          ],
          [
           2369,
           "Humber College"
          ],
          [
           744,
           "Royal York Rd / Mimico Ave"
          ],
          [
           446,
           "Windsor St / Newcastle St"
          ],
          [
           1282,
           "The Queensway / High St"
          ],
          [
           1278,
           "Berry Rd / Bell Manor Dr"
          ],
          [
           938,
           "Swansea Community Centre"
          ],
          [
           530,
           "Glenwood Ave / Runnymede Rd"
          ],
          [
           1540,
           "Annette St / Jane St"
          ],
          [
           631,
           "Priscilla  Ave / Dundas St W"
          ],
          [
           1019,
           "St Clair Ave W / Castleton Ave"
          ],
          [
           611,
           "Durie St / Dundas St W"
          ],
          [
           1186,
           "St Clair Ave W / Gunns Rd"
          ],
          [
           1353,
           "Weston Rd / St Clair Ave W - SMART"
          ],
          [
           1105,
           "Weston Lions Park"
          ],
          [
           2000,
           "Jameson Ave / Queen St W"
          ],
          [
           18442,
           "Toronto Inukshuk Park"
          ],
          [
           6145,
           "Carlaw Ave / Dundas St E"
          ],
          [
           2272,
           "Highfield Rd / Gerrard St E"
          ],
          [
           683,
           "Cosburn Ave / Durant Ave"
          ],
          [
           9694,
           "Bayview Ave / Lawren Harris Square"
          ],
          [
           7569,
           "Front St E / Bayview Avenue"
          ],
          [
           5138,
           "Oak St / Sumach St"
          ],
          [
           3626,
           "Oak St / Parliament St"
          ],
          [
           1670,
           "Glebe Rd W / Yonge St"
          ],
          [
           3111,
           "Hillsdale Ave W / Yonge St"
          ],
          [
           2333,
           "High Park Ave / Dundas St W"
          ],
          [
           655,
           "Alameda Ave / Vaughan Rd - SMART"
          ],
          [
           1520,
           "Eglinton Ave W / Scarlett Rd"
          ],
          [
           2496,
           "The Pond Rd / Sentinel Rd"
          ],
          [
           1860,
           "Sentinel Rd / Finch Hydro Corridor"
          ],
          [
           1150,
           "Finch West Subway Station"
          ],
          [
           1399,
           "Dufferin St / Finch Hydro Recreational Trail"
          ],
          [
           2276,
           "G Ross Lord Park"
          ],
          [
           1837,
           "Torresdale Ave / Antibes Dr"
          ],
          [
           2073,
           "Esther Shiner Stadium"
          ],
          [
           368,
           "Elwood Blvd / Avenue Rd"
          ],
          [
           884,
           "Roehampton St / Bayview Ave"
          ],
          [
           2380,
           "Fleming Cres / Bayview Ave"
          ],
          [
           2081,
           "Moore Park"
          ],
          [
           2507,
           "Langford Ave / Danforth Ave - SMART"
          ],
          [
           447,
           "Yonge St / Golfdale Rd"
          ],
          [
           622,
           "Teddington Park Ave"
          ],
          [
           8799,
           "Richmond St W / York St"
          ],
          [
           3738,
           "Russell St / Huron St - SMART"
          ],
          [
           5437,
           "Brick Works"
          ],
          [
           659,
           "Woodbine Ave / O'Connor Dr"
          ],
          [
           951,
           "O'Connor Dr / Curity Ave - SMART"
          ],
          [
           361,
           "St Columba Pl / St Clair Ave E"
          ],
          [
           685,
           "Lumsden Ave / Eastdale Ave"
          ],
          [
           1520,
           "Dawes Rd / Taylor Creek Trl"
          ],
          [
           590,
           "Fairmount Park"
          ],
          [
           2508,
           "Wilket Creek Park"
          ],
          [
           1868,
           "Sunnybrook Park"
          ],
          [
           994,
           "Kingston Rd / Beech Ave"
          ],
          [
           1077,
           "Victoria Park Ave / Danforth Ave"
          ],
          [
           540,
           "Livingston Rd / Guildwood Pkwy"
          ],
          [
           548,
           "Livingston Rd (Highland Creek Trail)"
          ],
          [
           2149,
           "Morningside Park (Highland Creek Trail)"
          ],
          [
           1741,
           "Colonel Danforth Park"
          ],
          [
           3238,
           "Waterfront Trail (Rouge Hill)"
          ],
          [
           1153,
           "Starspray Ave / Lawrence Ave E"
          ],
          [
           1545,
           "Vaughan Rd / Oakwood Ave"
          ],
          [
           1028,
           "Braemar Ave / Eglinton Ave W"
          ],
          [
           3321,
           "Eglinton Ave E / Redpath Ave"
          ],
          [
           415,
           "Long Branch GO Station"
          ],
          [
           2196,
           "Marie Curtis Park"
          ],
          [
           3115,
           "Royal York Rd / Lake Shore Blvd W"
          ],
          [
           296,
           "Guildwood GO Station (South)"
          ],
          [
           878,
           "Yonge St / Lawrence Ave"
          ],
          [
           1445,
           "Rouge Hill GO Station"
          ],
          [
           3591,
           "Shaw St / Essex St - SMART"
          ],
          [
           1500,
           "Lundy Ave / Etienne Brule Park"
          ],
          [
           1198,
           "Twelfth St / Thirteenth St"
          ],
          [
           234,
           "Florence Gell Park"
          ],
          [
           1312,
           "Chiltern Hill Rd / Eglinton Ave W"
          ],
          [
           2260,
           "Noble St / Queen St W"
          ],
          [
           6970,
           "University Ave / Gerrard St W (WEST) - SMART"
          ],
          [
           1522,
           "Runnymede Rd / Annette St"
          ],
          [
           981,
           "Bloor St W / Riverside Ave"
          ],
          [
           883,
           "Judson St / Royal York"
          ],
          [
           2196,
           "135 Queens Wharf  - SMART"
          ],
          [
           1578,
           "Spadina Rd / St.Clair Ave West"
          ],
          [
           1238,
           "Annette St / Dundas W"
          ],
          [
           5804,
           "Yonge St / St Clair Ave"
          ],
          [
           1580,
           "Oriole Pkwy / Kilbarry Rd"
          ],
          [
           1402,
           "East Lynn Ave / Danforth Ave"
          ],
          [
           550,
           "University of Toronto Scarborough"
          ],
          [
           7141,
           "University Ave / Richmond St W"
          ],
          [
           6044,
           "Elm St/ University Ave (East Side)"
          ],
          [
           3551,
           "909 Yonge St"
          ],
          [
           1635,
           "St Clair W Subway - Heath Entrance"
          ],
          [
           2356,
           "Bloor St W / Indian Rd"
          ],
          [
           1879,
           "Bloor St W / Pacific Ave"
          ],
          [
           2575,
           "Danforth Ave / Dewhurst Blvd"
          ],
          [
           3988,
           "Bloor St W / Brock Ave"
          ],
          [
           6469,
           "1 Market St - SMART"
          ],
          [
           1813,
           "Kings Mill Park"
          ],
          [
           1416,
           "Amroth Ave / Danforth Ave"
          ],
          [
           3844,
           "285 Victoria St"
          ],
          [
           3773,
           "Beaty Ave / Queen St W"
          ],
          [
           743,
           "Kilgour Rd / Rumsey Rd"
          ],
          [
           603,
           "Sunnybrook Health Centre - L Wing"
          ],
          [
           1157,
           "Sunnybrook Health Centre - S Wing"
          ],
          [
           1943,
           "Dundas St W / St Helen Ave - SMART"
          ],
          [
           3750,
           "Spadina Ave / Sussex Ave - SMART"
          ],
          [
           7950,
           "Simcoe St / Dundas St W - SMART"
          ],
          [
           775,
           "Yonge St / Woburn Ave - SMART"
          ],
          [
           1307,
           "Yonge St / Montgomery Ave - SMART"
          ],
          [
           1175,
           "1525 Dundas St"
          ],
          [
           89,
           "York University (Glendon Campus) - SMART"
          ],
          [
           902,
           "1303 Yonge St - SMART"
          ],
          [
           136,
           "York University Station (South) - SMART"
          ],
          [
           112,
           "York University Station (North)"
          ],
          [
           480,
           "Princes Gate / Nunavut Dr"
          ],
          [
           581,
           "25 Booth Ave"
          ],
          [
           1353,
           "Bathurst St / Front St W"
          ],
          [
           460,
           "Bay St / Harbour St (West)"
          ],
          [
           351,
           "Bay St / Harbour St (East)"
          ],
          [
           189,
           "King / Brant"
          ],
          [
           157,
           "Lower Jarvis / The Esplanade"
          ],
          [
           133,
           "Bloor / Gladstone - SMART"
          ],
          [
           3,
           "High Park Blvd / Parkside Dr"
          ]
         ],
         "hovertemplate": "lat=%{lat}<br>lon=%{lon}<br>pick-up times=%{marker.color}<br>name=%{customdata[1]}<extra></extra>",
         "lat": [
          43.639832,
          43.66496415990742,
          43.667333,
          43.667158,
          43.656518,
          43.6480008,
          43.660439,
          43.658148,
          43.663376,
          43.650325,
          43.645323,
          43.642982,
          43.656026,
          43.64656,
          43.663102,
          43.64852,
          43.640978,
          43.6475076,
          43.641529,
          43.6507021,
          43.650033,
          43.653264,
          43.65049,
          43.6571,
          43.66663,
          43.671293,
          43.665527,
          43.652823,
          43.6582,
          43.66943,
          43.664088,
          43.668991,
          43.652473,
          43.645609,
          43.671389,
          43.643975,
          43.651318,
          43.6523,
          43.656094,
          43.652327224103,
          43.664467,
          43.656729,
          43.6673,
          43.63951,
          43.663722,
          43.653236,
          43.64534,
          43.657763,
          43.646144,
          43.6476,
          43.652634,
          43.647259,
          43.645859,
          43.640722,
          43.66207,
          43.662132,
          43.6458569,
          43.6637,
          43.643473,
          43.652123,
          43.6662942,
          43.659226,
          43.668456,
          43.65205,
          43.659575,
          43.662085,
          43.643795,
          43.68306889999999,
          43.649147,
          43.643667,
          43.666233,
          43.636611,
          43.640114,
          43.65003919999999,
          43.636533,
          43.640132,
          43.659777,
          43.6576,
          43.660694,
          43.688325,
          43.645599,
          43.687323,
          43.6525077,
          43.684758,
          43.683378,
          43.662712,
          43.681991,
          43.681114,
          43.680223,
          43.678401,
          43.6784834,
          43.677076,
          43.7027268,
          43.671172,
          43.667819,
          43.6512953,
          43.660207,
          43.648655,
          43.648711,
          43.6605603,
          43.656784782853144,
          43.6561111,
          43.652219,
          43.650279,
          43.652686,
          43.658777,
          43.6552778,
          43.640885,
          43.637981,
          43.665278,
          43.664524,
          43.6712581,
          43.67468857448634,
          43.648575,
          43.665867,
          43.663993,
          43.657266,
          43.641389,
          43.643834,
          43.662365,
          43.671944,
          43.672152,
          43.675492,
          43.674991,
          43.6743985,
          43.66986,
          43.670318,
          43.681944,
          43.68,
          43.63840090000001,
          43.640634,
          43.676667,
          43.675278,
          43.677778,
          43.675791,
          43.675556,
          43.674444,
          43.671513,
          43.671389,
          43.68,
          43.6394444,
          43.639444,
          43.67,
          43.6555556,
          43.6686111,
          43.661705,
          43.6638889,
          43.6666667,
          43.663808,
          43.6608333,
          43.66083333333333,
          43.6422222,
          43.64333333333333,
          43.6575,
          43.6591666666667,
          43.6622222,
          43.657424,
          43.6544444,
          43.641646,
          43.646162,
          43.6616667,
          43.6322445,
          43.635,
          43.66666667,
          43.6563889,
          43.63796,
          43.639179,
          43.6386111111111,
          43.657192,
          43.658203,
          43.6587734,
          43.6538888888889,
          43.6508333333333,
          43.651238,
          43.6544915,
          43.6366666666667,
          43.653766,
          43.6637403,
          43.661975,
          43.660414,
          43.6430555555556,
          43.690564,
          43.66,
          43.65905,
          43.6438602,
          43.6409,
          43.6563888888889,
          43.651667,
          43.635492,
          43.655,
          43.65277778,
          43.651281,
          43.649722,
          43.656296,
          43.651111111111106,
          43.6475,
          43.637381,
          43.641281,
          43.6494896,
          43.635932,
          43.6543604,
          43.637894,
          43.654501,
          43.6535269,
          43.634896,
          43.636731,
          43.6314,
          43.63710297543042,
          43.6534268,
          43.643769,
          43.646677,
          43.640255,
          43.637922,
          43.650492,
          43.660087,
          43.659471,
          43.663337,
          43.649172,
          43.663912,
          43.662403,
          43.666805,
          43.630254,
          43.6352007,
          43.633473,
          43.646552,
          43.669969,
          43.6521,
          43.654905,
          43.651145,
          43.660296,
          43.668372,
          43.665846,
          43.6461,
          43.643307,
          43.648437,
          43.6545174,
          43.6626628,
          43.638497,
          43.646688,
          43.645215,
          43.6809164,
          43.657838,
          43.671535,
          43.661324,
          43.6940155,
          43.658295,
          43.656927,
          43.655431,
          43.657024,
          43.662862,
          43.665801,
          43.668153,
          43.661803,
          43.652276,
          43.669903,
          43.6856,
          43.66587,
          43.687999,
          43.669604,
          43.668427,
          43.650152,
          43.64595,
          43.6477785,
          43.6629228,
          43.665656,
          43.661673,
          43.6224434,
          43.6308933,
          43.6451308,
          43.6614605,
          43.65906,
          43.665327,
          43.657343,
          43.645324,
          43.650256,
          43.67142,
          43.674923,
          43.665269,
          43.666224,
          43.669576,
          43.66852,
          43.662771,
          43.667208,
          43.671349,
          43.672571,
          43.669328,
          43.668633,
          43.660206,
          43.6451635,
          43.6452972,
          43.6392777,
          43.6452091,
          43.645572,
          43.671526,
          43.6741219,
          43.678077,
          43.645665,
          43.669863,
          43.69595,
          43.671561,
          43.6495789,
          43.6462176,
          43.669244,
          43.663912,
          43.668553,
          43.6720273,
          43.6753188,
          43.672453,
          43.6592088,
          43.657991,
          43.66745,
          43.637764,
          43.640757,
          43.6672144,
          43.673939,
          43.690237,
          43.689211,
          43.6848652,
          43.6783213,
          43.690537,
          43.68395,
          43.645835578756525,
          43.704461,
          43.651885,
          43.659195,
          43.682645,
          43.656945,
          43.6817346,
          43.683296,
          43.683351,
          43.673831,
          43.666325,
          43.639052,
          43.6448617,
          43.6493472,
          43.667266,
          43.7063473,
          43.645625,
          43.6509552,
          43.6487245,
          43.6476616,
          43.696708,
          43.6978701,
          43.6975969,
          43.6910667,
          43.7112153,
          43.7083577,
          43.6481303,
          43.6425636,
          43.6704537,
          43.6691099,
          43.655227,
          43.685167,
          43.6772,
          43.658938,
          43.655766,
          43.686829,
          43.694341,
          43.641952,
          43.64422,
          43.641675,
          43.70547,
          43.70942,
          43.652822,
          43.65158,
          43.65263,
          43.66834,
          43.671278,
          43.635023,
          43.6417852,
          43.66478,
          43.66402,
          43.66686,
          43.641705,
          43.648928,
          43.65988,
          43.667023,
          43.66842,
          43.638426,
          43.696479,
          43.697819,
          43.63632,
          43.636804,
          43.663162,
          43.665645,
          43.686442,
          43.633537,
          43.669813,
          43.651118,
          43.663148,
          43.676697,
          43.68114,
          43.66189,
          43.65389,
          43.63121,
          43.65716,
          43.688526,
          43.6574766,
          43.66073,
          43.673118,
          43.66908,
          43.689293,
          43.694826,
          43.697139,
          43.678285,
          43.640075,
          43.669232,
          43.664736,
          43.688148,
          43.715951,
          43.665221,
          43.651678,
          43.680466,
          43.649217,
          43.645653,
          43.651838,
          43.6462574,
          43.685569,
          43.65182,
          43.64283,
          43.6442,
          43.646734,
          43.61868,
          43.656311,
          43.643253094827294,
          43.64407,
          43.652777,
          43.665538,
          43.664182,
          43.63855,
          43.64976,
          43.65143,
          43.690111,
          43.678685,
          43.713524,
          43.716652,
          43.684261,
          43.676216,
          43.685924,
          43.656638,
          43.654074,
          43.6482995,
          43.653809,
          43.673768,
          43.6397,
          43.654004,
          43.65917,
          43.65995,
          43.685221,
          43.686962,
          43.652458,
          43.653359,
          43.658816,
          43.651814,
          43.626265,
          43.613606,
          43.6146692,
          43.6390437,
          43.63771,
          43.68827060022711,
          43.6486599,
          43.65904,
          43.6632257,
          43.638925,
          43.6423847,
          43.643945,
          43.6702236,
          43.675648,
          43.67883,
          43.6704403,
          43.6752732,
          43.670206,
          43.63811,
          43.645469,
          43.647497,
          43.651603,
          43.661559,
          43.6882821,
          43.69933,
          43.68871,
          43.65246,
          43.650077,
          43.6550458,
          43.654565,
          43.6560758,
          43.6568254,
          43.6580442,
          43.6657049,
          43.666051,
          43.649709,
          43.5927419,
          43.597082,
          43.5961692,
          43.612063,
          43.6171635,
          43.630874,
          43.63732,
          43.6438036,
          43.656845,
          43.658574,
          43.664665,
          43.668496,
          43.665523,
          43.672079,
          43.673019,
          43.698841,
          43.63985,
          43.6323994,
          43.665076,
          43.671771,
          43.6935477,
          43.6548521,
          43.6535,
          43.6617908,
          43.66081,
          43.7005976,
          43.7029672,
          43.6653032,
          43.690903,
          43.6834703,
          43.7696262,
          43.7641485,
          43.76521,
          43.7724019,
          43.7781116,
          43.77953,
          43.7774374,
          43.707049,
          43.711751,
          43.707045,
          43.693256,
          43.6800218,
          43.732016,
          43.732975,
          43.650745,
          43.660274,
          43.683884,
          43.699281,
          43.707582,
          43.70567,
          43.69413548199171,
          43.696631,
          43.6765897,
          43.720645,
          43.720233,
          43.680095,
          43.691468,
          43.747854,
          43.7561681,
          43.779353,
          43.7777114,
          43.778015,
          43.788319,
          43.6926825,
          43.7041957,
          43.7078691,
          43.591561,
          43.5880774,
          43.6029904,
          43.754978,
          43.7254665,
          43.7805505,
          43.667076,
          43.6625395,
          43.6002896,
          43.6615467,
          43.7004017,
          43.6424558,
          43.6578449,
          43.6596299,
          43.647663,
          43.6162721,
          43.6399714,
          43.6842741,
          43.6641174,
          43.68850459999999,
          43.6954486,
          43.6850809,
          43.7842419,
          43.6503935,
          43.65637299999999,
          43.67515255542865,
          43.686339,
          43.6555257,
          43.65412449999999,
          43.680207,
          43.6589882,
          43.6469928,
          43.64920406876699,
          43.6856128,
          43.656633,
          43.6393107,
          43.718039,
          43.72268,
          43.720998,
          43.6504218,
          43.66402799999999,
          43.6558557,
          43.72814640000001,
          43.7093201,
          43.64957,
          43.727365488246306,
          43.6846177,
          43.77345,
          43.7741,
          43.6334636,
          43.6544839,
          43.64134790000001,
          43.64191,
          43.64215,
          43.645102,
          43.6478206,
          43.6602021,
          43.644887
         ],
         "legendgroup": "",
         "lon": [
          -79.395954,
          -79.38355031526893,
          -79.399429,
          -79.402761,
          -79.389099,
          -79.383177,
          -79.385525,
          -79.398167,
          -79.392125,
          -79.372287,
          -79.395003,
          -79.399256,
          -79.385327,
          -79.375274,
          -79.373181,
          -79.380576,
          -79.376785,
          -79.3914841,
          -79.386741,
          -79.3800546,
          -79.396555,
          -79.382458,
          -79.3873,
          -79.4056,
          -79.38148,
          -79.380471,
          -79.387499,
          -79.393388,
          -79.3768,
          -79.38915,
          -79.387095,
          -79.379385,
          -79.401456,
          -79.380386,
          -79.382919,
          -79.419576,
          -79.36023,
          -79.4058,
          -79.381484,
          -79.3882538196087,
          -79.414783,
          -79.382736,
          -79.374,
          -79.383717,
          -79.380288,
          -79.376716,
          -79.409597,
          -79.389165,
          -79.377962,
          -79.4015,
          -79.374222,
          -79.379878,
          -79.38783,
          -79.391051,
          -79.37617,
          -79.3656796,
          -79.3853654,
          -79.400053,
          -79.390477,
          -79.367139,
          -79.4066433,
          -79.390213,
          -79.393899,
          -79.362198,
          -79.365769,
          -79.397735,
          -79.375413,
          -79.279682,
          -79.395504,
          -79.380414,
          -79.373327,
          -79.400042,
          -79.393249,
          -79.3733541,
          -79.395854,
          -79.380464,
          -79.382767,
          -79.4032,
          -79.379052,
          -79.300463,
          -79.4657123,
          -79.304848,
          -79.4654233,
          -79.316767,
          -79.322961,
          -79.379903,
          -79.329455,
          -79.3373885,
          -79.344062,
          -79.346289,
          -79.3513564,
          -79.35667,
          -79.33368089999999,
          -79.354704,
          -79.35347,
          -79.35706119999999,
          -79.361275,
          -79.367061,
          -79.389728,
          -79.3437663,
          -79.35627385059036,
          -79.36138888888888,
          -79.354455,
          -79.356832,
          -79.358395,
          -79.369596,
          -79.36583333333333,
          -79.416379,
          -79.424146,
          -79.368333,
          -79.36793,
          -79.376367,
          -79.36701962396272,
          -79.380042,
          -79.362506,
          -79.358534,
          -79.374756,
          -79.404444,
          -79.396649,
          -79.351104,
          -79.387778,
          -79.39018,
          -79.388858,
          -79.396273,
          -79.3986601,
          -79.398443,
          -79.405181,
          -79.390556,
          -79.391111,
          -79.4197107,
          -79.435841,
          -79.416111,
          -79.423889,
          -79.405556,
          -79.40698,
          -79.410278,
          -79.414722,
          -79.408317,
          -79.416389,
          -79.42500000000001,
          -79.42527777777778,
          -79.423611,
          -79.42083333333333,
          -79.43361111111112,
          -79.42027777777778,
          -79.425734,
          -79.41888888888889,
          -79.41166666666668,
          -79.410491,
          -79.43166666666667,
          -79.43583333333333,
          -79.41111111111111,
          -79.40555555555557,
          -79.39527777777778,
          -79.3855555555556,
          -79.3825,
          -79.381019,
          -79.3711111111111,
          -79.375308,
          -79.378912,
          -79.40138888888889,
          -79.4108105,
          -79.4088888888889,
          -79.45833333333334,
          -79.45166666666667,
          -79.387502,
          -79.399595,
          -79.4147222222222,
          -79.452559,
          -79.45093,
          -79.443054,
          -79.4413888888889,
          -79.4430555555556,
          -79.43868,
          -79.422634,
          -79.4197222222222,
          -79.4016759,
          -79.39806449999999,
          -79.407896,
          -79.415646,
          -79.4275,
          -79.326319,
          -79.4088888888889,
          -79.422988,
          -79.4227573,
          -79.432837,
          -79.4091666666667,
          -79.384167,
          -79.398253,
          -79.418889,
          -79.42972222,
          -79.411717,
          -79.416944,
          -79.414663,
          -79.4213888888889,
          -79.43305555555555,
          -79.406112,
          -79.409339,
          -79.393535,
          -79.465083,
          -79.4655296,
          -79.454823,
          -79.460053,
          -79.4650569,
          -79.467763,
          -79.444966,
          -79.4304,
          -79.44273081707264,
          -79.4512787,
          -79.447915,
          -79.442741,
          -79.439223,
          -79.431734,
          -79.450842,
          -79.385655,
          -79.350325,
          -79.446444,
          -79.4445087,
          -79.416124,
          -79.423098,
          -79.381288,
          -79.420317,
          -79.4187711,
          -79.425679,
          -79.406468,
          -79.386532,
          -79.4486,
          -79.398448,
          -79.423742,
          -79.397107,
          -79.393586,
          -79.404998,
          -79.3895,
          -79.402176,
          -79.39838,
          -79.3895315,
          -79.3323698,
          -79.39192,
          -79.395267,
          -79.364898,
          -79.4229684,
          -79.38631,
          -79.379173,
          -79.449534,
          -79.2889842,
          -79.372346,
          -79.378497,
          -79.380653,
          -79.377257,
          -79.383572,
          -79.384796,
          -79.38891,
          -79.389682,
          -79.380701,
          -79.387802,
          -79.3718,
          -79.33443,
          -79.38906,
          -79.381171,
          -79.38725,
          -79.379856,
          -79.378761,
          -79.3847928,
          -79.4018451,
          -79.352055,
          -79.337789,
          -79.480284,
          -79.4722622,
          -79.36536439999999,
          -79.37894570000002,
          -79.393771,
          -79.43235,
          -79.43112,
          -79.40345,
          -79.36163,
          -79.445947,
          -79.430465,
          -79.319796,
          -79.317693,
          -79.375961,
          -79.363525,
          -79.315223,
          -79.312315,
          -79.29451,
          -79.289,
          -79.288949,
          -79.291162,
          -79.3244,
          -79.3831757,
          -79.3827914,
          -79.4115736,
          -79.3960744,
          -79.39399,
          -79.44874,
          -79.4352208,
          -79.390328,
          -79.415345,
          -79.297786,
          -79.328535,
          -79.38117,
          -79.3762096,
          -79.3855048,
          -79.3894,
          -79.327987,
          -79.338673,
          -79.3470557,
          -79.3462789,
          -79.338259,
          -79.3348396,
          -79.340075,
          -79.329408,
          -79.345359,
          -79.343144,
          -79.3452697,
          -79.441159,
          -79.350119,
          -79.35438,
          -79.356602,
          -79.35822,
          -79.341307,
          -79.347046,
          -79.32088910859937,
          -79.423122,
          -79.3649,
          -79.329196,
          -79.377557,
          -79.424911,
          -79.4184725,
          -79.418734,
          -79.41562,
          -79.281455,
          -79.3014,
          -79.399792,
          -79.42822,
          -79.42668,
          -79.443946,
          -79.40161,
          -79.4004472,
          -79.3707,
          -79.36839,
          -79.37549,
          -79.40045,
          -79.39419,
          -79.39654,
          -79.39535,
          -79.39894,
          -79.39886200000001,
          -79.38632,
          -79.3762,
          -79.39014,
          -79.38551,
          -79.39201,
          -79.34962,
          -79.35858,
          -79.383518,
          -79.3802,
          -79.311073,
          -79.291416,
          -79.380723,
          -79.36927,
          -79.354006,
          -79.40355,
          -79.39139,
          -79.378208,
          -79.38655,
          -79.38766,
          -79.38235,
          -79.372127,
          -79.399505,
          -79.4131148,
          -79.45991,
          -79.46418,
          -79.46526,
          -79.393295,
          -79.378623,
          -79.38279,
          -79.401805,
          -79.410585,
          -79.429142,
          -79.394855,
          -79.38786,
          -79.47307,
          -79.408832,
          -79.309765,
          -79.304711,
          -79.313404,
          -79.437461,
          -79.3335,
          -79.369411,
          -79.347938,
          -79.445029,
          -79.4277,
          -79.42679,
          -79.4675,
          -79.41414,
          -79.46478,
          -79.412903,
          -79.373446,
          -79.47149,
          -79.318651,
          -79.3149,
          -79.295895,
          -79.295208,
          -79.31469,
          -79.347346,
          -79.414156,
          -79.374495,
          -79.377579,
          -79.362101,
          -79.351246,
          -79.394009,
          -79.375233,
          -79.432522,
          -79.465319,
          -79.464366,
          -79.378743,
          -79.3973381,
          -79.408019,
          -79.47421,
          -79.38409,
          -79.38702,
          -79.38301,
          -79.48674,
          -79.379158,
          -79.41230469904167,
          -79.3929,
          -79.372637,
          -79.451263,
          -79.449066,
          -79.46693,
          -79.48477,
          -79.47779,
          -79.292634,
          -79.297974,
          -79.400162,
          -79.399993,
          -79.299332,
          -79.309395,
          -79.376304,
          -79.358749,
          -79.398115,
          -79.3552533,
          -79.3595,
          -79.391253,
          -79.44865,
          -79.444792,
          -79.46997,
          -79.38964,
          -79.294766,
          -79.286864,
          -79.366433,
          -79.365023,
          -79.367318,
          -79.366194,
          -79.476723,
          -79.4883535,
          -79.4873148,
          -79.4760109,
          -79.458173,
          -79.43937767081853,
          -79.4376413,
          -79.44088,
          -79.4397052,
          -79.4168659,
          -79.4240277,
          -79.421189,
          -79.4360232,
          -79.4527619,
          -79.408723,
          -79.45328549999999,
          -79.3778458,
          -79.402643,
          -79.397877,
          -79.411084,
          -79.406691,
          -79.408346,
          -79.413845,
          -79.4253856,
          -79.39199,
          -79.39264,
          -79.413528,
          -79.391291,
          -79.4034475,
          -79.384679,
          -79.393259,
          -79.3966159,
          -79.3927404,
          -79.3873183,
          -79.374161,
          -79.364184,
          -79.54033009999999,
          -79.522768,
          -79.5160575,
          -79.496573,
          -79.4971065,
          -79.482407,
          -79.489083,
          -79.4770327,
          -79.478479,
          -79.487246,
          -79.489385,
          -79.485426,
          -79.484892,
          -79.470171,
          -79.467994,
          -79.519472,
          -79.43703,
          -79.40978179999999,
          -79.341509,
          -79.324961,
          -79.3301658,
          -79.35397680000001,
          -79.354068,
          -79.361515,
          -79.366238,
          -79.397345,
          -79.3979073,
          -79.4701178,
          -79.4375028,
          -79.5108942,
          -79.5025943,
          -79.5012809,
          -79.491281,
          -79.4675395,
          -79.467963,
          -79.45233,
          -79.4447096,
          -79.40966,
          -79.378615,
          -79.375437,
          -79.383238,
          -79.3405681,
          -79.403637,
          -79.40401,
          -79.383633,
          -79.398049,
          -79.36647,
          -79.318802,
          -79.311439,
          -79.310554,
          -79.30058718775287,
          -79.297436,
          -79.3163022,
          -79.355474,
          -79.362092,
          -79.291714,
          -79.288619,
          -79.199327,
          -79.2026694,
          -79.193023,
          -79.1659711,
          -79.131911,
          -79.123505,
          -79.441042,
          -79.4094472,
          -79.39248,
          -79.545827,
          -79.5432067,
          -79.4926867,
          -79.1971289,
          -79.40115449999999,
          -79.1301203,
          -79.425116,
          -79.5030161,
          -79.5108692,
          -79.498398,
          -79.4275305,
          -79.4296346,
          -79.3899265,
          -79.4799176,
          -79.487583,
          -79.4990363,
          -79.39940399999999,
          -79.4100625,
          -79.4588522,
          -79.3940052,
          -79.4026176,
          -79.3149901,
          -79.1849889,
          -79.3860211,
          -79.38781039999999,
          -79.38849615969643,
          -79.4152162,
          -79.45738940000001,
          -79.4636388,
          -79.339243,
          -79.438715,
          -79.3706665,
          -79.49336334201408,
          -79.31168269999999,
          -79.379625,
          -79.4408141,
          -79.371914,
          -79.37644,
          -79.377456,
          -79.4407647,
          -79.40297869999999,
          -79.3894093,
          -79.4032194,
          -79.3996301,
          -79.432446,
          -79.3814254607724,
          -79.39245919999999,
          -79.5002,
          -79.5005,
          -79.4143057,
          -79.34105699999999,
          -79.4013882,
          -79.378325,
          -79.377,
          -79.39744979999999,
          -79.3704721,
          -79.4342726,
          -79.45641169999999
         ],
         "marker": {
          "color": [
           20472,
           11517,
           14543,
           7396,
           4702,
           6057,
           18892,
           14849,
           7005,
           7808,
           4707,
           10654,
           9586,
           10759,
           12197,
           5139,
           26937,
           17034,
           12640,
           5602,
           10524,
           9795,
           13322,
           7470,
           6779,
           7464,
           11430,
           14931,
           11502,
           8761,
           19754,
           6926,
           7943,
           14500,
           8814,
           8280,
           4286,
           14668,
           16783,
           4265,
           7264,
           8235,
           15808,
           19382,
           12921,
           9497,
           9805,
           9939,
           5431,
           19208,
           2594,
           5986,
           5040,
           11229,
           9299,
           4589,
           4886,
           5244,
           12661,
           13108,
           10542,
           6326,
           10621,
           3774,
           9729,
           9532,
           7696,
           772,
           7502,
           3670,
           3036,
           15250,
           10371,
           5804,
           12457,
           35437,
           7850,
           17526,
           14094,
           2072,
           3703,
           1484,
           4913,
           1680,
           3429,
           16078,
           3854,
           2352,
           1927,
           3652,
           3189,
           5092,
           2159,
           5339,
           7214,
           7104,
           20667,
           6658,
           12438,
           6730,
           12167,
           2622,
           3239,
           3066,
           5357,
           5212,
           5282,
           8439,
           2562,
           7338,
           8829,
           7919,
           3251,
           5093,
           7562,
           4328,
           19779,
           2968,
           2367,
           6114,
           10101,
           4017,
           2057,
           6149,
           3641,
           6040,
           3999,
           2835,
           2799,
           5685,
           3420,
           1482,
           2374,
           3045,
           4184,
           1797,
           1395,
           4191,
           2988,
           3130,
           2157,
           8625,
           3632,
           4516,
           3116,
           5390,
           9924,
           5703,
           5788,
           4378,
           2264,
           5590,
           11411,
           5242,
           7056,
           13112,
           10037,
           4899,
           21957,
           4473,
           3928,
           27530,
           6539,
           3090,
           3472,
           25826,
           9143,
           11100,
           2969,
           3477,
           4005,
           1323,
           2264,
           3602,
           4752,
           2770,
           8174,
           8321,
           6568,
           5200,
           7032,
           1792,
           4730,
           2726,
           4839,
           3566,
           13665,
           5931,
           25234,
           10025,
           4884,
           5225,
           13244,
           4981,
           2952,
           2202,
           10133,
           8718,
           14964,
           14131,
           1990,
           10915,
           2029,
           3084,
           6962,
           14544,
           15659,
           2317,
           1401,
           4349,
           2265,
           3086,
           3235,
           3463,
           13001,
           7442,
           3406,
           2264,
           8188,
           9083,
           3748,
           26374,
           2730,
           1679,
           7624,
           14189,
           2047,
           10343,
           1413,
           8600,
           7017,
           11900,
           14831,
           9102,
           7934,
           10207,
           3548,
           11445,
           13809,
           26356,
           1431,
           12521,
           9618,
           2575,
           614,
           4450,
           1975,
           9602,
           4244,
           9158,
           9501,
           10819,
           5287,
           9365,
           6872,
           3052,
           2363,
           1497,
           8466,
           13815,
           8133,
           4615,
           6286,
           9436,
           4459,
           3376,
           15716,
           15179,
           7224,
           9685,
           7914,
           3571,
           2241,
           11829,
           10533,
           760,
           2063,
           1916,
           1879,
           13636,
           3928,
           4048,
           2734,
           759,
           1044,
           3520,
           2891,
           3048,
           4303,
           7612,
           6195,
           4968,
           16687,
           1667,
           1777,
           2620,
           6408,
           2037,
           716,
           3506,
           8543,
           3434,
           6032,
           2663,
           5046,
           1992,
           2423,
           1590,
           1244,
           3392,
           2743,
           18144,
           4816,
           3809,
           1046,
           2493,
           1855,
           2384,
           2419,
           2045,
           1126,
           19424,
           3475,
           4274,
           15272,
           1630,
           2809,
           2047,
           5358,
           2121,
           1407,
           4036,
           8159,
           2172,
           5161,
           3015,
           671,
           8968,
           5840,
           4658,
           8063,
           3527,
           2221,
           3151,
           3774,
           2101,
           3963,
           12266,
           10680,
           7851,
           9381,
           5760,
           1608,
           5829,
           16900,
           11566,
           592,
           438,
           8367,
           20047,
           6656,
           1513,
           2461,
           11675,
           3331,
           3723,
           12684,
           3526,
           15761,
           7295,
           1458,
           1895,
           1396,
           7858,
           6024,
           16841,
           7592,
           3890,
           2988,
           2196,
           3181,
           1042,
           5257,
           12572,
           4195,
           2034,
           22530,
           1775,
           7520,
           2944,
           1599,
           3691,
           4224,
           1695,
           12579,
           2541,
           2124,
           4940,
           624,
           2782,
           1230,
           853,
           908,
           1186,
           4558,
           4176,
           6668,
           6864,
           6198,
           3485,
           8004,
           8907,
           2971,
           1725,
           4872,
           15113,
           8528,
           2688,
           2931,
           14823,
           6480,
           4475,
           1403,
           4918,
           6770,
           10637,
           6640,
           2347,
           618,
           2032,
           1847,
           1819,
           917,
           1135,
           1100,
           1013,
           958,
           1403,
           1835,
           5943,
           9239,
           13628,
           1530,
           2472,
           2491,
           2208,
           509,
           10396,
           473,
           671,
           4082,
           3964,
           3634,
           2740,
           18334,
           3694,
           2672,
           466,
           14500,
           988,
           1141,
           3310,
           1623,
           7344,
           13072,
           2133,
           3061,
           1549,
           2731,
           790,
           4080,
           4879,
           10640,
           10335,
           4137,
           6394,
           2272,
           1946,
           1646,
           2206,
           1898,
           15070,
           8796,
           7651,
           6172,
           3890,
           5241,
           11367,
           4379,
           6738,
           593,
           1022,
           2369,
           744,
           446,
           1282,
           1278,
           938,
           530,
           1540,
           631,
           1019,
           611,
           1186,
           1353,
           1105,
           2000,
           18442,
           6145,
           2272,
           683,
           9694,
           7569,
           5138,
           3626,
           1670,
           3111,
           2333,
           655,
           1520,
           2496,
           1860,
           1150,
           1399,
           2276,
           1837,
           2073,
           368,
           884,
           2380,
           2081,
           2507,
           447,
           622,
           8799,
           3738,
           5437,
           659,
           951,
           361,
           685,
           1520,
           590,
           2508,
           1868,
           994,
           1077,
           540,
           548,
           2149,
           1741,
           3238,
           1153,
           1545,
           1028,
           3321,
           415,
           2196,
           3115,
           296,
           878,
           1445,
           3591,
           1500,
           1198,
           234,
           1312,
           2260,
           6970,
           1522,
           981,
           883,
           2196,
           1578,
           1238,
           5804,
           1580,
           1402,
           550,
           7141,
           6044,
           3551,
           1635,
           2356,
           1879,
           2575,
           3988,
           6469,
           1813,
           1416,
           3844,
           3773,
           743,
           603,
           1157,
           1943,
           3750,
           7950,
           775,
           1307,
           1175,
           89,
           902,
           136,
           112,
           480,
           581,
           1353,
           460,
           351,
           189,
           157,
           133,
           3
          ],
          "coloraxis": "coloraxis"
         },
         "mode": "markers",
         "name": "",
         "showlegend": false,
         "subplot": "mapbox",
         "type": "scattermapbox"
        }
       ],
       "layout": {
        "coloraxis": {
         "colorbar": {
          "title": {
           "text": "pick-up times"
          }
         },
         "colorscale": [
          [
           0,
           "rgb(12,51,131)"
          ],
          [
           0.25,
           "rgb(10,136,186)"
          ],
          [
           0.5,
           "rgb(242,211,56)"
          ],
          [
           0.75,
           "rgb(242,143,56)"
          ],
          [
           1,
           "rgb(217,30,30)"
          ]
         ]
        },
        "legend": {
         "tracegroupgap": 0
        },
        "mapbox": {
         "center": {
          "lat": 43.66473632919204,
          "lon": -79.39342928034333
         },
         "domain": {
          "x": [
           0,
           1
          ],
          "y": [
           0,
           1
          ]
         },
         "style": "open-street-map",
         "zoom": 10
        },
        "template": {
         "data": {
          "bar": [
           {
            "error_x": {
             "color": "#2a3f5f"
            },
            "error_y": {
             "color": "#2a3f5f"
            },
            "marker": {
             "line": {
              "color": "#E5ECF6",
              "width": 0.5
             },
             "pattern": {
              "fillmode": "overlay",
              "size": 10,
              "solidity": 0.2
             }
            },
            "type": "bar"
           }
          ],
          "barpolar": [
           {
            "marker": {
             "line": {
              "color": "#E5ECF6",
              "width": 0.5
             },
             "pattern": {
              "fillmode": "overlay",
              "size": 10,
              "solidity": 0.2
             }
            },
            "type": "barpolar"
           }
          ],
          "carpet": [
           {
            "aaxis": {
             "endlinecolor": "#2a3f5f",
             "gridcolor": "white",
             "linecolor": "white",
             "minorgridcolor": "white",
             "startlinecolor": "#2a3f5f"
            },
            "baxis": {
             "endlinecolor": "#2a3f5f",
             "gridcolor": "white",
             "linecolor": "white",
             "minorgridcolor": "white",
             "startlinecolor": "#2a3f5f"
            },
            "type": "carpet"
           }
          ],
          "choropleth": [
           {
            "colorbar": {
             "outlinewidth": 0,
             "ticks": ""
            },
            "type": "choropleth"
           }
          ],
          "contour": [
           {
            "colorbar": {
             "outlinewidth": 0,
             "ticks": ""
            },
            "colorscale": [
             [
              0,
              "#0d0887"
             ],
             [
              0.1111111111111111,
              "#46039f"
             ],
             [
              0.2222222222222222,
              "#7201a8"
             ],
             [
              0.3333333333333333,
              "#9c179e"
             ],
             [
              0.4444444444444444,
              "#bd3786"
             ],
             [
              0.5555555555555556,
              "#d8576b"
             ],
             [
              0.6666666666666666,
              "#ed7953"
             ],
             [
              0.7777777777777778,
              "#fb9f3a"
             ],
             [
              0.8888888888888888,
              "#fdca26"
             ],
             [
              1,
              "#f0f921"
             ]
            ],
            "type": "contour"
           }
          ],
          "contourcarpet": [
           {
            "colorbar": {
             "outlinewidth": 0,
             "ticks": ""
            },
            "type": "contourcarpet"
           }
          ],
          "heatmap": [
           {
            "colorbar": {
             "outlinewidth": 0,
             "ticks": ""
            },
            "colorscale": [
             [
              0,
              "#0d0887"
             ],
             [
              0.1111111111111111,
              "#46039f"
             ],
             [
              0.2222222222222222,
              "#7201a8"
             ],
             [
              0.3333333333333333,
              "#9c179e"
             ],
             [
              0.4444444444444444,
              "#bd3786"
             ],
             [
              0.5555555555555556,
              "#d8576b"
             ],
             [
              0.6666666666666666,
              "#ed7953"
             ],
             [
              0.7777777777777778,
              "#fb9f3a"
             ],
             [
              0.8888888888888888,
              "#fdca26"
             ],
             [
              1,
              "#f0f921"
             ]
            ],
            "type": "heatmap"
           }
          ],
          "heatmapgl": [
           {
            "colorbar": {
             "outlinewidth": 0,
             "ticks": ""
            },
            "colorscale": [
             [
              0,
              "#0d0887"
             ],
             [
              0.1111111111111111,
              "#46039f"
             ],
             [
              0.2222222222222222,
              "#7201a8"
             ],
             [
              0.3333333333333333,
              "#9c179e"
             ],
             [
              0.4444444444444444,
              "#bd3786"
             ],
             [
              0.5555555555555556,
              "#d8576b"
             ],
             [
              0.6666666666666666,
              "#ed7953"
             ],
             [
              0.7777777777777778,
              "#fb9f3a"
             ],
             [
              0.8888888888888888,
              "#fdca26"
             ],
             [
              1,
              "#f0f921"
             ]
            ],
            "type": "heatmapgl"
           }
          ],
          "histogram": [
           {
            "marker": {
             "pattern": {
              "fillmode": "overlay",
              "size": 10,
              "solidity": 0.2
             }
            },
            "type": "histogram"
           }
          ],
          "histogram2d": [
           {
            "colorbar": {
             "outlinewidth": 0,
             "ticks": ""
            },
            "colorscale": [
             [
              0,
              "#0d0887"
             ],
             [
              0.1111111111111111,
              "#46039f"
             ],
             [
              0.2222222222222222,
              "#7201a8"
             ],
             [
              0.3333333333333333,
              "#9c179e"
             ],
             [
              0.4444444444444444,
              "#bd3786"
             ],
             [
              0.5555555555555556,
              "#d8576b"
             ],
             [
              0.6666666666666666,
              "#ed7953"
             ],
             [
              0.7777777777777778,
              "#fb9f3a"
             ],
             [
              0.8888888888888888,
              "#fdca26"
             ],
             [
              1,
              "#f0f921"
             ]
            ],
            "type": "histogram2d"
           }
          ],
          "histogram2dcontour": [
           {
            "colorbar": {
             "outlinewidth": 0,
             "ticks": ""
            },
            "colorscale": [
             [
              0,
              "#0d0887"
             ],
             [
              0.1111111111111111,
              "#46039f"
             ],
             [
              0.2222222222222222,
              "#7201a8"
             ],
             [
              0.3333333333333333,
              "#9c179e"
             ],
             [
              0.4444444444444444,
              "#bd3786"
             ],
             [
              0.5555555555555556,
              "#d8576b"
             ],
             [
              0.6666666666666666,
              "#ed7953"
             ],
             [
              0.7777777777777778,
              "#fb9f3a"
             ],
             [
              0.8888888888888888,
              "#fdca26"
             ],
             [
              1,
              "#f0f921"
             ]
            ],
            "type": "histogram2dcontour"
           }
          ],
          "mesh3d": [
           {
            "colorbar": {
             "outlinewidth": 0,
             "ticks": ""
            },
            "type": "mesh3d"
           }
          ],
          "parcoords": [
           {
            "line": {
             "colorbar": {
              "outlinewidth": 0,
              "ticks": ""
             }
            },
            "type": "parcoords"
           }
          ],
          "pie": [
           {
            "automargin": true,
            "type": "pie"
           }
          ],
          "scatter": [
           {
            "marker": {
             "colorbar": {
              "outlinewidth": 0,
              "ticks": ""
             }
            },
            "type": "scatter"
           }
          ],
          "scatter3d": [
           {
            "line": {
             "colorbar": {
              "outlinewidth": 0,
              "ticks": ""
             }
            },
            "marker": {
             "colorbar": {
              "outlinewidth": 0,
              "ticks": ""
             }
            },
            "type": "scatter3d"
           }
          ],
          "scattercarpet": [
           {
            "marker": {
             "colorbar": {
              "outlinewidth": 0,
              "ticks": ""
             }
            },
            "type": "scattercarpet"
           }
          ],
          "scattergeo": [
           {
            "marker": {
             "colorbar": {
              "outlinewidth": 0,
              "ticks": ""
             }
            },
            "type": "scattergeo"
           }
          ],
          "scattergl": [
           {
            "marker": {
             "colorbar": {
              "outlinewidth": 0,
              "ticks": ""
             }
            },
            "type": "scattergl"
           }
          ],
          "scattermapbox": [
           {
            "marker": {
             "colorbar": {
              "outlinewidth": 0,
              "ticks": ""
             }
            },
            "type": "scattermapbox"
           }
          ],
          "scatterpolar": [
           {
            "marker": {
             "colorbar": {
              "outlinewidth": 0,
              "ticks": ""
             }
            },
            "type": "scatterpolar"
           }
          ],
          "scatterpolargl": [
           {
            "marker": {
             "colorbar": {
              "outlinewidth": 0,
              "ticks": ""
             }
            },
            "type": "scatterpolargl"
           }
          ],
          "scatterternary": [
           {
            "marker": {
             "colorbar": {
              "outlinewidth": 0,
              "ticks": ""
             }
            },
            "type": "scatterternary"
           }
          ],
          "surface": [
           {
            "colorbar": {
             "outlinewidth": 0,
             "ticks": ""
            },
            "colorscale": [
             [
              0,
              "#0d0887"
             ],
             [
              0.1111111111111111,
              "#46039f"
             ],
             [
              0.2222222222222222,
              "#7201a8"
             ],
             [
              0.3333333333333333,
              "#9c179e"
             ],
             [
              0.4444444444444444,
              "#bd3786"
             ],
             [
              0.5555555555555556,
              "#d8576b"
             ],
             [
              0.6666666666666666,
              "#ed7953"
             ],
             [
              0.7777777777777778,
              "#fb9f3a"
             ],
             [
              0.8888888888888888,
              "#fdca26"
             ],
             [
              1,
              "#f0f921"
             ]
            ],
            "type": "surface"
           }
          ],
          "table": [
           {
            "cells": {
             "fill": {
              "color": "#EBF0F8"
             },
             "line": {
              "color": "white"
             }
            },
            "header": {
             "fill": {
              "color": "#C8D4E3"
             },
             "line": {
              "color": "white"
             }
            },
            "type": "table"
           }
          ]
         },
         "layout": {
          "annotationdefaults": {
           "arrowcolor": "#2a3f5f",
           "arrowhead": 0,
           "arrowwidth": 1
          },
          "autotypenumbers": "strict",
          "coloraxis": {
           "colorbar": {
            "outlinewidth": 0,
            "ticks": ""
           }
          },
          "colorscale": {
           "diverging": [
            [
             0,
             "#8e0152"
            ],
            [
             0.1,
             "#c51b7d"
            ],
            [
             0.2,
             "#de77ae"
            ],
            [
             0.3,
             "#f1b6da"
            ],
            [
             0.4,
             "#fde0ef"
            ],
            [
             0.5,
             "#f7f7f7"
            ],
            [
             0.6,
             "#e6f5d0"
            ],
            [
             0.7,
             "#b8e186"
            ],
            [
             0.8,
             "#7fbc41"
            ],
            [
             0.9,
             "#4d9221"
            ],
            [
             1,
             "#276419"
            ]
           ],
           "sequential": [
            [
             0,
             "#0d0887"
            ],
            [
             0.1111111111111111,
             "#46039f"
            ],
            [
             0.2222222222222222,
             "#7201a8"
            ],
            [
             0.3333333333333333,
             "#9c179e"
            ],
            [
             0.4444444444444444,
             "#bd3786"
            ],
            [
             0.5555555555555556,
             "#d8576b"
            ],
            [
             0.6666666666666666,
             "#ed7953"
            ],
            [
             0.7777777777777778,
             "#fb9f3a"
            ],
            [
             0.8888888888888888,
             "#fdca26"
            ],
            [
             1,
             "#f0f921"
            ]
           ],
           "sequentialminus": [
            [
             0,
             "#0d0887"
            ],
            [
             0.1111111111111111,
             "#46039f"
            ],
            [
             0.2222222222222222,
             "#7201a8"
            ],
            [
             0.3333333333333333,
             "#9c179e"
            ],
            [
             0.4444444444444444,
             "#bd3786"
            ],
            [
             0.5555555555555556,
             "#d8576b"
            ],
            [
             0.6666666666666666,
             "#ed7953"
            ],
            [
             0.7777777777777778,
             "#fb9f3a"
            ],
            [
             0.8888888888888888,
             "#fdca26"
            ],
            [
             1,
             "#f0f921"
            ]
           ]
          },
          "colorway": [
           "#636efa",
           "#EF553B",
           "#00cc96",
           "#ab63fa",
           "#FFA15A",
           "#19d3f3",
           "#FF6692",
           "#B6E880",
           "#FF97FF",
           "#FECB52"
          ],
          "font": {
           "color": "#2a3f5f"
          },
          "geo": {
           "bgcolor": "white",
           "lakecolor": "white",
           "landcolor": "#E5ECF6",
           "showlakes": true,
           "showland": true,
           "subunitcolor": "white"
          },
          "hoverlabel": {
           "align": "left"
          },
          "hovermode": "closest",
          "mapbox": {
           "style": "light"
          },
          "paper_bgcolor": "white",
          "plot_bgcolor": "#E5ECF6",
          "polar": {
           "angularaxis": {
            "gridcolor": "white",
            "linecolor": "white",
            "ticks": ""
           },
           "bgcolor": "#E5ECF6",
           "radialaxis": {
            "gridcolor": "white",
            "linecolor": "white",
            "ticks": ""
           }
          },
          "scene": {
           "xaxis": {
            "backgroundcolor": "#E5ECF6",
            "gridcolor": "white",
            "gridwidth": 2,
            "linecolor": "white",
            "showbackground": true,
            "ticks": "",
            "zerolinecolor": "white"
           },
           "yaxis": {
            "backgroundcolor": "#E5ECF6",
            "gridcolor": "white",
            "gridwidth": 2,
            "linecolor": "white",
            "showbackground": true,
            "ticks": "",
            "zerolinecolor": "white"
           },
           "zaxis": {
            "backgroundcolor": "#E5ECF6",
            "gridcolor": "white",
            "gridwidth": 2,
            "linecolor": "white",
            "showbackground": true,
            "ticks": "",
            "zerolinecolor": "white"
           }
          },
          "shapedefaults": {
           "line": {
            "color": "#2a3f5f"
           }
          },
          "ternary": {
           "aaxis": {
            "gridcolor": "white",
            "linecolor": "white",
            "ticks": ""
           },
           "baxis": {
            "gridcolor": "white",
            "linecolor": "white",
            "ticks": ""
           },
           "bgcolor": "#E5ECF6",
           "caxis": {
            "gridcolor": "white",
            "linecolor": "white",
            "ticks": ""
           }
          },
          "title": {
           "x": 0.05
          },
          "xaxis": {
           "automargin": true,
           "gridcolor": "white",
           "linecolor": "white",
           "ticks": "",
           "title": {
            "standoff": 15
           },
           "zerolinecolor": "white",
           "zerolinewidth": 2
          },
          "yaxis": {
           "automargin": true,
           "gridcolor": "white",
           "linecolor": "white",
           "ticks": "",
           "title": {
            "standoff": 15
           },
           "zerolinecolor": "white",
           "zerolinewidth": 2
          }
         }
        },
        "title": {
         "text": "Most Popular Pick-up Stations 2021"
        }
       }
      },
      "text/html": [
       "<div>                            <div id=\"f604ab16-0996-454a-9adf-cc911d1e1bb1\" class=\"plotly-graph-div\" style=\"height:525px; width:100%;\"></div>            <script type=\"text/javascript\">                require([\"plotly\"], function(Plotly) {                    window.PLOTLYENV=window.PLOTLYENV || {};                                    if (document.getElementById(\"f604ab16-0996-454a-9adf-cc911d1e1bb1\")) {                    Plotly.newPlot(                        \"f604ab16-0996-454a-9adf-cc911d1e1bb1\",                        [{\"customdata\":[[20472,\"Fort York  Blvd / Capreol Ct\"],[11517,\"Wellesley Station Green P\"],[14543,\"St. George St / Bloor St W\"],[7396,\"Madison Ave / Bloor St W\"],[4702,\"University Ave / Elm St\"],[6057,\"King St W / York St\"],[18892,\"Bay St / College St (East Side)\"],[14849,\"College St / Huron St\"],[7005,\"Wellesley St / Queen's Park Cres\"],[7808,\"King St E / Jarvis St\"],[4707,\"King St W / Spadina Ave\"],[10654,\"Wellington St W / Portland St\"],[9586,\"Elizabeth St / Edward St (Bus Terminal)\"],[10759,\"Scott St / The Esplanade\"],[12197,\"Sherbourne St / Carlton St (Allan Gardens)\"],[5139,\"King St W / Bay St (West Side)\"],[26937,\"Bay St / Queens Quay W (Ferry Terminal)\"],[17034,\"Widmer St / Adelaide St W\"],[12640,\"Bremner Blvd / Rees St\"],[5602,\"Temperance St. Station\"],[10524,\"Phoebe St / Spadina Ave\"],[9795,\"Bay St / Albert St\"],[13322,\"Simcoe St / Queen St W\"],[7470,\"College St / Borden St\"],[6779,\"Dundonald St / Church St\"],[7464,\"Ted Rogers Way / Bloor St E\"],[11430,\"Bay St / St. Joseph St\"],[14931,\"Beverley  St / Dundas St W\"],[11502,\"Gould St / Mutual St\"],[8761,\"Bay St / Bloor St W (East Side)\"],[19754,\"Bay St / Wellesley St W\"],[6926,\"Jarvis St / Isabella St\"],[7943,\"Augusta Ave / Dundas St W\"],[14500,\"Union Station\"],[8814,\"Church St / Bloor St E\"],[8280,\"Queen St W / Ossington Ave\"],[4286,\"Trinity St /Front St E\"],[14668,\"Bathurst St / Dundas St W\"],[16783,\"Dundas St W / Yonge St\"],[4265,\"Simcoe St / Michael Sweet Ave\"],[7264,\"Euclid Ave / Bloor St W\"],[8235,\"Edward St / Yonge St\"],[15808,\"Sherbourne St / Wellesley St E\"],[19382,\"Queens Quay W / Lower Simcoe St\"],[12921,\"Church St / Alexander St\"],[9497,\"Bond St / Queen St E\"],[9805,\"Niagara St / Richmond St W\"],[9939,\"University Ave / Gerrard St W (East Side)\"],[5431,\"Front St W / Yonge St (Hockey Hall of Fame)\"],[19208,\"Queen St W / Portland St\"],[2594,\"Richmond St E / Jarvis St Green P\"],[5986,\"Wellington St W / Bay St\"],[5040,\"Metro Hall Plaza\"],[11229,\"Navy Wharf Ct. / Bremner Blvd.\"],[9299,\"Jarvis St / Carlton St\"],[4589,\"Parliament St / Gerrard St\"],[4886,\"Simcoe St / Wellington St South\"],[5244,\"Huron/ Harbord St\"],[12661,\"Front St W / Blue Jays Way\"],[13108,\"Princess St / Adelaide St E\"],[10542,\"Dalton Rd / Bloor St W\"],[6326,\"University Ave / College St (West)\"],[10621,\"Queen's Park / Bloor St W\"],[3774,\"51 Parliament St\"],[9729,\"Dundas St E / Parliament St\"],[9532,\"Willcocks St / St. George St\"],[7696,\"Yonge St / Harbour St\"],[772,\"Blantyre Park\"],[7502,\"Queen St W / Spadina Ave\"],[3670,\"25 York St \\u2013 Union Station South\"],[3036,\"161 Bleecker St (South of Wellesley)\"],[15250,\"Fleet St / Bathurst St\"],[10371,\"Spadina Ave / Fort York Blvd\"],[5804,\"King St E / Church St\"],[12457,\"Queens Quay W / Dan Leckie Way\"],[35437,\"York St / Queens Quay W\"],[7850,\"College Park South\"],[17526,\"College St / Major St\"],[14094,\"McGill St / Church St\"],[2072,\"Danforth Ave / Barrington Ave\"],[3703,\"High Park - Grenadier Cafe\"],[1484,\"Danforth Ave / Westlake Ave\"],[4913,\"High Park - West Rd\"],[1680,\"Danforth Ave / Aldridge Ave\"],[3429,\"Danforth Ave / Coxwell Ave\"],[16078,\"Church St  / Wood St\"],[3854,\"Danforth Ave / Lamb Ave\"],[2352,\"Donlands Station\"],[1927,\"Pape Subway Green P\"],[3652,\"Danforth Ave / Gough Ave\"],[3189,\"Chester Station\"],[5092,\"Danforth Ave / Ellerbeck St\"],[2159,\"Lower Don River Trail and Taylor Creek Trail\"],[5339,\"Riverdale Park North (Broadview Ave)\"],[7214,\"Riverdale Park South (Broadview Ave)\"],[7104,\"Cherry St / Mill St\"],[20667,\"Dundas St E / Regent Park Blvd\"],[6658,\"Lower Sherbourne St / The Esplanade\"],[12438,\"Nelson St / Duncan St\"],[6730,\"Jimmie Simpson Park (Queen St E)\"],[12167,\"King St E / River St\"],[2622,\"Queen St E / Sackville St\"],[3239,\"Mill St / Tannery Rd\"],[3066,\"Cherry St / Distillery Ln\"],[5357,\"Front St E / Cherry St\"],[5212,\"Seaton St / Dundas St E - SMART\"],[5282,\"Queen St E / Berkeley St\"],[8439,\"King St W / Douro St\"],[2562,\"Liberty St / Fraser Ave Green P\"],[7338,\"Parliament St / Aberdeen Ave\"],[8829,\"Carlton St / Parliament St\"],[7919,\"Howard St / Sherbourne St\"],[3251,\"640 Bloor Street E\"],[5093,\"King St W / Bay St (East Side)\"],[7562,\"Sumach St / Carlton St. (Riverdale Farm)\"],[4328,\"Gerrard St E / River St\"],[19779,\"Jarvis St / Dundas St E\"],[2968,\"Niagara St / Tecumseth St\"],[2367,\"424 Wellington St W\"],[6114,\"Dundas St E / Broadview Ave\"],[10101,\"Yonge St / Yorkville Ave\"],[4017,\"Bay St / Scollard St\"],[2057,\"Yonge St / Aylmer Ave\"],[6149,\"Davenport Rd / Avenue Rd\"],[3641,\"Davenport Rd / Bedford Rd\"],[6040,\"Taddle Creek Park\"],[3999,\"Kendal Ave / Spadina Rd\"],[2835,\"Summerhill Station\"],[2799,\"Marlborough Ave / Yonge St\"],[5685,\"Hanna Ave / Liberty St\"],[3420,\"Queen St W / Close Ave\"],[1482,\"Davenport Rd / Bathurst St\"],[2374,\"Davenport Rd / Christie St\"],[3045,\"Glen Edyth Dr / Davenport Rd\"],[4184,\"Macpherson Ave / Spadina Rd\"],[1797,\"Bridgeman Ave / Kendal Ave\"],[1395,\"Bridgeman Ave / Bathurst St\"],[4191,\"Kendal Ave / Bernard Ave\"],[2988,\"Palmerston Ave / Vermont Ave\"],[3130,\"Christie St / Benson Ave (Wychwood Barns)\"],[2157,\"King St W / Fraser Ave\"],[8625,\"King St W / Joe Shuster Way\"],[3632,\"Yarmouth Rd / Christie St\"],[4516,\"Dufferin St / Sylvan Av (Dufferin Grove Park)\"],[3116,\"Essex St / Christie St - SMART\"],[5390,\"Ossington Ave / Bloor St W\"],[9924,\"Bloor St W / Christie St\"],[5703,\"Bathurst Subway Station\"],[5788,\"Bathurst St / Lennox St\"],[4378,\"Salem Ave / Bloor St W\"],[2264,\"Dufferin St / Bloor St\"],[5590,\"King St W / Stafford St\"],[11411,\"King St W / Tecumseth St\"],[5242,\"Beverley St / College St\"],[7056,\"Hayter St / Laplante Ave\"],[13112,\"Yonge St / Wood St\"],[10037,\"Gould St / Yonge St (Ryerson University)\"],[4899,\"Queen St E / George St (Moss Park)\"],[21957,\"Queens Quay / Yonge St\"],[4473,\"Front St W / Bay St (North Side)\"],[3928,\"Spadina Ave / Willcocks St\"],[27530,\"Ontario Place Blvd / Lake Shore Blvd W (East)\"],[6539,\"Strachan Ave / Princes' Blvd\"],[3090,\"Cariboo St / Rail Path\"],[3472,\"Bloor St W / Dundas St W\"],[25826,\"HTO Park (Queens Quay W)\"],[9143,\"Bathurst St / Fort York Blvd\"],[11100,\"East Liberty St / Pirandello St\"],[2969,\"Dundas St W / Edna Ave\"],[3477,\"Bloor GO / UP Station (West Toronto Railpath)\"],[4005,\"Lansdowne Subway Station\"],[1323,\"Lansdowne Ave / Whytock Ave\"],[2264,\"Sterling Rd / Dundas St W\"],[3602,\"St Clarens Ave / College St\"],[4752,\"Ossington Ave / College St\"],[2770,\"Exhibition GO (Atlantic Ave)\"],[8174,\"Augusta Ave / Denison Sq\"],[8321,\"St. George St / Hoskin Ave\"],[6568,\"Central Tech  (Harbord St)\"],[5200,\"Harbord St / Clinton St\"],[7032,\"Queen St W / Gladstone Ave\"],[1792,\"Mortimer Ave / Coxwell Ave\"],[4730,\"Ulster St / Bathurst St\"],[2726,\"Roxton Rd / Harbord St\"],[4839,\"Queen St W / Dovercourt Rd\"],[3566,\"Queen St W / Cowan Ave\"],[13665,\"College St / Markham St\"],[5931,\"Queen St W / York St (City Hall)\"],[25234,\"Bathurst St/Queens Quay(Billy Bishop Airport)\"],[10025,\"College St / Crawford St\"],[4884,\"Rusholme Park Cres / College St\"],[5225,\"Claremont St / Dundas St W\"],[13244,\"Dundas St W / Crawford St\"],[4981,\"80 Clinton St (North of College)\"],[2952,\"Ossington Ave / Harrison St\"],[2202,\"Mary McCormick Rec Centre (Sheridan Ave)\"],[10133,\"Fort York Blvd / Garrison Rd\"],[8718,\"Wellington St W / Stafford St\"],[14964,\"Soho St / Queen St W\"],[14131,\"Lake Shore Blvd W / Ellis Ave\"],[1990,\"High Park Subway Station\"],[10915,\"Sunnyside - Gus Ryder Pool\"],[2029,\"Parkside Dr / Bloor St W - SMART\"],[3084,\"Bloor St W / High Park Ave (High Park)\"],[6962,\"Lake Shore Blvd W / Windermere Ave\"],[14544,\"Lake Shore Blvd W / The Boulevard Club\"],[15659,\"Martin Goodman Trail (Marilyn Bell Park)\"],[2317,\"Queen St W / Roncesvalles Ave\"],[1401,\"Dundas St W / Roncesvalles Green P - SMART\"],[4349,\"Garden Ave / Roncesvalles Ave\"],[2265,\"Wright / Sorauren (Sorauren Park) - SMART\"],[3086,\"Queen St W  /  Fuller Ave - SMART\"],[3235,\"King / Cowan Ave - SMART\"],[3463,\"Roncesvalles Ave / Marmaduke St\"],[13001,\"Bay St / College St (West Side) - SMART\"],[7442,\"Thompson St / Broadview Ave - SMART\"],[3406,\"Ward Ave / Wallace Ave\"],[2264,\"Sorauren/Geoffrey (Sorauren Park) - SMART\"],[8188,\"Bloor St W / Manning Ave - SMART\"],[9083,\"Bloor St W / Shaw Ave - SMART\"],[3748,\"519 Church St - SMART\"],[26374,\"Lake Shore Blvd W / Ontario Dr\"],[2730,\"Exhibition GO Station\"],[1679,\"Dufferin Gate - SMART\"],[7624,\"Tecumseth St / Queen St W - SMART\"],[14189,\"Yonge St / Bloor St\"],[2047,\"Howard Park Ave / Dundas St W - SMART\"],[10343,\"Baldwin Ave / Spadina Ave - SMART\"],[1413,\"Dovercourt Rd / Harrison St (Green P) - SMART\"],[8600,\"St. George St / Russell St - SMART\"],[7017,\"The Royal Ontario Museum (Bloor St Entrance)\"],[11900,\"Robert St / Bloor St W - SMART\"],[14831,\"John St  / Mercer St - SMART\"],[9102,\"Stewart St / Bathurst St  - SMART\"],[7934,\"Vanauley St / Queen St W - SMART\"],[10207,\"Dundas St W / St. Patrick St\"],[3548,\"Queen St E / Rushbrooke Ave\"],[11445,\"Lower Spadina Ave / Lake Shore Blvd\"],[13809,\"Spadina Ave / Adelaide St W\"],[26356,\"Queens Quay E / Lower Sherbourne St\"],[1431,\"Wychwood Ave / Benson Ave - SMART\"],[12521,\"Walton St / Elizabeth St - SMART\"],[9618,\"Bloor St E / Huntley St - SMART\"],[2575,\"Wallace Ave / Symington Ave - SMART\"],[614,\"Victoria Park Subway Station - SMART\"],[4450,\"Dundas St E / Pembroke St - SMART\"],[1975,\"111 Bond St (North of Dundas St E)  - SMART\"],[9602,\"Toronto Eaton Centre (Yonge St)\"],[4244,\"Church St / Dundas St E - SMART\"],[9158,\"Yonge St / Alexander St - SMART\"],[9501,\"Yonge St / Dundonald St - SMART\"],[10819,\"Bay St / Charles St - SMART\"],[5287,\"Queen's Park Cres E / Grosvenor St - SMART\"],[9365,\"Queen St W / James St\"],[6872,\"Bloor St W / Balmuto St\"],[3052,\"Chorley Park - SMART\"],[2363,\"Mallon Ave / Jones Ave -SMART\"],[1497,\"Rosehill Ave / Avoca Ave - SMART\"],[8466,\"Charles St E / Jarvis St - SMART\"],[13815,\"Charles St W / Balmuto St - SMART\"],[8133,\"Adelaide St W / Bay St - SMART\"],[4615,\"Front St W / Bay St (South Side)\"],[6286,\"University Ave / King St W - SMART\"],[9436,\"Spadina Ave / Harbord St - SMART\"],[4459,\"Gerrard St E / Broadview - SMART\"],[3376,\"Queen St E / Pape Ave - SMART\"],[15716,\"Humber Bay Shores Park West\"],[15179,\"Humber Bay Shores Park East\"],[7224,\"190 Queens Quay E\"],[9685,\"Granby St / Church St - SMART\"],[7914,\"College St / McCaul St\"],[3571,\"Westmoreland Ave / Fernbank Ave\"],[2241,\"Havelock St / Dufferin Park\"],[11829,\"Bathurst St / Adelaide St W\"],[10533,\"Mill St / Parliament St\"],[760,\"Primrose Ave / Davenport Rd\"],[2063,\"Winona Dr / Davenport Rd\"],[1916,\"Queen St E / Woodward Ave\"],[1879,\"Queen St. E / Rhodes Ave.\"],[13636,\"Sherbourne St / Isabella St\"],[3928,\"Amelia St. / Sumach St.\"],[4048,\"Coxwell Ave /  Lake Shore Blvd E\"],[2734,\"Queen St. E / Eastern Ave\"],[759,\"Queen St E / Hammersmith Ave\"],[1044,\"Queen St. E / Spruce Hill Rd.\"],[3520,\"Hubbard Blvd / Balsam Av\"],[2891,\"Hubbard Blvd. / Glen Manor Dr.\"],[3048,\"Lake Shore Blvd E / Knox Ave\"],[4303,\"Front St W / University Ave (1)\"],[7612,\"Front St W / University Ave (2)\"],[6195,\"E Liberty St / Western Battery Rd\"],[4968,\"457 King St. W. at Spadina\"],[16687,\"King St W / Charlotte St (West Side)\"],[1667,\"Davenport Rd / Lansdowne Ave\"],[1777,\"Davenport Rd / Oakwood Rd - SMART\"],[2620,\"Roxborough St W / Yonge St\"],[6408,\"Crawford St / Queen St W\"],[2037,\"Lee Ave / Queen St E\"],[716,\"Coxwell Ave / Plains Rd\"],[3506,\"200 Bloor St. E.\"],[8543,\"King St E / Victoria St\"],[3434,\"Simcoe St / Wellington St North\"],[6032,\"Bay St / Bloor St W (West Side)\"],[2663,\"Queen St E / Alton Av\"],[5046,\"Gerrard Square Mall (1010 Gerrard St E)\"],[1992,\"Logan Ave / Bain Ave\"],[2423,\"Carlaw Ave / Strathcona Ave\"],[1590,\"Blake St / Boultbee Ave\"],[1244,\"Eastern Ave / Winnifred Ave\"],[3392,\"Morse St / Eastern Ave\"],[2743,\"Alton Ave / Dundas St E (Greenwood Park)\"],[18144,\"Cherry Beach\"],[4816,\"Cherry Beach Sports Field (55 Unwin Ave)\"],[3809,\"Logan Av / Gerrard St E\"],[1046,\"Regal Rd / Dufferin St\"],[2493,\"Pape Ave / Gamble Ave\"],[1855,\"Gamble Ave / Broadview Ave\"],[2384,\"Broadview Ave / Westwood Ave\"],[2419,\"Pretoria Av / Broadview Av\"],[2045,\"Cosburn Ave / Donlands Ave\"],[1126,\"Fulton Ave / Pape Ave\"],[19424,\"Tommy Thompson Park (Leslie Street Spit)\"],[3475,\"Beltline Trail / Chaplin Cres.\"],[4274,\"King St E / Ontario St.\"],[15272,\"Lake Shore Blvd E / Leslie St\"],[1630,\"Rosedale Park (20 Schofield Ave)\"],[2809,\"Concord Av / Dewson St\"],[2047,\"Hocken Ave./Vaughan Rd.\"],[5358,\"St Clair Ave W / Bathurst St.\"],[2121,\"Wells Hill Ave / St Clair Ave W\"],[1407,\"Queen St E / Nursewood Rd (Neville Park Loop)\"],[4036,\"Kew Beach Ave / Kenilworth Ave\"],[8159,\"Fort York Blvd / Bathurst St SMART\"],[2172,\"Alma Ave / Gladstone Ave SMART\"],[5161,\"Lisgar St / Dundas St SMART\"],[3015,\"Dupont St / Emerson Ave SMART\"],[671,\"Eglinton Ave W / Henning Ave SMART\"],[8968,\"Adelaide St W / Portland St\"],[5840,\"George St / King St E\"],[4658,\"Frederick St / The Esplanade\"],[8063,\"Front St E / Scott St\"],[3527,\"Frobisher Ave / Lascelles Blvd\"],[2221,\"Balliol St / Yonge St  SMART\"],[3151,\"Yonge St / Davisville Ave\"],[3774,\"Lawton Blvd / Yonge St\"],[2101,\"Erskine Ave / Yonge St SMART\"],[3963,\"Yonge St / Orchard View Blvd\"],[12266,\"Simcoe St / Adelaide St W\"],[10680,\"12 Harbour St\"],[7851,\"Cumberland Ave / Bay St SMART\"],[9381,\"20 Charles St E\"],[5760,\"D'Arcy St. /McCaul St. SMART\"],[1608,\"Mortimer Ave / Carlaw Ave SMART\"],[5829,\"Broadview Ave / Danforth Ave\"],[16900,\"College Park- Gerrard Entrance\"],[11566,\"Yonge St / Dundas Sq\"],[592,\"Woodbine Subway Green P SMART\"],[438,\"Dentonia Park\"],[8367,\"York St / Lakeshore St W - South\"],[20047,\"Lower Jarvis / Queens Quay E\"],[6656,\"Polson Pier\"],[1513,\"Lascelles Blvd / Eglinton Ave W\"],[2461,\"Roehampton Ave / Mount Pleasant Rd\"],[11675,\"Victoria St / Queen St E\"],[3331,\"University Ave / Queen St W\"],[3723,\"University Ave / Armoury St\"],[12684,\"Isabella St / Church St\"],[3526,\"Howard St / Rose Ave\"],[15761,\"Little Norway Park\"],[7295,\"King St W / Crawford St\"],[1458,\"Dundas St W / Watkinson Ave\"],[1895,\"Keele St / Annette St\"],[1396,\"Keele St / Vine Ave\"],[7858,\"Spadina Ave / Blue Jays Way\"],[6024,\"King St W / Jordan St\"],[16841,\"College Park - Yonge St Entrance\"],[7592,\"Bloor St W / Huron St\"],[3890,\"Barton St / Howland St - SMART\"],[2988,\"Tyndall Ave / King St W - SMART\"],[2196,\"Merton St / Al Green Ln\"],[3181,\"Merton St / Mount Pleasant Rd\"],[1042,\"The Queensway at South Kingsway\"],[5257,\"Fleet St / Garrison Rd (Fort York)\"],[12572,\"Northern Dancer Blvd / Lake Shore Blvd E\"],[4195,\"Woodbine Ave / Lake Shore Blvd E\"],[2034,\"Woodbine Subway Station\"],[22530,\"Marilyn Bell Park Tennis Court\"],[1775,\"Gerrard St E / Leslie St\"],[7520,\"Frederick St / King St E\"],[2944,\"Dundas St E / Boulton Ave - SMART\"],[1599,\"Via Italia / Mackay Ave\"],[3691,\"Rushton Rd / St Clair Ave W\"],[4224,\"Concord Ave / Bloor St W\"],[1695,\"High Park Subway\"],[12579,\"Martin Goodman Trail / Ontario Dr\"],[2541,\"Pacific Ave / Glenlake Ave\"],[2124,\"Lonsdale Rd / Spadina Rd\"],[4940,\"Dundas St E / George St\"],[624,\"Clendenan Ave / Rowland St - SMART\"],[2782,\"Eastwood Rd / Coxwell Ave\"],[1230,\"Orchard Park\"],[853,\"Trent Ave / Danforth Ave\"],[908,\"Goodwood Park Ct / Dentonia Park\"],[1186,\"Cosburn Ave / Cedarvale Ave\"],[4558,\"Carlaw Ave / Danforth Ave\"],[4176,\"Western Battery Rd / Pirandello St\"],[6668,\"Bleecker St / St James Ave\"],[6864,\"Jarvis St / Maitland Pl\"],[6198,\"Pottery Rd / Lower Don River Trail\"],[3485,\"E.T. Seton Park (Eglinton Ave E / Leslie St)\"],[8004,\"Queen's Park Cres W / Hoskin Ave\"],[8907,\"Church St / Lombard St\"],[2971,\"St Clair Ave W / Winona Ave\"],[1725,\"High Park Outdoor Pool\"],[4872,\"High Park Amphitheatre\"],[15113,\"Richmond St E / Yonge St\"],[8528,\"Adelaide St W / Brant St\"],[2688,\"Russell Hill Rd / St Clair Ave W\"],[2931,\"Glendonwynne Ave / Bloor St W\"],[14823,\"Lower Simcoe St / Bremner Blvd\"],[6480,\"Front St / Simcoe St\"],[4475,\"Wellington St W / York St\"],[1403,\"Lake Shore Blvd W / Louisa St\"],[4918,\"Dundas St E / Victoria St\"],[6770,\"Adelaide St W / Strachan Ave\"],[10637,\"Clarence Square\"],[6640,\"Jarvis St / Richmond St E\"],[2347,\"Symington Ave / Dupont St\"],[618,\"Antler St / Campbell Ave - SMART\"],[2032,\"Ellis Ave / The Queensway\"],[1847,\"Jane St / Bloor St W (Jane Subway Station)\"],[1819,\"Neil McLellan Park\"],[917,\"Danforth Ave / Sibley Ave\"],[1135,\"Southwood Dr / Kingston Rd - SMART\"],[1100,\"Briar Hill Ave / Yonge St - SMART\"],[1013,\"Blythwood Rd / Yonge St - SMART\"],[958,\"Gerrard St E / Ted Reeve Dr\"],[1403,\"Eastwood Rd / Woodbine Ave - SMART\"],[1835,\"Summerhill Ave / Maclennan Ave\"],[5943,\"Sumach St  / Queen St E\"],[9239,\"D'Arcy St / Spadina Ave - SMART\"],[13628,\"324 Cherry St\"],[1530,\"Sackville St / Eastern Ave - SMART\"],[2472,\"Davenport Rd / McAlpine St - SMART\"],[2491,\"Sunnyside Ave / The Queensway - SMART\"],[2208,\"128 Sterling Ave - SMART\"],[509,\"Humberside Grounds - SMART\"],[10396,\"University Ave / College St (East)\"],[473,\"Gerrard St E / Malvern Ave - SMART\"],[671,\"Gerrard St E / Victoria Park Ave - SMART\"],[4082,\"Ontario St / Adelaide St E -SMART\"],[3964,\"Berkeley St / Adelaide St E - SMART\"],[3634,\"Berkeley St / Dundas St E - SMART\"],[2740,\"Ontario St / King St E\"],[18334,\"Humber Bay Shores Park / Marine Parade Dr\"],[3694,\"Amos Waites Park\"],[2672,\"Superior Ave / Lake Shore Blvd W\"],[466,\"Ripley Ave / Ormskirk Ave\"],[14500,\"Lake Shore Blvd W / Colborne Lodge Dr\"],[988,\"406 Oakwood Ave\"],[1141,\"St Clarens Ave / Shirley Ave\"],[3310,\"Emerson Ave / Bloor St W\"],[1623,\"Wallace Ave / Pauline Ave\"],[7344,\"Lynn Williams St / East Liberty St - SMART\"],[13072,\"Lisgar Park\"],[2133,\"Fennings St / Queen St W\"],[3061,\"Bartlett Parkette\"],[1549,\"Joseph J Piccininni Community Centre\"],[2731,\"Spadina Rd / Austin Terrace\"],[790,\"Symington Ave / Davenport Rd\"],[4080,\"Sherbourne St N / Elm Ave\"],[4879,\"541 Huron St - SMART\"],[10640,\"Housey St / Dan Leckie Way\"],[10335,\"Walnut Ave / Queen St W\"],[4137,\"Wolsley St / Palmerston Ave - SMART\"],[6394,\"Palmerston Ave / Dundas St W\"],[2272,\"Euclid Ave / Herrick St - SMART\"],[1946,\"Vaughan Rd /Wychwood Ave\"],[1646,\"Davisville Ave / Pailton Cres\"],[2206,\"Alvin Ave / St Clair Ave E\"],[1898,\"Bellwoods Ave / Treford Pl - SMART\"],[15070,\"Queen St W / John St\"],[8796,\"Nassau St / Bellevue Ave\"],[7651,\"Foster Pl / Elizabeth St\"],[6172,\"Baldwin St / Henry St\"],[3890,\"Ross St / Cecil St - SMART\"],[5241,\"Orde St / McCaul St\"],[11367,\"St Joseph St / Bay St - SMART\"],[4379,\"439 Sherbourne St\"],[6738,\"The Esplanade / Hahn Pl\"],[593,\"Lake Shore Blvd W / Thirty Ninth Street\"],[1022,\"Lake Shore Blvd W / Twenty Fourth St\"],[2369,\"Humber College\"],[744,\"Royal York Rd / Mimico Ave\"],[446,\"Windsor St / Newcastle St\"],[1282,\"The Queensway / High St\"],[1278,\"Berry Rd / Bell Manor Dr\"],[938,\"Swansea Community Centre\"],[530,\"Glenwood Ave / Runnymede Rd\"],[1540,\"Annette St / Jane St\"],[631,\"Priscilla  Ave / Dundas St W\"],[1019,\"St Clair Ave W / Castleton Ave\"],[611,\"Durie St / Dundas St W\"],[1186,\"St Clair Ave W / Gunns Rd\"],[1353,\"Weston Rd / St Clair Ave W - SMART\"],[1105,\"Weston Lions Park\"],[2000,\"Jameson Ave / Queen St W\"],[18442,\"Toronto Inukshuk Park\"],[6145,\"Carlaw Ave / Dundas St E\"],[2272,\"Highfield Rd / Gerrard St E\"],[683,\"Cosburn Ave / Durant Ave\"],[9694,\"Bayview Ave / Lawren Harris Square\"],[7569,\"Front St E / Bayview Avenue\"],[5138,\"Oak St / Sumach St\"],[3626,\"Oak St / Parliament St\"],[1670,\"Glebe Rd W / Yonge St\"],[3111,\"Hillsdale Ave W / Yonge St\"],[2333,\"High Park Ave / Dundas St W\"],[655,\"Alameda Ave / Vaughan Rd - SMART\"],[1520,\"Eglinton Ave W / Scarlett Rd\"],[2496,\"The Pond Rd / Sentinel Rd\"],[1860,\"Sentinel Rd / Finch Hydro Corridor\"],[1150,\"Finch West Subway Station\"],[1399,\"Dufferin St / Finch Hydro Recreational Trail\"],[2276,\"G Ross Lord Park\"],[1837,\"Torresdale Ave / Antibes Dr\"],[2073,\"Esther Shiner Stadium\"],[368,\"Elwood Blvd / Avenue Rd\"],[884,\"Roehampton St / Bayview Ave\"],[2380,\"Fleming Cres / Bayview Ave\"],[2081,\"Moore Park\"],[2507,\"Langford Ave / Danforth Ave - SMART\"],[447,\"Yonge St / Golfdale Rd\"],[622,\"Teddington Park Ave\"],[8799,\"Richmond St W / York St\"],[3738,\"Russell St / Huron St - SMART\"],[5437,\"Brick Works\"],[659,\"Woodbine Ave / O'Connor Dr\"],[951,\"O'Connor Dr / Curity Ave - SMART\"],[361,\"St Columba Pl / St Clair Ave E\"],[685,\"Lumsden Ave / Eastdale Ave\"],[1520,\"Dawes Rd / Taylor Creek Trl\"],[590,\"Fairmount Park\"],[2508,\"Wilket Creek Park\"],[1868,\"Sunnybrook Park\"],[994,\"Kingston Rd / Beech Ave\"],[1077,\"Victoria Park Ave / Danforth Ave\"],[540,\"Livingston Rd / Guildwood Pkwy\"],[548,\"Livingston Rd (Highland Creek Trail)\"],[2149,\"Morningside Park (Highland Creek Trail)\"],[1741,\"Colonel Danforth Park\"],[3238,\"Waterfront Trail (Rouge Hill)\"],[1153,\"Starspray Ave / Lawrence Ave E\"],[1545,\"Vaughan Rd / Oakwood Ave\"],[1028,\"Braemar Ave / Eglinton Ave W\"],[3321,\"Eglinton Ave E / Redpath Ave\"],[415,\"Long Branch GO Station\"],[2196,\"Marie Curtis Park\"],[3115,\"Royal York Rd / Lake Shore Blvd W\"],[296,\"Guildwood GO Station (South)\"],[878,\"Yonge St / Lawrence Ave\"],[1445,\"Rouge Hill GO Station\"],[3591,\"Shaw St / Essex St - SMART\"],[1500,\"Lundy Ave / Etienne Brule Park\"],[1198,\"Twelfth St / Thirteenth St\"],[234,\"Florence Gell Park\"],[1312,\"Chiltern Hill Rd / Eglinton Ave W\"],[2260,\"Noble St / Queen St W\"],[6970,\"University Ave / Gerrard St W (WEST) - SMART\"],[1522,\"Runnymede Rd / Annette St\"],[981,\"Bloor St W / Riverside Ave\"],[883,\"Judson St / Royal York\"],[2196,\"135 Queens Wharf  - SMART\"],[1578,\"Spadina Rd / St.Clair Ave West\"],[1238,\"Annette St / Dundas W\"],[5804,\"Yonge St / St Clair Ave\"],[1580,\"Oriole Pkwy / Kilbarry Rd\"],[1402,\"East Lynn Ave / Danforth Ave\"],[550,\"University of Toronto Scarborough\"],[7141,\"University Ave / Richmond St W\"],[6044,\"Elm St/ University Ave (East Side)\"],[3551,\"909 Yonge St\"],[1635,\"St Clair W Subway - Heath Entrance\"],[2356,\"Bloor St W / Indian Rd\"],[1879,\"Bloor St W / Pacific Ave\"],[2575,\"Danforth Ave / Dewhurst Blvd\"],[3988,\"Bloor St W / Brock Ave\"],[6469,\"1 Market St - SMART\"],[1813,\"Kings Mill Park\"],[1416,\"Amroth Ave / Danforth Ave\"],[3844,\"285 Victoria St\"],[3773,\"Beaty Ave / Queen St W\"],[743,\"Kilgour Rd / Rumsey Rd\"],[603,\"Sunnybrook Health Centre - L Wing\"],[1157,\"Sunnybrook Health Centre - S Wing\"],[1943,\"Dundas St W / St Helen Ave - SMART\"],[3750,\"Spadina Ave / Sussex Ave - SMART\"],[7950,\"Simcoe St / Dundas St W - SMART\"],[775,\"Yonge St / Woburn Ave - SMART\"],[1307,\"Yonge St / Montgomery Ave - SMART\"],[1175,\"1525 Dundas St\"],[89,\"York University (Glendon Campus) - SMART\"],[902,\"1303 Yonge St - SMART\"],[136,\"York University Station (South) - SMART\"],[112,\"York University Station (North)\"],[480,\"Princes Gate / Nunavut Dr\"],[581,\"25 Booth Ave\"],[1353,\"Bathurst St / Front St W\"],[460,\"Bay St / Harbour St (West)\"],[351,\"Bay St / Harbour St (East)\"],[189,\"King / Brant\"],[157,\"Lower Jarvis / The Esplanade\"],[133,\"Bloor / Gladstone - SMART\"],[3,\"High Park Blvd / Parkside Dr\"]],\"hovertemplate\":\"lat=%{lat}<br>lon=%{lon}<br>pick-up times=%{marker.color}<br>name=%{customdata[1]}<extra></extra>\",\"lat\":[43.639832,43.66496415990742,43.667333,43.667158,43.656518,43.6480008,43.660439,43.658148,43.663376,43.650325,43.645323,43.642982,43.656026,43.64656,43.663102,43.64852,43.640978,43.6475076,43.641529,43.6507021,43.650033,43.653264,43.65049,43.6571,43.66663,43.671293,43.665527,43.652823,43.6582,43.66943,43.664088,43.668991,43.652473,43.645609,43.671389,43.643975,43.651318,43.6523,43.656094,43.652327224103,43.664467,43.656729,43.6673,43.63951,43.663722,43.653236,43.64534,43.657763,43.646144,43.6476,43.652634,43.647259,43.645859,43.640722,43.66207,43.662132,43.6458569,43.6637,43.643473,43.652123,43.6662942,43.659226,43.668456,43.65205,43.659575,43.662085,43.643795,43.68306889999999,43.649147,43.643667,43.666233,43.636611,43.640114,43.65003919999999,43.636533,43.640132,43.659777,43.6576,43.660694,43.688325,43.645599,43.687323,43.6525077,43.684758,43.683378,43.662712,43.681991,43.681114,43.680223,43.678401,43.6784834,43.677076,43.7027268,43.671172,43.667819,43.6512953,43.660207,43.648655,43.648711,43.6605603,43.656784782853144,43.6561111,43.652219,43.650279,43.652686,43.658777,43.6552778,43.640885,43.637981,43.665278,43.664524,43.6712581,43.67468857448634,43.648575,43.665867,43.663993,43.657266,43.641389,43.643834,43.662365,43.671944,43.672152,43.675492,43.674991,43.6743985,43.66986,43.670318,43.681944,43.68,43.63840090000001,43.640634,43.676667,43.675278,43.677778,43.675791,43.675556,43.674444,43.671513,43.671389,43.68,43.6394444,43.639444,43.67,43.6555556,43.6686111,43.661705,43.6638889,43.6666667,43.663808,43.6608333,43.66083333333333,43.6422222,43.64333333333333,43.6575,43.6591666666667,43.6622222,43.657424,43.6544444,43.641646,43.646162,43.6616667,43.6322445,43.635,43.66666667,43.6563889,43.63796,43.639179,43.6386111111111,43.657192,43.658203,43.6587734,43.6538888888889,43.6508333333333,43.651238,43.6544915,43.6366666666667,43.653766,43.6637403,43.661975,43.660414,43.6430555555556,43.690564,43.66,43.65905,43.6438602,43.6409,43.6563888888889,43.651667,43.635492,43.655,43.65277778,43.651281,43.649722,43.656296,43.651111111111106,43.6475,43.637381,43.641281,43.6494896,43.635932,43.6543604,43.637894,43.654501,43.6535269,43.634896,43.636731,43.6314,43.63710297543042,43.6534268,43.643769,43.646677,43.640255,43.637922,43.650492,43.660087,43.659471,43.663337,43.649172,43.663912,43.662403,43.666805,43.630254,43.6352007,43.633473,43.646552,43.669969,43.6521,43.654905,43.651145,43.660296,43.668372,43.665846,43.6461,43.643307,43.648437,43.6545174,43.6626628,43.638497,43.646688,43.645215,43.6809164,43.657838,43.671535,43.661324,43.6940155,43.658295,43.656927,43.655431,43.657024,43.662862,43.665801,43.668153,43.661803,43.652276,43.669903,43.6856,43.66587,43.687999,43.669604,43.668427,43.650152,43.64595,43.6477785,43.6629228,43.665656,43.661673,43.6224434,43.6308933,43.6451308,43.6614605,43.65906,43.665327,43.657343,43.645324,43.650256,43.67142,43.674923,43.665269,43.666224,43.669576,43.66852,43.662771,43.667208,43.671349,43.672571,43.669328,43.668633,43.660206,43.6451635,43.6452972,43.6392777,43.6452091,43.645572,43.671526,43.6741219,43.678077,43.645665,43.669863,43.69595,43.671561,43.6495789,43.6462176,43.669244,43.663912,43.668553,43.6720273,43.6753188,43.672453,43.6592088,43.657991,43.66745,43.637764,43.640757,43.6672144,43.673939,43.690237,43.689211,43.6848652,43.6783213,43.690537,43.68395,43.645835578756525,43.704461,43.651885,43.659195,43.682645,43.656945,43.6817346,43.683296,43.683351,43.673831,43.666325,43.639052,43.6448617,43.6493472,43.667266,43.7063473,43.645625,43.6509552,43.6487245,43.6476616,43.696708,43.6978701,43.6975969,43.6910667,43.7112153,43.7083577,43.6481303,43.6425636,43.6704537,43.6691099,43.655227,43.685167,43.6772,43.658938,43.655766,43.686829,43.694341,43.641952,43.64422,43.641675,43.70547,43.70942,43.652822,43.65158,43.65263,43.66834,43.671278,43.635023,43.6417852,43.66478,43.66402,43.66686,43.641705,43.648928,43.65988,43.667023,43.66842,43.638426,43.696479,43.697819,43.63632,43.636804,43.663162,43.665645,43.686442,43.633537,43.669813,43.651118,43.663148,43.676697,43.68114,43.66189,43.65389,43.63121,43.65716,43.688526,43.6574766,43.66073,43.673118,43.66908,43.689293,43.694826,43.697139,43.678285,43.640075,43.669232,43.664736,43.688148,43.715951,43.665221,43.651678,43.680466,43.649217,43.645653,43.651838,43.6462574,43.685569,43.65182,43.64283,43.6442,43.646734,43.61868,43.656311,43.643253094827294,43.64407,43.652777,43.665538,43.664182,43.63855,43.64976,43.65143,43.690111,43.678685,43.713524,43.716652,43.684261,43.676216,43.685924,43.656638,43.654074,43.6482995,43.653809,43.673768,43.6397,43.654004,43.65917,43.65995,43.685221,43.686962,43.652458,43.653359,43.658816,43.651814,43.626265,43.613606,43.6146692,43.6390437,43.63771,43.68827060022711,43.6486599,43.65904,43.6632257,43.638925,43.6423847,43.643945,43.6702236,43.675648,43.67883,43.6704403,43.6752732,43.670206,43.63811,43.645469,43.647497,43.651603,43.661559,43.6882821,43.69933,43.68871,43.65246,43.650077,43.6550458,43.654565,43.6560758,43.6568254,43.6580442,43.6657049,43.666051,43.649709,43.5927419,43.597082,43.5961692,43.612063,43.6171635,43.630874,43.63732,43.6438036,43.656845,43.658574,43.664665,43.668496,43.665523,43.672079,43.673019,43.698841,43.63985,43.6323994,43.665076,43.671771,43.6935477,43.6548521,43.6535,43.6617908,43.66081,43.7005976,43.7029672,43.6653032,43.690903,43.6834703,43.7696262,43.7641485,43.76521,43.7724019,43.7781116,43.77953,43.7774374,43.707049,43.711751,43.707045,43.693256,43.6800218,43.732016,43.732975,43.650745,43.660274,43.683884,43.699281,43.707582,43.70567,43.69413548199171,43.696631,43.6765897,43.720645,43.720233,43.680095,43.691468,43.747854,43.7561681,43.779353,43.7777114,43.778015,43.788319,43.6926825,43.7041957,43.7078691,43.591561,43.5880774,43.6029904,43.754978,43.7254665,43.7805505,43.667076,43.6625395,43.6002896,43.6615467,43.7004017,43.6424558,43.6578449,43.6596299,43.647663,43.6162721,43.6399714,43.6842741,43.6641174,43.68850459999999,43.6954486,43.6850809,43.7842419,43.6503935,43.65637299999999,43.67515255542865,43.686339,43.6555257,43.65412449999999,43.680207,43.6589882,43.6469928,43.64920406876699,43.6856128,43.656633,43.6393107,43.718039,43.72268,43.720998,43.6504218,43.66402799999999,43.6558557,43.72814640000001,43.7093201,43.64957,43.727365488246306,43.6846177,43.77345,43.7741,43.6334636,43.6544839,43.64134790000001,43.64191,43.64215,43.645102,43.6478206,43.6602021,43.644887],\"legendgroup\":\"\",\"lon\":[-79.395954,-79.38355031526893,-79.399429,-79.402761,-79.389099,-79.383177,-79.385525,-79.398167,-79.392125,-79.372287,-79.395003,-79.399256,-79.385327,-79.375274,-79.373181,-79.380576,-79.376785,-79.3914841,-79.386741,-79.3800546,-79.396555,-79.382458,-79.3873,-79.4056,-79.38148,-79.380471,-79.387499,-79.393388,-79.3768,-79.38915,-79.387095,-79.379385,-79.401456,-79.380386,-79.382919,-79.419576,-79.36023,-79.4058,-79.381484,-79.3882538196087,-79.414783,-79.382736,-79.374,-79.383717,-79.380288,-79.376716,-79.409597,-79.389165,-79.377962,-79.4015,-79.374222,-79.379878,-79.38783,-79.391051,-79.37617,-79.3656796,-79.3853654,-79.400053,-79.390477,-79.367139,-79.4066433,-79.390213,-79.393899,-79.362198,-79.365769,-79.397735,-79.375413,-79.279682,-79.395504,-79.380414,-79.373327,-79.400042,-79.393249,-79.3733541,-79.395854,-79.380464,-79.382767,-79.4032,-79.379052,-79.300463,-79.4657123,-79.304848,-79.4654233,-79.316767,-79.322961,-79.379903,-79.329455,-79.3373885,-79.344062,-79.346289,-79.3513564,-79.35667,-79.33368089999999,-79.354704,-79.35347,-79.35706119999999,-79.361275,-79.367061,-79.389728,-79.3437663,-79.35627385059036,-79.36138888888888,-79.354455,-79.356832,-79.358395,-79.369596,-79.36583333333333,-79.416379,-79.424146,-79.368333,-79.36793,-79.376367,-79.36701962396272,-79.380042,-79.362506,-79.358534,-79.374756,-79.404444,-79.396649,-79.351104,-79.387778,-79.39018,-79.388858,-79.396273,-79.3986601,-79.398443,-79.405181,-79.390556,-79.391111,-79.4197107,-79.435841,-79.416111,-79.423889,-79.405556,-79.40698,-79.410278,-79.414722,-79.408317,-79.416389,-79.42500000000001,-79.42527777777778,-79.423611,-79.42083333333333,-79.43361111111112,-79.42027777777778,-79.425734,-79.41888888888889,-79.41166666666668,-79.410491,-79.43166666666667,-79.43583333333333,-79.41111111111111,-79.40555555555557,-79.39527777777778,-79.3855555555556,-79.3825,-79.381019,-79.3711111111111,-79.375308,-79.378912,-79.40138888888889,-79.4108105,-79.4088888888889,-79.45833333333334,-79.45166666666667,-79.387502,-79.399595,-79.4147222222222,-79.452559,-79.45093,-79.443054,-79.4413888888889,-79.4430555555556,-79.43868,-79.422634,-79.4197222222222,-79.4016759,-79.39806449999999,-79.407896,-79.415646,-79.4275,-79.326319,-79.4088888888889,-79.422988,-79.4227573,-79.432837,-79.4091666666667,-79.384167,-79.398253,-79.418889,-79.42972222,-79.411717,-79.416944,-79.414663,-79.4213888888889,-79.43305555555555,-79.406112,-79.409339,-79.393535,-79.465083,-79.4655296,-79.454823,-79.460053,-79.4650569,-79.467763,-79.444966,-79.4304,-79.44273081707264,-79.4512787,-79.447915,-79.442741,-79.439223,-79.431734,-79.450842,-79.385655,-79.350325,-79.446444,-79.4445087,-79.416124,-79.423098,-79.381288,-79.420317,-79.4187711,-79.425679,-79.406468,-79.386532,-79.4486,-79.398448,-79.423742,-79.397107,-79.393586,-79.404998,-79.3895,-79.402176,-79.39838,-79.3895315,-79.3323698,-79.39192,-79.395267,-79.364898,-79.4229684,-79.38631,-79.379173,-79.449534,-79.2889842,-79.372346,-79.378497,-79.380653,-79.377257,-79.383572,-79.384796,-79.38891,-79.389682,-79.380701,-79.387802,-79.3718,-79.33443,-79.38906,-79.381171,-79.38725,-79.379856,-79.378761,-79.3847928,-79.4018451,-79.352055,-79.337789,-79.480284,-79.4722622,-79.36536439999999,-79.37894570000002,-79.393771,-79.43235,-79.43112,-79.40345,-79.36163,-79.445947,-79.430465,-79.319796,-79.317693,-79.375961,-79.363525,-79.315223,-79.312315,-79.29451,-79.289,-79.288949,-79.291162,-79.3244,-79.3831757,-79.3827914,-79.4115736,-79.3960744,-79.39399,-79.44874,-79.4352208,-79.390328,-79.415345,-79.297786,-79.328535,-79.38117,-79.3762096,-79.3855048,-79.3894,-79.327987,-79.338673,-79.3470557,-79.3462789,-79.338259,-79.3348396,-79.340075,-79.329408,-79.345359,-79.343144,-79.3452697,-79.441159,-79.350119,-79.35438,-79.356602,-79.35822,-79.341307,-79.347046,-79.32088910859937,-79.423122,-79.3649,-79.329196,-79.377557,-79.424911,-79.4184725,-79.418734,-79.41562,-79.281455,-79.3014,-79.399792,-79.42822,-79.42668,-79.443946,-79.40161,-79.4004472,-79.3707,-79.36839,-79.37549,-79.40045,-79.39419,-79.39654,-79.39535,-79.39894,-79.39886200000001,-79.38632,-79.3762,-79.39014,-79.38551,-79.39201,-79.34962,-79.35858,-79.383518,-79.3802,-79.311073,-79.291416,-79.380723,-79.36927,-79.354006,-79.40355,-79.39139,-79.378208,-79.38655,-79.38766,-79.38235,-79.372127,-79.399505,-79.4131148,-79.45991,-79.46418,-79.46526,-79.393295,-79.378623,-79.38279,-79.401805,-79.410585,-79.429142,-79.394855,-79.38786,-79.47307,-79.408832,-79.309765,-79.304711,-79.313404,-79.437461,-79.3335,-79.369411,-79.347938,-79.445029,-79.4277,-79.42679,-79.4675,-79.41414,-79.46478,-79.412903,-79.373446,-79.47149,-79.318651,-79.3149,-79.295895,-79.295208,-79.31469,-79.347346,-79.414156,-79.374495,-79.377579,-79.362101,-79.351246,-79.394009,-79.375233,-79.432522,-79.465319,-79.464366,-79.378743,-79.3973381,-79.408019,-79.47421,-79.38409,-79.38702,-79.38301,-79.48674,-79.379158,-79.41230469904167,-79.3929,-79.372637,-79.451263,-79.449066,-79.46693,-79.48477,-79.47779,-79.292634,-79.297974,-79.400162,-79.399993,-79.299332,-79.309395,-79.376304,-79.358749,-79.398115,-79.3552533,-79.3595,-79.391253,-79.44865,-79.444792,-79.46997,-79.38964,-79.294766,-79.286864,-79.366433,-79.365023,-79.367318,-79.366194,-79.476723,-79.4883535,-79.4873148,-79.4760109,-79.458173,-79.43937767081853,-79.4376413,-79.44088,-79.4397052,-79.4168659,-79.4240277,-79.421189,-79.4360232,-79.4527619,-79.408723,-79.45328549999999,-79.3778458,-79.402643,-79.397877,-79.411084,-79.406691,-79.408346,-79.413845,-79.4253856,-79.39199,-79.39264,-79.413528,-79.391291,-79.4034475,-79.384679,-79.393259,-79.3966159,-79.3927404,-79.3873183,-79.374161,-79.364184,-79.54033009999999,-79.522768,-79.5160575,-79.496573,-79.4971065,-79.482407,-79.489083,-79.4770327,-79.478479,-79.487246,-79.489385,-79.485426,-79.484892,-79.470171,-79.467994,-79.519472,-79.43703,-79.40978179999999,-79.341509,-79.324961,-79.3301658,-79.35397680000001,-79.354068,-79.361515,-79.366238,-79.397345,-79.3979073,-79.4701178,-79.4375028,-79.5108942,-79.5025943,-79.5012809,-79.491281,-79.4675395,-79.467963,-79.45233,-79.4447096,-79.40966,-79.378615,-79.375437,-79.383238,-79.3405681,-79.403637,-79.40401,-79.383633,-79.398049,-79.36647,-79.318802,-79.311439,-79.310554,-79.30058718775287,-79.297436,-79.3163022,-79.355474,-79.362092,-79.291714,-79.288619,-79.199327,-79.2026694,-79.193023,-79.1659711,-79.131911,-79.123505,-79.441042,-79.4094472,-79.39248,-79.545827,-79.5432067,-79.4926867,-79.1971289,-79.40115449999999,-79.1301203,-79.425116,-79.5030161,-79.5108692,-79.498398,-79.4275305,-79.4296346,-79.3899265,-79.4799176,-79.487583,-79.4990363,-79.39940399999999,-79.4100625,-79.4588522,-79.3940052,-79.4026176,-79.3149901,-79.1849889,-79.3860211,-79.38781039999999,-79.38849615969643,-79.4152162,-79.45738940000001,-79.4636388,-79.339243,-79.438715,-79.3706665,-79.49336334201408,-79.31168269999999,-79.379625,-79.4408141,-79.371914,-79.37644,-79.377456,-79.4407647,-79.40297869999999,-79.3894093,-79.4032194,-79.3996301,-79.432446,-79.3814254607724,-79.39245919999999,-79.5002,-79.5005,-79.4143057,-79.34105699999999,-79.4013882,-79.378325,-79.377,-79.39744979999999,-79.3704721,-79.4342726,-79.45641169999999],\"marker\":{\"color\":[20472,11517,14543,7396,4702,6057,18892,14849,7005,7808,4707,10654,9586,10759,12197,5139,26937,17034,12640,5602,10524,9795,13322,7470,6779,7464,11430,14931,11502,8761,19754,6926,7943,14500,8814,8280,4286,14668,16783,4265,7264,8235,15808,19382,12921,9497,9805,9939,5431,19208,2594,5986,5040,11229,9299,4589,4886,5244,12661,13108,10542,6326,10621,3774,9729,9532,7696,772,7502,3670,3036,15250,10371,5804,12457,35437,7850,17526,14094,2072,3703,1484,4913,1680,3429,16078,3854,2352,1927,3652,3189,5092,2159,5339,7214,7104,20667,6658,12438,6730,12167,2622,3239,3066,5357,5212,5282,8439,2562,7338,8829,7919,3251,5093,7562,4328,19779,2968,2367,6114,10101,4017,2057,6149,3641,6040,3999,2835,2799,5685,3420,1482,2374,3045,4184,1797,1395,4191,2988,3130,2157,8625,3632,4516,3116,5390,9924,5703,5788,4378,2264,5590,11411,5242,7056,13112,10037,4899,21957,4473,3928,27530,6539,3090,3472,25826,9143,11100,2969,3477,4005,1323,2264,3602,4752,2770,8174,8321,6568,5200,7032,1792,4730,2726,4839,3566,13665,5931,25234,10025,4884,5225,13244,4981,2952,2202,10133,8718,14964,14131,1990,10915,2029,3084,6962,14544,15659,2317,1401,4349,2265,3086,3235,3463,13001,7442,3406,2264,8188,9083,3748,26374,2730,1679,7624,14189,2047,10343,1413,8600,7017,11900,14831,9102,7934,10207,3548,11445,13809,26356,1431,12521,9618,2575,614,4450,1975,9602,4244,9158,9501,10819,5287,9365,6872,3052,2363,1497,8466,13815,8133,4615,6286,9436,4459,3376,15716,15179,7224,9685,7914,3571,2241,11829,10533,760,2063,1916,1879,13636,3928,4048,2734,759,1044,3520,2891,3048,4303,7612,6195,4968,16687,1667,1777,2620,6408,2037,716,3506,8543,3434,6032,2663,5046,1992,2423,1590,1244,3392,2743,18144,4816,3809,1046,2493,1855,2384,2419,2045,1126,19424,3475,4274,15272,1630,2809,2047,5358,2121,1407,4036,8159,2172,5161,3015,671,8968,5840,4658,8063,3527,2221,3151,3774,2101,3963,12266,10680,7851,9381,5760,1608,5829,16900,11566,592,438,8367,20047,6656,1513,2461,11675,3331,3723,12684,3526,15761,7295,1458,1895,1396,7858,6024,16841,7592,3890,2988,2196,3181,1042,5257,12572,4195,2034,22530,1775,7520,2944,1599,3691,4224,1695,12579,2541,2124,4940,624,2782,1230,853,908,1186,4558,4176,6668,6864,6198,3485,8004,8907,2971,1725,4872,15113,8528,2688,2931,14823,6480,4475,1403,4918,6770,10637,6640,2347,618,2032,1847,1819,917,1135,1100,1013,958,1403,1835,5943,9239,13628,1530,2472,2491,2208,509,10396,473,671,4082,3964,3634,2740,18334,3694,2672,466,14500,988,1141,3310,1623,7344,13072,2133,3061,1549,2731,790,4080,4879,10640,10335,4137,6394,2272,1946,1646,2206,1898,15070,8796,7651,6172,3890,5241,11367,4379,6738,593,1022,2369,744,446,1282,1278,938,530,1540,631,1019,611,1186,1353,1105,2000,18442,6145,2272,683,9694,7569,5138,3626,1670,3111,2333,655,1520,2496,1860,1150,1399,2276,1837,2073,368,884,2380,2081,2507,447,622,8799,3738,5437,659,951,361,685,1520,590,2508,1868,994,1077,540,548,2149,1741,3238,1153,1545,1028,3321,415,2196,3115,296,878,1445,3591,1500,1198,234,1312,2260,6970,1522,981,883,2196,1578,1238,5804,1580,1402,550,7141,6044,3551,1635,2356,1879,2575,3988,6469,1813,1416,3844,3773,743,603,1157,1943,3750,7950,775,1307,1175,89,902,136,112,480,581,1353,460,351,189,157,133,3],\"coloraxis\":\"coloraxis\"},\"mode\":\"markers\",\"name\":\"\",\"showlegend\":false,\"subplot\":\"mapbox\",\"type\":\"scattermapbox\"}],                        {\"template\":{\"data\":{\"bar\":[{\"error_x\":{\"color\":\"#2a3f5f\"},\"error_y\":{\"color\":\"#2a3f5f\"},\"marker\":{\"line\":{\"color\":\"#E5ECF6\",\"width\":0.5},\"pattern\":{\"fillmode\":\"overlay\",\"size\":10,\"solidity\":0.2}},\"type\":\"bar\"}],\"barpolar\":[{\"marker\":{\"line\":{\"color\":\"#E5ECF6\",\"width\":0.5},\"pattern\":{\"fillmode\":\"overlay\",\"size\":10,\"solidity\":0.2}},\"type\":\"barpolar\"}],\"carpet\":[{\"aaxis\":{\"endlinecolor\":\"#2a3f5f\",\"gridcolor\":\"white\",\"linecolor\":\"white\",\"minorgridcolor\":\"white\",\"startlinecolor\":\"#2a3f5f\"},\"baxis\":{\"endlinecolor\":\"#2a3f5f\",\"gridcolor\":\"white\",\"linecolor\":\"white\",\"minorgridcolor\":\"white\",\"startlinecolor\":\"#2a3f5f\"},\"type\":\"carpet\"}],\"choropleth\":[{\"colorbar\":{\"outlinewidth\":0,\"ticks\":\"\"},\"type\":\"choropleth\"}],\"contour\":[{\"colorbar\":{\"outlinewidth\":0,\"ticks\":\"\"},\"colorscale\":[[0.0,\"#0d0887\"],[0.1111111111111111,\"#46039f\"],[0.2222222222222222,\"#7201a8\"],[0.3333333333333333,\"#9c179e\"],[0.4444444444444444,\"#bd3786\"],[0.5555555555555556,\"#d8576b\"],[0.6666666666666666,\"#ed7953\"],[0.7777777777777778,\"#fb9f3a\"],[0.8888888888888888,\"#fdca26\"],[1.0,\"#f0f921\"]],\"type\":\"contour\"}],\"contourcarpet\":[{\"colorbar\":{\"outlinewidth\":0,\"ticks\":\"\"},\"type\":\"contourcarpet\"}],\"heatmap\":[{\"colorbar\":{\"outlinewidth\":0,\"ticks\":\"\"},\"colorscale\":[[0.0,\"#0d0887\"],[0.1111111111111111,\"#46039f\"],[0.2222222222222222,\"#7201a8\"],[0.3333333333333333,\"#9c179e\"],[0.4444444444444444,\"#bd3786\"],[0.5555555555555556,\"#d8576b\"],[0.6666666666666666,\"#ed7953\"],[0.7777777777777778,\"#fb9f3a\"],[0.8888888888888888,\"#fdca26\"],[1.0,\"#f0f921\"]],\"type\":\"heatmap\"}],\"heatmapgl\":[{\"colorbar\":{\"outlinewidth\":0,\"ticks\":\"\"},\"colorscale\":[[0.0,\"#0d0887\"],[0.1111111111111111,\"#46039f\"],[0.2222222222222222,\"#7201a8\"],[0.3333333333333333,\"#9c179e\"],[0.4444444444444444,\"#bd3786\"],[0.5555555555555556,\"#d8576b\"],[0.6666666666666666,\"#ed7953\"],[0.7777777777777778,\"#fb9f3a\"],[0.8888888888888888,\"#fdca26\"],[1.0,\"#f0f921\"]],\"type\":\"heatmapgl\"}],\"histogram\":[{\"marker\":{\"pattern\":{\"fillmode\":\"overlay\",\"size\":10,\"solidity\":0.2}},\"type\":\"histogram\"}],\"histogram2d\":[{\"colorbar\":{\"outlinewidth\":0,\"ticks\":\"\"},\"colorscale\":[[0.0,\"#0d0887\"],[0.1111111111111111,\"#46039f\"],[0.2222222222222222,\"#7201a8\"],[0.3333333333333333,\"#9c179e\"],[0.4444444444444444,\"#bd3786\"],[0.5555555555555556,\"#d8576b\"],[0.6666666666666666,\"#ed7953\"],[0.7777777777777778,\"#fb9f3a\"],[0.8888888888888888,\"#fdca26\"],[1.0,\"#f0f921\"]],\"type\":\"histogram2d\"}],\"histogram2dcontour\":[{\"colorbar\":{\"outlinewidth\":0,\"ticks\":\"\"},\"colorscale\":[[0.0,\"#0d0887\"],[0.1111111111111111,\"#46039f\"],[0.2222222222222222,\"#7201a8\"],[0.3333333333333333,\"#9c179e\"],[0.4444444444444444,\"#bd3786\"],[0.5555555555555556,\"#d8576b\"],[0.6666666666666666,\"#ed7953\"],[0.7777777777777778,\"#fb9f3a\"],[0.8888888888888888,\"#fdca26\"],[1.0,\"#f0f921\"]],\"type\":\"histogram2dcontour\"}],\"mesh3d\":[{\"colorbar\":{\"outlinewidth\":0,\"ticks\":\"\"},\"type\":\"mesh3d\"}],\"parcoords\":[{\"line\":{\"colorbar\":{\"outlinewidth\":0,\"ticks\":\"\"}},\"type\":\"parcoords\"}],\"pie\":[{\"automargin\":true,\"type\":\"pie\"}],\"scatter\":[{\"marker\":{\"colorbar\":{\"outlinewidth\":0,\"ticks\":\"\"}},\"type\":\"scatter\"}],\"scatter3d\":[{\"line\":{\"colorbar\":{\"outlinewidth\":0,\"ticks\":\"\"}},\"marker\":{\"colorbar\":{\"outlinewidth\":0,\"ticks\":\"\"}},\"type\":\"scatter3d\"}],\"scattercarpet\":[{\"marker\":{\"colorbar\":{\"outlinewidth\":0,\"ticks\":\"\"}},\"type\":\"scattercarpet\"}],\"scattergeo\":[{\"marker\":{\"colorbar\":{\"outlinewidth\":0,\"ticks\":\"\"}},\"type\":\"scattergeo\"}],\"scattergl\":[{\"marker\":{\"colorbar\":{\"outlinewidth\":0,\"ticks\":\"\"}},\"type\":\"scattergl\"}],\"scattermapbox\":[{\"marker\":{\"colorbar\":{\"outlinewidth\":0,\"ticks\":\"\"}},\"type\":\"scattermapbox\"}],\"scatterpolar\":[{\"marker\":{\"colorbar\":{\"outlinewidth\":0,\"ticks\":\"\"}},\"type\":\"scatterpolar\"}],\"scatterpolargl\":[{\"marker\":{\"colorbar\":{\"outlinewidth\":0,\"ticks\":\"\"}},\"type\":\"scatterpolargl\"}],\"scatterternary\":[{\"marker\":{\"colorbar\":{\"outlinewidth\":0,\"ticks\":\"\"}},\"type\":\"scatterternary\"}],\"surface\":[{\"colorbar\":{\"outlinewidth\":0,\"ticks\":\"\"},\"colorscale\":[[0.0,\"#0d0887\"],[0.1111111111111111,\"#46039f\"],[0.2222222222222222,\"#7201a8\"],[0.3333333333333333,\"#9c179e\"],[0.4444444444444444,\"#bd3786\"],[0.5555555555555556,\"#d8576b\"],[0.6666666666666666,\"#ed7953\"],[0.7777777777777778,\"#fb9f3a\"],[0.8888888888888888,\"#fdca26\"],[1.0,\"#f0f921\"]],\"type\":\"surface\"}],\"table\":[{\"cells\":{\"fill\":{\"color\":\"#EBF0F8\"},\"line\":{\"color\":\"white\"}},\"header\":{\"fill\":{\"color\":\"#C8D4E3\"},\"line\":{\"color\":\"white\"}},\"type\":\"table\"}]},\"layout\":{\"annotationdefaults\":{\"arrowcolor\":\"#2a3f5f\",\"arrowhead\":0,\"arrowwidth\":1},\"autotypenumbers\":\"strict\",\"coloraxis\":{\"colorbar\":{\"outlinewidth\":0,\"ticks\":\"\"}},\"colorscale\":{\"diverging\":[[0,\"#8e0152\"],[0.1,\"#c51b7d\"],[0.2,\"#de77ae\"],[0.3,\"#f1b6da\"],[0.4,\"#fde0ef\"],[0.5,\"#f7f7f7\"],[0.6,\"#e6f5d0\"],[0.7,\"#b8e186\"],[0.8,\"#7fbc41\"],[0.9,\"#4d9221\"],[1,\"#276419\"]],\"sequential\":[[0.0,\"#0d0887\"],[0.1111111111111111,\"#46039f\"],[0.2222222222222222,\"#7201a8\"],[0.3333333333333333,\"#9c179e\"],[0.4444444444444444,\"#bd3786\"],[0.5555555555555556,\"#d8576b\"],[0.6666666666666666,\"#ed7953\"],[0.7777777777777778,\"#fb9f3a\"],[0.8888888888888888,\"#fdca26\"],[1.0,\"#f0f921\"]],\"sequentialminus\":[[0.0,\"#0d0887\"],[0.1111111111111111,\"#46039f\"],[0.2222222222222222,\"#7201a8\"],[0.3333333333333333,\"#9c179e\"],[0.4444444444444444,\"#bd3786\"],[0.5555555555555556,\"#d8576b\"],[0.6666666666666666,\"#ed7953\"],[0.7777777777777778,\"#fb9f3a\"],[0.8888888888888888,\"#fdca26\"],[1.0,\"#f0f921\"]]},\"colorway\":[\"#636efa\",\"#EF553B\",\"#00cc96\",\"#ab63fa\",\"#FFA15A\",\"#19d3f3\",\"#FF6692\",\"#B6E880\",\"#FF97FF\",\"#FECB52\"],\"font\":{\"color\":\"#2a3f5f\"},\"geo\":{\"bgcolor\":\"white\",\"lakecolor\":\"white\",\"landcolor\":\"#E5ECF6\",\"showlakes\":true,\"showland\":true,\"subunitcolor\":\"white\"},\"hoverlabel\":{\"align\":\"left\"},\"hovermode\":\"closest\",\"mapbox\":{\"style\":\"light\"},\"paper_bgcolor\":\"white\",\"plot_bgcolor\":\"#E5ECF6\",\"polar\":{\"angularaxis\":{\"gridcolor\":\"white\",\"linecolor\":\"white\",\"ticks\":\"\"},\"bgcolor\":\"#E5ECF6\",\"radialaxis\":{\"gridcolor\":\"white\",\"linecolor\":\"white\",\"ticks\":\"\"}},\"scene\":{\"xaxis\":{\"backgroundcolor\":\"#E5ECF6\",\"gridcolor\":\"white\",\"gridwidth\":2,\"linecolor\":\"white\",\"showbackground\":true,\"ticks\":\"\",\"zerolinecolor\":\"white\"},\"yaxis\":{\"backgroundcolor\":\"#E5ECF6\",\"gridcolor\":\"white\",\"gridwidth\":2,\"linecolor\":\"white\",\"showbackground\":true,\"ticks\":\"\",\"zerolinecolor\":\"white\"},\"zaxis\":{\"backgroundcolor\":\"#E5ECF6\",\"gridcolor\":\"white\",\"gridwidth\":2,\"linecolor\":\"white\",\"showbackground\":true,\"ticks\":\"\",\"zerolinecolor\":\"white\"}},\"shapedefaults\":{\"line\":{\"color\":\"#2a3f5f\"}},\"ternary\":{\"aaxis\":{\"gridcolor\":\"white\",\"linecolor\":\"white\",\"ticks\":\"\"},\"baxis\":{\"gridcolor\":\"white\",\"linecolor\":\"white\",\"ticks\":\"\"},\"bgcolor\":\"#E5ECF6\",\"caxis\":{\"gridcolor\":\"white\",\"linecolor\":\"white\",\"ticks\":\"\"}},\"title\":{\"x\":0.05},\"xaxis\":{\"automargin\":true,\"gridcolor\":\"white\",\"linecolor\":\"white\",\"ticks\":\"\",\"title\":{\"standoff\":15},\"zerolinecolor\":\"white\",\"zerolinewidth\":2},\"yaxis\":{\"automargin\":true,\"gridcolor\":\"white\",\"linecolor\":\"white\",\"ticks\":\"\",\"title\":{\"standoff\":15},\"zerolinecolor\":\"white\",\"zerolinewidth\":2}}},\"mapbox\":{\"domain\":{\"x\":[0.0,1.0],\"y\":[0.0,1.0]},\"center\":{\"lat\":43.66473632919204,\"lon\":-79.39342928034333},\"zoom\":10,\"style\":\"open-street-map\"},\"coloraxis\":{\"colorbar\":{\"title\":{\"text\":\"pick-up times\"}},\"colorscale\":[[0.0,\"rgb(12,51,131)\"],[0.25,\"rgb(10,136,186)\"],[0.5,\"rgb(242,211,56)\"],[0.75,\"rgb(242,143,56)\"],[1.0,\"rgb(217,30,30)\"]]},\"legend\":{\"tracegroupgap\":0},\"title\":{\"text\":\"Most Popular Pick-up Stations 2021\"}},                        {\"responsive\": true}                    ).then(function(){\n",
       "                            \n",
       "var gd = document.getElementById('f604ab16-0996-454a-9adf-cc911d1e1bb1');\n",
       "var x = new MutationObserver(function (mutations, observer) {{\n",
       "        var display = window.getComputedStyle(gd).display;\n",
       "        if (!display || display === 'none') {{\n",
       "            console.log([gd, 'removed!']);\n",
       "            Plotly.purge(gd);\n",
       "            observer.disconnect();\n",
       "        }}\n",
       "}});\n",
       "\n",
       "// Listen for the removal of the full notebook cells\n",
       "var notebookContainer = gd.closest('#notebook-container');\n",
       "if (notebookContainer) {{\n",
       "    x.observe(notebookContainer, {childList: true});\n",
       "}}\n",
       "\n",
       "// Listen for the clearing of the current output cell\n",
       "var outputEl = gd.closest('.output');\n",
       "if (outputEl) {{\n",
       "    x.observe(outputEl, {childList: true});\n",
       "}}\n",
       "\n",
       "                        })                };                });            </script>        </div>"
      ]
     },
     "metadata": {},
     "output_type": "display_data"
    }
   ],
   "source": [
    "fig = px.scatter_mapbox(station, lat=\"lat\", lon=\"lon\", \n",
    "                        labels={'Start Time':'pick-up times'},\n",
    "                        hover_data=[\"Start Time\", \"name\"],\n",
    "                        color=\"Start Time\", color_continuous_scale=px.colors.diverging.Portland, zoom=10,\n",
    "                        title='Most Popular Pick-up Stations 2021')\n",
    "fig.update_layout(mapbox_style=\"open-street-map\")\n",
    "fig.show()"
   ]
  },
  {
   "cell_type": "code",
   "execution_count": null,
   "id": "59eecc14",
   "metadata": {},
   "outputs": [],
   "source": []
  }
 ],
 "metadata": {
  "kernelspec": {
   "display_name": "Python 3 (ipykernel)",
   "language": "python",
   "name": "python3"
  },
  "language_info": {
   "codemirror_mode": {
    "name": "ipython",
    "version": 3
   },
   "file_extension": ".py",
   "mimetype": "text/x-python",
   "name": "python",
   "nbconvert_exporter": "python",
   "pygments_lexer": "ipython3",
   "version": "3.9.7"
  }
 },
 "nbformat": 4,
 "nbformat_minor": 5
}
