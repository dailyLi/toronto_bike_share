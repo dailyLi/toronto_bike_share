{
 "cells": [
  {
   "cell_type": "code",
   "execution_count": 1,
   "id": "01e3a087",
   "metadata": {},
   "outputs": [],
   "source": [
    "import numpy as np\n",
    "import pandas as pd\n",
    "import datetime\n",
    "import time\n",
    "import requests\n",
    "import json\n",
    "from geopy import distance"
   ]
  },
  {
   "cell_type": "code",
   "execution_count": 2,
   "id": "42220b7a",
   "metadata": {},
   "outputs": [],
   "source": [
    "def clean(df):\n",
    "    df01 = df[df[\"Trip  Duration\"] != 0]\n",
    "    df01 = df01[df01[\"End Station Id\"].notnull()]\n",
    "    df01 = df01[df01[\"Bike Id\"].notnull()]\n",
    "    return df01"
   ]
  },
  {
   "cell_type": "code",
   "execution_count": 3,
   "id": "501c6c92",
   "metadata": {},
   "outputs": [],
   "source": [
    "def conversion(df):\n",
    "    df['Start Time'] = pd.to_datetime(df['Start Time'])\n",
    "    df['End Time'] = pd.to_datetime(df['End Time'])\n",
    "    df['Start Station Id'] = df['Start Station Id'].astype(\"string\")\n",
    "    df['End Station Id'] = df['End Station Id'].astype(\"int\")\n",
    "    df['End Station Id'] = df['End Station Id'].astype(\"string\")\n",
    "    df['Bike Id'] = df['Bike Id'].astype(\"int\")\n",
    "    df['Bike Id'] = df['Bike Id'].astype(\"string\")\n",
    "    return df"
   ]
  },
  {
   "cell_type": "code",
   "execution_count": 4,
   "id": "03875f95",
   "metadata": {},
   "outputs": [],
   "source": [
    "def calculation(df):\n",
    "    df[\"routes\"] = df[\"Start Station Id\"].str.cat(\"-\" + df[\"End Station Id\"])\n",
    "    \n",
    "    routes = df[['Start Station Id', 'End Station Id', \"routes\"]].drop_duplicates()\n",
    "    routes = routes.merge(bikeshare_stations, how='inner', left_on='Start Station Id', right_on='station_id') \\\n",
    "       .merge(bikeshare_stations, how='inner', left_on='End Station Id', right_on='station_id', suffixes=['_start', '_end']) \\\n",
    "       .drop_duplicates()\n",
    "    routes['distance'] = routes.apply(lambda x: distance.distance((x['lat_start'], x['lon_start']), (x['lat_end'], x['lon_end'])).m, axis=1)\n",
    "    \n",
    "    df01 = df.merge(routes[['routes', 'distance']], how='left', on='routes')\n",
    "    df01[\"avg_speed\"] = df01[\"distance\"]/ (df01[\"Trip  Duration\"])\n",
    "    df01 = df01[(df01[\"avg_speed\"] < 30) & (df01[\"Trip  Duration\"] != 2)]\n",
    "    df01 = df01[df01[\"Trip  Duration\"] < 43200]\n",
    "    return df01"
   ]
  },
  {
   "cell_type": "code",
   "execution_count": null,
   "id": "595f94cf",
   "metadata": {},
   "outputs": [],
   "source": []
  }
 ],
 "metadata": {
  "kernelspec": {
   "display_name": "Python 3 (ipykernel)",
   "language": "python",
   "name": "python3"
  },
  "language_info": {
   "codemirror_mode": {
    "name": "ipython",
    "version": 3
   },
   "file_extension": ".py",
   "mimetype": "text/x-python",
   "name": "python",
   "nbconvert_exporter": "python",
   "pygments_lexer": "ipython3",
   "version": "3.9.7"
  }
 },
 "nbformat": 4,
 "nbformat_minor": 5
}
